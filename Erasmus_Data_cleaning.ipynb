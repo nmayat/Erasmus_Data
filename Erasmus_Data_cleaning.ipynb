{
 "cells": [
  {
   "cell_type": "markdown",
   "id": "c6a90832",
   "metadata": {},
   "source": [
    "# Erasmus Data Cleaning\n",
    "This notebook describe the steps I took to clean the Erasmus Data. In the end the data is saved as a pickle file which is already provided in the project. Therefor it is not necessary to run this notebook."
   ]
  },
  {
   "cell_type": "markdown",
   "id": "26b807aa",
   "metadata": {},
   "source": [
    "First I created a file with all the available data."
   ]
  },
  {
   "cell_type": "code",
   "execution_count": 1,
   "id": "f0b5f429",
   "metadata": {},
   "outputs": [
    {
     "name": "stdout",
     "output_type": "stream",
     "text": [
      "The shape of the data to clean is: (3626893, 24)\n",
      "The columns in the original dataset are: Index(['Project Reference', 'Academic Year', 'Mobility Start Month',\n",
      "       'Mobility End Month', 'Mobility Duration', 'Activity (mob)',\n",
      "       'Field of Education', 'Participant Nationality', 'Education Level',\n",
      "       'Participant Gender', 'Participant Profile', 'Special Needs',\n",
      "       'Fewer Opportunities', 'GroupLeader', 'Participant Age',\n",
      "       'Sending Country Code', 'Sending City', 'Sending Organization',\n",
      "       'Sending Organisation Erasmus Code', 'Receiving Country Code',\n",
      "       'Receiving City', 'Receiving Organization',\n",
      "       'Receiving Organisation Erasmus Code', 'Participants'],\n",
      "      dtype='object')\n"
     ]
    },
    {
     "data": {
      "text/html": [
       "<div>\n",
       "<style scoped>\n",
       "    .dataframe tbody tr th:only-of-type {\n",
       "        vertical-align: middle;\n",
       "    }\n",
       "\n",
       "    .dataframe tbody tr th {\n",
       "        vertical-align: top;\n",
       "    }\n",
       "\n",
       "    .dataframe thead th {\n",
       "        text-align: right;\n",
       "    }\n",
       "</style>\n",
       "<table border=\"1\" class=\"dataframe\">\n",
       "  <thead>\n",
       "    <tr style=\"text-align: right;\">\n",
       "      <th></th>\n",
       "      <th>Project Reference</th>\n",
       "      <th>Academic Year</th>\n",
       "      <th>Mobility Start Month</th>\n",
       "      <th>Mobility End Month</th>\n",
       "      <th>Mobility Duration</th>\n",
       "      <th>Activity (mob)</th>\n",
       "      <th>Field of Education</th>\n",
       "      <th>Participant Nationality</th>\n",
       "      <th>Education Level</th>\n",
       "      <th>Participant Gender</th>\n",
       "      <th>...</th>\n",
       "      <th>Participant Age</th>\n",
       "      <th>Sending Country Code</th>\n",
       "      <th>Sending City</th>\n",
       "      <th>Sending Organization</th>\n",
       "      <th>Sending Organisation Erasmus Code</th>\n",
       "      <th>Receiving Country Code</th>\n",
       "      <th>Receiving City</th>\n",
       "      <th>Receiving Organization</th>\n",
       "      <th>Receiving Organisation Erasmus Code</th>\n",
       "      <th>Participants</th>\n",
       "    </tr>\n",
       "  </thead>\n",
       "  <tbody>\n",
       "    <tr>\n",
       "      <th>0</th>\n",
       "      <td>2014-1-AT01-KA101-000059</td>\n",
       "      <td>2014-2015</td>\n",
       "      <td>2014-07</td>\n",
       "      <td>2014-07</td>\n",
       "      <td>12.0</td>\n",
       "      <td>Staff training abroad</td>\n",
       "      <td>Language acquisition</td>\n",
       "      <td>AT</td>\n",
       "      <td>??? - ? Unknown ?</td>\n",
       "      <td>Female</td>\n",
       "      <td>...</td>\n",
       "      <td>42</td>\n",
       "      <td>AT</td>\n",
       "      <td>Wels</td>\n",
       "      <td>BRG Wels Wallererstraße</td>\n",
       "      <td>-</td>\n",
       "      <td>ES</td>\n",
       "      <td>Malaga</td>\n",
       "      <td>Escuela de Idiomas Nerja</td>\n",
       "      <td>-</td>\n",
       "      <td>1</td>\n",
       "    </tr>\n",
       "    <tr>\n",
       "      <th>1</th>\n",
       "      <td>2014-1-AT01-KA101-000059</td>\n",
       "      <td>2014-2015</td>\n",
       "      <td>2014-07</td>\n",
       "      <td>2014-08</td>\n",
       "      <td>7.0</td>\n",
       "      <td>Staff training abroad</td>\n",
       "      <td>Language acquisition</td>\n",
       "      <td>AT</td>\n",
       "      <td>??? - ? Unknown ?</td>\n",
       "      <td>Female</td>\n",
       "      <td>...</td>\n",
       "      <td>25</td>\n",
       "      <td>AT</td>\n",
       "      <td>Wels</td>\n",
       "      <td>BRG Wels Wallererstraße</td>\n",
       "      <td>-</td>\n",
       "      <td>UK</td>\n",
       "      <td>Canterbury</td>\n",
       "      <td>Pilgrims LTD</td>\n",
       "      <td>-</td>\n",
       "      <td>1</td>\n",
       "    </tr>\n",
       "    <tr>\n",
       "      <th>2</th>\n",
       "      <td>2014-1-AT01-KA101-000059</td>\n",
       "      <td>2014-2015</td>\n",
       "      <td>2014-07</td>\n",
       "      <td>2014-08</td>\n",
       "      <td>12.0</td>\n",
       "      <td>Staff training abroad</td>\n",
       "      <td>Language acquisition</td>\n",
       "      <td>AT</td>\n",
       "      <td>??? - ? Unknown ?</td>\n",
       "      <td>Female</td>\n",
       "      <td>...</td>\n",
       "      <td>51</td>\n",
       "      <td>AT</td>\n",
       "      <td>Wels</td>\n",
       "      <td>BRG Wels Wallererstraße</td>\n",
       "      <td>-</td>\n",
       "      <td>UK</td>\n",
       "      <td>London</td>\n",
       "      <td>St. Giles International</td>\n",
       "      <td>-</td>\n",
       "      <td>1</td>\n",
       "    </tr>\n",
       "    <tr>\n",
       "      <th>3</th>\n",
       "      <td>2014-1-AT01-KA101-000059</td>\n",
       "      <td>2014-2015</td>\n",
       "      <td>2014-08</td>\n",
       "      <td>2014-08</td>\n",
       "      <td>12.0</td>\n",
       "      <td>Staff training abroad</td>\n",
       "      <td>Language acquisition</td>\n",
       "      <td>CZ</td>\n",
       "      <td>??? - ? Unknown ?</td>\n",
       "      <td>Female</td>\n",
       "      <td>...</td>\n",
       "      <td>34</td>\n",
       "      <td>AT</td>\n",
       "      <td>Wels</td>\n",
       "      <td>BRG Wels Wallererstraße</td>\n",
       "      <td>-</td>\n",
       "      <td>UK</td>\n",
       "      <td>London</td>\n",
       "      <td>EF Language Center</td>\n",
       "      <td>-</td>\n",
       "      <td>1</td>\n",
       "    </tr>\n",
       "    <tr>\n",
       "      <th>4</th>\n",
       "      <td>2014-1-AT01-KA101-000060</td>\n",
       "      <td>2014-2015</td>\n",
       "      <td>2014-07</td>\n",
       "      <td>2014-07</td>\n",
       "      <td>12.0</td>\n",
       "      <td>Staff training abroad</td>\n",
       "      <td>Teacher training with subject specialization</td>\n",
       "      <td>AT</td>\n",
       "      <td>??? - ? Unknown ?</td>\n",
       "      <td>Female</td>\n",
       "      <td>...</td>\n",
       "      <td>53</td>\n",
       "      <td>AT</td>\n",
       "      <td>Schwarzach</td>\n",
       "      <td>Volksschule Schwarzach</td>\n",
       "      <td>-</td>\n",
       "      <td>IE</td>\n",
       "      <td>Dublin</td>\n",
       "      <td>Centre of English Studies</td>\n",
       "      <td>-</td>\n",
       "      <td>1</td>\n",
       "    </tr>\n",
       "  </tbody>\n",
       "</table>\n",
       "<p>5 rows × 24 columns</p>\n",
       "</div>"
      ],
      "text/plain": [
       "          Project Reference Academic Year Mobility Start Month  \\\n",
       "0  2014-1-AT01-KA101-000059     2014-2015              2014-07   \n",
       "1  2014-1-AT01-KA101-000059     2014-2015              2014-07   \n",
       "2  2014-1-AT01-KA101-000059     2014-2015              2014-07   \n",
       "3  2014-1-AT01-KA101-000059     2014-2015              2014-08   \n",
       "4  2014-1-AT01-KA101-000060     2014-2015              2014-07   \n",
       "\n",
       "  Mobility End Month  Mobility Duration         Activity (mob)  \\\n",
       "0            2014-07               12.0  Staff training abroad   \n",
       "1            2014-08                7.0  Staff training abroad   \n",
       "2            2014-08               12.0  Staff training abroad   \n",
       "3            2014-08               12.0  Staff training abroad   \n",
       "4            2014-07               12.0  Staff training abroad   \n",
       "\n",
       "                             Field of Education Participant Nationality  \\\n",
       "0                          Language acquisition                      AT   \n",
       "1                          Language acquisition                      AT   \n",
       "2                          Language acquisition                      AT   \n",
       "3                          Language acquisition                      CZ   \n",
       "4  Teacher training with subject specialization                      AT   \n",
       "\n",
       "     Education Level Participant Gender  ... Participant Age  \\\n",
       "0  ??? - ? Unknown ?             Female  ...              42   \n",
       "1  ??? - ? Unknown ?             Female  ...              25   \n",
       "2  ??? - ? Unknown ?             Female  ...              51   \n",
       "3  ??? - ? Unknown ?             Female  ...              34   \n",
       "4  ??? - ? Unknown ?             Female  ...              53   \n",
       "\n",
       "  Sending Country Code Sending City     Sending Organization  \\\n",
       "0                   AT         Wels  BRG Wels Wallererstraße   \n",
       "1                   AT         Wels  BRG Wels Wallererstraße   \n",
       "2                   AT         Wels  BRG Wels Wallererstraße   \n",
       "3                   AT         Wels  BRG Wels Wallererstraße   \n",
       "4                   AT   Schwarzach   Volksschule Schwarzach   \n",
       "\n",
       "  Sending Organisation Erasmus Code Receiving Country Code Receiving City  \\\n",
       "0                                 -                     ES         Malaga   \n",
       "1                                 -                     UK     Canterbury   \n",
       "2                                 -                     UK         London   \n",
       "3                                 -                     UK         London   \n",
       "4                                 -                     IE         Dublin   \n",
       "\n",
       "      Receiving Organization Receiving Organisation Erasmus Code Participants  \n",
       "0   Escuela de Idiomas Nerja                                   -            1  \n",
       "1               Pilgrims LTD                                   -            1  \n",
       "2    St. Giles International                                   -            1  \n",
       "3         EF Language Center                                   -            1  \n",
       "4  Centre of English Studies                                   -            1  \n",
       "\n",
       "[5 rows x 24 columns]"
      ]
     },
     "execution_count": 1,
     "metadata": {},
     "output_type": "execute_result"
    }
   ],
   "source": [
    "import pandas as pd\n",
    "import os \n",
    "import warnings\n",
    "import pycountry\n",
    "import numpy as np\n",
    "warnings.filterwarnings('ignore')\n",
    "\n",
    "\n",
    "data_files = [f for f in os.listdir('Erasmus_Data') if (f.endswith('.csv') and 'mobilities eligible finalised started in')]\n",
    "data = pd.DataFrame()\n",
    "\n",
    "for file in data_files:\n",
    "    year_data = pd.read_csv('Erasmus_Data/'+ file, delimiter = ';')\n",
    "    data = pd.concat([data, year_data], axis=0, ignore_index=True)\n",
    "\n",
    "data.to_pickle('Erasmus_Data/data_complete.pkl')\n",
    "print(f\"The shape of the data to clean is: {data.shape}\")\n",
    "print(f\"The columns in the original dataset are: {data.columns}\")\n",
    "data.head()"
   ]
  },
  {
   "cell_type": "markdown",
   "id": "c47a387e",
   "metadata": {},
   "source": [
    "Than I dropped the columns without relevent information."
   ]
  },
  {
   "cell_type": "code",
   "execution_count": 2,
   "id": "39917fa5",
   "metadata": {},
   "outputs": [],
   "source": [
    "data = data.drop(['Project Reference', 'Academic Year', 'Participant Profile',\n",
    "                  'GroupLeader', 'Sending Organisation Erasmus Code',\n",
    "                  'Receiving Organisation Erasmus Code'], axis=1)\n"
   ]
  },
  {
   "cell_type": "markdown",
   "id": "844f1838",
   "metadata": {},
   "source": [
    "Checking and droping NaNs, since they are a not a lot of them compared to the rest of the data."
   ]
  },
  {
   "cell_type": "code",
   "execution_count": 3,
   "id": "bae696ac",
   "metadata": {},
   "outputs": [],
   "source": [
    "data.isna().sum()\n",
    "data.dropna(inplace=True)"
   ]
  },
  {
   "cell_type": "markdown",
   "id": "2b8827da",
   "metadata": {},
   "source": [
    "Checking for entries without Nationality"
   ]
  },
  {
   "cell_type": "code",
   "execution_count": 4,
   "id": "66f41d72",
   "metadata": {},
   "outputs": [
    {
     "name": "stdout",
     "output_type": "stream",
     "text": [
      "There are 2019 rows without Nationality\n"
     ]
    }
   ],
   "source": [
    "print(f\"There are {data[data['Participant Nationality'] == '-'].shape[0]} rows without Nationality\")\n",
    "data = data.drop(data[data['Participant Nationality'] == '-'].index, axis=0)"
   ]
  },
  {
   "cell_type": "markdown",
   "id": "1c0ce032",
   "metadata": {},
   "source": [
    "Renaming some of the columns"
   ]
  },
  {
   "cell_type": "code",
   "execution_count": 5,
   "id": "f520bec2",
   "metadata": {},
   "outputs": [],
   "source": [
    "data = data.drop(data[data['Participant Nationality'] == '-'].index, axis=0)\n",
    "data = data.rename(columns={'Sending Country Code': 'Sending Country', 'Receiving Country Code': 'Receiving Country',\n",
    "                            'Activity (mob)': 'Activity'})"
   ]
  },
  {
   "cell_type": "markdown",
   "id": "cb6e0cd7",
   "metadata": {},
   "source": [
    "Replacing the country code with the country name."
   ]
  },
  {
   "cell_type": "code",
   "execution_count": 6,
   "id": "ad92c68a",
   "metadata": {},
   "outputs": [],
   "source": [
    "country_dict = {c.alpha_2: c.name for c in pycountry.countries}\n",
    "country_dict.update({'XK': 'Kosovo', 'EL': 'Greece', 'UK': 'United Kingdom', \"TP\": \"East Timor\", \"AN\": \"Netherlands Antilles\",\n",
    "                     \"AB\": \"Albania\", \"CP\": \"Clipperton Island\"})\n",
    "data[['Participant Nationality',\n",
    "      'Sending Country',\n",
    "      'Receiving Country']] = data[['Participant Nationality',\n",
    "                                    'Sending Country',\n",
    "                                    'Receiving Country']].applymap(lambda x: country_dict.get(x, x))"
   ]
  },
  {
   "cell_type": "markdown",
   "id": "5a61e7c5",
   "metadata": {},
   "source": [
    "Than I repeated the entries where multiple person took part in one project."
   ]
  },
  {
   "cell_type": "code",
   "execution_count": 7,
   "id": "d658c10b",
   "metadata": {},
   "outputs": [
    {
     "data": {
      "text/plain": [
       "(4199400, 18)"
      ]
     },
     "execution_count": 7,
     "metadata": {},
     "output_type": "execute_result"
    }
   ],
   "source": [
    "data = data.loc[data.index.repeat(data['Participants'])].reset_index(drop=True)\n",
    "data.shape"
   ]
  },
  {
   "cell_type": "markdown",
   "id": "987b8248",
   "metadata": {},
   "source": [
    "Renaming some of the entries."
   ]
  },
  {
   "cell_type": "code",
   "execution_count": 8,
   "id": "615d8edb",
   "metadata": {},
   "outputs": [],
   "source": [
    "data['Activity'] = data['Activity'].replace({\"Advance Planning Visit – EVS\": \"Advance Planning Visit - EVS\",\n",
    "                                             \"Training/teaching assignments abroad\": \"Teaching/training assignments abroad\"})\n",
    "data['Field of Education'] = data['Field of Education'].replace(\n",
    "    \"? Unknown ?\", \"Unknown\")\n",
    "\n",
    "data['Education Level'] = data['Education Level']\\\n",
    "    .replace({\"??? - ? Unknown ?\": \"Unknown\",\n",
    "              \"ISCED-2 - Lower secondary education\": \"Lower Secondary Education\",\n",
    "              \"ISCED-3 - Upper secondary education\": \"Upper Secondary Education\",\n",
    "              \"ISCED-4 - Post-secondary non-tertiary education\": \"Post-secondary non-Tertiary Education\",\n",
    "              \"ISCED-5 - Short-cycle within the first cycle / Short-cycle tertiary education (EQF-5)\": \"Short-cycle within the first cycle / Short-cycle tertiary education\",\n",
    "              \"ISCED-6 - First cycle / Bachelor’s or equivalent level (EQF-6)\": \"First cycle / Bachelor’s or equivalent level\",\n",
    "              \"ISCED-7 - Second cycle / Master’s or equivalent level (EQF-7)\": \"Second cycle / Master’s or equivalent level\",\n",
    "              \"ISCED-8 - Third cycle / Doctoral or equivalent level (EQF-8)\": \"Third cycle / Doctoral or equivalent level\",\n",
    "              \"ISCED-9 - Not elsewhere classified\": \"Not elsewhere classified\",\n",
    "              })"
   ]
  },
  {
   "cell_type": "markdown",
   "id": "d72ea05c",
   "metadata": {},
   "source": [
    "Cleaning the age column. Only values between 5 and 90 are allowed."
   ]
  },
  {
   "cell_type": "code",
   "execution_count": 9,
   "id": "db9d62e3",
   "metadata": {},
   "outputs": [
    {
     "name": "stdout",
     "output_type": "stream",
     "text": [
      "These are the unique values in the age column before cleaning: ['42' '25' '51' '34' '53' '60' '44' '46' '50' '48' '49' '45' '26' '54'\n",
      " '30' '40' '43' '31' '33' '47' '52' '62' '55' '56' '57' '35' '27' '36'\n",
      " '59' '29' '38' '-1' '39' '32' '58' '28' '61' '-2' '37' '16' '17' '64'\n",
      " '18' '19' '20' '21' '63' '24' '22' '15' '23' '0' '65' '-' '41' '6' '7'\n",
      " '14' '70' '13' '12' '66' '67' '823' '114' '1' '11' '109' '941' '953'\n",
      " '125' '68' '1922' '1929' '1923' '1925' '1928' '69' '84' '91' '917' '73'\n",
      " '71' '75' '72' '4' '-184' '708' '814' '-35' '-31' '1016' '962' '8' '822'\n",
      " '76' '9' '950' '1030' '957' '928' '10' '1815' '817' '-7939' '79' '1019'\n",
      " '-5' '92' '81' '820' '821' '-186' '74' '5' '-3' '82' '-1185' '940' '1060'\n",
      " '1057' '77' '-29' '112' '134' '95' '2' '929' '943' '-7171' '-2184' '938'\n",
      " '924' 22 26 20 21 40 31 24 30 29 51 25 18 28 19 -2 23 -1 13 14 15 12 50\n",
      " 56 17 16 34 47 33 27 48 0 39 55 37 35 49 45 54 52 38 32 70 44 36 902 46\n",
      " 67 41 43 42 57 59 60 53 68 6 65 61 62 58 63 69 7 64 11 10 114 132 395\n",
      " '-982' '818' '1096' '-7185' '83' '1031' '932' '936' '948' '949' '947'\n",
      " '78' '510' '80' '-974' '1813' '946' '-80' '113' '-979' '131' '87' '97'\n",
      " '-7958' '816' '-34' '819' '127' '-53' '1017' '119' '350' '824' '1023'\n",
      " '129' '-3744' '884' '995' '345' '-7147' '1049' '1819' '-4183' '931' '93'\n",
      " '-2181' '918' '-7886' '1045' '-185' '136' '1295' '223' '726' '1018' '130'\n",
      " '1038' '-983' '-980' '-2183' '115' '1008' '1020' '1021' '815' '94' '128'\n",
      " 1049 66 129 -183 72 824 74 1027 926 930 962 819 -978 948 816 903 82 133\n",
      " 75 1016 -979 1018 -974 1025 80 822 820 92 73 1815 '-978' '-1184' '-937'\n",
      " '121' '1009' '942' '86' '353' '-57' '1063' '954' '316' '116' '904' '1039'\n",
      " '-940' '319' '-945' '137' '1047' '458' '459' '3' '952' '825' '939' '1820'\n",
      " '945' '148' '106' '916' '322' '85' '-5969' '352' '351' '354' '357' '321'\n",
      " '99' '451' '951' '238' '-7184' '-7967' '937' '-182' '1046' '930' '118'\n",
      " '927' '959' '955' '944' '1056' '1055' '343' '935' 96 71 1032 '1022'\n",
      " '1010' '133' '1817' '88' '348' '1061' '1035' '921' '920' '162' '1077'\n",
      " '100' '1044' '117' '1015' '163' '241' '143' '320' '1667' '152' '1050'\n",
      " '1027' '1054' 84 76 83 943 960 '958' '934' '361' '144' '424' '140' '349'\n",
      " '828' '164' '142' '956' '132' '323' '1818' '355' '827' '960' '124' '961'\n",
      " '1043' '123' '257' '653' 944 906 81 77 78 '120' '1007' '933' '96' '360'\n",
      " '528' '107' '362' '925' '1053' '229' '1842' '964' '849' '1062' '220'\n",
      " '221' '1037' '339' '1042' 828 119 821 2 921 3 113 -79 1054 949 5 1 952\n",
      " '1026' '-985' '907' '326' '141' '98' 79 1040 110 109 102 9 -7184 1048 917\n",
      " 1026 -961 85 1017 -2184 -984 -983 115 -181 93 1024 125 8 99 -5182 -4184 4\n",
      " 936 86 98 87 97 89 90 91 94 117 -962 112 -986 -4 361 -960 -185 946 -933\n",
      " 999 -971]\n"
     ]
    }
   ],
   "source": [
    "def clean_age(x):\n",
    "    try:\n",
    "        x = int(x)\n",
    "    except:\n",
    "        x = np.nan\n",
    "\n",
    "    if x < 5 or x > 90:\n",
    "        x = np.nan\n",
    "    return x\n",
    "\n",
    "print(f\"These are the unique values in the age column before cleaning: {data['Participant Age'].unique()}\")\n",
    "data['Participant Age'] = data['Participant Age'].apply(lambda x: clean_age(x))"
   ]
  },
  {
   "cell_type": "markdown",
   "id": "784da470",
   "metadata": {},
   "source": [
    "Changing the starting and ending month to datetime format."
   ]
  },
  {
   "cell_type": "code",
   "execution_count": 10,
   "id": "17acfed7",
   "metadata": {},
   "outputs": [],
   "source": [
    "data['Mobility Start Month'] = pd.to_datetime(data['Mobility Start Month'])\n",
    "data['Mobility End Month'] = pd.to_datetime(data['Mobility End Month'])"
   ]
  },
  {
   "cell_type": "markdown",
   "id": "f86cad9b",
   "metadata": {},
   "source": [
    "Replacing entries with booleans and pickle the dataframe."
   ]
  },
  {
   "cell_type": "code",
   "execution_count": 11,
   "id": "0beb33d3",
   "metadata": {},
   "outputs": [],
   "source": [
    "data['Special Needs'] = data['Special Needs'].replace({'No':0, 'Yes':1})\n",
    "data['Fewer Opportunities'] = data['Fewer Opportunities'].replace({'No':0, 'Yes':1})\n",
    "\n",
    "data.to_pickle('Erasmus_Data/data_clean.pkl')"
   ]
  },
  {
   "cell_type": "markdown",
   "id": "4c633867",
   "metadata": {},
   "source": [
    "For the recommendation engine I doped some additional columns and filled the missing ages with means. Although there are quite a few missing ages it is still just around 10% of the entries and I did not want to drop this column"
   ]
  },
  {
   "cell_type": "code",
   "execution_count": 12,
   "id": "75d10955",
   "metadata": {},
   "outputs": [
    {
     "ename": "SyntaxError",
     "evalue": "EOL while scanning string literal (204606135.py, line 1)",
     "output_type": "error",
     "traceback": [
      "\u001b[1;36m  Input \u001b[1;32mIn [12]\u001b[1;36m\u001b[0m\n\u001b[1;33m    print(f\"The data['Participant Age'].isna().sum())\u001b[0m\n\u001b[1;37m                                                     ^\u001b[0m\n\u001b[1;31mSyntaxError\u001b[0m\u001b[1;31m:\u001b[0m EOL while scanning string literal\n"
     ]
    }
   ],
   "source": [
    "print(f\"The data['Participant Age'].isna().sum())"
   ]
  },
  {
   "cell_type": "code",
   "execution_count": null,
   "id": "634d2202",
   "metadata": {},
   "outputs": [],
   "source": [
    "mean_age = data['Participant Age'].mean()\n",
    "data['Participant Age'].fillna(mean_age, inplace=True)\n",
    "data.to_pickle('Erasmus_Data/model_data.pkl')"
   ]
  }
 ],
 "metadata": {
  "kernelspec": {
   "display_name": "Python 3 (ipykernel)",
   "language": "python",
   "name": "python3"
  },
  "language_info": {
   "codemirror_mode": {
    "name": "ipython",
    "version": 3
   },
   "file_extension": ".py",
   "mimetype": "text/x-python",
   "name": "python",
   "nbconvert_exporter": "python",
   "pygments_lexer": "ipython3",
   "version": "3.9.16"
  }
 },
 "nbformat": 4,
 "nbformat_minor": 5
}
