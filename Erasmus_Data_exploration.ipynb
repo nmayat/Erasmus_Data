{
 "cells": [
  {
   "cell_type": "markdown",
   "id": "4461d62a",
   "metadata": {},
   "source": [
    "# Erasmus Data Exploration\n",
    "This notebook explores and analyses the data. The plots can also be found here: https://chart-studio.plotly.com/~Mahuvej#/\n"
   ]
  },
  {
   "cell_type": "markdown",
   "id": "19ed3ee6",
   "metadata": {},
   "source": [
    "First I created some fucntions for plotting an read in the data:"
   ]
  },
  {
   "cell_type": "code",
   "execution_count": 1,
   "id": "dd1b5559",
   "metadata": {},
   "outputs": [
    {
     "data": {
      "text/html": [
       "        <script type=\"text/javascript\">\n",
       "        window.PlotlyConfig = {MathJaxConfig: 'local'};\n",
       "        if (window.MathJax && window.MathJax.Hub && window.MathJax.Hub.Config) {window.MathJax.Hub.Config({SVG: {font: \"STIX-Web\"}});}\n",
       "        if (typeof require !== 'undefined') {\n",
       "        require.undef(\"plotly\");\n",
       "        requirejs.config({\n",
       "            paths: {\n",
       "                'plotly': ['https://cdn.plot.ly/plotly-2.12.1.min']\n",
       "            }\n",
       "        });\n",
       "        require(['plotly'], function(Plotly) {\n",
       "            window._Plotly = Plotly;\n",
       "        });\n",
       "        }\n",
       "        </script>\n",
       "        "
      ]
     },
     "metadata": {},
     "output_type": "display_data"
    }
   ],
   "source": [
    "import plotly.express as px\n",
    "import plotly.graph_objects as go\n",
    "import pandas as pd\n",
    "import pycountry\n",
    "import plotly.subplots as sp\n",
    "from geopy.geocoders import Nominatim\n",
    "from plotly.offline import init_notebook_mode, iplot\n",
    "\n",
    "init_notebook_mode(connected=True)\n",
    "\n",
    "def plot_world_dist(data,column):\n",
    "    counts = data.groupby(column).size().reset_index(name='Count')\n",
    "    all_countries = pd.DataFrame(\n",
    "        {'Country': [c.name for c in pycountry.countries]})\n",
    "    merged = all_countries.merge(\n",
    "        counts, left_on='Country', right_on=column, how='left')\n",
    "    merged['Count'].fillna(0, inplace=True)\n",
    "    fig = px.choropleth(merged, locations='Country', locationmode='country names', color='Count',\n",
    "                        color_continuous_scale='Cividis',  hover_data=['Count'],\n",
    "                        center={'lat': 50, 'lon': 10})\n",
    "    fig.update_layout(title=column)\n",
    "    fig.show()\n",
    "    \n",
    "\n",
    "def plot_hist(data, column):\n",
    "    data = data.groupby(column).size().reset_index(name='Count')\n",
    "    fig = px.bar(data_frame=data, x=column,y = 'Count', title='Histogram of '+column)\n",
    "    fig = fig.update_layout(xaxis_categoryorder='total descending')\n",
    "    fig.update_xaxes(tickangle=45)\n",
    "\n",
    "    fig.show()\n",
    "    \n",
    "\n",
    "data = pd.read_pickle('Erasmus_Data/data_clean.pkl')\n",
    "    "
   ]
  },
  {
   "cell_type": "markdown",
   "id": "c5b41a63",
   "metadata": {},
   "source": [
    "Now I created some distribution plots:"
   ]
  },
  {
   "cell_type": "code",
   "execution_count": 2,
   "id": "e552867f",
   "metadata": {},
   "outputs": [
    {
     "data": {
      "application/vnd.plotly.v1+json": {
       "config": {
        "plotlyServerURL": "https://plotly.com"
       },
       "data": [
        {
         "coloraxis": "coloraxis",
         "customdata": [
          [
           0
          ],
          [
           2112
          ],
          [
           332
          ],
          [
           0
          ],
          [
           36
          ],
          [
           9826
          ],
          [
           150
          ],
          [
           34
          ],
          [
           1194
          ],
          [
           10468
          ],
          [
           8
          ],
          [
           0
          ],
          [
           0
          ],
          [
           7
          ],
          [
           995
          ],
          [
           74142
          ],
          [
           5995
          ],
          [
           80
          ],
          [
           92096
          ],
          [
           182
          ],
          [
           0
          ],
          [
           164
          ],
          [
           667
          ],
          [
           79201
          ],
          [
           18
          ],
          [
           11
          ],
          [
           8558
          ],
          [
           0
          ],
          [
           7526
          ],
          [
           24
          ],
          [
           0
          ],
          [
           386
          ],
          [
           3937
          ],
          [
           27
          ],
          [
           8
          ],
          [
           197
          ],
          [
           1
          ],
          [
           30
          ],
          [
           52
          ],
          [
           1937
          ],
          [
           3
          ],
          [
           1371
          ],
          [
           752
          ],
          [
           8635
          ],
          [
           594
          ],
          [
           1606
          ],
          [
           374
          ],
          [
           221
          ],
          [
           1
          ],
          [
           2161
          ],
          [
           41
          ],
          [
           585
          ],
          [
           178
          ],
          [
           340
          ],
          [
           0
          ],
          [
           1
          ],
          [
           0
          ],
          [
           19064
          ],
          [
           114201
          ],
          [
           461593
          ],
          [
           60
          ],
          [
           67
          ],
          [
           48549
          ],
          [
           251
          ],
          [
           2767
          ],
          [
           1098
          ],
          [
           4585
          ],
          [
           385
          ],
          [
           30
          ],
          [
           380263
          ],
          [
           39646
          ],
          [
           528
          ],
          [
           75314
          ],
          [
           34
          ],
          [
           0
          ],
          [
           418049
          ],
          [
           24
          ],
          [
           2
          ],
          [
           206
          ],
          [
           169566
          ],
          [
           15613
          ],
          [
           16
          ],
          [
           1191
          ],
          [
           0
          ],
          [
           376
          ],
          [
           15
          ],
          [
           294
          ],
          [
           132
          ],
          [
           75
          ],
          [
           92473
          ],
          [
           6
          ],
          [
           0
          ],
          [
           189
          ],
          [
           19
          ],
          [
           1
          ],
          [
           9
          ],
          [
           238
          ],
          [
           1
          ],
          [
           222
          ],
          [
           50273
          ],
          [
           163
          ],
          [
           102053
          ],
          [
           1567
          ],
          [
           24
          ],
          [
           6124
          ],
          [
           0
          ],
          [
           41079
          ],
          [
           2220
          ],
          [
           645
          ],
          [
           10479
          ],
          [
           5874
          ],
          [
           366015
          ],
          [
           120
          ],
          [
           15
          ],
          [
           3697
          ],
          [
           1159
          ],
          [
           3097
          ],
          [
           561
          ],
          [
           934
          ],
          [
           430
          ],
          [
           0
          ],
          [
           3
          ],
          [
           1147
          ],
          [
           21
          ],
          [
           133
          ],
          [
           2404
          ],
          [
           28
          ],
          [
           164
          ],
          [
           16
          ],
          [
           835
          ],
          [
           447
          ],
          [
           25
          ],
          [
           84778
          ],
          [
           8600
          ],
          [
           51768
          ],
          [
           47
          ],
          [
           1
          ],
          [
           10102
          ],
          [
           25
          ],
          [
           9136
          ],
          [
           287
          ],
          [
           9
          ],
          [
           1693
          ],
          [
           7
          ],
          [
           24066
          ],
          [
           265
          ],
          [
           15452
          ],
          [
           200
          ],
          [
           2584
          ],
          [
           417
          ],
          [
           1
          ],
          [
           186
          ],
          [
           112
          ],
          [
           0
          ],
          [
           58
          ],
          [
           281
          ],
          [
           81
          ],
          [
           1043
          ],
          [
           2
          ],
          [
           0
          ],
          [
           0
          ],
          [
           218
          ],
          [
           1
          ],
          [
           1491
          ],
          [
           122
          ],
          [
           1
          ],
          [
           128397
          ],
          [
           34503
          ],
          [
           604
          ],
          [
           0
          ],
          [
           226
          ],
          [
           61
          ],
          [
           2187
          ],
          [
           64
          ],
          [
           0
          ],
          [
           989
          ],
          [
           849
          ],
          [
           3
          ],
          [
           23
          ],
          [
           271303
          ],
          [
           5
          ],
          [
           98
          ],
          [
           112997
          ],
          [
           201
          ],
          [
           3641
          ],
          [
           0
          ],
          [
           8
          ],
          [
           189
          ],
          [
           155922
          ],
          [
           21139
          ],
          [
           137
          ],
          [
           73
          ],
          [
           272
          ],
          [
           739
          ],
          [
           334
          ],
          [
           0
          ],
          [
           0
          ],
          [
           1
          ],
          [
           4
          ],
          [
           92
          ],
          [
           247
          ],
          [
           75
          ],
          [
           354
          ],
          [
           0
          ],
          [
           18656
          ],
          [
           18
          ],
          [
           244
          ],
          [
           131
          ],
          [
           85329
          ],
          [
           44725
          ],
          [
           51515
          ],
          [
           23
          ],
          [
           0
          ],
          [
           10
          ],
          [
           2318
          ],
          [
           0
          ],
          [
           59
          ],
          [
           283
          ],
          [
           1049
          ],
          [
           373
          ],
          [
           27
          ],
          [
           450
          ],
          [
           16
          ],
          [
           3
          ],
          [
           87
          ],
          [
           5850
          ],
          [
           219542
          ],
          [
           1
          ],
          [
           747
          ],
          [
           238
          ],
          [
           323
          ],
          [
           35033
          ],
          [
           14
          ],
          [
           184
          ],
          [
           5556
          ],
          [
           1890
          ],
          [
           1
          ],
          [
           7
          ],
          [
           638
          ],
          [
           0
          ],
          [
           6
          ],
          [
           4002
          ],
          [
           7
          ],
          [
           0
          ],
          [
           3
          ],
          [
           164
          ],
          [
           981
          ],
          [
           111
          ],
          [
           299
          ]
         ],
         "geo": "geo",
         "hovertemplate": "Country=%{location}<br>Count=%{z}<extra></extra>",
         "locationmode": "country names",
         "locations": [
          "Aruba",
          "Afghanistan",
          "Angola",
          "Anguilla",
          "Åland Islands",
          "Albania",
          "Andorra",
          "United Arab Emirates",
          "Argentina",
          "Armenia",
          "American Samoa",
          "Antarctica",
          "French Southern Territories",
          "Antigua and Barbuda",
          "Australia",
          "Austria",
          "Azerbaijan",
          "Burundi",
          "Belgium",
          "Benin",
          "Bonaire, Sint Eustatius and Saba",
          "Burkina Faso",
          "Bangladesh",
          "Bulgaria",
          "Bahrain",
          "Bahamas",
          "Bosnia and Herzegovina",
          "Saint Barthélemy",
          "Belarus",
          "Belize",
          "Bermuda",
          "Bolivia, Plurinational State of",
          "Brazil",
          "Barbados",
          "Brunei Darussalam",
          "Bhutan",
          "Bouvet Island",
          "Botswana",
          "Central African Republic",
          "Canada",
          "Cocos (Keeling) Islands",
          "Switzerland",
          "Chile",
          "China",
          "Côte d'Ivoire",
          "Cameroon",
          "Congo, The Democratic Republic of the",
          "Congo",
          "Cook Islands",
          "Colombia",
          "Comoros",
          "Cabo Verde",
          "Costa Rica",
          "Cuba",
          "Curaçao",
          "Christmas Island",
          "Cayman Islands",
          "Cyprus",
          "Czechia",
          "Germany",
          "Djibouti",
          "Dominica",
          "Denmark",
          "Dominican Republic",
          "Algeria",
          "Ecuador",
          "Egypt",
          "Eritrea",
          "Western Sahara",
          "Spain",
          "Estonia",
          "Ethiopia",
          "Finland",
          "Fiji",
          "Falkland Islands (Malvinas)",
          "France",
          "Faroe Islands",
          "Micronesia, Federated States of",
          "Gabon",
          "United Kingdom",
          "Georgia",
          "Guernsey",
          "Ghana",
          "Gibraltar",
          "Guinea",
          "Guadeloupe",
          "Gambia",
          "Guinea-Bissau",
          "Equatorial Guinea",
          "Greece",
          "Grenada",
          "Greenland",
          "Guatemala",
          "French Guiana",
          "Guam",
          "Guyana",
          "Hong Kong",
          "Heard Island and McDonald Islands",
          "Honduras",
          "Croatia",
          "Haiti",
          "Hungary",
          "Indonesia",
          "Isle of Man",
          "India",
          "British Indian Ocean Territory",
          "Ireland",
          "Iran, Islamic Republic of",
          "Iraq",
          "Iceland",
          "Israel",
          "Italy",
          "Jamaica",
          "Jersey",
          "Jordan",
          "Japan",
          "Kazakhstan",
          "Kenya",
          "Kyrgyzstan",
          "Cambodia",
          "Kiribati",
          "Saint Kitts and Nevis",
          "Korea, Republic of",
          "Kuwait",
          "Lao People's Democratic Republic",
          "Lebanon",
          "Liberia",
          "Libya",
          "Saint Lucia",
          "Liechtenstein",
          "Sri Lanka",
          "Lesotho",
          "Lithuania",
          "Luxembourg",
          "Latvia",
          "Macao",
          "Saint Martin (French part)",
          "Morocco",
          "Monaco",
          "Moldova, Republic of",
          "Madagascar",
          "Maldives",
          "Mexico",
          "Marshall Islands",
          "North Macedonia",
          "Mali",
          "Malta",
          "Myanmar",
          "Montenegro",
          "Mongolia",
          "Northern Mariana Islands",
          "Mozambique",
          "Mauritania",
          "Montserrat",
          "Martinique",
          "Mauritius",
          "Malawi",
          "Malaysia",
          "Mayotte",
          "Namibia",
          "New Caledonia",
          "Niger",
          "Norfolk Island",
          "Nigeria",
          "Nicaragua",
          "Niue",
          "Netherlands",
          "Norway",
          "Nepal",
          "Nauru",
          "New Zealand",
          "Oman",
          "Pakistan",
          "Panama",
          "Pitcairn",
          "Peru",
          "Philippines",
          "Palau",
          "Papua New Guinea",
          "Poland",
          "Puerto Rico",
          "Korea, Democratic People's Republic of",
          "Portugal",
          "Paraguay",
          "Palestine, State of",
          "French Polynesia",
          "Qatar",
          "Réunion",
          "Romania",
          "Russian Federation",
          "Rwanda",
          "Saudi Arabia",
          "Sudan",
          "Senegal",
          "Singapore",
          "South Georgia and the South Sandwich Islands",
          "Saint Helena, Ascension and Tristan da Cunha",
          "Svalbard and Jan Mayen",
          "Solomon Islands",
          "Sierra Leone",
          "El Salvador",
          "San Marino",
          "Somalia",
          "Saint Pierre and Miquelon",
          "Serbia",
          "South Sudan",
          "Sao Tome and Principe",
          "Suriname",
          "Slovakia",
          "Slovenia",
          "Sweden",
          "Eswatini",
          "Sint Maarten (Dutch part)",
          "Seychelles",
          "Syrian Arab Republic",
          "Turks and Caicos Islands",
          "Chad",
          "Togo",
          "Thailand",
          "Tajikistan",
          "Tokelau",
          "Turkmenistan",
          "Timor-Leste",
          "Tonga",
          "Trinidad and Tobago",
          "Tunisia",
          "Turkey",
          "Tuvalu",
          "Taiwan, Province of China",
          "Tanzania, United Republic of",
          "Uganda",
          "Ukraine",
          "United States Minor Outlying Islands",
          "Uruguay",
          "United States",
          "Uzbekistan",
          "Holy See (Vatican City State)",
          "Saint Vincent and the Grenadines",
          "Venezuela, Bolivarian Republic of",
          "Virgin Islands, British",
          "Virgin Islands, U.S.",
          "Viet Nam",
          "Vanuatu",
          "Wallis and Futuna",
          "Samoa",
          "Yemen",
          "South Africa",
          "Zambia",
          "Zimbabwe"
         ],
         "name": "",
         "type": "choropleth",
         "z": [
          0,
          2112,
          332,
          0,
          36,
          9826,
          150,
          34,
          1194,
          10468,
          8,
          0,
          0,
          7,
          995,
          74142,
          5995,
          80,
          92096,
          182,
          0,
          164,
          667,
          79201,
          18,
          11,
          8558,
          0,
          7526,
          24,
          0,
          386,
          3937,
          27,
          8,
          197,
          1,
          30,
          52,
          1937,
          3,
          1371,
          752,
          8635,
          594,
          1606,
          374,
          221,
          1,
          2161,
          41,
          585,
          178,
          340,
          0,
          1,
          0,
          19064,
          114201,
          461593,
          60,
          67,
          48549,
          251,
          2767,
          1098,
          4585,
          385,
          30,
          380263,
          39646,
          528,
          75314,
          34,
          0,
          418049,
          24,
          2,
          206,
          169566,
          15613,
          16,
          1191,
          0,
          376,
          15,
          294,
          132,
          75,
          92473,
          6,
          0,
          189,
          19,
          1,
          9,
          238,
          1,
          222,
          50273,
          163,
          102053,
          1567,
          24,
          6124,
          0,
          41079,
          2220,
          645,
          10479,
          5874,
          366015,
          120,
          15,
          3697,
          1159,
          3097,
          561,
          934,
          430,
          0,
          3,
          1147,
          21,
          133,
          2404,
          28,
          164,
          16,
          835,
          447,
          25,
          84778,
          8600,
          51768,
          47,
          1,
          10102,
          25,
          9136,
          287,
          9,
          1693,
          7,
          24066,
          265,
          15452,
          200,
          2584,
          417,
          1,
          186,
          112,
          0,
          58,
          281,
          81,
          1043,
          2,
          0,
          0,
          218,
          1,
          1491,
          122,
          1,
          128397,
          34503,
          604,
          0,
          226,
          61,
          2187,
          64,
          0,
          989,
          849,
          3,
          23,
          271303,
          5,
          98,
          112997,
          201,
          3641,
          0,
          8,
          189,
          155922,
          21139,
          137,
          73,
          272,
          739,
          334,
          0,
          0,
          1,
          4,
          92,
          247,
          75,
          354,
          0,
          18656,
          18,
          244,
          131,
          85329,
          44725,
          51515,
          23,
          0,
          10,
          2318,
          0,
          59,
          283,
          1049,
          373,
          27,
          450,
          16,
          3,
          87,
          5850,
          219542,
          1,
          747,
          238,
          323,
          35033,
          14,
          184,
          5556,
          1890,
          1,
          7,
          638,
          0,
          6,
          4002,
          7,
          0,
          3,
          164,
          981,
          111,
          299
         ]
        }
       ],
       "layout": {
        "coloraxis": {
         "colorbar": {
          "title": {
           "text": "Count"
          }
         },
         "colorscale": [
          [
           0,
           "#00224e"
          ],
          [
           0.1111111111111111,
           "#123570"
          ],
          [
           0.2222222222222222,
           "#3b496c"
          ],
          [
           0.3333333333333333,
           "#575d6d"
          ],
          [
           0.4444444444444444,
           "#707173"
          ],
          [
           0.5555555555555556,
           "#8a8678"
          ],
          [
           0.6666666666666666,
           "#a59c74"
          ],
          [
           0.7777777777777778,
           "#c3b369"
          ],
          [
           0.8888888888888888,
           "#e1cc55"
          ],
          [
           1,
           "#fee838"
          ]
         ]
        },
        "geo": {
         "center": {
          "lat": 50,
          "lon": 10
         },
         "domain": {
          "x": [
           0,
           1
          ],
          "y": [
           0,
           1
          ]
         }
        },
        "legend": {
         "tracegroupgap": 0
        },
        "margin": {
         "t": 60
        },
        "template": {
         "data": {
          "bar": [
           {
            "error_x": {
             "color": "#2a3f5f"
            },
            "error_y": {
             "color": "#2a3f5f"
            },
            "marker": {
             "line": {
              "color": "#E5ECF6",
              "width": 0.5
             },
             "pattern": {
              "fillmode": "overlay",
              "size": 10,
              "solidity": 0.2
             }
            },
            "type": "bar"
           }
          ],
          "barpolar": [
           {
            "marker": {
             "line": {
              "color": "#E5ECF6",
              "width": 0.5
             },
             "pattern": {
              "fillmode": "overlay",
              "size": 10,
              "solidity": 0.2
             }
            },
            "type": "barpolar"
           }
          ],
          "carpet": [
           {
            "aaxis": {
             "endlinecolor": "#2a3f5f",
             "gridcolor": "white",
             "linecolor": "white",
             "minorgridcolor": "white",
             "startlinecolor": "#2a3f5f"
            },
            "baxis": {
             "endlinecolor": "#2a3f5f",
             "gridcolor": "white",
             "linecolor": "white",
             "minorgridcolor": "white",
             "startlinecolor": "#2a3f5f"
            },
            "type": "carpet"
           }
          ],
          "choropleth": [
           {
            "colorbar": {
             "outlinewidth": 0,
             "ticks": ""
            },
            "type": "choropleth"
           }
          ],
          "contour": [
           {
            "colorbar": {
             "outlinewidth": 0,
             "ticks": ""
            },
            "colorscale": [
             [
              0,
              "#0d0887"
             ],
             [
              0.1111111111111111,
              "#46039f"
             ],
             [
              0.2222222222222222,
              "#7201a8"
             ],
             [
              0.3333333333333333,
              "#9c179e"
             ],
             [
              0.4444444444444444,
              "#bd3786"
             ],
             [
              0.5555555555555556,
              "#d8576b"
             ],
             [
              0.6666666666666666,
              "#ed7953"
             ],
             [
              0.7777777777777778,
              "#fb9f3a"
             ],
             [
              0.8888888888888888,
              "#fdca26"
             ],
             [
              1,
              "#f0f921"
             ]
            ],
            "type": "contour"
           }
          ],
          "contourcarpet": [
           {
            "colorbar": {
             "outlinewidth": 0,
             "ticks": ""
            },
            "type": "contourcarpet"
           }
          ],
          "heatmap": [
           {
            "colorbar": {
             "outlinewidth": 0,
             "ticks": ""
            },
            "colorscale": [
             [
              0,
              "#0d0887"
             ],
             [
              0.1111111111111111,
              "#46039f"
             ],
             [
              0.2222222222222222,
              "#7201a8"
             ],
             [
              0.3333333333333333,
              "#9c179e"
             ],
             [
              0.4444444444444444,
              "#bd3786"
             ],
             [
              0.5555555555555556,
              "#d8576b"
             ],
             [
              0.6666666666666666,
              "#ed7953"
             ],
             [
              0.7777777777777778,
              "#fb9f3a"
             ],
             [
              0.8888888888888888,
              "#fdca26"
             ],
             [
              1,
              "#f0f921"
             ]
            ],
            "type": "heatmap"
           }
          ],
          "heatmapgl": [
           {
            "colorbar": {
             "outlinewidth": 0,
             "ticks": ""
            },
            "colorscale": [
             [
              0,
              "#0d0887"
             ],
             [
              0.1111111111111111,
              "#46039f"
             ],
             [
              0.2222222222222222,
              "#7201a8"
             ],
             [
              0.3333333333333333,
              "#9c179e"
             ],
             [
              0.4444444444444444,
              "#bd3786"
             ],
             [
              0.5555555555555556,
              "#d8576b"
             ],
             [
              0.6666666666666666,
              "#ed7953"
             ],
             [
              0.7777777777777778,
              "#fb9f3a"
             ],
             [
              0.8888888888888888,
              "#fdca26"
             ],
             [
              1,
              "#f0f921"
             ]
            ],
            "type": "heatmapgl"
           }
          ],
          "histogram": [
           {
            "marker": {
             "pattern": {
              "fillmode": "overlay",
              "size": 10,
              "solidity": 0.2
             }
            },
            "type": "histogram"
           }
          ],
          "histogram2d": [
           {
            "colorbar": {
             "outlinewidth": 0,
             "ticks": ""
            },
            "colorscale": [
             [
              0,
              "#0d0887"
             ],
             [
              0.1111111111111111,
              "#46039f"
             ],
             [
              0.2222222222222222,
              "#7201a8"
             ],
             [
              0.3333333333333333,
              "#9c179e"
             ],
             [
              0.4444444444444444,
              "#bd3786"
             ],
             [
              0.5555555555555556,
              "#d8576b"
             ],
             [
              0.6666666666666666,
              "#ed7953"
             ],
             [
              0.7777777777777778,
              "#fb9f3a"
             ],
             [
              0.8888888888888888,
              "#fdca26"
             ],
             [
              1,
              "#f0f921"
             ]
            ],
            "type": "histogram2d"
           }
          ],
          "histogram2dcontour": [
           {
            "colorbar": {
             "outlinewidth": 0,
             "ticks": ""
            },
            "colorscale": [
             [
              0,
              "#0d0887"
             ],
             [
              0.1111111111111111,
              "#46039f"
             ],
             [
              0.2222222222222222,
              "#7201a8"
             ],
             [
              0.3333333333333333,
              "#9c179e"
             ],
             [
              0.4444444444444444,
              "#bd3786"
             ],
             [
              0.5555555555555556,
              "#d8576b"
             ],
             [
              0.6666666666666666,
              "#ed7953"
             ],
             [
              0.7777777777777778,
              "#fb9f3a"
             ],
             [
              0.8888888888888888,
              "#fdca26"
             ],
             [
              1,
              "#f0f921"
             ]
            ],
            "type": "histogram2dcontour"
           }
          ],
          "mesh3d": [
           {
            "colorbar": {
             "outlinewidth": 0,
             "ticks": ""
            },
            "type": "mesh3d"
           }
          ],
          "parcoords": [
           {
            "line": {
             "colorbar": {
              "outlinewidth": 0,
              "ticks": ""
             }
            },
            "type": "parcoords"
           }
          ],
          "pie": [
           {
            "automargin": true,
            "type": "pie"
           }
          ],
          "scatter": [
           {
            "fillpattern": {
             "fillmode": "overlay",
             "size": 10,
             "solidity": 0.2
            },
            "type": "scatter"
           }
          ],
          "scatter3d": [
           {
            "line": {
             "colorbar": {
              "outlinewidth": 0,
              "ticks": ""
             }
            },
            "marker": {
             "colorbar": {
              "outlinewidth": 0,
              "ticks": ""
             }
            },
            "type": "scatter3d"
           }
          ],
          "scattercarpet": [
           {
            "marker": {
             "colorbar": {
              "outlinewidth": 0,
              "ticks": ""
             }
            },
            "type": "scattercarpet"
           }
          ],
          "scattergeo": [
           {
            "marker": {
             "colorbar": {
              "outlinewidth": 0,
              "ticks": ""
             }
            },
            "type": "scattergeo"
           }
          ],
          "scattergl": [
           {
            "marker": {
             "colorbar": {
              "outlinewidth": 0,
              "ticks": ""
             }
            },
            "type": "scattergl"
           }
          ],
          "scattermapbox": [
           {
            "marker": {
             "colorbar": {
              "outlinewidth": 0,
              "ticks": ""
             }
            },
            "type": "scattermapbox"
           }
          ],
          "scatterpolar": [
           {
            "marker": {
             "colorbar": {
              "outlinewidth": 0,
              "ticks": ""
             }
            },
            "type": "scatterpolar"
           }
          ],
          "scatterpolargl": [
           {
            "marker": {
             "colorbar": {
              "outlinewidth": 0,
              "ticks": ""
             }
            },
            "type": "scatterpolargl"
           }
          ],
          "scatterternary": [
           {
            "marker": {
             "colorbar": {
              "outlinewidth": 0,
              "ticks": ""
             }
            },
            "type": "scatterternary"
           }
          ],
          "surface": [
           {
            "colorbar": {
             "outlinewidth": 0,
             "ticks": ""
            },
            "colorscale": [
             [
              0,
              "#0d0887"
             ],
             [
              0.1111111111111111,
              "#46039f"
             ],
             [
              0.2222222222222222,
              "#7201a8"
             ],
             [
              0.3333333333333333,
              "#9c179e"
             ],
             [
              0.4444444444444444,
              "#bd3786"
             ],
             [
              0.5555555555555556,
              "#d8576b"
             ],
             [
              0.6666666666666666,
              "#ed7953"
             ],
             [
              0.7777777777777778,
              "#fb9f3a"
             ],
             [
              0.8888888888888888,
              "#fdca26"
             ],
             [
              1,
              "#f0f921"
             ]
            ],
            "type": "surface"
           }
          ],
          "table": [
           {
            "cells": {
             "fill": {
              "color": "#EBF0F8"
             },
             "line": {
              "color": "white"
             }
            },
            "header": {
             "fill": {
              "color": "#C8D4E3"
             },
             "line": {
              "color": "white"
             }
            },
            "type": "table"
           }
          ]
         },
         "layout": {
          "annotationdefaults": {
           "arrowcolor": "#2a3f5f",
           "arrowhead": 0,
           "arrowwidth": 1
          },
          "autotypenumbers": "strict",
          "coloraxis": {
           "colorbar": {
            "outlinewidth": 0,
            "ticks": ""
           }
          },
          "colorscale": {
           "diverging": [
            [
             0,
             "#8e0152"
            ],
            [
             0.1,
             "#c51b7d"
            ],
            [
             0.2,
             "#de77ae"
            ],
            [
             0.3,
             "#f1b6da"
            ],
            [
             0.4,
             "#fde0ef"
            ],
            [
             0.5,
             "#f7f7f7"
            ],
            [
             0.6,
             "#e6f5d0"
            ],
            [
             0.7,
             "#b8e186"
            ],
            [
             0.8,
             "#7fbc41"
            ],
            [
             0.9,
             "#4d9221"
            ],
            [
             1,
             "#276419"
            ]
           ],
           "sequential": [
            [
             0,
             "#0d0887"
            ],
            [
             0.1111111111111111,
             "#46039f"
            ],
            [
             0.2222222222222222,
             "#7201a8"
            ],
            [
             0.3333333333333333,
             "#9c179e"
            ],
            [
             0.4444444444444444,
             "#bd3786"
            ],
            [
             0.5555555555555556,
             "#d8576b"
            ],
            [
             0.6666666666666666,
             "#ed7953"
            ],
            [
             0.7777777777777778,
             "#fb9f3a"
            ],
            [
             0.8888888888888888,
             "#fdca26"
            ],
            [
             1,
             "#f0f921"
            ]
           ],
           "sequentialminus": [
            [
             0,
             "#0d0887"
            ],
            [
             0.1111111111111111,
             "#46039f"
            ],
            [
             0.2222222222222222,
             "#7201a8"
            ],
            [
             0.3333333333333333,
             "#9c179e"
            ],
            [
             0.4444444444444444,
             "#bd3786"
            ],
            [
             0.5555555555555556,
             "#d8576b"
            ],
            [
             0.6666666666666666,
             "#ed7953"
            ],
            [
             0.7777777777777778,
             "#fb9f3a"
            ],
            [
             0.8888888888888888,
             "#fdca26"
            ],
            [
             1,
             "#f0f921"
            ]
           ]
          },
          "colorway": [
           "#636efa",
           "#EF553B",
           "#00cc96",
           "#ab63fa",
           "#FFA15A",
           "#19d3f3",
           "#FF6692",
           "#B6E880",
           "#FF97FF",
           "#FECB52"
          ],
          "font": {
           "color": "#2a3f5f"
          },
          "geo": {
           "bgcolor": "white",
           "lakecolor": "white",
           "landcolor": "#E5ECF6",
           "showlakes": true,
           "showland": true,
           "subunitcolor": "white"
          },
          "hoverlabel": {
           "align": "left"
          },
          "hovermode": "closest",
          "mapbox": {
           "style": "light"
          },
          "paper_bgcolor": "white",
          "plot_bgcolor": "#E5ECF6",
          "polar": {
           "angularaxis": {
            "gridcolor": "white",
            "linecolor": "white",
            "ticks": ""
           },
           "bgcolor": "#E5ECF6",
           "radialaxis": {
            "gridcolor": "white",
            "linecolor": "white",
            "ticks": ""
           }
          },
          "scene": {
           "xaxis": {
            "backgroundcolor": "#E5ECF6",
            "gridcolor": "white",
            "gridwidth": 2,
            "linecolor": "white",
            "showbackground": true,
            "ticks": "",
            "zerolinecolor": "white"
           },
           "yaxis": {
            "backgroundcolor": "#E5ECF6",
            "gridcolor": "white",
            "gridwidth": 2,
            "linecolor": "white",
            "showbackground": true,
            "ticks": "",
            "zerolinecolor": "white"
           },
           "zaxis": {
            "backgroundcolor": "#E5ECF6",
            "gridcolor": "white",
            "gridwidth": 2,
            "linecolor": "white",
            "showbackground": true,
            "ticks": "",
            "zerolinecolor": "white"
           }
          },
          "shapedefaults": {
           "line": {
            "color": "#2a3f5f"
           }
          },
          "ternary": {
           "aaxis": {
            "gridcolor": "white",
            "linecolor": "white",
            "ticks": ""
           },
           "baxis": {
            "gridcolor": "white",
            "linecolor": "white",
            "ticks": ""
           },
           "bgcolor": "#E5ECF6",
           "caxis": {
            "gridcolor": "white",
            "linecolor": "white",
            "ticks": ""
           }
          },
          "title": {
           "x": 0.05
          },
          "xaxis": {
           "automargin": true,
           "gridcolor": "white",
           "linecolor": "white",
           "ticks": "",
           "title": {
            "standoff": 15
           },
           "zerolinecolor": "white",
           "zerolinewidth": 2
          },
          "yaxis": {
           "automargin": true,
           "gridcolor": "white",
           "linecolor": "white",
           "ticks": "",
           "title": {
            "standoff": 15
           },
           "zerolinecolor": "white",
           "zerolinewidth": 2
          }
         }
        },
        "title": {
         "text": "Participant Nationality"
        }
       }
      },
      "text/html": [
       "<div>                            <div id=\"fa6ab508-80ba-40bf-ae44-b195637c86ad\" class=\"plotly-graph-div\" style=\"height:525px; width:100%;\"></div>            <script type=\"text/javascript\">                require([\"plotly\"], function(Plotly) {                    window.PLOTLYENV=window.PLOTLYENV || {};                                    if (document.getElementById(\"fa6ab508-80ba-40bf-ae44-b195637c86ad\")) {                    Plotly.newPlot(                        \"fa6ab508-80ba-40bf-ae44-b195637c86ad\",                        [{\"coloraxis\":\"coloraxis\",\"customdata\":[[0.0],[2112.0],[332.0],[0.0],[36.0],[9826.0],[150.0],[34.0],[1194.0],[10468.0],[8.0],[0.0],[0.0],[7.0],[995.0],[74142.0],[5995.0],[80.0],[92096.0],[182.0],[0.0],[164.0],[667.0],[79201.0],[18.0],[11.0],[8558.0],[0.0],[7526.0],[24.0],[0.0],[386.0],[3937.0],[27.0],[8.0],[197.0],[1.0],[30.0],[52.0],[1937.0],[3.0],[1371.0],[752.0],[8635.0],[594.0],[1606.0],[374.0],[221.0],[1.0],[2161.0],[41.0],[585.0],[178.0],[340.0],[0.0],[1.0],[0.0],[19064.0],[114201.0],[461593.0],[60.0],[67.0],[48549.0],[251.0],[2767.0],[1098.0],[4585.0],[385.0],[30.0],[380263.0],[39646.0],[528.0],[75314.0],[34.0],[0.0],[418049.0],[24.0],[2.0],[206.0],[169566.0],[15613.0],[16.0],[1191.0],[0.0],[376.0],[15.0],[294.0],[132.0],[75.0],[92473.0],[6.0],[0.0],[189.0],[19.0],[1.0],[9.0],[238.0],[1.0],[222.0],[50273.0],[163.0],[102053.0],[1567.0],[24.0],[6124.0],[0.0],[41079.0],[2220.0],[645.0],[10479.0],[5874.0],[366015.0],[120.0],[15.0],[3697.0],[1159.0],[3097.0],[561.0],[934.0],[430.0],[0.0],[3.0],[1147.0],[21.0],[133.0],[2404.0],[28.0],[164.0],[16.0],[835.0],[447.0],[25.0],[84778.0],[8600.0],[51768.0],[47.0],[1.0],[10102.0],[25.0],[9136.0],[287.0],[9.0],[1693.0],[7.0],[24066.0],[265.0],[15452.0],[200.0],[2584.0],[417.0],[1.0],[186.0],[112.0],[0.0],[58.0],[281.0],[81.0],[1043.0],[2.0],[0.0],[0.0],[218.0],[1.0],[1491.0],[122.0],[1.0],[128397.0],[34503.0],[604.0],[0.0],[226.0],[61.0],[2187.0],[64.0],[0.0],[989.0],[849.0],[3.0],[23.0],[271303.0],[5.0],[98.0],[112997.0],[201.0],[3641.0],[0.0],[8.0],[189.0],[155922.0],[21139.0],[137.0],[73.0],[272.0],[739.0],[334.0],[0.0],[0.0],[1.0],[4.0],[92.0],[247.0],[75.0],[354.0],[0.0],[18656.0],[18.0],[244.0],[131.0],[85329.0],[44725.0],[51515.0],[23.0],[0.0],[10.0],[2318.0],[0.0],[59.0],[283.0],[1049.0],[373.0],[27.0],[450.0],[16.0],[3.0],[87.0],[5850.0],[219542.0],[1.0],[747.0],[238.0],[323.0],[35033.0],[14.0],[184.0],[5556.0],[1890.0],[1.0],[7.0],[638.0],[0.0],[6.0],[4002.0],[7.0],[0.0],[3.0],[164.0],[981.0],[111.0],[299.0]],\"geo\":\"geo\",\"hovertemplate\":\"Country=%{location}<br>Count=%{z}<extra></extra>\",\"locationmode\":\"country names\",\"locations\":[\"Aruba\",\"Afghanistan\",\"Angola\",\"Anguilla\",\"\\u00c5land Islands\",\"Albania\",\"Andorra\",\"United Arab Emirates\",\"Argentina\",\"Armenia\",\"American Samoa\",\"Antarctica\",\"French Southern Territories\",\"Antigua and Barbuda\",\"Australia\",\"Austria\",\"Azerbaijan\",\"Burundi\",\"Belgium\",\"Benin\",\"Bonaire, Sint Eustatius and Saba\",\"Burkina Faso\",\"Bangladesh\",\"Bulgaria\",\"Bahrain\",\"Bahamas\",\"Bosnia and Herzegovina\",\"Saint Barth\\u00e9lemy\",\"Belarus\",\"Belize\",\"Bermuda\",\"Bolivia, Plurinational State of\",\"Brazil\",\"Barbados\",\"Brunei Darussalam\",\"Bhutan\",\"Bouvet Island\",\"Botswana\",\"Central African Republic\",\"Canada\",\"Cocos (Keeling) Islands\",\"Switzerland\",\"Chile\",\"China\",\"C\\u00f4te d'Ivoire\",\"Cameroon\",\"Congo, The Democratic Republic of the\",\"Congo\",\"Cook Islands\",\"Colombia\",\"Comoros\",\"Cabo Verde\",\"Costa Rica\",\"Cuba\",\"Cura\\u00e7ao\",\"Christmas Island\",\"Cayman Islands\",\"Cyprus\",\"Czechia\",\"Germany\",\"Djibouti\",\"Dominica\",\"Denmark\",\"Dominican Republic\",\"Algeria\",\"Ecuador\",\"Egypt\",\"Eritrea\",\"Western Sahara\",\"Spain\",\"Estonia\",\"Ethiopia\",\"Finland\",\"Fiji\",\"Falkland Islands (Malvinas)\",\"France\",\"Faroe Islands\",\"Micronesia, Federated States of\",\"Gabon\",\"United Kingdom\",\"Georgia\",\"Guernsey\",\"Ghana\",\"Gibraltar\",\"Guinea\",\"Guadeloupe\",\"Gambia\",\"Guinea-Bissau\",\"Equatorial Guinea\",\"Greece\",\"Grenada\",\"Greenland\",\"Guatemala\",\"French Guiana\",\"Guam\",\"Guyana\",\"Hong Kong\",\"Heard Island and McDonald Islands\",\"Honduras\",\"Croatia\",\"Haiti\",\"Hungary\",\"Indonesia\",\"Isle of Man\",\"India\",\"British Indian Ocean Territory\",\"Ireland\",\"Iran, Islamic Republic of\",\"Iraq\",\"Iceland\",\"Israel\",\"Italy\",\"Jamaica\",\"Jersey\",\"Jordan\",\"Japan\",\"Kazakhstan\",\"Kenya\",\"Kyrgyzstan\",\"Cambodia\",\"Kiribati\",\"Saint Kitts and Nevis\",\"Korea, Republic of\",\"Kuwait\",\"Lao People's Democratic Republic\",\"Lebanon\",\"Liberia\",\"Libya\",\"Saint Lucia\",\"Liechtenstein\",\"Sri Lanka\",\"Lesotho\",\"Lithuania\",\"Luxembourg\",\"Latvia\",\"Macao\",\"Saint Martin (French part)\",\"Morocco\",\"Monaco\",\"Moldova, Republic of\",\"Madagascar\",\"Maldives\",\"Mexico\",\"Marshall Islands\",\"North Macedonia\",\"Mali\",\"Malta\",\"Myanmar\",\"Montenegro\",\"Mongolia\",\"Northern Mariana Islands\",\"Mozambique\",\"Mauritania\",\"Montserrat\",\"Martinique\",\"Mauritius\",\"Malawi\",\"Malaysia\",\"Mayotte\",\"Namibia\",\"New Caledonia\",\"Niger\",\"Norfolk Island\",\"Nigeria\",\"Nicaragua\",\"Niue\",\"Netherlands\",\"Norway\",\"Nepal\",\"Nauru\",\"New Zealand\",\"Oman\",\"Pakistan\",\"Panama\",\"Pitcairn\",\"Peru\",\"Philippines\",\"Palau\",\"Papua New Guinea\",\"Poland\",\"Puerto Rico\",\"Korea, Democratic People's Republic of\",\"Portugal\",\"Paraguay\",\"Palestine, State of\",\"French Polynesia\",\"Qatar\",\"R\\u00e9union\",\"Romania\",\"Russian Federation\",\"Rwanda\",\"Saudi Arabia\",\"Sudan\",\"Senegal\",\"Singapore\",\"South Georgia and the South Sandwich Islands\",\"Saint Helena, Ascension and Tristan da Cunha\",\"Svalbard and Jan Mayen\",\"Solomon Islands\",\"Sierra Leone\",\"El Salvador\",\"San Marino\",\"Somalia\",\"Saint Pierre and Miquelon\",\"Serbia\",\"South Sudan\",\"Sao Tome and Principe\",\"Suriname\",\"Slovakia\",\"Slovenia\",\"Sweden\",\"Eswatini\",\"Sint Maarten (Dutch part)\",\"Seychelles\",\"Syrian Arab Republic\",\"Turks and Caicos Islands\",\"Chad\",\"Togo\",\"Thailand\",\"Tajikistan\",\"Tokelau\",\"Turkmenistan\",\"Timor-Leste\",\"Tonga\",\"Trinidad and Tobago\",\"Tunisia\",\"Turkey\",\"Tuvalu\",\"Taiwan, Province of China\",\"Tanzania, United Republic of\",\"Uganda\",\"Ukraine\",\"United States Minor Outlying Islands\",\"Uruguay\",\"United States\",\"Uzbekistan\",\"Holy See (Vatican City State)\",\"Saint Vincent and the Grenadines\",\"Venezuela, Bolivarian Republic of\",\"Virgin Islands, British\",\"Virgin Islands, U.S.\",\"Viet Nam\",\"Vanuatu\",\"Wallis and Futuna\",\"Samoa\",\"Yemen\",\"South Africa\",\"Zambia\",\"Zimbabwe\"],\"name\":\"\",\"z\":[0.0,2112.0,332.0,0.0,36.0,9826.0,150.0,34.0,1194.0,10468.0,8.0,0.0,0.0,7.0,995.0,74142.0,5995.0,80.0,92096.0,182.0,0.0,164.0,667.0,79201.0,18.0,11.0,8558.0,0.0,7526.0,24.0,0.0,386.0,3937.0,27.0,8.0,197.0,1.0,30.0,52.0,1937.0,3.0,1371.0,752.0,8635.0,594.0,1606.0,374.0,221.0,1.0,2161.0,41.0,585.0,178.0,340.0,0.0,1.0,0.0,19064.0,114201.0,461593.0,60.0,67.0,48549.0,251.0,2767.0,1098.0,4585.0,385.0,30.0,380263.0,39646.0,528.0,75314.0,34.0,0.0,418049.0,24.0,2.0,206.0,169566.0,15613.0,16.0,1191.0,0.0,376.0,15.0,294.0,132.0,75.0,92473.0,6.0,0.0,189.0,19.0,1.0,9.0,238.0,1.0,222.0,50273.0,163.0,102053.0,1567.0,24.0,6124.0,0.0,41079.0,2220.0,645.0,10479.0,5874.0,366015.0,120.0,15.0,3697.0,1159.0,3097.0,561.0,934.0,430.0,0.0,3.0,1147.0,21.0,133.0,2404.0,28.0,164.0,16.0,835.0,447.0,25.0,84778.0,8600.0,51768.0,47.0,1.0,10102.0,25.0,9136.0,287.0,9.0,1693.0,7.0,24066.0,265.0,15452.0,200.0,2584.0,417.0,1.0,186.0,112.0,0.0,58.0,281.0,81.0,1043.0,2.0,0.0,0.0,218.0,1.0,1491.0,122.0,1.0,128397.0,34503.0,604.0,0.0,226.0,61.0,2187.0,64.0,0.0,989.0,849.0,3.0,23.0,271303.0,5.0,98.0,112997.0,201.0,3641.0,0.0,8.0,189.0,155922.0,21139.0,137.0,73.0,272.0,739.0,334.0,0.0,0.0,1.0,4.0,92.0,247.0,75.0,354.0,0.0,18656.0,18.0,244.0,131.0,85329.0,44725.0,51515.0,23.0,0.0,10.0,2318.0,0.0,59.0,283.0,1049.0,373.0,27.0,450.0,16.0,3.0,87.0,5850.0,219542.0,1.0,747.0,238.0,323.0,35033.0,14.0,184.0,5556.0,1890.0,1.0,7.0,638.0,0.0,6.0,4002.0,7.0,0.0,3.0,164.0,981.0,111.0,299.0],\"type\":\"choropleth\"}],                        {\"template\":{\"data\":{\"histogram2dcontour\":[{\"type\":\"histogram2dcontour\",\"colorbar\":{\"outlinewidth\":0,\"ticks\":\"\"},\"colorscale\":[[0.0,\"#0d0887\"],[0.1111111111111111,\"#46039f\"],[0.2222222222222222,\"#7201a8\"],[0.3333333333333333,\"#9c179e\"],[0.4444444444444444,\"#bd3786\"],[0.5555555555555556,\"#d8576b\"],[0.6666666666666666,\"#ed7953\"],[0.7777777777777778,\"#fb9f3a\"],[0.8888888888888888,\"#fdca26\"],[1.0,\"#f0f921\"]]}],\"choropleth\":[{\"type\":\"choropleth\",\"colorbar\":{\"outlinewidth\":0,\"ticks\":\"\"}}],\"histogram2d\":[{\"type\":\"histogram2d\",\"colorbar\":{\"outlinewidth\":0,\"ticks\":\"\"},\"colorscale\":[[0.0,\"#0d0887\"],[0.1111111111111111,\"#46039f\"],[0.2222222222222222,\"#7201a8\"],[0.3333333333333333,\"#9c179e\"],[0.4444444444444444,\"#bd3786\"],[0.5555555555555556,\"#d8576b\"],[0.6666666666666666,\"#ed7953\"],[0.7777777777777778,\"#fb9f3a\"],[0.8888888888888888,\"#fdca26\"],[1.0,\"#f0f921\"]]}],\"heatmap\":[{\"type\":\"heatmap\",\"colorbar\":{\"outlinewidth\":0,\"ticks\":\"\"},\"colorscale\":[[0.0,\"#0d0887\"],[0.1111111111111111,\"#46039f\"],[0.2222222222222222,\"#7201a8\"],[0.3333333333333333,\"#9c179e\"],[0.4444444444444444,\"#bd3786\"],[0.5555555555555556,\"#d8576b\"],[0.6666666666666666,\"#ed7953\"],[0.7777777777777778,\"#fb9f3a\"],[0.8888888888888888,\"#fdca26\"],[1.0,\"#f0f921\"]]}],\"heatmapgl\":[{\"type\":\"heatmapgl\",\"colorbar\":{\"outlinewidth\":0,\"ticks\":\"\"},\"colorscale\":[[0.0,\"#0d0887\"],[0.1111111111111111,\"#46039f\"],[0.2222222222222222,\"#7201a8\"],[0.3333333333333333,\"#9c179e\"],[0.4444444444444444,\"#bd3786\"],[0.5555555555555556,\"#d8576b\"],[0.6666666666666666,\"#ed7953\"],[0.7777777777777778,\"#fb9f3a\"],[0.8888888888888888,\"#fdca26\"],[1.0,\"#f0f921\"]]}],\"contourcarpet\":[{\"type\":\"contourcarpet\",\"colorbar\":{\"outlinewidth\":0,\"ticks\":\"\"}}],\"contour\":[{\"type\":\"contour\",\"colorbar\":{\"outlinewidth\":0,\"ticks\":\"\"},\"colorscale\":[[0.0,\"#0d0887\"],[0.1111111111111111,\"#46039f\"],[0.2222222222222222,\"#7201a8\"],[0.3333333333333333,\"#9c179e\"],[0.4444444444444444,\"#bd3786\"],[0.5555555555555556,\"#d8576b\"],[0.6666666666666666,\"#ed7953\"],[0.7777777777777778,\"#fb9f3a\"],[0.8888888888888888,\"#fdca26\"],[1.0,\"#f0f921\"]]}],\"surface\":[{\"type\":\"surface\",\"colorbar\":{\"outlinewidth\":0,\"ticks\":\"\"},\"colorscale\":[[0.0,\"#0d0887\"],[0.1111111111111111,\"#46039f\"],[0.2222222222222222,\"#7201a8\"],[0.3333333333333333,\"#9c179e\"],[0.4444444444444444,\"#bd3786\"],[0.5555555555555556,\"#d8576b\"],[0.6666666666666666,\"#ed7953\"],[0.7777777777777778,\"#fb9f3a\"],[0.8888888888888888,\"#fdca26\"],[1.0,\"#f0f921\"]]}],\"mesh3d\":[{\"type\":\"mesh3d\",\"colorbar\":{\"outlinewidth\":0,\"ticks\":\"\"}}],\"scatter\":[{\"fillpattern\":{\"fillmode\":\"overlay\",\"size\":10,\"solidity\":0.2},\"type\":\"scatter\"}],\"parcoords\":[{\"type\":\"parcoords\",\"line\":{\"colorbar\":{\"outlinewidth\":0,\"ticks\":\"\"}}}],\"scatterpolargl\":[{\"type\":\"scatterpolargl\",\"marker\":{\"colorbar\":{\"outlinewidth\":0,\"ticks\":\"\"}}}],\"bar\":[{\"error_x\":{\"color\":\"#2a3f5f\"},\"error_y\":{\"color\":\"#2a3f5f\"},\"marker\":{\"line\":{\"color\":\"#E5ECF6\",\"width\":0.5},\"pattern\":{\"fillmode\":\"overlay\",\"size\":10,\"solidity\":0.2}},\"type\":\"bar\"}],\"scattergeo\":[{\"type\":\"scattergeo\",\"marker\":{\"colorbar\":{\"outlinewidth\":0,\"ticks\":\"\"}}}],\"scatterpolar\":[{\"type\":\"scatterpolar\",\"marker\":{\"colorbar\":{\"outlinewidth\":0,\"ticks\":\"\"}}}],\"histogram\":[{\"marker\":{\"pattern\":{\"fillmode\":\"overlay\",\"size\":10,\"solidity\":0.2}},\"type\":\"histogram\"}],\"scattergl\":[{\"type\":\"scattergl\",\"marker\":{\"colorbar\":{\"outlinewidth\":0,\"ticks\":\"\"}}}],\"scatter3d\":[{\"type\":\"scatter3d\",\"line\":{\"colorbar\":{\"outlinewidth\":0,\"ticks\":\"\"}},\"marker\":{\"colorbar\":{\"outlinewidth\":0,\"ticks\":\"\"}}}],\"scattermapbox\":[{\"type\":\"scattermapbox\",\"marker\":{\"colorbar\":{\"outlinewidth\":0,\"ticks\":\"\"}}}],\"scatterternary\":[{\"type\":\"scatterternary\",\"marker\":{\"colorbar\":{\"outlinewidth\":0,\"ticks\":\"\"}}}],\"scattercarpet\":[{\"type\":\"scattercarpet\",\"marker\":{\"colorbar\":{\"outlinewidth\":0,\"ticks\":\"\"}}}],\"carpet\":[{\"aaxis\":{\"endlinecolor\":\"#2a3f5f\",\"gridcolor\":\"white\",\"linecolor\":\"white\",\"minorgridcolor\":\"white\",\"startlinecolor\":\"#2a3f5f\"},\"baxis\":{\"endlinecolor\":\"#2a3f5f\",\"gridcolor\":\"white\",\"linecolor\":\"white\",\"minorgridcolor\":\"white\",\"startlinecolor\":\"#2a3f5f\"},\"type\":\"carpet\"}],\"table\":[{\"cells\":{\"fill\":{\"color\":\"#EBF0F8\"},\"line\":{\"color\":\"white\"}},\"header\":{\"fill\":{\"color\":\"#C8D4E3\"},\"line\":{\"color\":\"white\"}},\"type\":\"table\"}],\"barpolar\":[{\"marker\":{\"line\":{\"color\":\"#E5ECF6\",\"width\":0.5},\"pattern\":{\"fillmode\":\"overlay\",\"size\":10,\"solidity\":0.2}},\"type\":\"barpolar\"}],\"pie\":[{\"automargin\":true,\"type\":\"pie\"}]},\"layout\":{\"autotypenumbers\":\"strict\",\"colorway\":[\"#636efa\",\"#EF553B\",\"#00cc96\",\"#ab63fa\",\"#FFA15A\",\"#19d3f3\",\"#FF6692\",\"#B6E880\",\"#FF97FF\",\"#FECB52\"],\"font\":{\"color\":\"#2a3f5f\"},\"hovermode\":\"closest\",\"hoverlabel\":{\"align\":\"left\"},\"paper_bgcolor\":\"white\",\"plot_bgcolor\":\"#E5ECF6\",\"polar\":{\"bgcolor\":\"#E5ECF6\",\"angularaxis\":{\"gridcolor\":\"white\",\"linecolor\":\"white\",\"ticks\":\"\"},\"radialaxis\":{\"gridcolor\":\"white\",\"linecolor\":\"white\",\"ticks\":\"\"}},\"ternary\":{\"bgcolor\":\"#E5ECF6\",\"aaxis\":{\"gridcolor\":\"white\",\"linecolor\":\"white\",\"ticks\":\"\"},\"baxis\":{\"gridcolor\":\"white\",\"linecolor\":\"white\",\"ticks\":\"\"},\"caxis\":{\"gridcolor\":\"white\",\"linecolor\":\"white\",\"ticks\":\"\"}},\"coloraxis\":{\"colorbar\":{\"outlinewidth\":0,\"ticks\":\"\"}},\"colorscale\":{\"sequential\":[[0.0,\"#0d0887\"],[0.1111111111111111,\"#46039f\"],[0.2222222222222222,\"#7201a8\"],[0.3333333333333333,\"#9c179e\"],[0.4444444444444444,\"#bd3786\"],[0.5555555555555556,\"#d8576b\"],[0.6666666666666666,\"#ed7953\"],[0.7777777777777778,\"#fb9f3a\"],[0.8888888888888888,\"#fdca26\"],[1.0,\"#f0f921\"]],\"sequentialminus\":[[0.0,\"#0d0887\"],[0.1111111111111111,\"#46039f\"],[0.2222222222222222,\"#7201a8\"],[0.3333333333333333,\"#9c179e\"],[0.4444444444444444,\"#bd3786\"],[0.5555555555555556,\"#d8576b\"],[0.6666666666666666,\"#ed7953\"],[0.7777777777777778,\"#fb9f3a\"],[0.8888888888888888,\"#fdca26\"],[1.0,\"#f0f921\"]],\"diverging\":[[0,\"#8e0152\"],[0.1,\"#c51b7d\"],[0.2,\"#de77ae\"],[0.3,\"#f1b6da\"],[0.4,\"#fde0ef\"],[0.5,\"#f7f7f7\"],[0.6,\"#e6f5d0\"],[0.7,\"#b8e186\"],[0.8,\"#7fbc41\"],[0.9,\"#4d9221\"],[1,\"#276419\"]]},\"xaxis\":{\"gridcolor\":\"white\",\"linecolor\":\"white\",\"ticks\":\"\",\"title\":{\"standoff\":15},\"zerolinecolor\":\"white\",\"automargin\":true,\"zerolinewidth\":2},\"yaxis\":{\"gridcolor\":\"white\",\"linecolor\":\"white\",\"ticks\":\"\",\"title\":{\"standoff\":15},\"zerolinecolor\":\"white\",\"automargin\":true,\"zerolinewidth\":2},\"scene\":{\"xaxis\":{\"backgroundcolor\":\"#E5ECF6\",\"gridcolor\":\"white\",\"linecolor\":\"white\",\"showbackground\":true,\"ticks\":\"\",\"zerolinecolor\":\"white\",\"gridwidth\":2},\"yaxis\":{\"backgroundcolor\":\"#E5ECF6\",\"gridcolor\":\"white\",\"linecolor\":\"white\",\"showbackground\":true,\"ticks\":\"\",\"zerolinecolor\":\"white\",\"gridwidth\":2},\"zaxis\":{\"backgroundcolor\":\"#E5ECF6\",\"gridcolor\":\"white\",\"linecolor\":\"white\",\"showbackground\":true,\"ticks\":\"\",\"zerolinecolor\":\"white\",\"gridwidth\":2}},\"shapedefaults\":{\"line\":{\"color\":\"#2a3f5f\"}},\"annotationdefaults\":{\"arrowcolor\":\"#2a3f5f\",\"arrowhead\":0,\"arrowwidth\":1},\"geo\":{\"bgcolor\":\"white\",\"landcolor\":\"#E5ECF6\",\"subunitcolor\":\"white\",\"showland\":true,\"showlakes\":true,\"lakecolor\":\"white\"},\"title\":{\"x\":0.05},\"mapbox\":{\"style\":\"light\"}}},\"geo\":{\"domain\":{\"x\":[0.0,1.0],\"y\":[0.0,1.0]},\"center\":{\"lat\":50,\"lon\":10}},\"coloraxis\":{\"colorbar\":{\"title\":{\"text\":\"Count\"}},\"colorscale\":[[0.0,\"#00224e\"],[0.1111111111111111,\"#123570\"],[0.2222222222222222,\"#3b496c\"],[0.3333333333333333,\"#575d6d\"],[0.4444444444444444,\"#707173\"],[0.5555555555555556,\"#8a8678\"],[0.6666666666666666,\"#a59c74\"],[0.7777777777777778,\"#c3b369\"],[0.8888888888888888,\"#e1cc55\"],[1.0,\"#fee838\"]]},\"legend\":{\"tracegroupgap\":0},\"margin\":{\"t\":60},\"title\":{\"text\":\"Participant Nationality\"}},                        {\"responsive\": true}                    ).then(function(){\n",
       "                            \n",
       "var gd = document.getElementById('fa6ab508-80ba-40bf-ae44-b195637c86ad');\n",
       "var x = new MutationObserver(function (mutations, observer) {{\n",
       "        var display = window.getComputedStyle(gd).display;\n",
       "        if (!display || display === 'none') {{\n",
       "            console.log([gd, 'removed!']);\n",
       "            Plotly.purge(gd);\n",
       "            observer.disconnect();\n",
       "        }}\n",
       "}});\n",
       "\n",
       "// Listen for the removal of the full notebook cells\n",
       "var notebookContainer = gd.closest('#notebook-container');\n",
       "if (notebookContainer) {{\n",
       "    x.observe(notebookContainer, {childList: true});\n",
       "}}\n",
       "\n",
       "// Listen for the clearing of the current output cell\n",
       "var outputEl = gd.closest('.output');\n",
       "if (outputEl) {{\n",
       "    x.observe(outputEl, {childList: true});\n",
       "}}\n",
       "\n",
       "                        })                };                });            </script>        </div>"
      ]
     },
     "metadata": {},
     "output_type": "display_data"
    },
    {
     "data": {
      "application/vnd.plotly.v1+json": {
       "config": {
        "plotlyServerURL": "https://plotly.com"
       },
       "data": [
        {
         "coloraxis": "coloraxis",
         "customdata": [
          [
           0
          ],
          [
           82
          ],
          [
           21
          ],
          [
           0
          ],
          [
           0
          ],
          [
           6173
          ],
          [
           0
          ],
          [
           0
          ],
          [
           456
          ],
          [
           9881
          ],
          [
           0
          ],
          [
           0
          ],
          [
           0
          ],
          [
           0
          ],
          [
           509
          ],
          [
           86595
          ],
          [
           4415
          ],
          [
           1
          ],
          [
           98567
          ],
          [
           41
          ],
          [
           0
          ],
          [
           48
          ],
          [
           118
          ],
          [
           75465
          ],
          [
           0
          ],
          [
           0
          ],
          [
           8028
          ],
          [
           0
          ],
          [
           5368
          ],
          [
           17
          ],
          [
           0
          ],
          [
           73
          ],
          [
           736
          ],
          [
           6
          ],
          [
           2
          ],
          [
           197
          ],
          [
           0
          ],
          [
           16
          ],
          [
           5
          ],
          [
           896
          ],
          [
           0
          ],
          [
           1
          ],
          [
           396
          ],
          [
           2979
          ],
          [
           125
          ],
          [
           148
          ],
          [
           13
          ],
          [
           0
          ],
          [
           0
          ],
          [
           392
          ],
          [
           0
          ],
          [
           43
          ],
          [
           60
          ],
          [
           172
          ],
          [
           0
          ],
          [
           0
          ],
          [
           0
          ],
          [
           19619
          ],
          [
           121122
          ],
          [
           470727
          ],
          [
           0
          ],
          [
           0
          ],
          [
           57209
          ],
          [
           83
          ],
          [
           1876
          ],
          [
           111
          ],
          [
           3506
          ],
          [
           0
          ],
          [
           0
          ],
          [
           386443
          ],
          [
           41348
          ],
          [
           236
          ],
          [
           78587
          ],
          [
           35
          ],
          [
           0
          ],
          [
           430385
          ],
          [
           0
          ],
          [
           0
          ],
          [
           29
          ],
          [
           198498
          ],
          [
           14754
          ],
          [
           0
          ],
          [
           251
          ],
          [
           0
          ],
          [
           0
          ],
          [
           0
          ],
          [
           17
          ],
          [
           2
          ],
          [
           3
          ],
          [
           90311
          ],
          [
           0
          ],
          [
           0
          ],
          [
           90
          ],
          [
           0
          ],
          [
           0
          ],
          [
           2
          ],
          [
           125
          ],
          [
           0
          ],
          [
           77
          ],
          [
           48299
          ],
          [
           48
          ],
          [
           99292
          ],
          [
           898
          ],
          [
           0
          ],
          [
           1260
          ],
          [
           0
          ],
          [
           40215
          ],
          [
           500
          ],
          [
           126
          ],
          [
           10758
          ],
          [
           5630
          ],
          [
           365626
          ],
          [
           41
          ],
          [
           0
          ],
          [
           3431
          ],
          [
           724
          ],
          [
           2141
          ],
          [
           221
          ],
          [
           555
          ],
          [
           388
          ],
          [
           0
          ],
          [
           0
          ],
          [
           519
          ],
          [
           0
          ],
          [
           101
          ],
          [
           2099
          ],
          [
           0
          ],
          [
           69
          ],
          [
           0
          ],
          [
           1365
          ],
          [
           171
          ],
          [
           15
          ],
          [
           85249
          ],
          [
           9882
          ],
          [
           52441
          ],
          [
           24
          ],
          [
           0
          ],
          [
           5030
          ],
          [
           0
          ],
          [
           5552
          ],
          [
           92
          ],
          [
           4
          ],
          [
           393
          ],
          [
           0
          ],
          [
           23413
          ],
          [
           63
          ],
          [
           15765
          ],
          [
           156
          ],
          [
           2335
          ],
          [
           177
          ],
          [
           0
          ],
          [
           67
          ],
          [
           10
          ],
          [
           0
          ],
          [
           0
          ],
          [
           72
          ],
          [
           37
          ],
          [
           601
          ],
          [
           0
          ],
          [
           0
          ],
          [
           0
          ],
          [
           20
          ],
          [
           0
          ],
          [
           102
          ],
          [
           57
          ],
          [
           0
          ],
          [
           143535
          ],
          [
           35858
          ],
          [
           259
          ],
          [
           0
          ],
          [
           104
          ],
          [
           0
          ],
          [
           203
          ],
          [
           11
          ],
          [
           0
          ],
          [
           158
          ],
          [
           175
          ],
          [
           0
          ],
          [
           25
          ],
          [
           277314
          ],
          [
           0
          ],
          [
           4
          ],
          [
           113539
          ],
          [
           112
          ],
          [
           3461
          ],
          [
           0
          ],
          [
           0
          ],
          [
           0
          ],
          [
           153393
          ],
          [
           14361
          ],
          [
           26
          ],
          [
           0
          ],
          [
           69
          ],
          [
           135
          ],
          [
           111
          ],
          [
           0
          ],
          [
           0
          ],
          [
           0
          ],
          [
           0
          ],
          [
           2
          ],
          [
           77
          ],
          [
           0
          ],
          [
           0
          ],
          [
           0
          ],
          [
           16762
          ],
          [
           0
          ],
          [
           1
          ],
          [
           34
          ],
          [
           78180
          ],
          [
           45098
          ],
          [
           55738
          ],
          [
           0
          ],
          [
           0
          ],
          [
           4
          ],
          [
           198
          ],
          [
           0
          ],
          [
           4
          ],
          [
           31
          ],
          [
           725
          ],
          [
           170
          ],
          [
           0
          ],
          [
           37
          ],
          [
           16
          ],
          [
           0
          ],
          [
           38
          ],
          [
           4808
          ],
          [
           220112
          ],
          [
           0
          ],
          [
           306
          ],
          [
           130
          ],
          [
           168
          ],
          [
           22086
          ],
          [
           0
          ],
          [
           70
          ],
          [
           1614
          ],
          [
           855
          ],
          [
           0
          ],
          [
           0
          ],
          [
           18
          ],
          [
           0
          ],
          [
           0
          ],
          [
           1675
          ],
          [
           0
          ],
          [
           0
          ],
          [
           2
          ],
          [
           0
          ],
          [
           788
          ],
          [
           60
          ],
          [
           13
          ]
         ],
         "geo": "geo",
         "hovertemplate": "Country=%{location}<br>Count=%{z}<extra></extra>",
         "locationmode": "country names",
         "locations": [
          "Aruba",
          "Afghanistan",
          "Angola",
          "Anguilla",
          "Åland Islands",
          "Albania",
          "Andorra",
          "United Arab Emirates",
          "Argentina",
          "Armenia",
          "American Samoa",
          "Antarctica",
          "French Southern Territories",
          "Antigua and Barbuda",
          "Australia",
          "Austria",
          "Azerbaijan",
          "Burundi",
          "Belgium",
          "Benin",
          "Bonaire, Sint Eustatius and Saba",
          "Burkina Faso",
          "Bangladesh",
          "Bulgaria",
          "Bahrain",
          "Bahamas",
          "Bosnia and Herzegovina",
          "Saint Barthélemy",
          "Belarus",
          "Belize",
          "Bermuda",
          "Bolivia, Plurinational State of",
          "Brazil",
          "Barbados",
          "Brunei Darussalam",
          "Bhutan",
          "Bouvet Island",
          "Botswana",
          "Central African Republic",
          "Canada",
          "Cocos (Keeling) Islands",
          "Switzerland",
          "Chile",
          "China",
          "Côte d'Ivoire",
          "Cameroon",
          "Congo, The Democratic Republic of the",
          "Congo",
          "Cook Islands",
          "Colombia",
          "Comoros",
          "Cabo Verde",
          "Costa Rica",
          "Cuba",
          "Curaçao",
          "Christmas Island",
          "Cayman Islands",
          "Cyprus",
          "Czechia",
          "Germany",
          "Djibouti",
          "Dominica",
          "Denmark",
          "Dominican Republic",
          "Algeria",
          "Ecuador",
          "Egypt",
          "Eritrea",
          "Western Sahara",
          "Spain",
          "Estonia",
          "Ethiopia",
          "Finland",
          "Fiji",
          "Falkland Islands (Malvinas)",
          "France",
          "Faroe Islands",
          "Micronesia, Federated States of",
          "Gabon",
          "United Kingdom",
          "Georgia",
          "Guernsey",
          "Ghana",
          "Gibraltar",
          "Guinea",
          "Guadeloupe",
          "Gambia",
          "Guinea-Bissau",
          "Equatorial Guinea",
          "Greece",
          "Grenada",
          "Greenland",
          "Guatemala",
          "French Guiana",
          "Guam",
          "Guyana",
          "Hong Kong",
          "Heard Island and McDonald Islands",
          "Honduras",
          "Croatia",
          "Haiti",
          "Hungary",
          "Indonesia",
          "Isle of Man",
          "India",
          "British Indian Ocean Territory",
          "Ireland",
          "Iran, Islamic Republic of",
          "Iraq",
          "Iceland",
          "Israel",
          "Italy",
          "Jamaica",
          "Jersey",
          "Jordan",
          "Japan",
          "Kazakhstan",
          "Kenya",
          "Kyrgyzstan",
          "Cambodia",
          "Kiribati",
          "Saint Kitts and Nevis",
          "Korea, Republic of",
          "Kuwait",
          "Lao People's Democratic Republic",
          "Lebanon",
          "Liberia",
          "Libya",
          "Saint Lucia",
          "Liechtenstein",
          "Sri Lanka",
          "Lesotho",
          "Lithuania",
          "Luxembourg",
          "Latvia",
          "Macao",
          "Saint Martin (French part)",
          "Morocco",
          "Monaco",
          "Moldova, Republic of",
          "Madagascar",
          "Maldives",
          "Mexico",
          "Marshall Islands",
          "North Macedonia",
          "Mali",
          "Malta",
          "Myanmar",
          "Montenegro",
          "Mongolia",
          "Northern Mariana Islands",
          "Mozambique",
          "Mauritania",
          "Montserrat",
          "Martinique",
          "Mauritius",
          "Malawi",
          "Malaysia",
          "Mayotte",
          "Namibia",
          "New Caledonia",
          "Niger",
          "Norfolk Island",
          "Nigeria",
          "Nicaragua",
          "Niue",
          "Netherlands",
          "Norway",
          "Nepal",
          "Nauru",
          "New Zealand",
          "Oman",
          "Pakistan",
          "Panama",
          "Pitcairn",
          "Peru",
          "Philippines",
          "Palau",
          "Papua New Guinea",
          "Poland",
          "Puerto Rico",
          "Korea, Democratic People's Republic of",
          "Portugal",
          "Paraguay",
          "Palestine, State of",
          "French Polynesia",
          "Qatar",
          "Réunion",
          "Romania",
          "Russian Federation",
          "Rwanda",
          "Saudi Arabia",
          "Sudan",
          "Senegal",
          "Singapore",
          "South Georgia and the South Sandwich Islands",
          "Saint Helena, Ascension and Tristan da Cunha",
          "Svalbard and Jan Mayen",
          "Solomon Islands",
          "Sierra Leone",
          "El Salvador",
          "San Marino",
          "Somalia",
          "Saint Pierre and Miquelon",
          "Serbia",
          "South Sudan",
          "Sao Tome and Principe",
          "Suriname",
          "Slovakia",
          "Slovenia",
          "Sweden",
          "Eswatini",
          "Sint Maarten (Dutch part)",
          "Seychelles",
          "Syrian Arab Republic",
          "Turks and Caicos Islands",
          "Chad",
          "Togo",
          "Thailand",
          "Tajikistan",
          "Tokelau",
          "Turkmenistan",
          "Timor-Leste",
          "Tonga",
          "Trinidad and Tobago",
          "Tunisia",
          "Turkey",
          "Tuvalu",
          "Taiwan, Province of China",
          "Tanzania, United Republic of",
          "Uganda",
          "Ukraine",
          "United States Minor Outlying Islands",
          "Uruguay",
          "United States",
          "Uzbekistan",
          "Holy See (Vatican City State)",
          "Saint Vincent and the Grenadines",
          "Venezuela, Bolivarian Republic of",
          "Virgin Islands, British",
          "Virgin Islands, U.S.",
          "Viet Nam",
          "Vanuatu",
          "Wallis and Futuna",
          "Samoa",
          "Yemen",
          "South Africa",
          "Zambia",
          "Zimbabwe"
         ],
         "name": "",
         "type": "choropleth",
         "z": [
          0,
          82,
          21,
          0,
          0,
          6173,
          0,
          0,
          456,
          9881,
          0,
          0,
          0,
          0,
          509,
          86595,
          4415,
          1,
          98567,
          41,
          0,
          48,
          118,
          75465,
          0,
          0,
          8028,
          0,
          5368,
          17,
          0,
          73,
          736,
          6,
          2,
          197,
          0,
          16,
          5,
          896,
          0,
          1,
          396,
          2979,
          125,
          148,
          13,
          0,
          0,
          392,
          0,
          43,
          60,
          172,
          0,
          0,
          0,
          19619,
          121122,
          470727,
          0,
          0,
          57209,
          83,
          1876,
          111,
          3506,
          0,
          0,
          386443,
          41348,
          236,
          78587,
          35,
          0,
          430385,
          0,
          0,
          29,
          198498,
          14754,
          0,
          251,
          0,
          0,
          0,
          17,
          2,
          3,
          90311,
          0,
          0,
          90,
          0,
          0,
          2,
          125,
          0,
          77,
          48299,
          48,
          99292,
          898,
          0,
          1260,
          0,
          40215,
          500,
          126,
          10758,
          5630,
          365626,
          41,
          0,
          3431,
          724,
          2141,
          221,
          555,
          388,
          0,
          0,
          519,
          0,
          101,
          2099,
          0,
          69,
          0,
          1365,
          171,
          15,
          85249,
          9882,
          52441,
          24,
          0,
          5030,
          0,
          5552,
          92,
          4,
          393,
          0,
          23413,
          63,
          15765,
          156,
          2335,
          177,
          0,
          67,
          10,
          0,
          0,
          72,
          37,
          601,
          0,
          0,
          0,
          20,
          0,
          102,
          57,
          0,
          143535,
          35858,
          259,
          0,
          104,
          0,
          203,
          11,
          0,
          158,
          175,
          0,
          25,
          277314,
          0,
          4,
          113539,
          112,
          3461,
          0,
          0,
          0,
          153393,
          14361,
          26,
          0,
          69,
          135,
          111,
          0,
          0,
          0,
          0,
          2,
          77,
          0,
          0,
          0,
          16762,
          0,
          1,
          34,
          78180,
          45098,
          55738,
          0,
          0,
          4,
          198,
          0,
          4,
          31,
          725,
          170,
          0,
          37,
          16,
          0,
          38,
          4808,
          220112,
          0,
          306,
          130,
          168,
          22086,
          0,
          70,
          1614,
          855,
          0,
          0,
          18,
          0,
          0,
          1675,
          0,
          0,
          2,
          0,
          788,
          60,
          13
         ]
        }
       ],
       "layout": {
        "coloraxis": {
         "colorbar": {
          "title": {
           "text": "Count"
          }
         },
         "colorscale": [
          [
           0,
           "#00224e"
          ],
          [
           0.1111111111111111,
           "#123570"
          ],
          [
           0.2222222222222222,
           "#3b496c"
          ],
          [
           0.3333333333333333,
           "#575d6d"
          ],
          [
           0.4444444444444444,
           "#707173"
          ],
          [
           0.5555555555555556,
           "#8a8678"
          ],
          [
           0.6666666666666666,
           "#a59c74"
          ],
          [
           0.7777777777777778,
           "#c3b369"
          ],
          [
           0.8888888888888888,
           "#e1cc55"
          ],
          [
           1,
           "#fee838"
          ]
         ]
        },
        "geo": {
         "center": {
          "lat": 50,
          "lon": 10
         },
         "domain": {
          "x": [
           0,
           1
          ],
          "y": [
           0,
           1
          ]
         }
        },
        "legend": {
         "tracegroupgap": 0
        },
        "margin": {
         "t": 60
        },
        "template": {
         "data": {
          "bar": [
           {
            "error_x": {
             "color": "#2a3f5f"
            },
            "error_y": {
             "color": "#2a3f5f"
            },
            "marker": {
             "line": {
              "color": "#E5ECF6",
              "width": 0.5
             },
             "pattern": {
              "fillmode": "overlay",
              "size": 10,
              "solidity": 0.2
             }
            },
            "type": "bar"
           }
          ],
          "barpolar": [
           {
            "marker": {
             "line": {
              "color": "#E5ECF6",
              "width": 0.5
             },
             "pattern": {
              "fillmode": "overlay",
              "size": 10,
              "solidity": 0.2
             }
            },
            "type": "barpolar"
           }
          ],
          "carpet": [
           {
            "aaxis": {
             "endlinecolor": "#2a3f5f",
             "gridcolor": "white",
             "linecolor": "white",
             "minorgridcolor": "white",
             "startlinecolor": "#2a3f5f"
            },
            "baxis": {
             "endlinecolor": "#2a3f5f",
             "gridcolor": "white",
             "linecolor": "white",
             "minorgridcolor": "white",
             "startlinecolor": "#2a3f5f"
            },
            "type": "carpet"
           }
          ],
          "choropleth": [
           {
            "colorbar": {
             "outlinewidth": 0,
             "ticks": ""
            },
            "type": "choropleth"
           }
          ],
          "contour": [
           {
            "colorbar": {
             "outlinewidth": 0,
             "ticks": ""
            },
            "colorscale": [
             [
              0,
              "#0d0887"
             ],
             [
              0.1111111111111111,
              "#46039f"
             ],
             [
              0.2222222222222222,
              "#7201a8"
             ],
             [
              0.3333333333333333,
              "#9c179e"
             ],
             [
              0.4444444444444444,
              "#bd3786"
             ],
             [
              0.5555555555555556,
              "#d8576b"
             ],
             [
              0.6666666666666666,
              "#ed7953"
             ],
             [
              0.7777777777777778,
              "#fb9f3a"
             ],
             [
              0.8888888888888888,
              "#fdca26"
             ],
             [
              1,
              "#f0f921"
             ]
            ],
            "type": "contour"
           }
          ],
          "contourcarpet": [
           {
            "colorbar": {
             "outlinewidth": 0,
             "ticks": ""
            },
            "type": "contourcarpet"
           }
          ],
          "heatmap": [
           {
            "colorbar": {
             "outlinewidth": 0,
             "ticks": ""
            },
            "colorscale": [
             [
              0,
              "#0d0887"
             ],
             [
              0.1111111111111111,
              "#46039f"
             ],
             [
              0.2222222222222222,
              "#7201a8"
             ],
             [
              0.3333333333333333,
              "#9c179e"
             ],
             [
              0.4444444444444444,
              "#bd3786"
             ],
             [
              0.5555555555555556,
              "#d8576b"
             ],
             [
              0.6666666666666666,
              "#ed7953"
             ],
             [
              0.7777777777777778,
              "#fb9f3a"
             ],
             [
              0.8888888888888888,
              "#fdca26"
             ],
             [
              1,
              "#f0f921"
             ]
            ],
            "type": "heatmap"
           }
          ],
          "heatmapgl": [
           {
            "colorbar": {
             "outlinewidth": 0,
             "ticks": ""
            },
            "colorscale": [
             [
              0,
              "#0d0887"
             ],
             [
              0.1111111111111111,
              "#46039f"
             ],
             [
              0.2222222222222222,
              "#7201a8"
             ],
             [
              0.3333333333333333,
              "#9c179e"
             ],
             [
              0.4444444444444444,
              "#bd3786"
             ],
             [
              0.5555555555555556,
              "#d8576b"
             ],
             [
              0.6666666666666666,
              "#ed7953"
             ],
             [
              0.7777777777777778,
              "#fb9f3a"
             ],
             [
              0.8888888888888888,
              "#fdca26"
             ],
             [
              1,
              "#f0f921"
             ]
            ],
            "type": "heatmapgl"
           }
          ],
          "histogram": [
           {
            "marker": {
             "pattern": {
              "fillmode": "overlay",
              "size": 10,
              "solidity": 0.2
             }
            },
            "type": "histogram"
           }
          ],
          "histogram2d": [
           {
            "colorbar": {
             "outlinewidth": 0,
             "ticks": ""
            },
            "colorscale": [
             [
              0,
              "#0d0887"
             ],
             [
              0.1111111111111111,
              "#46039f"
             ],
             [
              0.2222222222222222,
              "#7201a8"
             ],
             [
              0.3333333333333333,
              "#9c179e"
             ],
             [
              0.4444444444444444,
              "#bd3786"
             ],
             [
              0.5555555555555556,
              "#d8576b"
             ],
             [
              0.6666666666666666,
              "#ed7953"
             ],
             [
              0.7777777777777778,
              "#fb9f3a"
             ],
             [
              0.8888888888888888,
              "#fdca26"
             ],
             [
              1,
              "#f0f921"
             ]
            ],
            "type": "histogram2d"
           }
          ],
          "histogram2dcontour": [
           {
            "colorbar": {
             "outlinewidth": 0,
             "ticks": ""
            },
            "colorscale": [
             [
              0,
              "#0d0887"
             ],
             [
              0.1111111111111111,
              "#46039f"
             ],
             [
              0.2222222222222222,
              "#7201a8"
             ],
             [
              0.3333333333333333,
              "#9c179e"
             ],
             [
              0.4444444444444444,
              "#bd3786"
             ],
             [
              0.5555555555555556,
              "#d8576b"
             ],
             [
              0.6666666666666666,
              "#ed7953"
             ],
             [
              0.7777777777777778,
              "#fb9f3a"
             ],
             [
              0.8888888888888888,
              "#fdca26"
             ],
             [
              1,
              "#f0f921"
             ]
            ],
            "type": "histogram2dcontour"
           }
          ],
          "mesh3d": [
           {
            "colorbar": {
             "outlinewidth": 0,
             "ticks": ""
            },
            "type": "mesh3d"
           }
          ],
          "parcoords": [
           {
            "line": {
             "colorbar": {
              "outlinewidth": 0,
              "ticks": ""
             }
            },
            "type": "parcoords"
           }
          ],
          "pie": [
           {
            "automargin": true,
            "type": "pie"
           }
          ],
          "scatter": [
           {
            "fillpattern": {
             "fillmode": "overlay",
             "size": 10,
             "solidity": 0.2
            },
            "type": "scatter"
           }
          ],
          "scatter3d": [
           {
            "line": {
             "colorbar": {
              "outlinewidth": 0,
              "ticks": ""
             }
            },
            "marker": {
             "colorbar": {
              "outlinewidth": 0,
              "ticks": ""
             }
            },
            "type": "scatter3d"
           }
          ],
          "scattercarpet": [
           {
            "marker": {
             "colorbar": {
              "outlinewidth": 0,
              "ticks": ""
             }
            },
            "type": "scattercarpet"
           }
          ],
          "scattergeo": [
           {
            "marker": {
             "colorbar": {
              "outlinewidth": 0,
              "ticks": ""
             }
            },
            "type": "scattergeo"
           }
          ],
          "scattergl": [
           {
            "marker": {
             "colorbar": {
              "outlinewidth": 0,
              "ticks": ""
             }
            },
            "type": "scattergl"
           }
          ],
          "scattermapbox": [
           {
            "marker": {
             "colorbar": {
              "outlinewidth": 0,
              "ticks": ""
             }
            },
            "type": "scattermapbox"
           }
          ],
          "scatterpolar": [
           {
            "marker": {
             "colorbar": {
              "outlinewidth": 0,
              "ticks": ""
             }
            },
            "type": "scatterpolar"
           }
          ],
          "scatterpolargl": [
           {
            "marker": {
             "colorbar": {
              "outlinewidth": 0,
              "ticks": ""
             }
            },
            "type": "scatterpolargl"
           }
          ],
          "scatterternary": [
           {
            "marker": {
             "colorbar": {
              "outlinewidth": 0,
              "ticks": ""
             }
            },
            "type": "scatterternary"
           }
          ],
          "surface": [
           {
            "colorbar": {
             "outlinewidth": 0,
             "ticks": ""
            },
            "colorscale": [
             [
              0,
              "#0d0887"
             ],
             [
              0.1111111111111111,
              "#46039f"
             ],
             [
              0.2222222222222222,
              "#7201a8"
             ],
             [
              0.3333333333333333,
              "#9c179e"
             ],
             [
              0.4444444444444444,
              "#bd3786"
             ],
             [
              0.5555555555555556,
              "#d8576b"
             ],
             [
              0.6666666666666666,
              "#ed7953"
             ],
             [
              0.7777777777777778,
              "#fb9f3a"
             ],
             [
              0.8888888888888888,
              "#fdca26"
             ],
             [
              1,
              "#f0f921"
             ]
            ],
            "type": "surface"
           }
          ],
          "table": [
           {
            "cells": {
             "fill": {
              "color": "#EBF0F8"
             },
             "line": {
              "color": "white"
             }
            },
            "header": {
             "fill": {
              "color": "#C8D4E3"
             },
             "line": {
              "color": "white"
             }
            },
            "type": "table"
           }
          ]
         },
         "layout": {
          "annotationdefaults": {
           "arrowcolor": "#2a3f5f",
           "arrowhead": 0,
           "arrowwidth": 1
          },
          "autotypenumbers": "strict",
          "coloraxis": {
           "colorbar": {
            "outlinewidth": 0,
            "ticks": ""
           }
          },
          "colorscale": {
           "diverging": [
            [
             0,
             "#8e0152"
            ],
            [
             0.1,
             "#c51b7d"
            ],
            [
             0.2,
             "#de77ae"
            ],
            [
             0.3,
             "#f1b6da"
            ],
            [
             0.4,
             "#fde0ef"
            ],
            [
             0.5,
             "#f7f7f7"
            ],
            [
             0.6,
             "#e6f5d0"
            ],
            [
             0.7,
             "#b8e186"
            ],
            [
             0.8,
             "#7fbc41"
            ],
            [
             0.9,
             "#4d9221"
            ],
            [
             1,
             "#276419"
            ]
           ],
           "sequential": [
            [
             0,
             "#0d0887"
            ],
            [
             0.1111111111111111,
             "#46039f"
            ],
            [
             0.2222222222222222,
             "#7201a8"
            ],
            [
             0.3333333333333333,
             "#9c179e"
            ],
            [
             0.4444444444444444,
             "#bd3786"
            ],
            [
             0.5555555555555556,
             "#d8576b"
            ],
            [
             0.6666666666666666,
             "#ed7953"
            ],
            [
             0.7777777777777778,
             "#fb9f3a"
            ],
            [
             0.8888888888888888,
             "#fdca26"
            ],
            [
             1,
             "#f0f921"
            ]
           ],
           "sequentialminus": [
            [
             0,
             "#0d0887"
            ],
            [
             0.1111111111111111,
             "#46039f"
            ],
            [
             0.2222222222222222,
             "#7201a8"
            ],
            [
             0.3333333333333333,
             "#9c179e"
            ],
            [
             0.4444444444444444,
             "#bd3786"
            ],
            [
             0.5555555555555556,
             "#d8576b"
            ],
            [
             0.6666666666666666,
             "#ed7953"
            ],
            [
             0.7777777777777778,
             "#fb9f3a"
            ],
            [
             0.8888888888888888,
             "#fdca26"
            ],
            [
             1,
             "#f0f921"
            ]
           ]
          },
          "colorway": [
           "#636efa",
           "#EF553B",
           "#00cc96",
           "#ab63fa",
           "#FFA15A",
           "#19d3f3",
           "#FF6692",
           "#B6E880",
           "#FF97FF",
           "#FECB52"
          ],
          "font": {
           "color": "#2a3f5f"
          },
          "geo": {
           "bgcolor": "white",
           "lakecolor": "white",
           "landcolor": "#E5ECF6",
           "showlakes": true,
           "showland": true,
           "subunitcolor": "white"
          },
          "hoverlabel": {
           "align": "left"
          },
          "hovermode": "closest",
          "mapbox": {
           "style": "light"
          },
          "paper_bgcolor": "white",
          "plot_bgcolor": "#E5ECF6",
          "polar": {
           "angularaxis": {
            "gridcolor": "white",
            "linecolor": "white",
            "ticks": ""
           },
           "bgcolor": "#E5ECF6",
           "radialaxis": {
            "gridcolor": "white",
            "linecolor": "white",
            "ticks": ""
           }
          },
          "scene": {
           "xaxis": {
            "backgroundcolor": "#E5ECF6",
            "gridcolor": "white",
            "gridwidth": 2,
            "linecolor": "white",
            "showbackground": true,
            "ticks": "",
            "zerolinecolor": "white"
           },
           "yaxis": {
            "backgroundcolor": "#E5ECF6",
            "gridcolor": "white",
            "gridwidth": 2,
            "linecolor": "white",
            "showbackground": true,
            "ticks": "",
            "zerolinecolor": "white"
           },
           "zaxis": {
            "backgroundcolor": "#E5ECF6",
            "gridcolor": "white",
            "gridwidth": 2,
            "linecolor": "white",
            "showbackground": true,
            "ticks": "",
            "zerolinecolor": "white"
           }
          },
          "shapedefaults": {
           "line": {
            "color": "#2a3f5f"
           }
          },
          "ternary": {
           "aaxis": {
            "gridcolor": "white",
            "linecolor": "white",
            "ticks": ""
           },
           "baxis": {
            "gridcolor": "white",
            "linecolor": "white",
            "ticks": ""
           },
           "bgcolor": "#E5ECF6",
           "caxis": {
            "gridcolor": "white",
            "linecolor": "white",
            "ticks": ""
           }
          },
          "title": {
           "x": 0.05
          },
          "xaxis": {
           "automargin": true,
           "gridcolor": "white",
           "linecolor": "white",
           "ticks": "",
           "title": {
            "standoff": 15
           },
           "zerolinecolor": "white",
           "zerolinewidth": 2
          },
          "yaxis": {
           "automargin": true,
           "gridcolor": "white",
           "linecolor": "white",
           "ticks": "",
           "title": {
            "standoff": 15
           },
           "zerolinecolor": "white",
           "zerolinewidth": 2
          }
         }
        },
        "title": {
         "text": "Sending Country"
        }
       }
      },
      "text/html": [
       "<div>                            <div id=\"41015ed7-c92d-4369-a87d-01cc4e158e84\" class=\"plotly-graph-div\" style=\"height:525px; width:100%;\"></div>            <script type=\"text/javascript\">                require([\"plotly\"], function(Plotly) {                    window.PLOTLYENV=window.PLOTLYENV || {};                                    if (document.getElementById(\"41015ed7-c92d-4369-a87d-01cc4e158e84\")) {                    Plotly.newPlot(                        \"41015ed7-c92d-4369-a87d-01cc4e158e84\",                        [{\"coloraxis\":\"coloraxis\",\"customdata\":[[0.0],[82.0],[21.0],[0.0],[0.0],[6173.0],[0.0],[0.0],[456.0],[9881.0],[0.0],[0.0],[0.0],[0.0],[509.0],[86595.0],[4415.0],[1.0],[98567.0],[41.0],[0.0],[48.0],[118.0],[75465.0],[0.0],[0.0],[8028.0],[0.0],[5368.0],[17.0],[0.0],[73.0],[736.0],[6.0],[2.0],[197.0],[0.0],[16.0],[5.0],[896.0],[0.0],[1.0],[396.0],[2979.0],[125.0],[148.0],[13.0],[0.0],[0.0],[392.0],[0.0],[43.0],[60.0],[172.0],[0.0],[0.0],[0.0],[19619.0],[121122.0],[470727.0],[0.0],[0.0],[57209.0],[83.0],[1876.0],[111.0],[3506.0],[0.0],[0.0],[386443.0],[41348.0],[236.0],[78587.0],[35.0],[0.0],[430385.0],[0.0],[0.0],[29.0],[198498.0],[14754.0],[0.0],[251.0],[0.0],[0.0],[0.0],[17.0],[2.0],[3.0],[90311.0],[0.0],[0.0],[90.0],[0.0],[0.0],[2.0],[125.0],[0.0],[77.0],[48299.0],[48.0],[99292.0],[898.0],[0.0],[1260.0],[0.0],[40215.0],[500.0],[126.0],[10758.0],[5630.0],[365626.0],[41.0],[0.0],[3431.0],[724.0],[2141.0],[221.0],[555.0],[388.0],[0.0],[0.0],[519.0],[0.0],[101.0],[2099.0],[0.0],[69.0],[0.0],[1365.0],[171.0],[15.0],[85249.0],[9882.0],[52441.0],[24.0],[0.0],[5030.0],[0.0],[5552.0],[92.0],[4.0],[393.0],[0.0],[23413.0],[63.0],[15765.0],[156.0],[2335.0],[177.0],[0.0],[67.0],[10.0],[0.0],[0.0],[72.0],[37.0],[601.0],[0.0],[0.0],[0.0],[20.0],[0.0],[102.0],[57.0],[0.0],[143535.0],[35858.0],[259.0],[0.0],[104.0],[0.0],[203.0],[11.0],[0.0],[158.0],[175.0],[0.0],[25.0],[277314.0],[0.0],[4.0],[113539.0],[112.0],[3461.0],[0.0],[0.0],[0.0],[153393.0],[14361.0],[26.0],[0.0],[69.0],[135.0],[111.0],[0.0],[0.0],[0.0],[0.0],[2.0],[77.0],[0.0],[0.0],[0.0],[16762.0],[0.0],[1.0],[34.0],[78180.0],[45098.0],[55738.0],[0.0],[0.0],[4.0],[198.0],[0.0],[4.0],[31.0],[725.0],[170.0],[0.0],[37.0],[16.0],[0.0],[38.0],[4808.0],[220112.0],[0.0],[306.0],[130.0],[168.0],[22086.0],[0.0],[70.0],[1614.0],[855.0],[0.0],[0.0],[18.0],[0.0],[0.0],[1675.0],[0.0],[0.0],[2.0],[0.0],[788.0],[60.0],[13.0]],\"geo\":\"geo\",\"hovertemplate\":\"Country=%{location}<br>Count=%{z}<extra></extra>\",\"locationmode\":\"country names\",\"locations\":[\"Aruba\",\"Afghanistan\",\"Angola\",\"Anguilla\",\"\\u00c5land Islands\",\"Albania\",\"Andorra\",\"United Arab Emirates\",\"Argentina\",\"Armenia\",\"American Samoa\",\"Antarctica\",\"French Southern Territories\",\"Antigua and Barbuda\",\"Australia\",\"Austria\",\"Azerbaijan\",\"Burundi\",\"Belgium\",\"Benin\",\"Bonaire, Sint Eustatius and Saba\",\"Burkina Faso\",\"Bangladesh\",\"Bulgaria\",\"Bahrain\",\"Bahamas\",\"Bosnia and Herzegovina\",\"Saint Barth\\u00e9lemy\",\"Belarus\",\"Belize\",\"Bermuda\",\"Bolivia, Plurinational State of\",\"Brazil\",\"Barbados\",\"Brunei Darussalam\",\"Bhutan\",\"Bouvet Island\",\"Botswana\",\"Central African Republic\",\"Canada\",\"Cocos (Keeling) Islands\",\"Switzerland\",\"Chile\",\"China\",\"C\\u00f4te d'Ivoire\",\"Cameroon\",\"Congo, The Democratic Republic of the\",\"Congo\",\"Cook Islands\",\"Colombia\",\"Comoros\",\"Cabo Verde\",\"Costa Rica\",\"Cuba\",\"Cura\\u00e7ao\",\"Christmas Island\",\"Cayman Islands\",\"Cyprus\",\"Czechia\",\"Germany\",\"Djibouti\",\"Dominica\",\"Denmark\",\"Dominican Republic\",\"Algeria\",\"Ecuador\",\"Egypt\",\"Eritrea\",\"Western Sahara\",\"Spain\",\"Estonia\",\"Ethiopia\",\"Finland\",\"Fiji\",\"Falkland Islands (Malvinas)\",\"France\",\"Faroe Islands\",\"Micronesia, Federated States of\",\"Gabon\",\"United Kingdom\",\"Georgia\",\"Guernsey\",\"Ghana\",\"Gibraltar\",\"Guinea\",\"Guadeloupe\",\"Gambia\",\"Guinea-Bissau\",\"Equatorial Guinea\",\"Greece\",\"Grenada\",\"Greenland\",\"Guatemala\",\"French Guiana\",\"Guam\",\"Guyana\",\"Hong Kong\",\"Heard Island and McDonald Islands\",\"Honduras\",\"Croatia\",\"Haiti\",\"Hungary\",\"Indonesia\",\"Isle of Man\",\"India\",\"British Indian Ocean Territory\",\"Ireland\",\"Iran, Islamic Republic of\",\"Iraq\",\"Iceland\",\"Israel\",\"Italy\",\"Jamaica\",\"Jersey\",\"Jordan\",\"Japan\",\"Kazakhstan\",\"Kenya\",\"Kyrgyzstan\",\"Cambodia\",\"Kiribati\",\"Saint Kitts and Nevis\",\"Korea, Republic of\",\"Kuwait\",\"Lao People's Democratic Republic\",\"Lebanon\",\"Liberia\",\"Libya\",\"Saint Lucia\",\"Liechtenstein\",\"Sri Lanka\",\"Lesotho\",\"Lithuania\",\"Luxembourg\",\"Latvia\",\"Macao\",\"Saint Martin (French part)\",\"Morocco\",\"Monaco\",\"Moldova, Republic of\",\"Madagascar\",\"Maldives\",\"Mexico\",\"Marshall Islands\",\"North Macedonia\",\"Mali\",\"Malta\",\"Myanmar\",\"Montenegro\",\"Mongolia\",\"Northern Mariana Islands\",\"Mozambique\",\"Mauritania\",\"Montserrat\",\"Martinique\",\"Mauritius\",\"Malawi\",\"Malaysia\",\"Mayotte\",\"Namibia\",\"New Caledonia\",\"Niger\",\"Norfolk Island\",\"Nigeria\",\"Nicaragua\",\"Niue\",\"Netherlands\",\"Norway\",\"Nepal\",\"Nauru\",\"New Zealand\",\"Oman\",\"Pakistan\",\"Panama\",\"Pitcairn\",\"Peru\",\"Philippines\",\"Palau\",\"Papua New Guinea\",\"Poland\",\"Puerto Rico\",\"Korea, Democratic People's Republic of\",\"Portugal\",\"Paraguay\",\"Palestine, State of\",\"French Polynesia\",\"Qatar\",\"R\\u00e9union\",\"Romania\",\"Russian Federation\",\"Rwanda\",\"Saudi Arabia\",\"Sudan\",\"Senegal\",\"Singapore\",\"South Georgia and the South Sandwich Islands\",\"Saint Helena, Ascension and Tristan da Cunha\",\"Svalbard and Jan Mayen\",\"Solomon Islands\",\"Sierra Leone\",\"El Salvador\",\"San Marino\",\"Somalia\",\"Saint Pierre and Miquelon\",\"Serbia\",\"South Sudan\",\"Sao Tome and Principe\",\"Suriname\",\"Slovakia\",\"Slovenia\",\"Sweden\",\"Eswatini\",\"Sint Maarten (Dutch part)\",\"Seychelles\",\"Syrian Arab Republic\",\"Turks and Caicos Islands\",\"Chad\",\"Togo\",\"Thailand\",\"Tajikistan\",\"Tokelau\",\"Turkmenistan\",\"Timor-Leste\",\"Tonga\",\"Trinidad and Tobago\",\"Tunisia\",\"Turkey\",\"Tuvalu\",\"Taiwan, Province of China\",\"Tanzania, United Republic of\",\"Uganda\",\"Ukraine\",\"United States Minor Outlying Islands\",\"Uruguay\",\"United States\",\"Uzbekistan\",\"Holy See (Vatican City State)\",\"Saint Vincent and the Grenadines\",\"Venezuela, Bolivarian Republic of\",\"Virgin Islands, British\",\"Virgin Islands, U.S.\",\"Viet Nam\",\"Vanuatu\",\"Wallis and Futuna\",\"Samoa\",\"Yemen\",\"South Africa\",\"Zambia\",\"Zimbabwe\"],\"name\":\"\",\"z\":[0.0,82.0,21.0,0.0,0.0,6173.0,0.0,0.0,456.0,9881.0,0.0,0.0,0.0,0.0,509.0,86595.0,4415.0,1.0,98567.0,41.0,0.0,48.0,118.0,75465.0,0.0,0.0,8028.0,0.0,5368.0,17.0,0.0,73.0,736.0,6.0,2.0,197.0,0.0,16.0,5.0,896.0,0.0,1.0,396.0,2979.0,125.0,148.0,13.0,0.0,0.0,392.0,0.0,43.0,60.0,172.0,0.0,0.0,0.0,19619.0,121122.0,470727.0,0.0,0.0,57209.0,83.0,1876.0,111.0,3506.0,0.0,0.0,386443.0,41348.0,236.0,78587.0,35.0,0.0,430385.0,0.0,0.0,29.0,198498.0,14754.0,0.0,251.0,0.0,0.0,0.0,17.0,2.0,3.0,90311.0,0.0,0.0,90.0,0.0,0.0,2.0,125.0,0.0,77.0,48299.0,48.0,99292.0,898.0,0.0,1260.0,0.0,40215.0,500.0,126.0,10758.0,5630.0,365626.0,41.0,0.0,3431.0,724.0,2141.0,221.0,555.0,388.0,0.0,0.0,519.0,0.0,101.0,2099.0,0.0,69.0,0.0,1365.0,171.0,15.0,85249.0,9882.0,52441.0,24.0,0.0,5030.0,0.0,5552.0,92.0,4.0,393.0,0.0,23413.0,63.0,15765.0,156.0,2335.0,177.0,0.0,67.0,10.0,0.0,0.0,72.0,37.0,601.0,0.0,0.0,0.0,20.0,0.0,102.0,57.0,0.0,143535.0,35858.0,259.0,0.0,104.0,0.0,203.0,11.0,0.0,158.0,175.0,0.0,25.0,277314.0,0.0,4.0,113539.0,112.0,3461.0,0.0,0.0,0.0,153393.0,14361.0,26.0,0.0,69.0,135.0,111.0,0.0,0.0,0.0,0.0,2.0,77.0,0.0,0.0,0.0,16762.0,0.0,1.0,34.0,78180.0,45098.0,55738.0,0.0,0.0,4.0,198.0,0.0,4.0,31.0,725.0,170.0,0.0,37.0,16.0,0.0,38.0,4808.0,220112.0,0.0,306.0,130.0,168.0,22086.0,0.0,70.0,1614.0,855.0,0.0,0.0,18.0,0.0,0.0,1675.0,0.0,0.0,2.0,0.0,788.0,60.0,13.0],\"type\":\"choropleth\"}],                        {\"template\":{\"data\":{\"histogram2dcontour\":[{\"type\":\"histogram2dcontour\",\"colorbar\":{\"outlinewidth\":0,\"ticks\":\"\"},\"colorscale\":[[0.0,\"#0d0887\"],[0.1111111111111111,\"#46039f\"],[0.2222222222222222,\"#7201a8\"],[0.3333333333333333,\"#9c179e\"],[0.4444444444444444,\"#bd3786\"],[0.5555555555555556,\"#d8576b\"],[0.6666666666666666,\"#ed7953\"],[0.7777777777777778,\"#fb9f3a\"],[0.8888888888888888,\"#fdca26\"],[1.0,\"#f0f921\"]]}],\"choropleth\":[{\"type\":\"choropleth\",\"colorbar\":{\"outlinewidth\":0,\"ticks\":\"\"}}],\"histogram2d\":[{\"type\":\"histogram2d\",\"colorbar\":{\"outlinewidth\":0,\"ticks\":\"\"},\"colorscale\":[[0.0,\"#0d0887\"],[0.1111111111111111,\"#46039f\"],[0.2222222222222222,\"#7201a8\"],[0.3333333333333333,\"#9c179e\"],[0.4444444444444444,\"#bd3786\"],[0.5555555555555556,\"#d8576b\"],[0.6666666666666666,\"#ed7953\"],[0.7777777777777778,\"#fb9f3a\"],[0.8888888888888888,\"#fdca26\"],[1.0,\"#f0f921\"]]}],\"heatmap\":[{\"type\":\"heatmap\",\"colorbar\":{\"outlinewidth\":0,\"ticks\":\"\"},\"colorscale\":[[0.0,\"#0d0887\"],[0.1111111111111111,\"#46039f\"],[0.2222222222222222,\"#7201a8\"],[0.3333333333333333,\"#9c179e\"],[0.4444444444444444,\"#bd3786\"],[0.5555555555555556,\"#d8576b\"],[0.6666666666666666,\"#ed7953\"],[0.7777777777777778,\"#fb9f3a\"],[0.8888888888888888,\"#fdca26\"],[1.0,\"#f0f921\"]]}],\"heatmapgl\":[{\"type\":\"heatmapgl\",\"colorbar\":{\"outlinewidth\":0,\"ticks\":\"\"},\"colorscale\":[[0.0,\"#0d0887\"],[0.1111111111111111,\"#46039f\"],[0.2222222222222222,\"#7201a8\"],[0.3333333333333333,\"#9c179e\"],[0.4444444444444444,\"#bd3786\"],[0.5555555555555556,\"#d8576b\"],[0.6666666666666666,\"#ed7953\"],[0.7777777777777778,\"#fb9f3a\"],[0.8888888888888888,\"#fdca26\"],[1.0,\"#f0f921\"]]}],\"contourcarpet\":[{\"type\":\"contourcarpet\",\"colorbar\":{\"outlinewidth\":0,\"ticks\":\"\"}}],\"contour\":[{\"type\":\"contour\",\"colorbar\":{\"outlinewidth\":0,\"ticks\":\"\"},\"colorscale\":[[0.0,\"#0d0887\"],[0.1111111111111111,\"#46039f\"],[0.2222222222222222,\"#7201a8\"],[0.3333333333333333,\"#9c179e\"],[0.4444444444444444,\"#bd3786\"],[0.5555555555555556,\"#d8576b\"],[0.6666666666666666,\"#ed7953\"],[0.7777777777777778,\"#fb9f3a\"],[0.8888888888888888,\"#fdca26\"],[1.0,\"#f0f921\"]]}],\"surface\":[{\"type\":\"surface\",\"colorbar\":{\"outlinewidth\":0,\"ticks\":\"\"},\"colorscale\":[[0.0,\"#0d0887\"],[0.1111111111111111,\"#46039f\"],[0.2222222222222222,\"#7201a8\"],[0.3333333333333333,\"#9c179e\"],[0.4444444444444444,\"#bd3786\"],[0.5555555555555556,\"#d8576b\"],[0.6666666666666666,\"#ed7953\"],[0.7777777777777778,\"#fb9f3a\"],[0.8888888888888888,\"#fdca26\"],[1.0,\"#f0f921\"]]}],\"mesh3d\":[{\"type\":\"mesh3d\",\"colorbar\":{\"outlinewidth\":0,\"ticks\":\"\"}}],\"scatter\":[{\"fillpattern\":{\"fillmode\":\"overlay\",\"size\":10,\"solidity\":0.2},\"type\":\"scatter\"}],\"parcoords\":[{\"type\":\"parcoords\",\"line\":{\"colorbar\":{\"outlinewidth\":0,\"ticks\":\"\"}}}],\"scatterpolargl\":[{\"type\":\"scatterpolargl\",\"marker\":{\"colorbar\":{\"outlinewidth\":0,\"ticks\":\"\"}}}],\"bar\":[{\"error_x\":{\"color\":\"#2a3f5f\"},\"error_y\":{\"color\":\"#2a3f5f\"},\"marker\":{\"line\":{\"color\":\"#E5ECF6\",\"width\":0.5},\"pattern\":{\"fillmode\":\"overlay\",\"size\":10,\"solidity\":0.2}},\"type\":\"bar\"}],\"scattergeo\":[{\"type\":\"scattergeo\",\"marker\":{\"colorbar\":{\"outlinewidth\":0,\"ticks\":\"\"}}}],\"scatterpolar\":[{\"type\":\"scatterpolar\",\"marker\":{\"colorbar\":{\"outlinewidth\":0,\"ticks\":\"\"}}}],\"histogram\":[{\"marker\":{\"pattern\":{\"fillmode\":\"overlay\",\"size\":10,\"solidity\":0.2}},\"type\":\"histogram\"}],\"scattergl\":[{\"type\":\"scattergl\",\"marker\":{\"colorbar\":{\"outlinewidth\":0,\"ticks\":\"\"}}}],\"scatter3d\":[{\"type\":\"scatter3d\",\"line\":{\"colorbar\":{\"outlinewidth\":0,\"ticks\":\"\"}},\"marker\":{\"colorbar\":{\"outlinewidth\":0,\"ticks\":\"\"}}}],\"scattermapbox\":[{\"type\":\"scattermapbox\",\"marker\":{\"colorbar\":{\"outlinewidth\":0,\"ticks\":\"\"}}}],\"scatterternary\":[{\"type\":\"scatterternary\",\"marker\":{\"colorbar\":{\"outlinewidth\":0,\"ticks\":\"\"}}}],\"scattercarpet\":[{\"type\":\"scattercarpet\",\"marker\":{\"colorbar\":{\"outlinewidth\":0,\"ticks\":\"\"}}}],\"carpet\":[{\"aaxis\":{\"endlinecolor\":\"#2a3f5f\",\"gridcolor\":\"white\",\"linecolor\":\"white\",\"minorgridcolor\":\"white\",\"startlinecolor\":\"#2a3f5f\"},\"baxis\":{\"endlinecolor\":\"#2a3f5f\",\"gridcolor\":\"white\",\"linecolor\":\"white\",\"minorgridcolor\":\"white\",\"startlinecolor\":\"#2a3f5f\"},\"type\":\"carpet\"}],\"table\":[{\"cells\":{\"fill\":{\"color\":\"#EBF0F8\"},\"line\":{\"color\":\"white\"}},\"header\":{\"fill\":{\"color\":\"#C8D4E3\"},\"line\":{\"color\":\"white\"}},\"type\":\"table\"}],\"barpolar\":[{\"marker\":{\"line\":{\"color\":\"#E5ECF6\",\"width\":0.5},\"pattern\":{\"fillmode\":\"overlay\",\"size\":10,\"solidity\":0.2}},\"type\":\"barpolar\"}],\"pie\":[{\"automargin\":true,\"type\":\"pie\"}]},\"layout\":{\"autotypenumbers\":\"strict\",\"colorway\":[\"#636efa\",\"#EF553B\",\"#00cc96\",\"#ab63fa\",\"#FFA15A\",\"#19d3f3\",\"#FF6692\",\"#B6E880\",\"#FF97FF\",\"#FECB52\"],\"font\":{\"color\":\"#2a3f5f\"},\"hovermode\":\"closest\",\"hoverlabel\":{\"align\":\"left\"},\"paper_bgcolor\":\"white\",\"plot_bgcolor\":\"#E5ECF6\",\"polar\":{\"bgcolor\":\"#E5ECF6\",\"angularaxis\":{\"gridcolor\":\"white\",\"linecolor\":\"white\",\"ticks\":\"\"},\"radialaxis\":{\"gridcolor\":\"white\",\"linecolor\":\"white\",\"ticks\":\"\"}},\"ternary\":{\"bgcolor\":\"#E5ECF6\",\"aaxis\":{\"gridcolor\":\"white\",\"linecolor\":\"white\",\"ticks\":\"\"},\"baxis\":{\"gridcolor\":\"white\",\"linecolor\":\"white\",\"ticks\":\"\"},\"caxis\":{\"gridcolor\":\"white\",\"linecolor\":\"white\",\"ticks\":\"\"}},\"coloraxis\":{\"colorbar\":{\"outlinewidth\":0,\"ticks\":\"\"}},\"colorscale\":{\"sequential\":[[0.0,\"#0d0887\"],[0.1111111111111111,\"#46039f\"],[0.2222222222222222,\"#7201a8\"],[0.3333333333333333,\"#9c179e\"],[0.4444444444444444,\"#bd3786\"],[0.5555555555555556,\"#d8576b\"],[0.6666666666666666,\"#ed7953\"],[0.7777777777777778,\"#fb9f3a\"],[0.8888888888888888,\"#fdca26\"],[1.0,\"#f0f921\"]],\"sequentialminus\":[[0.0,\"#0d0887\"],[0.1111111111111111,\"#46039f\"],[0.2222222222222222,\"#7201a8\"],[0.3333333333333333,\"#9c179e\"],[0.4444444444444444,\"#bd3786\"],[0.5555555555555556,\"#d8576b\"],[0.6666666666666666,\"#ed7953\"],[0.7777777777777778,\"#fb9f3a\"],[0.8888888888888888,\"#fdca26\"],[1.0,\"#f0f921\"]],\"diverging\":[[0,\"#8e0152\"],[0.1,\"#c51b7d\"],[0.2,\"#de77ae\"],[0.3,\"#f1b6da\"],[0.4,\"#fde0ef\"],[0.5,\"#f7f7f7\"],[0.6,\"#e6f5d0\"],[0.7,\"#b8e186\"],[0.8,\"#7fbc41\"],[0.9,\"#4d9221\"],[1,\"#276419\"]]},\"xaxis\":{\"gridcolor\":\"white\",\"linecolor\":\"white\",\"ticks\":\"\",\"title\":{\"standoff\":15},\"zerolinecolor\":\"white\",\"automargin\":true,\"zerolinewidth\":2},\"yaxis\":{\"gridcolor\":\"white\",\"linecolor\":\"white\",\"ticks\":\"\",\"title\":{\"standoff\":15},\"zerolinecolor\":\"white\",\"automargin\":true,\"zerolinewidth\":2},\"scene\":{\"xaxis\":{\"backgroundcolor\":\"#E5ECF6\",\"gridcolor\":\"white\",\"linecolor\":\"white\",\"showbackground\":true,\"ticks\":\"\",\"zerolinecolor\":\"white\",\"gridwidth\":2},\"yaxis\":{\"backgroundcolor\":\"#E5ECF6\",\"gridcolor\":\"white\",\"linecolor\":\"white\",\"showbackground\":true,\"ticks\":\"\",\"zerolinecolor\":\"white\",\"gridwidth\":2},\"zaxis\":{\"backgroundcolor\":\"#E5ECF6\",\"gridcolor\":\"white\",\"linecolor\":\"white\",\"showbackground\":true,\"ticks\":\"\",\"zerolinecolor\":\"white\",\"gridwidth\":2}},\"shapedefaults\":{\"line\":{\"color\":\"#2a3f5f\"}},\"annotationdefaults\":{\"arrowcolor\":\"#2a3f5f\",\"arrowhead\":0,\"arrowwidth\":1},\"geo\":{\"bgcolor\":\"white\",\"landcolor\":\"#E5ECF6\",\"subunitcolor\":\"white\",\"showland\":true,\"showlakes\":true,\"lakecolor\":\"white\"},\"title\":{\"x\":0.05},\"mapbox\":{\"style\":\"light\"}}},\"geo\":{\"domain\":{\"x\":[0.0,1.0],\"y\":[0.0,1.0]},\"center\":{\"lat\":50,\"lon\":10}},\"coloraxis\":{\"colorbar\":{\"title\":{\"text\":\"Count\"}},\"colorscale\":[[0.0,\"#00224e\"],[0.1111111111111111,\"#123570\"],[0.2222222222222222,\"#3b496c\"],[0.3333333333333333,\"#575d6d\"],[0.4444444444444444,\"#707173\"],[0.5555555555555556,\"#8a8678\"],[0.6666666666666666,\"#a59c74\"],[0.7777777777777778,\"#c3b369\"],[0.8888888888888888,\"#e1cc55\"],[1.0,\"#fee838\"]]},\"legend\":{\"tracegroupgap\":0},\"margin\":{\"t\":60},\"title\":{\"text\":\"Sending Country\"}},                        {\"responsive\": true}                    ).then(function(){\n",
       "                            \n",
       "var gd = document.getElementById('41015ed7-c92d-4369-a87d-01cc4e158e84');\n",
       "var x = new MutationObserver(function (mutations, observer) {{\n",
       "        var display = window.getComputedStyle(gd).display;\n",
       "        if (!display || display === 'none') {{\n",
       "            console.log([gd, 'removed!']);\n",
       "            Plotly.purge(gd);\n",
       "            observer.disconnect();\n",
       "        }}\n",
       "}});\n",
       "\n",
       "// Listen for the removal of the full notebook cells\n",
       "var notebookContainer = gd.closest('#notebook-container');\n",
       "if (notebookContainer) {{\n",
       "    x.observe(notebookContainer, {childList: true});\n",
       "}}\n",
       "\n",
       "// Listen for the clearing of the current output cell\n",
       "var outputEl = gd.closest('.output');\n",
       "if (outputEl) {{\n",
       "    x.observe(outputEl, {childList: true});\n",
       "}}\n",
       "\n",
       "                        })                };                });            </script>        </div>"
      ]
     },
     "metadata": {},
     "output_type": "display_data"
    },
    {
     "data": {
      "application/vnd.plotly.v1+json": {
       "config": {
        "plotlyServerURL": "https://plotly.com"
       },
       "data": [
        {
         "coloraxis": "coloraxis",
         "customdata": [
          [
           0
          ],
          [
           13
          ],
          [
           8
          ],
          [
           0
          ],
          [
           0
          ],
          [
           2557
          ],
          [
           0
          ],
          [
           0
          ],
          [
           266
          ],
          [
           9685
          ],
          [
           0
          ],
          [
           0
          ],
          [
           0
          ],
          [
           0
          ],
          [
           551
          ],
          [
           95347
          ],
          [
           2152
          ],
          [
           0
          ],
          [
           109100
          ],
          [
           26
          ],
          [
           0
          ],
          [
           4
          ],
          [
           28
          ],
          [
           51306
          ],
          [
           0
          ],
          [
           1
          ],
          [
           4734
          ],
          [
           0
          ],
          [
           3131
          ],
          [
           1
          ],
          [
           0
          ],
          [
           57
          ],
          [
           423
          ],
          [
           9
          ],
          [
           2
          ],
          [
           83
          ],
          [
           0
          ],
          [
           20
          ],
          [
           0
          ],
          [
           929
          ],
          [
           0
          ],
          [
           9
          ],
          [
           268
          ],
          [
           1630
          ],
          [
           35
          ],
          [
           63
          ],
          [
           4
          ],
          [
           0
          ],
          [
           0
          ],
          [
           229
          ],
          [
           0
          ],
          [
           29
          ],
          [
           28
          ],
          [
           107
          ],
          [
           0
          ],
          [
           0
          ],
          [
           0
          ],
          [
           36261
          ],
          [
           128273
          ],
          [
           401620
          ],
          [
           4
          ],
          [
           0
          ],
          [
           67214
          ],
          [
           33
          ],
          [
           361
          ],
          [
           52
          ],
          [
           1109
          ],
          [
           0
          ],
          [
           0
          ],
          [
           521727
          ],
          [
           39295
          ],
          [
           133
          ],
          [
           100757
          ],
          [
           18
          ],
          [
           0
          ],
          [
           282916
          ],
          [
           0
          ],
          [
           0
          ],
          [
           18
          ],
          [
           378428
          ],
          [
           15016
          ],
          [
           0
          ],
          [
           92
          ],
          [
           0
          ],
          [
           2
          ],
          [
           0
          ],
          [
           3
          ],
          [
           3
          ],
          [
           0
          ],
          [
           77941
          ],
          [
           0
          ],
          [
           0
          ],
          [
           24
          ],
          [
           0
          ],
          [
           0
          ],
          [
           0
          ],
          [
           143
          ],
          [
           0
          ],
          [
           19
          ],
          [
           44045
          ],
          [
           32
          ],
          [
           96316
          ],
          [
           483
          ],
          [
           0
          ],
          [
           558
          ],
          [
           0
          ],
          [
           111621
          ],
          [
           179
          ],
          [
           22
          ],
          [
           17986
          ],
          [
           4238
          ],
          [
           342514
          ],
          [
           27
          ],
          [
           0
          ],
          [
           1491
          ],
          [
           873
          ],
          [
           732
          ],
          [
           141
          ],
          [
           156
          ],
          [
           221
          ],
          [
           0
          ],
          [
           0
          ],
          [
           524
          ],
          [
           0
          ],
          [
           64
          ],
          [
           964
          ],
          [
           0
          ],
          [
           0
          ],
          [
           0
          ],
          [
           1209
          ],
          [
           106
          ],
          [
           9
          ],
          [
           58553
          ],
          [
           15261
          ],
          [
           44011
          ],
          [
           34
          ],
          [
           0
          ],
          [
           4386
          ],
          [
           0
          ],
          [
           3624
          ],
          [
           48
          ],
          [
           1
          ],
          [
           275
          ],
          [
           0
          ],
          [
           12795
          ],
          [
           43
          ],
          [
           68413
          ],
          [
           81
          ],
          [
           1566
          ],
          [
           86
          ],
          [
           0
          ],
          [
           62
          ],
          [
           3
          ],
          [
           0
          ],
          [
           0
          ],
          [
           59
          ],
          [
           27
          ],
          [
           392
          ],
          [
           0
          ],
          [
           0
          ],
          [
           0
          ],
          [
           7
          ],
          [
           0
          ],
          [
           19
          ],
          [
           15
          ],
          [
           0
          ],
          [
           126107
          ],
          [
           59234
          ],
          [
           169
          ],
          [
           0
          ],
          [
           111
          ],
          [
           0
          ],
          [
           37
          ],
          [
           5
          ],
          [
           0
          ],
          [
           71
          ],
          [
           138
          ],
          [
           0
          ],
          [
           3
          ],
          [
           231029
          ],
          [
           0
          ],
          [
           4
          ],
          [
           179388
          ],
          [
           33
          ],
          [
           1575
          ],
          [
           0
          ],
          [
           0
          ],
          [
           0
          ],
          [
           101107
          ],
          [
           8100
          ],
          [
           16
          ],
          [
           0
          ],
          [
           49
          ],
          [
           76
          ],
          [
           106
          ],
          [
           0
          ],
          [
           0
          ],
          [
           0
          ],
          [
           0
          ],
          [
           0
          ],
          [
           27
          ],
          [
           0
          ],
          [
           2
          ],
          [
           0
          ],
          [
           10194
          ],
          [
           0
          ],
          [
           2
          ],
          [
           25
          ],
          [
           55737
          ],
          [
           48418
          ],
          [
           92632
          ],
          [
           0
          ],
          [
           0
          ],
          [
           3
          ],
          [
           0
          ],
          [
           0
          ],
          [
           5
          ],
          [
           13
          ],
          [
           528
          ],
          [
           58
          ],
          [
           0
          ],
          [
           8
          ],
          [
           8
          ],
          [
           0
          ],
          [
           25
          ],
          [
           1963
          ],
          [
           101732
          ],
          [
           0
          ],
          [
           226
          ],
          [
           77
          ],
          [
           105
          ],
          [
           6996
          ],
          [
           0
          ],
          [
           29
          ],
          [
           1677
          ],
          [
           260
          ],
          [
           0
          ],
          [
           0
          ],
          [
           3
          ],
          [
           0
          ],
          [
           0
          ],
          [
           830
          ],
          [
           0
          ],
          [
           0
          ],
          [
           0
          ],
          [
           0
          ],
          [
           539
          ],
          [
           40
          ],
          [
           4
          ]
         ],
         "geo": "geo",
         "hovertemplate": "Country=%{location}<br>Count=%{z}<extra></extra>",
         "locationmode": "country names",
         "locations": [
          "Aruba",
          "Afghanistan",
          "Angola",
          "Anguilla",
          "Åland Islands",
          "Albania",
          "Andorra",
          "United Arab Emirates",
          "Argentina",
          "Armenia",
          "American Samoa",
          "Antarctica",
          "French Southern Territories",
          "Antigua and Barbuda",
          "Australia",
          "Austria",
          "Azerbaijan",
          "Burundi",
          "Belgium",
          "Benin",
          "Bonaire, Sint Eustatius and Saba",
          "Burkina Faso",
          "Bangladesh",
          "Bulgaria",
          "Bahrain",
          "Bahamas",
          "Bosnia and Herzegovina",
          "Saint Barthélemy",
          "Belarus",
          "Belize",
          "Bermuda",
          "Bolivia, Plurinational State of",
          "Brazil",
          "Barbados",
          "Brunei Darussalam",
          "Bhutan",
          "Bouvet Island",
          "Botswana",
          "Central African Republic",
          "Canada",
          "Cocos (Keeling) Islands",
          "Switzerland",
          "Chile",
          "China",
          "Côte d'Ivoire",
          "Cameroon",
          "Congo, The Democratic Republic of the",
          "Congo",
          "Cook Islands",
          "Colombia",
          "Comoros",
          "Cabo Verde",
          "Costa Rica",
          "Cuba",
          "Curaçao",
          "Christmas Island",
          "Cayman Islands",
          "Cyprus",
          "Czechia",
          "Germany",
          "Djibouti",
          "Dominica",
          "Denmark",
          "Dominican Republic",
          "Algeria",
          "Ecuador",
          "Egypt",
          "Eritrea",
          "Western Sahara",
          "Spain",
          "Estonia",
          "Ethiopia",
          "Finland",
          "Fiji",
          "Falkland Islands (Malvinas)",
          "France",
          "Faroe Islands",
          "Micronesia, Federated States of",
          "Gabon",
          "United Kingdom",
          "Georgia",
          "Guernsey",
          "Ghana",
          "Gibraltar",
          "Guinea",
          "Guadeloupe",
          "Gambia",
          "Guinea-Bissau",
          "Equatorial Guinea",
          "Greece",
          "Grenada",
          "Greenland",
          "Guatemala",
          "French Guiana",
          "Guam",
          "Guyana",
          "Hong Kong",
          "Heard Island and McDonald Islands",
          "Honduras",
          "Croatia",
          "Haiti",
          "Hungary",
          "Indonesia",
          "Isle of Man",
          "India",
          "British Indian Ocean Territory",
          "Ireland",
          "Iran, Islamic Republic of",
          "Iraq",
          "Iceland",
          "Israel",
          "Italy",
          "Jamaica",
          "Jersey",
          "Jordan",
          "Japan",
          "Kazakhstan",
          "Kenya",
          "Kyrgyzstan",
          "Cambodia",
          "Kiribati",
          "Saint Kitts and Nevis",
          "Korea, Republic of",
          "Kuwait",
          "Lao People's Democratic Republic",
          "Lebanon",
          "Liberia",
          "Libya",
          "Saint Lucia",
          "Liechtenstein",
          "Sri Lanka",
          "Lesotho",
          "Lithuania",
          "Luxembourg",
          "Latvia",
          "Macao",
          "Saint Martin (French part)",
          "Morocco",
          "Monaco",
          "Moldova, Republic of",
          "Madagascar",
          "Maldives",
          "Mexico",
          "Marshall Islands",
          "North Macedonia",
          "Mali",
          "Malta",
          "Myanmar",
          "Montenegro",
          "Mongolia",
          "Northern Mariana Islands",
          "Mozambique",
          "Mauritania",
          "Montserrat",
          "Martinique",
          "Mauritius",
          "Malawi",
          "Malaysia",
          "Mayotte",
          "Namibia",
          "New Caledonia",
          "Niger",
          "Norfolk Island",
          "Nigeria",
          "Nicaragua",
          "Niue",
          "Netherlands",
          "Norway",
          "Nepal",
          "Nauru",
          "New Zealand",
          "Oman",
          "Pakistan",
          "Panama",
          "Pitcairn",
          "Peru",
          "Philippines",
          "Palau",
          "Papua New Guinea",
          "Poland",
          "Puerto Rico",
          "Korea, Democratic People's Republic of",
          "Portugal",
          "Paraguay",
          "Palestine, State of",
          "French Polynesia",
          "Qatar",
          "Réunion",
          "Romania",
          "Russian Federation",
          "Rwanda",
          "Saudi Arabia",
          "Sudan",
          "Senegal",
          "Singapore",
          "South Georgia and the South Sandwich Islands",
          "Saint Helena, Ascension and Tristan da Cunha",
          "Svalbard and Jan Mayen",
          "Solomon Islands",
          "Sierra Leone",
          "El Salvador",
          "San Marino",
          "Somalia",
          "Saint Pierre and Miquelon",
          "Serbia",
          "South Sudan",
          "Sao Tome and Principe",
          "Suriname",
          "Slovakia",
          "Slovenia",
          "Sweden",
          "Eswatini",
          "Sint Maarten (Dutch part)",
          "Seychelles",
          "Syrian Arab Republic",
          "Turks and Caicos Islands",
          "Chad",
          "Togo",
          "Thailand",
          "Tajikistan",
          "Tokelau",
          "Turkmenistan",
          "Timor-Leste",
          "Tonga",
          "Trinidad and Tobago",
          "Tunisia",
          "Turkey",
          "Tuvalu",
          "Taiwan, Province of China",
          "Tanzania, United Republic of",
          "Uganda",
          "Ukraine",
          "United States Minor Outlying Islands",
          "Uruguay",
          "United States",
          "Uzbekistan",
          "Holy See (Vatican City State)",
          "Saint Vincent and the Grenadines",
          "Venezuela, Bolivarian Republic of",
          "Virgin Islands, British",
          "Virgin Islands, U.S.",
          "Viet Nam",
          "Vanuatu",
          "Wallis and Futuna",
          "Samoa",
          "Yemen",
          "South Africa",
          "Zambia",
          "Zimbabwe"
         ],
         "name": "",
         "type": "choropleth",
         "z": [
          0,
          13,
          8,
          0,
          0,
          2557,
          0,
          0,
          266,
          9685,
          0,
          0,
          0,
          0,
          551,
          95347,
          2152,
          0,
          109100,
          26,
          0,
          4,
          28,
          51306,
          0,
          1,
          4734,
          0,
          3131,
          1,
          0,
          57,
          423,
          9,
          2,
          83,
          0,
          20,
          0,
          929,
          0,
          9,
          268,
          1630,
          35,
          63,
          4,
          0,
          0,
          229,
          0,
          29,
          28,
          107,
          0,
          0,
          0,
          36261,
          128273,
          401620,
          4,
          0,
          67214,
          33,
          361,
          52,
          1109,
          0,
          0,
          521727,
          39295,
          133,
          100757,
          18,
          0,
          282916,
          0,
          0,
          18,
          378428,
          15016,
          0,
          92,
          0,
          2,
          0,
          3,
          3,
          0,
          77941,
          0,
          0,
          24,
          0,
          0,
          0,
          143,
          0,
          19,
          44045,
          32,
          96316,
          483,
          0,
          558,
          0,
          111621,
          179,
          22,
          17986,
          4238,
          342514,
          27,
          0,
          1491,
          873,
          732,
          141,
          156,
          221,
          0,
          0,
          524,
          0,
          64,
          964,
          0,
          0,
          0,
          1209,
          106,
          9,
          58553,
          15261,
          44011,
          34,
          0,
          4386,
          0,
          3624,
          48,
          1,
          275,
          0,
          12795,
          43,
          68413,
          81,
          1566,
          86,
          0,
          62,
          3,
          0,
          0,
          59,
          27,
          392,
          0,
          0,
          0,
          7,
          0,
          19,
          15,
          0,
          126107,
          59234,
          169,
          0,
          111,
          0,
          37,
          5,
          0,
          71,
          138,
          0,
          3,
          231029,
          0,
          4,
          179388,
          33,
          1575,
          0,
          0,
          0,
          101107,
          8100,
          16,
          0,
          49,
          76,
          106,
          0,
          0,
          0,
          0,
          0,
          27,
          0,
          2,
          0,
          10194,
          0,
          2,
          25,
          55737,
          48418,
          92632,
          0,
          0,
          3,
          0,
          0,
          5,
          13,
          528,
          58,
          0,
          8,
          8,
          0,
          25,
          1963,
          101732,
          0,
          226,
          77,
          105,
          6996,
          0,
          29,
          1677,
          260,
          0,
          0,
          3,
          0,
          0,
          830,
          0,
          0,
          0,
          0,
          539,
          40,
          4
         ]
        }
       ],
       "layout": {
        "coloraxis": {
         "colorbar": {
          "title": {
           "text": "Count"
          }
         },
         "colorscale": [
          [
           0,
           "#00224e"
          ],
          [
           0.1111111111111111,
           "#123570"
          ],
          [
           0.2222222222222222,
           "#3b496c"
          ],
          [
           0.3333333333333333,
           "#575d6d"
          ],
          [
           0.4444444444444444,
           "#707173"
          ],
          [
           0.5555555555555556,
           "#8a8678"
          ],
          [
           0.6666666666666666,
           "#a59c74"
          ],
          [
           0.7777777777777778,
           "#c3b369"
          ],
          [
           0.8888888888888888,
           "#e1cc55"
          ],
          [
           1,
           "#fee838"
          ]
         ]
        },
        "geo": {
         "center": {
          "lat": 50,
          "lon": 10
         },
         "domain": {
          "x": [
           0,
           1
          ],
          "y": [
           0,
           1
          ]
         }
        },
        "legend": {
         "tracegroupgap": 0
        },
        "margin": {
         "t": 60
        },
        "template": {
         "data": {
          "bar": [
           {
            "error_x": {
             "color": "#2a3f5f"
            },
            "error_y": {
             "color": "#2a3f5f"
            },
            "marker": {
             "line": {
              "color": "#E5ECF6",
              "width": 0.5
             },
             "pattern": {
              "fillmode": "overlay",
              "size": 10,
              "solidity": 0.2
             }
            },
            "type": "bar"
           }
          ],
          "barpolar": [
           {
            "marker": {
             "line": {
              "color": "#E5ECF6",
              "width": 0.5
             },
             "pattern": {
              "fillmode": "overlay",
              "size": 10,
              "solidity": 0.2
             }
            },
            "type": "barpolar"
           }
          ],
          "carpet": [
           {
            "aaxis": {
             "endlinecolor": "#2a3f5f",
             "gridcolor": "white",
             "linecolor": "white",
             "minorgridcolor": "white",
             "startlinecolor": "#2a3f5f"
            },
            "baxis": {
             "endlinecolor": "#2a3f5f",
             "gridcolor": "white",
             "linecolor": "white",
             "minorgridcolor": "white",
             "startlinecolor": "#2a3f5f"
            },
            "type": "carpet"
           }
          ],
          "choropleth": [
           {
            "colorbar": {
             "outlinewidth": 0,
             "ticks": ""
            },
            "type": "choropleth"
           }
          ],
          "contour": [
           {
            "colorbar": {
             "outlinewidth": 0,
             "ticks": ""
            },
            "colorscale": [
             [
              0,
              "#0d0887"
             ],
             [
              0.1111111111111111,
              "#46039f"
             ],
             [
              0.2222222222222222,
              "#7201a8"
             ],
             [
              0.3333333333333333,
              "#9c179e"
             ],
             [
              0.4444444444444444,
              "#bd3786"
             ],
             [
              0.5555555555555556,
              "#d8576b"
             ],
             [
              0.6666666666666666,
              "#ed7953"
             ],
             [
              0.7777777777777778,
              "#fb9f3a"
             ],
             [
              0.8888888888888888,
              "#fdca26"
             ],
             [
              1,
              "#f0f921"
             ]
            ],
            "type": "contour"
           }
          ],
          "contourcarpet": [
           {
            "colorbar": {
             "outlinewidth": 0,
             "ticks": ""
            },
            "type": "contourcarpet"
           }
          ],
          "heatmap": [
           {
            "colorbar": {
             "outlinewidth": 0,
             "ticks": ""
            },
            "colorscale": [
             [
              0,
              "#0d0887"
             ],
             [
              0.1111111111111111,
              "#46039f"
             ],
             [
              0.2222222222222222,
              "#7201a8"
             ],
             [
              0.3333333333333333,
              "#9c179e"
             ],
             [
              0.4444444444444444,
              "#bd3786"
             ],
             [
              0.5555555555555556,
              "#d8576b"
             ],
             [
              0.6666666666666666,
              "#ed7953"
             ],
             [
              0.7777777777777778,
              "#fb9f3a"
             ],
             [
              0.8888888888888888,
              "#fdca26"
             ],
             [
              1,
              "#f0f921"
             ]
            ],
            "type": "heatmap"
           }
          ],
          "heatmapgl": [
           {
            "colorbar": {
             "outlinewidth": 0,
             "ticks": ""
            },
            "colorscale": [
             [
              0,
              "#0d0887"
             ],
             [
              0.1111111111111111,
              "#46039f"
             ],
             [
              0.2222222222222222,
              "#7201a8"
             ],
             [
              0.3333333333333333,
              "#9c179e"
             ],
             [
              0.4444444444444444,
              "#bd3786"
             ],
             [
              0.5555555555555556,
              "#d8576b"
             ],
             [
              0.6666666666666666,
              "#ed7953"
             ],
             [
              0.7777777777777778,
              "#fb9f3a"
             ],
             [
              0.8888888888888888,
              "#fdca26"
             ],
             [
              1,
              "#f0f921"
             ]
            ],
            "type": "heatmapgl"
           }
          ],
          "histogram": [
           {
            "marker": {
             "pattern": {
              "fillmode": "overlay",
              "size": 10,
              "solidity": 0.2
             }
            },
            "type": "histogram"
           }
          ],
          "histogram2d": [
           {
            "colorbar": {
             "outlinewidth": 0,
             "ticks": ""
            },
            "colorscale": [
             [
              0,
              "#0d0887"
             ],
             [
              0.1111111111111111,
              "#46039f"
             ],
             [
              0.2222222222222222,
              "#7201a8"
             ],
             [
              0.3333333333333333,
              "#9c179e"
             ],
             [
              0.4444444444444444,
              "#bd3786"
             ],
             [
              0.5555555555555556,
              "#d8576b"
             ],
             [
              0.6666666666666666,
              "#ed7953"
             ],
             [
              0.7777777777777778,
              "#fb9f3a"
             ],
             [
              0.8888888888888888,
              "#fdca26"
             ],
             [
              1,
              "#f0f921"
             ]
            ],
            "type": "histogram2d"
           }
          ],
          "histogram2dcontour": [
           {
            "colorbar": {
             "outlinewidth": 0,
             "ticks": ""
            },
            "colorscale": [
             [
              0,
              "#0d0887"
             ],
             [
              0.1111111111111111,
              "#46039f"
             ],
             [
              0.2222222222222222,
              "#7201a8"
             ],
             [
              0.3333333333333333,
              "#9c179e"
             ],
             [
              0.4444444444444444,
              "#bd3786"
             ],
             [
              0.5555555555555556,
              "#d8576b"
             ],
             [
              0.6666666666666666,
              "#ed7953"
             ],
             [
              0.7777777777777778,
              "#fb9f3a"
             ],
             [
              0.8888888888888888,
              "#fdca26"
             ],
             [
              1,
              "#f0f921"
             ]
            ],
            "type": "histogram2dcontour"
           }
          ],
          "mesh3d": [
           {
            "colorbar": {
             "outlinewidth": 0,
             "ticks": ""
            },
            "type": "mesh3d"
           }
          ],
          "parcoords": [
           {
            "line": {
             "colorbar": {
              "outlinewidth": 0,
              "ticks": ""
             }
            },
            "type": "parcoords"
           }
          ],
          "pie": [
           {
            "automargin": true,
            "type": "pie"
           }
          ],
          "scatter": [
           {
            "fillpattern": {
             "fillmode": "overlay",
             "size": 10,
             "solidity": 0.2
            },
            "type": "scatter"
           }
          ],
          "scatter3d": [
           {
            "line": {
             "colorbar": {
              "outlinewidth": 0,
              "ticks": ""
             }
            },
            "marker": {
             "colorbar": {
              "outlinewidth": 0,
              "ticks": ""
             }
            },
            "type": "scatter3d"
           }
          ],
          "scattercarpet": [
           {
            "marker": {
             "colorbar": {
              "outlinewidth": 0,
              "ticks": ""
             }
            },
            "type": "scattercarpet"
           }
          ],
          "scattergeo": [
           {
            "marker": {
             "colorbar": {
              "outlinewidth": 0,
              "ticks": ""
             }
            },
            "type": "scattergeo"
           }
          ],
          "scattergl": [
           {
            "marker": {
             "colorbar": {
              "outlinewidth": 0,
              "ticks": ""
             }
            },
            "type": "scattergl"
           }
          ],
          "scattermapbox": [
           {
            "marker": {
             "colorbar": {
              "outlinewidth": 0,
              "ticks": ""
             }
            },
            "type": "scattermapbox"
           }
          ],
          "scatterpolar": [
           {
            "marker": {
             "colorbar": {
              "outlinewidth": 0,
              "ticks": ""
             }
            },
            "type": "scatterpolar"
           }
          ],
          "scatterpolargl": [
           {
            "marker": {
             "colorbar": {
              "outlinewidth": 0,
              "ticks": ""
             }
            },
            "type": "scatterpolargl"
           }
          ],
          "scatterternary": [
           {
            "marker": {
             "colorbar": {
              "outlinewidth": 0,
              "ticks": ""
             }
            },
            "type": "scatterternary"
           }
          ],
          "surface": [
           {
            "colorbar": {
             "outlinewidth": 0,
             "ticks": ""
            },
            "colorscale": [
             [
              0,
              "#0d0887"
             ],
             [
              0.1111111111111111,
              "#46039f"
             ],
             [
              0.2222222222222222,
              "#7201a8"
             ],
             [
              0.3333333333333333,
              "#9c179e"
             ],
             [
              0.4444444444444444,
              "#bd3786"
             ],
             [
              0.5555555555555556,
              "#d8576b"
             ],
             [
              0.6666666666666666,
              "#ed7953"
             ],
             [
              0.7777777777777778,
              "#fb9f3a"
             ],
             [
              0.8888888888888888,
              "#fdca26"
             ],
             [
              1,
              "#f0f921"
             ]
            ],
            "type": "surface"
           }
          ],
          "table": [
           {
            "cells": {
             "fill": {
              "color": "#EBF0F8"
             },
             "line": {
              "color": "white"
             }
            },
            "header": {
             "fill": {
              "color": "#C8D4E3"
             },
             "line": {
              "color": "white"
             }
            },
            "type": "table"
           }
          ]
         },
         "layout": {
          "annotationdefaults": {
           "arrowcolor": "#2a3f5f",
           "arrowhead": 0,
           "arrowwidth": 1
          },
          "autotypenumbers": "strict",
          "coloraxis": {
           "colorbar": {
            "outlinewidth": 0,
            "ticks": ""
           }
          },
          "colorscale": {
           "diverging": [
            [
             0,
             "#8e0152"
            ],
            [
             0.1,
             "#c51b7d"
            ],
            [
             0.2,
             "#de77ae"
            ],
            [
             0.3,
             "#f1b6da"
            ],
            [
             0.4,
             "#fde0ef"
            ],
            [
             0.5,
             "#f7f7f7"
            ],
            [
             0.6,
             "#e6f5d0"
            ],
            [
             0.7,
             "#b8e186"
            ],
            [
             0.8,
             "#7fbc41"
            ],
            [
             0.9,
             "#4d9221"
            ],
            [
             1,
             "#276419"
            ]
           ],
           "sequential": [
            [
             0,
             "#0d0887"
            ],
            [
             0.1111111111111111,
             "#46039f"
            ],
            [
             0.2222222222222222,
             "#7201a8"
            ],
            [
             0.3333333333333333,
             "#9c179e"
            ],
            [
             0.4444444444444444,
             "#bd3786"
            ],
            [
             0.5555555555555556,
             "#d8576b"
            ],
            [
             0.6666666666666666,
             "#ed7953"
            ],
            [
             0.7777777777777778,
             "#fb9f3a"
            ],
            [
             0.8888888888888888,
             "#fdca26"
            ],
            [
             1,
             "#f0f921"
            ]
           ],
           "sequentialminus": [
            [
             0,
             "#0d0887"
            ],
            [
             0.1111111111111111,
             "#46039f"
            ],
            [
             0.2222222222222222,
             "#7201a8"
            ],
            [
             0.3333333333333333,
             "#9c179e"
            ],
            [
             0.4444444444444444,
             "#bd3786"
            ],
            [
             0.5555555555555556,
             "#d8576b"
            ],
            [
             0.6666666666666666,
             "#ed7953"
            ],
            [
             0.7777777777777778,
             "#fb9f3a"
            ],
            [
             0.8888888888888888,
             "#fdca26"
            ],
            [
             1,
             "#f0f921"
            ]
           ]
          },
          "colorway": [
           "#636efa",
           "#EF553B",
           "#00cc96",
           "#ab63fa",
           "#FFA15A",
           "#19d3f3",
           "#FF6692",
           "#B6E880",
           "#FF97FF",
           "#FECB52"
          ],
          "font": {
           "color": "#2a3f5f"
          },
          "geo": {
           "bgcolor": "white",
           "lakecolor": "white",
           "landcolor": "#E5ECF6",
           "showlakes": true,
           "showland": true,
           "subunitcolor": "white"
          },
          "hoverlabel": {
           "align": "left"
          },
          "hovermode": "closest",
          "mapbox": {
           "style": "light"
          },
          "paper_bgcolor": "white",
          "plot_bgcolor": "#E5ECF6",
          "polar": {
           "angularaxis": {
            "gridcolor": "white",
            "linecolor": "white",
            "ticks": ""
           },
           "bgcolor": "#E5ECF6",
           "radialaxis": {
            "gridcolor": "white",
            "linecolor": "white",
            "ticks": ""
           }
          },
          "scene": {
           "xaxis": {
            "backgroundcolor": "#E5ECF6",
            "gridcolor": "white",
            "gridwidth": 2,
            "linecolor": "white",
            "showbackground": true,
            "ticks": "",
            "zerolinecolor": "white"
           },
           "yaxis": {
            "backgroundcolor": "#E5ECF6",
            "gridcolor": "white",
            "gridwidth": 2,
            "linecolor": "white",
            "showbackground": true,
            "ticks": "",
            "zerolinecolor": "white"
           },
           "zaxis": {
            "backgroundcolor": "#E5ECF6",
            "gridcolor": "white",
            "gridwidth": 2,
            "linecolor": "white",
            "showbackground": true,
            "ticks": "",
            "zerolinecolor": "white"
           }
          },
          "shapedefaults": {
           "line": {
            "color": "#2a3f5f"
           }
          },
          "ternary": {
           "aaxis": {
            "gridcolor": "white",
            "linecolor": "white",
            "ticks": ""
           },
           "baxis": {
            "gridcolor": "white",
            "linecolor": "white",
            "ticks": ""
           },
           "bgcolor": "#E5ECF6",
           "caxis": {
            "gridcolor": "white",
            "linecolor": "white",
            "ticks": ""
           }
          },
          "title": {
           "x": 0.05
          },
          "xaxis": {
           "automargin": true,
           "gridcolor": "white",
           "linecolor": "white",
           "ticks": "",
           "title": {
            "standoff": 15
           },
           "zerolinecolor": "white",
           "zerolinewidth": 2
          },
          "yaxis": {
           "automargin": true,
           "gridcolor": "white",
           "linecolor": "white",
           "ticks": "",
           "title": {
            "standoff": 15
           },
           "zerolinecolor": "white",
           "zerolinewidth": 2
          }
         }
        },
        "title": {
         "text": "Receiving Country"
        }
       }
      },
      "text/html": [
       "<div>                            <div id=\"dace6a8f-b141-444c-9ddf-6476d63ae201\" class=\"plotly-graph-div\" style=\"height:525px; width:100%;\"></div>            <script type=\"text/javascript\">                require([\"plotly\"], function(Plotly) {                    window.PLOTLYENV=window.PLOTLYENV || {};                                    if (document.getElementById(\"dace6a8f-b141-444c-9ddf-6476d63ae201\")) {                    Plotly.newPlot(                        \"dace6a8f-b141-444c-9ddf-6476d63ae201\",                        [{\"coloraxis\":\"coloraxis\",\"customdata\":[[0.0],[13.0],[8.0],[0.0],[0.0],[2557.0],[0.0],[0.0],[266.0],[9685.0],[0.0],[0.0],[0.0],[0.0],[551.0],[95347.0],[2152.0],[0.0],[109100.0],[26.0],[0.0],[4.0],[28.0],[51306.0],[0.0],[1.0],[4734.0],[0.0],[3131.0],[1.0],[0.0],[57.0],[423.0],[9.0],[2.0],[83.0],[0.0],[20.0],[0.0],[929.0],[0.0],[9.0],[268.0],[1630.0],[35.0],[63.0],[4.0],[0.0],[0.0],[229.0],[0.0],[29.0],[28.0],[107.0],[0.0],[0.0],[0.0],[36261.0],[128273.0],[401620.0],[4.0],[0.0],[67214.0],[33.0],[361.0],[52.0],[1109.0],[0.0],[0.0],[521727.0],[39295.0],[133.0],[100757.0],[18.0],[0.0],[282916.0],[0.0],[0.0],[18.0],[378428.0],[15016.0],[0.0],[92.0],[0.0],[2.0],[0.0],[3.0],[3.0],[0.0],[77941.0],[0.0],[0.0],[24.0],[0.0],[0.0],[0.0],[143.0],[0.0],[19.0],[44045.0],[32.0],[96316.0],[483.0],[0.0],[558.0],[0.0],[111621.0],[179.0],[22.0],[17986.0],[4238.0],[342514.0],[27.0],[0.0],[1491.0],[873.0],[732.0],[141.0],[156.0],[221.0],[0.0],[0.0],[524.0],[0.0],[64.0],[964.0],[0.0],[0.0],[0.0],[1209.0],[106.0],[9.0],[58553.0],[15261.0],[44011.0],[34.0],[0.0],[4386.0],[0.0],[3624.0],[48.0],[1.0],[275.0],[0.0],[12795.0],[43.0],[68413.0],[81.0],[1566.0],[86.0],[0.0],[62.0],[3.0],[0.0],[0.0],[59.0],[27.0],[392.0],[0.0],[0.0],[0.0],[7.0],[0.0],[19.0],[15.0],[0.0],[126107.0],[59234.0],[169.0],[0.0],[111.0],[0.0],[37.0],[5.0],[0.0],[71.0],[138.0],[0.0],[3.0],[231029.0],[0.0],[4.0],[179388.0],[33.0],[1575.0],[0.0],[0.0],[0.0],[101107.0],[8100.0],[16.0],[0.0],[49.0],[76.0],[106.0],[0.0],[0.0],[0.0],[0.0],[0.0],[27.0],[0.0],[2.0],[0.0],[10194.0],[0.0],[2.0],[25.0],[55737.0],[48418.0],[92632.0],[0.0],[0.0],[3.0],[0.0],[0.0],[5.0],[13.0],[528.0],[58.0],[0.0],[8.0],[8.0],[0.0],[25.0],[1963.0],[101732.0],[0.0],[226.0],[77.0],[105.0],[6996.0],[0.0],[29.0],[1677.0],[260.0],[0.0],[0.0],[3.0],[0.0],[0.0],[830.0],[0.0],[0.0],[0.0],[0.0],[539.0],[40.0],[4.0]],\"geo\":\"geo\",\"hovertemplate\":\"Country=%{location}<br>Count=%{z}<extra></extra>\",\"locationmode\":\"country names\",\"locations\":[\"Aruba\",\"Afghanistan\",\"Angola\",\"Anguilla\",\"\\u00c5land Islands\",\"Albania\",\"Andorra\",\"United Arab Emirates\",\"Argentina\",\"Armenia\",\"American Samoa\",\"Antarctica\",\"French Southern Territories\",\"Antigua and Barbuda\",\"Australia\",\"Austria\",\"Azerbaijan\",\"Burundi\",\"Belgium\",\"Benin\",\"Bonaire, Sint Eustatius and Saba\",\"Burkina Faso\",\"Bangladesh\",\"Bulgaria\",\"Bahrain\",\"Bahamas\",\"Bosnia and Herzegovina\",\"Saint Barth\\u00e9lemy\",\"Belarus\",\"Belize\",\"Bermuda\",\"Bolivia, Plurinational State of\",\"Brazil\",\"Barbados\",\"Brunei Darussalam\",\"Bhutan\",\"Bouvet Island\",\"Botswana\",\"Central African Republic\",\"Canada\",\"Cocos (Keeling) Islands\",\"Switzerland\",\"Chile\",\"China\",\"C\\u00f4te d'Ivoire\",\"Cameroon\",\"Congo, The Democratic Republic of the\",\"Congo\",\"Cook Islands\",\"Colombia\",\"Comoros\",\"Cabo Verde\",\"Costa Rica\",\"Cuba\",\"Cura\\u00e7ao\",\"Christmas Island\",\"Cayman Islands\",\"Cyprus\",\"Czechia\",\"Germany\",\"Djibouti\",\"Dominica\",\"Denmark\",\"Dominican Republic\",\"Algeria\",\"Ecuador\",\"Egypt\",\"Eritrea\",\"Western Sahara\",\"Spain\",\"Estonia\",\"Ethiopia\",\"Finland\",\"Fiji\",\"Falkland Islands (Malvinas)\",\"France\",\"Faroe Islands\",\"Micronesia, Federated States of\",\"Gabon\",\"United Kingdom\",\"Georgia\",\"Guernsey\",\"Ghana\",\"Gibraltar\",\"Guinea\",\"Guadeloupe\",\"Gambia\",\"Guinea-Bissau\",\"Equatorial Guinea\",\"Greece\",\"Grenada\",\"Greenland\",\"Guatemala\",\"French Guiana\",\"Guam\",\"Guyana\",\"Hong Kong\",\"Heard Island and McDonald Islands\",\"Honduras\",\"Croatia\",\"Haiti\",\"Hungary\",\"Indonesia\",\"Isle of Man\",\"India\",\"British Indian Ocean Territory\",\"Ireland\",\"Iran, Islamic Republic of\",\"Iraq\",\"Iceland\",\"Israel\",\"Italy\",\"Jamaica\",\"Jersey\",\"Jordan\",\"Japan\",\"Kazakhstan\",\"Kenya\",\"Kyrgyzstan\",\"Cambodia\",\"Kiribati\",\"Saint Kitts and Nevis\",\"Korea, Republic of\",\"Kuwait\",\"Lao People's Democratic Republic\",\"Lebanon\",\"Liberia\",\"Libya\",\"Saint Lucia\",\"Liechtenstein\",\"Sri Lanka\",\"Lesotho\",\"Lithuania\",\"Luxembourg\",\"Latvia\",\"Macao\",\"Saint Martin (French part)\",\"Morocco\",\"Monaco\",\"Moldova, Republic of\",\"Madagascar\",\"Maldives\",\"Mexico\",\"Marshall Islands\",\"North Macedonia\",\"Mali\",\"Malta\",\"Myanmar\",\"Montenegro\",\"Mongolia\",\"Northern Mariana Islands\",\"Mozambique\",\"Mauritania\",\"Montserrat\",\"Martinique\",\"Mauritius\",\"Malawi\",\"Malaysia\",\"Mayotte\",\"Namibia\",\"New Caledonia\",\"Niger\",\"Norfolk Island\",\"Nigeria\",\"Nicaragua\",\"Niue\",\"Netherlands\",\"Norway\",\"Nepal\",\"Nauru\",\"New Zealand\",\"Oman\",\"Pakistan\",\"Panama\",\"Pitcairn\",\"Peru\",\"Philippines\",\"Palau\",\"Papua New Guinea\",\"Poland\",\"Puerto Rico\",\"Korea, Democratic People's Republic of\",\"Portugal\",\"Paraguay\",\"Palestine, State of\",\"French Polynesia\",\"Qatar\",\"R\\u00e9union\",\"Romania\",\"Russian Federation\",\"Rwanda\",\"Saudi Arabia\",\"Sudan\",\"Senegal\",\"Singapore\",\"South Georgia and the South Sandwich Islands\",\"Saint Helena, Ascension and Tristan da Cunha\",\"Svalbard and Jan Mayen\",\"Solomon Islands\",\"Sierra Leone\",\"El Salvador\",\"San Marino\",\"Somalia\",\"Saint Pierre and Miquelon\",\"Serbia\",\"South Sudan\",\"Sao Tome and Principe\",\"Suriname\",\"Slovakia\",\"Slovenia\",\"Sweden\",\"Eswatini\",\"Sint Maarten (Dutch part)\",\"Seychelles\",\"Syrian Arab Republic\",\"Turks and Caicos Islands\",\"Chad\",\"Togo\",\"Thailand\",\"Tajikistan\",\"Tokelau\",\"Turkmenistan\",\"Timor-Leste\",\"Tonga\",\"Trinidad and Tobago\",\"Tunisia\",\"Turkey\",\"Tuvalu\",\"Taiwan, Province of China\",\"Tanzania, United Republic of\",\"Uganda\",\"Ukraine\",\"United States Minor Outlying Islands\",\"Uruguay\",\"United States\",\"Uzbekistan\",\"Holy See (Vatican City State)\",\"Saint Vincent and the Grenadines\",\"Venezuela, Bolivarian Republic of\",\"Virgin Islands, British\",\"Virgin Islands, U.S.\",\"Viet Nam\",\"Vanuatu\",\"Wallis and Futuna\",\"Samoa\",\"Yemen\",\"South Africa\",\"Zambia\",\"Zimbabwe\"],\"name\":\"\",\"z\":[0.0,13.0,8.0,0.0,0.0,2557.0,0.0,0.0,266.0,9685.0,0.0,0.0,0.0,0.0,551.0,95347.0,2152.0,0.0,109100.0,26.0,0.0,4.0,28.0,51306.0,0.0,1.0,4734.0,0.0,3131.0,1.0,0.0,57.0,423.0,9.0,2.0,83.0,0.0,20.0,0.0,929.0,0.0,9.0,268.0,1630.0,35.0,63.0,4.0,0.0,0.0,229.0,0.0,29.0,28.0,107.0,0.0,0.0,0.0,36261.0,128273.0,401620.0,4.0,0.0,67214.0,33.0,361.0,52.0,1109.0,0.0,0.0,521727.0,39295.0,133.0,100757.0,18.0,0.0,282916.0,0.0,0.0,18.0,378428.0,15016.0,0.0,92.0,0.0,2.0,0.0,3.0,3.0,0.0,77941.0,0.0,0.0,24.0,0.0,0.0,0.0,143.0,0.0,19.0,44045.0,32.0,96316.0,483.0,0.0,558.0,0.0,111621.0,179.0,22.0,17986.0,4238.0,342514.0,27.0,0.0,1491.0,873.0,732.0,141.0,156.0,221.0,0.0,0.0,524.0,0.0,64.0,964.0,0.0,0.0,0.0,1209.0,106.0,9.0,58553.0,15261.0,44011.0,34.0,0.0,4386.0,0.0,3624.0,48.0,1.0,275.0,0.0,12795.0,43.0,68413.0,81.0,1566.0,86.0,0.0,62.0,3.0,0.0,0.0,59.0,27.0,392.0,0.0,0.0,0.0,7.0,0.0,19.0,15.0,0.0,126107.0,59234.0,169.0,0.0,111.0,0.0,37.0,5.0,0.0,71.0,138.0,0.0,3.0,231029.0,0.0,4.0,179388.0,33.0,1575.0,0.0,0.0,0.0,101107.0,8100.0,16.0,0.0,49.0,76.0,106.0,0.0,0.0,0.0,0.0,0.0,27.0,0.0,2.0,0.0,10194.0,0.0,2.0,25.0,55737.0,48418.0,92632.0,0.0,0.0,3.0,0.0,0.0,5.0,13.0,528.0,58.0,0.0,8.0,8.0,0.0,25.0,1963.0,101732.0,0.0,226.0,77.0,105.0,6996.0,0.0,29.0,1677.0,260.0,0.0,0.0,3.0,0.0,0.0,830.0,0.0,0.0,0.0,0.0,539.0,40.0,4.0],\"type\":\"choropleth\"}],                        {\"template\":{\"data\":{\"histogram2dcontour\":[{\"type\":\"histogram2dcontour\",\"colorbar\":{\"outlinewidth\":0,\"ticks\":\"\"},\"colorscale\":[[0.0,\"#0d0887\"],[0.1111111111111111,\"#46039f\"],[0.2222222222222222,\"#7201a8\"],[0.3333333333333333,\"#9c179e\"],[0.4444444444444444,\"#bd3786\"],[0.5555555555555556,\"#d8576b\"],[0.6666666666666666,\"#ed7953\"],[0.7777777777777778,\"#fb9f3a\"],[0.8888888888888888,\"#fdca26\"],[1.0,\"#f0f921\"]]}],\"choropleth\":[{\"type\":\"choropleth\",\"colorbar\":{\"outlinewidth\":0,\"ticks\":\"\"}}],\"histogram2d\":[{\"type\":\"histogram2d\",\"colorbar\":{\"outlinewidth\":0,\"ticks\":\"\"},\"colorscale\":[[0.0,\"#0d0887\"],[0.1111111111111111,\"#46039f\"],[0.2222222222222222,\"#7201a8\"],[0.3333333333333333,\"#9c179e\"],[0.4444444444444444,\"#bd3786\"],[0.5555555555555556,\"#d8576b\"],[0.6666666666666666,\"#ed7953\"],[0.7777777777777778,\"#fb9f3a\"],[0.8888888888888888,\"#fdca26\"],[1.0,\"#f0f921\"]]}],\"heatmap\":[{\"type\":\"heatmap\",\"colorbar\":{\"outlinewidth\":0,\"ticks\":\"\"},\"colorscale\":[[0.0,\"#0d0887\"],[0.1111111111111111,\"#46039f\"],[0.2222222222222222,\"#7201a8\"],[0.3333333333333333,\"#9c179e\"],[0.4444444444444444,\"#bd3786\"],[0.5555555555555556,\"#d8576b\"],[0.6666666666666666,\"#ed7953\"],[0.7777777777777778,\"#fb9f3a\"],[0.8888888888888888,\"#fdca26\"],[1.0,\"#f0f921\"]]}],\"heatmapgl\":[{\"type\":\"heatmapgl\",\"colorbar\":{\"outlinewidth\":0,\"ticks\":\"\"},\"colorscale\":[[0.0,\"#0d0887\"],[0.1111111111111111,\"#46039f\"],[0.2222222222222222,\"#7201a8\"],[0.3333333333333333,\"#9c179e\"],[0.4444444444444444,\"#bd3786\"],[0.5555555555555556,\"#d8576b\"],[0.6666666666666666,\"#ed7953\"],[0.7777777777777778,\"#fb9f3a\"],[0.8888888888888888,\"#fdca26\"],[1.0,\"#f0f921\"]]}],\"contourcarpet\":[{\"type\":\"contourcarpet\",\"colorbar\":{\"outlinewidth\":0,\"ticks\":\"\"}}],\"contour\":[{\"type\":\"contour\",\"colorbar\":{\"outlinewidth\":0,\"ticks\":\"\"},\"colorscale\":[[0.0,\"#0d0887\"],[0.1111111111111111,\"#46039f\"],[0.2222222222222222,\"#7201a8\"],[0.3333333333333333,\"#9c179e\"],[0.4444444444444444,\"#bd3786\"],[0.5555555555555556,\"#d8576b\"],[0.6666666666666666,\"#ed7953\"],[0.7777777777777778,\"#fb9f3a\"],[0.8888888888888888,\"#fdca26\"],[1.0,\"#f0f921\"]]}],\"surface\":[{\"type\":\"surface\",\"colorbar\":{\"outlinewidth\":0,\"ticks\":\"\"},\"colorscale\":[[0.0,\"#0d0887\"],[0.1111111111111111,\"#46039f\"],[0.2222222222222222,\"#7201a8\"],[0.3333333333333333,\"#9c179e\"],[0.4444444444444444,\"#bd3786\"],[0.5555555555555556,\"#d8576b\"],[0.6666666666666666,\"#ed7953\"],[0.7777777777777778,\"#fb9f3a\"],[0.8888888888888888,\"#fdca26\"],[1.0,\"#f0f921\"]]}],\"mesh3d\":[{\"type\":\"mesh3d\",\"colorbar\":{\"outlinewidth\":0,\"ticks\":\"\"}}],\"scatter\":[{\"fillpattern\":{\"fillmode\":\"overlay\",\"size\":10,\"solidity\":0.2},\"type\":\"scatter\"}],\"parcoords\":[{\"type\":\"parcoords\",\"line\":{\"colorbar\":{\"outlinewidth\":0,\"ticks\":\"\"}}}],\"scatterpolargl\":[{\"type\":\"scatterpolargl\",\"marker\":{\"colorbar\":{\"outlinewidth\":0,\"ticks\":\"\"}}}],\"bar\":[{\"error_x\":{\"color\":\"#2a3f5f\"},\"error_y\":{\"color\":\"#2a3f5f\"},\"marker\":{\"line\":{\"color\":\"#E5ECF6\",\"width\":0.5},\"pattern\":{\"fillmode\":\"overlay\",\"size\":10,\"solidity\":0.2}},\"type\":\"bar\"}],\"scattergeo\":[{\"type\":\"scattergeo\",\"marker\":{\"colorbar\":{\"outlinewidth\":0,\"ticks\":\"\"}}}],\"scatterpolar\":[{\"type\":\"scatterpolar\",\"marker\":{\"colorbar\":{\"outlinewidth\":0,\"ticks\":\"\"}}}],\"histogram\":[{\"marker\":{\"pattern\":{\"fillmode\":\"overlay\",\"size\":10,\"solidity\":0.2}},\"type\":\"histogram\"}],\"scattergl\":[{\"type\":\"scattergl\",\"marker\":{\"colorbar\":{\"outlinewidth\":0,\"ticks\":\"\"}}}],\"scatter3d\":[{\"type\":\"scatter3d\",\"line\":{\"colorbar\":{\"outlinewidth\":0,\"ticks\":\"\"}},\"marker\":{\"colorbar\":{\"outlinewidth\":0,\"ticks\":\"\"}}}],\"scattermapbox\":[{\"type\":\"scattermapbox\",\"marker\":{\"colorbar\":{\"outlinewidth\":0,\"ticks\":\"\"}}}],\"scatterternary\":[{\"type\":\"scatterternary\",\"marker\":{\"colorbar\":{\"outlinewidth\":0,\"ticks\":\"\"}}}],\"scattercarpet\":[{\"type\":\"scattercarpet\",\"marker\":{\"colorbar\":{\"outlinewidth\":0,\"ticks\":\"\"}}}],\"carpet\":[{\"aaxis\":{\"endlinecolor\":\"#2a3f5f\",\"gridcolor\":\"white\",\"linecolor\":\"white\",\"minorgridcolor\":\"white\",\"startlinecolor\":\"#2a3f5f\"},\"baxis\":{\"endlinecolor\":\"#2a3f5f\",\"gridcolor\":\"white\",\"linecolor\":\"white\",\"minorgridcolor\":\"white\",\"startlinecolor\":\"#2a3f5f\"},\"type\":\"carpet\"}],\"table\":[{\"cells\":{\"fill\":{\"color\":\"#EBF0F8\"},\"line\":{\"color\":\"white\"}},\"header\":{\"fill\":{\"color\":\"#C8D4E3\"},\"line\":{\"color\":\"white\"}},\"type\":\"table\"}],\"barpolar\":[{\"marker\":{\"line\":{\"color\":\"#E5ECF6\",\"width\":0.5},\"pattern\":{\"fillmode\":\"overlay\",\"size\":10,\"solidity\":0.2}},\"type\":\"barpolar\"}],\"pie\":[{\"automargin\":true,\"type\":\"pie\"}]},\"layout\":{\"autotypenumbers\":\"strict\",\"colorway\":[\"#636efa\",\"#EF553B\",\"#00cc96\",\"#ab63fa\",\"#FFA15A\",\"#19d3f3\",\"#FF6692\",\"#B6E880\",\"#FF97FF\",\"#FECB52\"],\"font\":{\"color\":\"#2a3f5f\"},\"hovermode\":\"closest\",\"hoverlabel\":{\"align\":\"left\"},\"paper_bgcolor\":\"white\",\"plot_bgcolor\":\"#E5ECF6\",\"polar\":{\"bgcolor\":\"#E5ECF6\",\"angularaxis\":{\"gridcolor\":\"white\",\"linecolor\":\"white\",\"ticks\":\"\"},\"radialaxis\":{\"gridcolor\":\"white\",\"linecolor\":\"white\",\"ticks\":\"\"}},\"ternary\":{\"bgcolor\":\"#E5ECF6\",\"aaxis\":{\"gridcolor\":\"white\",\"linecolor\":\"white\",\"ticks\":\"\"},\"baxis\":{\"gridcolor\":\"white\",\"linecolor\":\"white\",\"ticks\":\"\"},\"caxis\":{\"gridcolor\":\"white\",\"linecolor\":\"white\",\"ticks\":\"\"}},\"coloraxis\":{\"colorbar\":{\"outlinewidth\":0,\"ticks\":\"\"}},\"colorscale\":{\"sequential\":[[0.0,\"#0d0887\"],[0.1111111111111111,\"#46039f\"],[0.2222222222222222,\"#7201a8\"],[0.3333333333333333,\"#9c179e\"],[0.4444444444444444,\"#bd3786\"],[0.5555555555555556,\"#d8576b\"],[0.6666666666666666,\"#ed7953\"],[0.7777777777777778,\"#fb9f3a\"],[0.8888888888888888,\"#fdca26\"],[1.0,\"#f0f921\"]],\"sequentialminus\":[[0.0,\"#0d0887\"],[0.1111111111111111,\"#46039f\"],[0.2222222222222222,\"#7201a8\"],[0.3333333333333333,\"#9c179e\"],[0.4444444444444444,\"#bd3786\"],[0.5555555555555556,\"#d8576b\"],[0.6666666666666666,\"#ed7953\"],[0.7777777777777778,\"#fb9f3a\"],[0.8888888888888888,\"#fdca26\"],[1.0,\"#f0f921\"]],\"diverging\":[[0,\"#8e0152\"],[0.1,\"#c51b7d\"],[0.2,\"#de77ae\"],[0.3,\"#f1b6da\"],[0.4,\"#fde0ef\"],[0.5,\"#f7f7f7\"],[0.6,\"#e6f5d0\"],[0.7,\"#b8e186\"],[0.8,\"#7fbc41\"],[0.9,\"#4d9221\"],[1,\"#276419\"]]},\"xaxis\":{\"gridcolor\":\"white\",\"linecolor\":\"white\",\"ticks\":\"\",\"title\":{\"standoff\":15},\"zerolinecolor\":\"white\",\"automargin\":true,\"zerolinewidth\":2},\"yaxis\":{\"gridcolor\":\"white\",\"linecolor\":\"white\",\"ticks\":\"\",\"title\":{\"standoff\":15},\"zerolinecolor\":\"white\",\"automargin\":true,\"zerolinewidth\":2},\"scene\":{\"xaxis\":{\"backgroundcolor\":\"#E5ECF6\",\"gridcolor\":\"white\",\"linecolor\":\"white\",\"showbackground\":true,\"ticks\":\"\",\"zerolinecolor\":\"white\",\"gridwidth\":2},\"yaxis\":{\"backgroundcolor\":\"#E5ECF6\",\"gridcolor\":\"white\",\"linecolor\":\"white\",\"showbackground\":true,\"ticks\":\"\",\"zerolinecolor\":\"white\",\"gridwidth\":2},\"zaxis\":{\"backgroundcolor\":\"#E5ECF6\",\"gridcolor\":\"white\",\"linecolor\":\"white\",\"showbackground\":true,\"ticks\":\"\",\"zerolinecolor\":\"white\",\"gridwidth\":2}},\"shapedefaults\":{\"line\":{\"color\":\"#2a3f5f\"}},\"annotationdefaults\":{\"arrowcolor\":\"#2a3f5f\",\"arrowhead\":0,\"arrowwidth\":1},\"geo\":{\"bgcolor\":\"white\",\"landcolor\":\"#E5ECF6\",\"subunitcolor\":\"white\",\"showland\":true,\"showlakes\":true,\"lakecolor\":\"white\"},\"title\":{\"x\":0.05},\"mapbox\":{\"style\":\"light\"}}},\"geo\":{\"domain\":{\"x\":[0.0,1.0],\"y\":[0.0,1.0]},\"center\":{\"lat\":50,\"lon\":10}},\"coloraxis\":{\"colorbar\":{\"title\":{\"text\":\"Count\"}},\"colorscale\":[[0.0,\"#00224e\"],[0.1111111111111111,\"#123570\"],[0.2222222222222222,\"#3b496c\"],[0.3333333333333333,\"#575d6d\"],[0.4444444444444444,\"#707173\"],[0.5555555555555556,\"#8a8678\"],[0.6666666666666666,\"#a59c74\"],[0.7777777777777778,\"#c3b369\"],[0.8888888888888888,\"#e1cc55\"],[1.0,\"#fee838\"]]},\"legend\":{\"tracegroupgap\":0},\"margin\":{\"t\":60},\"title\":{\"text\":\"Receiving Country\"}},                        {\"responsive\": true}                    ).then(function(){\n",
       "                            \n",
       "var gd = document.getElementById('dace6a8f-b141-444c-9ddf-6476d63ae201');\n",
       "var x = new MutationObserver(function (mutations, observer) {{\n",
       "        var display = window.getComputedStyle(gd).display;\n",
       "        if (!display || display === 'none') {{\n",
       "            console.log([gd, 'removed!']);\n",
       "            Plotly.purge(gd);\n",
       "            observer.disconnect();\n",
       "        }}\n",
       "}});\n",
       "\n",
       "// Listen for the removal of the full notebook cells\n",
       "var notebookContainer = gd.closest('#notebook-container');\n",
       "if (notebookContainer) {{\n",
       "    x.observe(notebookContainer, {childList: true});\n",
       "}}\n",
       "\n",
       "// Listen for the clearing of the current output cell\n",
       "var outputEl = gd.closest('.output');\n",
       "if (outputEl) {{\n",
       "    x.observe(outputEl, {childList: true});\n",
       "}}\n",
       "\n",
       "                        })                };                });            </script>        </div>"
      ]
     },
     "metadata": {},
     "output_type": "display_data"
    },
    {
     "data": {
      "application/vnd.plotly.v1+json": {
       "config": {
        "plotlyServerURL": "https://plotly.com"
       },
       "data": [
        {
         "alignmentgroup": "True",
         "hovertemplate": "Activity=%{x}<br>Count=%{y}<extra></extra>",
         "legendgroup": "",
         "marker": {
          "color": "#636efa",
          "pattern": {
           "shape": ""
          }
         },
         "name": "",
         "offsetgroup": "",
         "orientation": "v",
         "showlegend": false,
         "textposition": "auto",
         "type": "bar",
         "x": [
          "Advance Planning Visit",
          "Advance Planning Visit - EVS",
          "Advance Planning Visit - Erasmus- PRO",
          "Advance Planning Visit – Youth Exchange",
          "ErasmusPro - Mobility of VET learners (3 to 12 months)",
          "European Voluntary Service - Partner Countries",
          "European Voluntary Service - Programme Countries",
          "Group Volunteering Activities",
          "Individual Volunteering Activities",
          "Job Shadowing",
          "Mobility of VET learners (2 weeks up to 3 months)",
          "Mobility of youth workers - Partner Countries",
          "Mobility of youth workers - Programme Countries",
          "National youth meetings",
          "Staff mobility for Teaching To/From Partner Countries",
          "Staff mobility for Training To/From Partner Countries",
          "Staff mobility for teaching between Programme Countries",
          "Staff mobility for training between Programme Countries",
          "Staff training abroad",
          "Structured Courses/Training Events",
          "Student mobility for Studies To/From Partner Countries",
          "Student mobility for studies between Programme Countries",
          "Student mobility for traineeships To/From Partner Countries",
          "Student mobility for traineeships between Programme Countries",
          "Teaching/training assignments abroad",
          "Transnational youth meetings",
          "VET learners traineeships in companies abroad",
          "VET learners traineeships in vocational institutes abroad",
          "Youth Exchanges - Partner Countries",
          "Youth Exchanges - Programme Countries"
         ],
         "xaxis": "x",
         "y": [
          192,
          908,
          555,
          26938,
          11370,
          9412,
          31655,
          1192,
          6476,
          31910,
          133471,
          75137,
          125832,
          275982,
          39295,
          35134,
          180194,
          149026,
          110291,
          109072,
          51476,
          1272085,
          866,
          465185,
          14406,
          33761,
          358888,
          112284,
          129662,
          406745
         ],
         "yaxis": "y"
        }
       ],
       "layout": {
        "barmode": "relative",
        "legend": {
         "tracegroupgap": 0
        },
        "template": {
         "data": {
          "bar": [
           {
            "error_x": {
             "color": "#2a3f5f"
            },
            "error_y": {
             "color": "#2a3f5f"
            },
            "marker": {
             "line": {
              "color": "#E5ECF6",
              "width": 0.5
             },
             "pattern": {
              "fillmode": "overlay",
              "size": 10,
              "solidity": 0.2
             }
            },
            "type": "bar"
           }
          ],
          "barpolar": [
           {
            "marker": {
             "line": {
              "color": "#E5ECF6",
              "width": 0.5
             },
             "pattern": {
              "fillmode": "overlay",
              "size": 10,
              "solidity": 0.2
             }
            },
            "type": "barpolar"
           }
          ],
          "carpet": [
           {
            "aaxis": {
             "endlinecolor": "#2a3f5f",
             "gridcolor": "white",
             "linecolor": "white",
             "minorgridcolor": "white",
             "startlinecolor": "#2a3f5f"
            },
            "baxis": {
             "endlinecolor": "#2a3f5f",
             "gridcolor": "white",
             "linecolor": "white",
             "minorgridcolor": "white",
             "startlinecolor": "#2a3f5f"
            },
            "type": "carpet"
           }
          ],
          "choropleth": [
           {
            "colorbar": {
             "outlinewidth": 0,
             "ticks": ""
            },
            "type": "choropleth"
           }
          ],
          "contour": [
           {
            "colorbar": {
             "outlinewidth": 0,
             "ticks": ""
            },
            "colorscale": [
             [
              0,
              "#0d0887"
             ],
             [
              0.1111111111111111,
              "#46039f"
             ],
             [
              0.2222222222222222,
              "#7201a8"
             ],
             [
              0.3333333333333333,
              "#9c179e"
             ],
             [
              0.4444444444444444,
              "#bd3786"
             ],
             [
              0.5555555555555556,
              "#d8576b"
             ],
             [
              0.6666666666666666,
              "#ed7953"
             ],
             [
              0.7777777777777778,
              "#fb9f3a"
             ],
             [
              0.8888888888888888,
              "#fdca26"
             ],
             [
              1,
              "#f0f921"
             ]
            ],
            "type": "contour"
           }
          ],
          "contourcarpet": [
           {
            "colorbar": {
             "outlinewidth": 0,
             "ticks": ""
            },
            "type": "contourcarpet"
           }
          ],
          "heatmap": [
           {
            "colorbar": {
             "outlinewidth": 0,
             "ticks": ""
            },
            "colorscale": [
             [
              0,
              "#0d0887"
             ],
             [
              0.1111111111111111,
              "#46039f"
             ],
             [
              0.2222222222222222,
              "#7201a8"
             ],
             [
              0.3333333333333333,
              "#9c179e"
             ],
             [
              0.4444444444444444,
              "#bd3786"
             ],
             [
              0.5555555555555556,
              "#d8576b"
             ],
             [
              0.6666666666666666,
              "#ed7953"
             ],
             [
              0.7777777777777778,
              "#fb9f3a"
             ],
             [
              0.8888888888888888,
              "#fdca26"
             ],
             [
              1,
              "#f0f921"
             ]
            ],
            "type": "heatmap"
           }
          ],
          "heatmapgl": [
           {
            "colorbar": {
             "outlinewidth": 0,
             "ticks": ""
            },
            "colorscale": [
             [
              0,
              "#0d0887"
             ],
             [
              0.1111111111111111,
              "#46039f"
             ],
             [
              0.2222222222222222,
              "#7201a8"
             ],
             [
              0.3333333333333333,
              "#9c179e"
             ],
             [
              0.4444444444444444,
              "#bd3786"
             ],
             [
              0.5555555555555556,
              "#d8576b"
             ],
             [
              0.6666666666666666,
              "#ed7953"
             ],
             [
              0.7777777777777778,
              "#fb9f3a"
             ],
             [
              0.8888888888888888,
              "#fdca26"
             ],
             [
              1,
              "#f0f921"
             ]
            ],
            "type": "heatmapgl"
           }
          ],
          "histogram": [
           {
            "marker": {
             "pattern": {
              "fillmode": "overlay",
              "size": 10,
              "solidity": 0.2
             }
            },
            "type": "histogram"
           }
          ],
          "histogram2d": [
           {
            "colorbar": {
             "outlinewidth": 0,
             "ticks": ""
            },
            "colorscale": [
             [
              0,
              "#0d0887"
             ],
             [
              0.1111111111111111,
              "#46039f"
             ],
             [
              0.2222222222222222,
              "#7201a8"
             ],
             [
              0.3333333333333333,
              "#9c179e"
             ],
             [
              0.4444444444444444,
              "#bd3786"
             ],
             [
              0.5555555555555556,
              "#d8576b"
             ],
             [
              0.6666666666666666,
              "#ed7953"
             ],
             [
              0.7777777777777778,
              "#fb9f3a"
             ],
             [
              0.8888888888888888,
              "#fdca26"
             ],
             [
              1,
              "#f0f921"
             ]
            ],
            "type": "histogram2d"
           }
          ],
          "histogram2dcontour": [
           {
            "colorbar": {
             "outlinewidth": 0,
             "ticks": ""
            },
            "colorscale": [
             [
              0,
              "#0d0887"
             ],
             [
              0.1111111111111111,
              "#46039f"
             ],
             [
              0.2222222222222222,
              "#7201a8"
             ],
             [
              0.3333333333333333,
              "#9c179e"
             ],
             [
              0.4444444444444444,
              "#bd3786"
             ],
             [
              0.5555555555555556,
              "#d8576b"
             ],
             [
              0.6666666666666666,
              "#ed7953"
             ],
             [
              0.7777777777777778,
              "#fb9f3a"
             ],
             [
              0.8888888888888888,
              "#fdca26"
             ],
             [
              1,
              "#f0f921"
             ]
            ],
            "type": "histogram2dcontour"
           }
          ],
          "mesh3d": [
           {
            "colorbar": {
             "outlinewidth": 0,
             "ticks": ""
            },
            "type": "mesh3d"
           }
          ],
          "parcoords": [
           {
            "line": {
             "colorbar": {
              "outlinewidth": 0,
              "ticks": ""
             }
            },
            "type": "parcoords"
           }
          ],
          "pie": [
           {
            "automargin": true,
            "type": "pie"
           }
          ],
          "scatter": [
           {
            "fillpattern": {
             "fillmode": "overlay",
             "size": 10,
             "solidity": 0.2
            },
            "type": "scatter"
           }
          ],
          "scatter3d": [
           {
            "line": {
             "colorbar": {
              "outlinewidth": 0,
              "ticks": ""
             }
            },
            "marker": {
             "colorbar": {
              "outlinewidth": 0,
              "ticks": ""
             }
            },
            "type": "scatter3d"
           }
          ],
          "scattercarpet": [
           {
            "marker": {
             "colorbar": {
              "outlinewidth": 0,
              "ticks": ""
             }
            },
            "type": "scattercarpet"
           }
          ],
          "scattergeo": [
           {
            "marker": {
             "colorbar": {
              "outlinewidth": 0,
              "ticks": ""
             }
            },
            "type": "scattergeo"
           }
          ],
          "scattergl": [
           {
            "marker": {
             "colorbar": {
              "outlinewidth": 0,
              "ticks": ""
             }
            },
            "type": "scattergl"
           }
          ],
          "scattermapbox": [
           {
            "marker": {
             "colorbar": {
              "outlinewidth": 0,
              "ticks": ""
             }
            },
            "type": "scattermapbox"
           }
          ],
          "scatterpolar": [
           {
            "marker": {
             "colorbar": {
              "outlinewidth": 0,
              "ticks": ""
             }
            },
            "type": "scatterpolar"
           }
          ],
          "scatterpolargl": [
           {
            "marker": {
             "colorbar": {
              "outlinewidth": 0,
              "ticks": ""
             }
            },
            "type": "scatterpolargl"
           }
          ],
          "scatterternary": [
           {
            "marker": {
             "colorbar": {
              "outlinewidth": 0,
              "ticks": ""
             }
            },
            "type": "scatterternary"
           }
          ],
          "surface": [
           {
            "colorbar": {
             "outlinewidth": 0,
             "ticks": ""
            },
            "colorscale": [
             [
              0,
              "#0d0887"
             ],
             [
              0.1111111111111111,
              "#46039f"
             ],
             [
              0.2222222222222222,
              "#7201a8"
             ],
             [
              0.3333333333333333,
              "#9c179e"
             ],
             [
              0.4444444444444444,
              "#bd3786"
             ],
             [
              0.5555555555555556,
              "#d8576b"
             ],
             [
              0.6666666666666666,
              "#ed7953"
             ],
             [
              0.7777777777777778,
              "#fb9f3a"
             ],
             [
              0.8888888888888888,
              "#fdca26"
             ],
             [
              1,
              "#f0f921"
             ]
            ],
            "type": "surface"
           }
          ],
          "table": [
           {
            "cells": {
             "fill": {
              "color": "#EBF0F8"
             },
             "line": {
              "color": "white"
             }
            },
            "header": {
             "fill": {
              "color": "#C8D4E3"
             },
             "line": {
              "color": "white"
             }
            },
            "type": "table"
           }
          ]
         },
         "layout": {
          "annotationdefaults": {
           "arrowcolor": "#2a3f5f",
           "arrowhead": 0,
           "arrowwidth": 1
          },
          "autotypenumbers": "strict",
          "coloraxis": {
           "colorbar": {
            "outlinewidth": 0,
            "ticks": ""
           }
          },
          "colorscale": {
           "diverging": [
            [
             0,
             "#8e0152"
            ],
            [
             0.1,
             "#c51b7d"
            ],
            [
             0.2,
             "#de77ae"
            ],
            [
             0.3,
             "#f1b6da"
            ],
            [
             0.4,
             "#fde0ef"
            ],
            [
             0.5,
             "#f7f7f7"
            ],
            [
             0.6,
             "#e6f5d0"
            ],
            [
             0.7,
             "#b8e186"
            ],
            [
             0.8,
             "#7fbc41"
            ],
            [
             0.9,
             "#4d9221"
            ],
            [
             1,
             "#276419"
            ]
           ],
           "sequential": [
            [
             0,
             "#0d0887"
            ],
            [
             0.1111111111111111,
             "#46039f"
            ],
            [
             0.2222222222222222,
             "#7201a8"
            ],
            [
             0.3333333333333333,
             "#9c179e"
            ],
            [
             0.4444444444444444,
             "#bd3786"
            ],
            [
             0.5555555555555556,
             "#d8576b"
            ],
            [
             0.6666666666666666,
             "#ed7953"
            ],
            [
             0.7777777777777778,
             "#fb9f3a"
            ],
            [
             0.8888888888888888,
             "#fdca26"
            ],
            [
             1,
             "#f0f921"
            ]
           ],
           "sequentialminus": [
            [
             0,
             "#0d0887"
            ],
            [
             0.1111111111111111,
             "#46039f"
            ],
            [
             0.2222222222222222,
             "#7201a8"
            ],
            [
             0.3333333333333333,
             "#9c179e"
            ],
            [
             0.4444444444444444,
             "#bd3786"
            ],
            [
             0.5555555555555556,
             "#d8576b"
            ],
            [
             0.6666666666666666,
             "#ed7953"
            ],
            [
             0.7777777777777778,
             "#fb9f3a"
            ],
            [
             0.8888888888888888,
             "#fdca26"
            ],
            [
             1,
             "#f0f921"
            ]
           ]
          },
          "colorway": [
           "#636efa",
           "#EF553B",
           "#00cc96",
           "#ab63fa",
           "#FFA15A",
           "#19d3f3",
           "#FF6692",
           "#B6E880",
           "#FF97FF",
           "#FECB52"
          ],
          "font": {
           "color": "#2a3f5f"
          },
          "geo": {
           "bgcolor": "white",
           "lakecolor": "white",
           "landcolor": "#E5ECF6",
           "showlakes": true,
           "showland": true,
           "subunitcolor": "white"
          },
          "hoverlabel": {
           "align": "left"
          },
          "hovermode": "closest",
          "mapbox": {
           "style": "light"
          },
          "paper_bgcolor": "white",
          "plot_bgcolor": "#E5ECF6",
          "polar": {
           "angularaxis": {
            "gridcolor": "white",
            "linecolor": "white",
            "ticks": ""
           },
           "bgcolor": "#E5ECF6",
           "radialaxis": {
            "gridcolor": "white",
            "linecolor": "white",
            "ticks": ""
           }
          },
          "scene": {
           "xaxis": {
            "backgroundcolor": "#E5ECF6",
            "gridcolor": "white",
            "gridwidth": 2,
            "linecolor": "white",
            "showbackground": true,
            "ticks": "",
            "zerolinecolor": "white"
           },
           "yaxis": {
            "backgroundcolor": "#E5ECF6",
            "gridcolor": "white",
            "gridwidth": 2,
            "linecolor": "white",
            "showbackground": true,
            "ticks": "",
            "zerolinecolor": "white"
           },
           "zaxis": {
            "backgroundcolor": "#E5ECF6",
            "gridcolor": "white",
            "gridwidth": 2,
            "linecolor": "white",
            "showbackground": true,
            "ticks": "",
            "zerolinecolor": "white"
           }
          },
          "shapedefaults": {
           "line": {
            "color": "#2a3f5f"
           }
          },
          "ternary": {
           "aaxis": {
            "gridcolor": "white",
            "linecolor": "white",
            "ticks": ""
           },
           "baxis": {
            "gridcolor": "white",
            "linecolor": "white",
            "ticks": ""
           },
           "bgcolor": "#E5ECF6",
           "caxis": {
            "gridcolor": "white",
            "linecolor": "white",
            "ticks": ""
           }
          },
          "title": {
           "x": 0.05
          },
          "xaxis": {
           "automargin": true,
           "gridcolor": "white",
           "linecolor": "white",
           "ticks": "",
           "title": {
            "standoff": 15
           },
           "zerolinecolor": "white",
           "zerolinewidth": 2
          },
          "yaxis": {
           "automargin": true,
           "gridcolor": "white",
           "linecolor": "white",
           "ticks": "",
           "title": {
            "standoff": 15
           },
           "zerolinecolor": "white",
           "zerolinewidth": 2
          }
         }
        },
        "title": {
         "text": "Histogram of Activity"
        },
        "xaxis": {
         "anchor": "y",
         "categoryorder": "total descending",
         "domain": [
          0,
          1
         ],
         "tickangle": 45,
         "title": {
          "text": "Activity"
         }
        },
        "yaxis": {
         "anchor": "x",
         "domain": [
          0,
          1
         ],
         "title": {
          "text": "Count"
         }
        }
       }
      },
      "text/html": [
       "<div>                            <div id=\"4ba4c89c-8af0-4408-b8fa-92443e8ae326\" class=\"plotly-graph-div\" style=\"height:525px; width:100%;\"></div>            <script type=\"text/javascript\">                require([\"plotly\"], function(Plotly) {                    window.PLOTLYENV=window.PLOTLYENV || {};                                    if (document.getElementById(\"4ba4c89c-8af0-4408-b8fa-92443e8ae326\")) {                    Plotly.newPlot(                        \"4ba4c89c-8af0-4408-b8fa-92443e8ae326\",                        [{\"alignmentgroup\":\"True\",\"hovertemplate\":\"Activity=%{x}<br>Count=%{y}<extra></extra>\",\"legendgroup\":\"\",\"marker\":{\"color\":\"#636efa\",\"pattern\":{\"shape\":\"\"}},\"name\":\"\",\"offsetgroup\":\"\",\"orientation\":\"v\",\"showlegend\":false,\"textposition\":\"auto\",\"x\":[\"Advance Planning Visit\",\"Advance Planning Visit - EVS\",\"Advance Planning Visit - Erasmus- PRO\",\"Advance Planning Visit \\u2013 Youth Exchange\",\"ErasmusPro - Mobility of VET learners (3 to 12 months)\",\"European Voluntary Service - Partner Countries\",\"European Voluntary Service - Programme Countries\",\"Group Volunteering Activities\",\"Individual Volunteering Activities\",\"Job Shadowing\",\"Mobility of VET learners (2 weeks up to 3 months)\",\"Mobility of youth workers - Partner Countries\",\"Mobility of youth workers - Programme Countries\",\"National youth meetings\",\"Staff mobility for Teaching To/From Partner Countries\",\"Staff mobility for Training To/From Partner Countries\",\"Staff mobility for teaching between Programme Countries\",\"Staff mobility for training between Programme Countries\",\"Staff training abroad\",\"Structured Courses/Training Events\",\"Student mobility for Studies To/From Partner Countries\",\"Student mobility for studies between Programme Countries\",\"Student mobility for traineeships To/From Partner Countries\",\"Student mobility for traineeships between Programme Countries\",\"Teaching/training assignments abroad\",\"Transnational youth meetings\",\"VET learners traineeships in companies abroad\",\"VET learners traineeships in vocational institutes abroad\",\"Youth Exchanges - Partner Countries\",\"Youth Exchanges - Programme Countries\"],\"xaxis\":\"x\",\"y\":[192,908,555,26938,11370,9412,31655,1192,6476,31910,133471,75137,125832,275982,39295,35134,180194,149026,110291,109072,51476,1272085,866,465185,14406,33761,358888,112284,129662,406745],\"yaxis\":\"y\",\"type\":\"bar\"}],                        {\"template\":{\"data\":{\"histogram2dcontour\":[{\"type\":\"histogram2dcontour\",\"colorbar\":{\"outlinewidth\":0,\"ticks\":\"\"},\"colorscale\":[[0.0,\"#0d0887\"],[0.1111111111111111,\"#46039f\"],[0.2222222222222222,\"#7201a8\"],[0.3333333333333333,\"#9c179e\"],[0.4444444444444444,\"#bd3786\"],[0.5555555555555556,\"#d8576b\"],[0.6666666666666666,\"#ed7953\"],[0.7777777777777778,\"#fb9f3a\"],[0.8888888888888888,\"#fdca26\"],[1.0,\"#f0f921\"]]}],\"choropleth\":[{\"type\":\"choropleth\",\"colorbar\":{\"outlinewidth\":0,\"ticks\":\"\"}}],\"histogram2d\":[{\"type\":\"histogram2d\",\"colorbar\":{\"outlinewidth\":0,\"ticks\":\"\"},\"colorscale\":[[0.0,\"#0d0887\"],[0.1111111111111111,\"#46039f\"],[0.2222222222222222,\"#7201a8\"],[0.3333333333333333,\"#9c179e\"],[0.4444444444444444,\"#bd3786\"],[0.5555555555555556,\"#d8576b\"],[0.6666666666666666,\"#ed7953\"],[0.7777777777777778,\"#fb9f3a\"],[0.8888888888888888,\"#fdca26\"],[1.0,\"#f0f921\"]]}],\"heatmap\":[{\"type\":\"heatmap\",\"colorbar\":{\"outlinewidth\":0,\"ticks\":\"\"},\"colorscale\":[[0.0,\"#0d0887\"],[0.1111111111111111,\"#46039f\"],[0.2222222222222222,\"#7201a8\"],[0.3333333333333333,\"#9c179e\"],[0.4444444444444444,\"#bd3786\"],[0.5555555555555556,\"#d8576b\"],[0.6666666666666666,\"#ed7953\"],[0.7777777777777778,\"#fb9f3a\"],[0.8888888888888888,\"#fdca26\"],[1.0,\"#f0f921\"]]}],\"heatmapgl\":[{\"type\":\"heatmapgl\",\"colorbar\":{\"outlinewidth\":0,\"ticks\":\"\"},\"colorscale\":[[0.0,\"#0d0887\"],[0.1111111111111111,\"#46039f\"],[0.2222222222222222,\"#7201a8\"],[0.3333333333333333,\"#9c179e\"],[0.4444444444444444,\"#bd3786\"],[0.5555555555555556,\"#d8576b\"],[0.6666666666666666,\"#ed7953\"],[0.7777777777777778,\"#fb9f3a\"],[0.8888888888888888,\"#fdca26\"],[1.0,\"#f0f921\"]]}],\"contourcarpet\":[{\"type\":\"contourcarpet\",\"colorbar\":{\"outlinewidth\":0,\"ticks\":\"\"}}],\"contour\":[{\"type\":\"contour\",\"colorbar\":{\"outlinewidth\":0,\"ticks\":\"\"},\"colorscale\":[[0.0,\"#0d0887\"],[0.1111111111111111,\"#46039f\"],[0.2222222222222222,\"#7201a8\"],[0.3333333333333333,\"#9c179e\"],[0.4444444444444444,\"#bd3786\"],[0.5555555555555556,\"#d8576b\"],[0.6666666666666666,\"#ed7953\"],[0.7777777777777778,\"#fb9f3a\"],[0.8888888888888888,\"#fdca26\"],[1.0,\"#f0f921\"]]}],\"surface\":[{\"type\":\"surface\",\"colorbar\":{\"outlinewidth\":0,\"ticks\":\"\"},\"colorscale\":[[0.0,\"#0d0887\"],[0.1111111111111111,\"#46039f\"],[0.2222222222222222,\"#7201a8\"],[0.3333333333333333,\"#9c179e\"],[0.4444444444444444,\"#bd3786\"],[0.5555555555555556,\"#d8576b\"],[0.6666666666666666,\"#ed7953\"],[0.7777777777777778,\"#fb9f3a\"],[0.8888888888888888,\"#fdca26\"],[1.0,\"#f0f921\"]]}],\"mesh3d\":[{\"type\":\"mesh3d\",\"colorbar\":{\"outlinewidth\":0,\"ticks\":\"\"}}],\"scatter\":[{\"fillpattern\":{\"fillmode\":\"overlay\",\"size\":10,\"solidity\":0.2},\"type\":\"scatter\"}],\"parcoords\":[{\"type\":\"parcoords\",\"line\":{\"colorbar\":{\"outlinewidth\":0,\"ticks\":\"\"}}}],\"scatterpolargl\":[{\"type\":\"scatterpolargl\",\"marker\":{\"colorbar\":{\"outlinewidth\":0,\"ticks\":\"\"}}}],\"bar\":[{\"error_x\":{\"color\":\"#2a3f5f\"},\"error_y\":{\"color\":\"#2a3f5f\"},\"marker\":{\"line\":{\"color\":\"#E5ECF6\",\"width\":0.5},\"pattern\":{\"fillmode\":\"overlay\",\"size\":10,\"solidity\":0.2}},\"type\":\"bar\"}],\"scattergeo\":[{\"type\":\"scattergeo\",\"marker\":{\"colorbar\":{\"outlinewidth\":0,\"ticks\":\"\"}}}],\"scatterpolar\":[{\"type\":\"scatterpolar\",\"marker\":{\"colorbar\":{\"outlinewidth\":0,\"ticks\":\"\"}}}],\"histogram\":[{\"marker\":{\"pattern\":{\"fillmode\":\"overlay\",\"size\":10,\"solidity\":0.2}},\"type\":\"histogram\"}],\"scattergl\":[{\"type\":\"scattergl\",\"marker\":{\"colorbar\":{\"outlinewidth\":0,\"ticks\":\"\"}}}],\"scatter3d\":[{\"type\":\"scatter3d\",\"line\":{\"colorbar\":{\"outlinewidth\":0,\"ticks\":\"\"}},\"marker\":{\"colorbar\":{\"outlinewidth\":0,\"ticks\":\"\"}}}],\"scattermapbox\":[{\"type\":\"scattermapbox\",\"marker\":{\"colorbar\":{\"outlinewidth\":0,\"ticks\":\"\"}}}],\"scatterternary\":[{\"type\":\"scatterternary\",\"marker\":{\"colorbar\":{\"outlinewidth\":0,\"ticks\":\"\"}}}],\"scattercarpet\":[{\"type\":\"scattercarpet\",\"marker\":{\"colorbar\":{\"outlinewidth\":0,\"ticks\":\"\"}}}],\"carpet\":[{\"aaxis\":{\"endlinecolor\":\"#2a3f5f\",\"gridcolor\":\"white\",\"linecolor\":\"white\",\"minorgridcolor\":\"white\",\"startlinecolor\":\"#2a3f5f\"},\"baxis\":{\"endlinecolor\":\"#2a3f5f\",\"gridcolor\":\"white\",\"linecolor\":\"white\",\"minorgridcolor\":\"white\",\"startlinecolor\":\"#2a3f5f\"},\"type\":\"carpet\"}],\"table\":[{\"cells\":{\"fill\":{\"color\":\"#EBF0F8\"},\"line\":{\"color\":\"white\"}},\"header\":{\"fill\":{\"color\":\"#C8D4E3\"},\"line\":{\"color\":\"white\"}},\"type\":\"table\"}],\"barpolar\":[{\"marker\":{\"line\":{\"color\":\"#E5ECF6\",\"width\":0.5},\"pattern\":{\"fillmode\":\"overlay\",\"size\":10,\"solidity\":0.2}},\"type\":\"barpolar\"}],\"pie\":[{\"automargin\":true,\"type\":\"pie\"}]},\"layout\":{\"autotypenumbers\":\"strict\",\"colorway\":[\"#636efa\",\"#EF553B\",\"#00cc96\",\"#ab63fa\",\"#FFA15A\",\"#19d3f3\",\"#FF6692\",\"#B6E880\",\"#FF97FF\",\"#FECB52\"],\"font\":{\"color\":\"#2a3f5f\"},\"hovermode\":\"closest\",\"hoverlabel\":{\"align\":\"left\"},\"paper_bgcolor\":\"white\",\"plot_bgcolor\":\"#E5ECF6\",\"polar\":{\"bgcolor\":\"#E5ECF6\",\"angularaxis\":{\"gridcolor\":\"white\",\"linecolor\":\"white\",\"ticks\":\"\"},\"radialaxis\":{\"gridcolor\":\"white\",\"linecolor\":\"white\",\"ticks\":\"\"}},\"ternary\":{\"bgcolor\":\"#E5ECF6\",\"aaxis\":{\"gridcolor\":\"white\",\"linecolor\":\"white\",\"ticks\":\"\"},\"baxis\":{\"gridcolor\":\"white\",\"linecolor\":\"white\",\"ticks\":\"\"},\"caxis\":{\"gridcolor\":\"white\",\"linecolor\":\"white\",\"ticks\":\"\"}},\"coloraxis\":{\"colorbar\":{\"outlinewidth\":0,\"ticks\":\"\"}},\"colorscale\":{\"sequential\":[[0.0,\"#0d0887\"],[0.1111111111111111,\"#46039f\"],[0.2222222222222222,\"#7201a8\"],[0.3333333333333333,\"#9c179e\"],[0.4444444444444444,\"#bd3786\"],[0.5555555555555556,\"#d8576b\"],[0.6666666666666666,\"#ed7953\"],[0.7777777777777778,\"#fb9f3a\"],[0.8888888888888888,\"#fdca26\"],[1.0,\"#f0f921\"]],\"sequentialminus\":[[0.0,\"#0d0887\"],[0.1111111111111111,\"#46039f\"],[0.2222222222222222,\"#7201a8\"],[0.3333333333333333,\"#9c179e\"],[0.4444444444444444,\"#bd3786\"],[0.5555555555555556,\"#d8576b\"],[0.6666666666666666,\"#ed7953\"],[0.7777777777777778,\"#fb9f3a\"],[0.8888888888888888,\"#fdca26\"],[1.0,\"#f0f921\"]],\"diverging\":[[0,\"#8e0152\"],[0.1,\"#c51b7d\"],[0.2,\"#de77ae\"],[0.3,\"#f1b6da\"],[0.4,\"#fde0ef\"],[0.5,\"#f7f7f7\"],[0.6,\"#e6f5d0\"],[0.7,\"#b8e186\"],[0.8,\"#7fbc41\"],[0.9,\"#4d9221\"],[1,\"#276419\"]]},\"xaxis\":{\"gridcolor\":\"white\",\"linecolor\":\"white\",\"ticks\":\"\",\"title\":{\"standoff\":15},\"zerolinecolor\":\"white\",\"automargin\":true,\"zerolinewidth\":2},\"yaxis\":{\"gridcolor\":\"white\",\"linecolor\":\"white\",\"ticks\":\"\",\"title\":{\"standoff\":15},\"zerolinecolor\":\"white\",\"automargin\":true,\"zerolinewidth\":2},\"scene\":{\"xaxis\":{\"backgroundcolor\":\"#E5ECF6\",\"gridcolor\":\"white\",\"linecolor\":\"white\",\"showbackground\":true,\"ticks\":\"\",\"zerolinecolor\":\"white\",\"gridwidth\":2},\"yaxis\":{\"backgroundcolor\":\"#E5ECF6\",\"gridcolor\":\"white\",\"linecolor\":\"white\",\"showbackground\":true,\"ticks\":\"\",\"zerolinecolor\":\"white\",\"gridwidth\":2},\"zaxis\":{\"backgroundcolor\":\"#E5ECF6\",\"gridcolor\":\"white\",\"linecolor\":\"white\",\"showbackground\":true,\"ticks\":\"\",\"zerolinecolor\":\"white\",\"gridwidth\":2}},\"shapedefaults\":{\"line\":{\"color\":\"#2a3f5f\"}},\"annotationdefaults\":{\"arrowcolor\":\"#2a3f5f\",\"arrowhead\":0,\"arrowwidth\":1},\"geo\":{\"bgcolor\":\"white\",\"landcolor\":\"#E5ECF6\",\"subunitcolor\":\"white\",\"showland\":true,\"showlakes\":true,\"lakecolor\":\"white\"},\"title\":{\"x\":0.05},\"mapbox\":{\"style\":\"light\"}}},\"xaxis\":{\"anchor\":\"y\",\"domain\":[0.0,1.0],\"title\":{\"text\":\"Activity\"},\"categoryorder\":\"total descending\",\"tickangle\":45},\"yaxis\":{\"anchor\":\"x\",\"domain\":[0.0,1.0],\"title\":{\"text\":\"Count\"}},\"legend\":{\"tracegroupgap\":0},\"title\":{\"text\":\"Histogram of Activity\"},\"barmode\":\"relative\"},                        {\"responsive\": true}                    ).then(function(){\n",
       "                            \n",
       "var gd = document.getElementById('4ba4c89c-8af0-4408-b8fa-92443e8ae326');\n",
       "var x = new MutationObserver(function (mutations, observer) {{\n",
       "        var display = window.getComputedStyle(gd).display;\n",
       "        if (!display || display === 'none') {{\n",
       "            console.log([gd, 'removed!']);\n",
       "            Plotly.purge(gd);\n",
       "            observer.disconnect();\n",
       "        }}\n",
       "}});\n",
       "\n",
       "// Listen for the removal of the full notebook cells\n",
       "var notebookContainer = gd.closest('#notebook-container');\n",
       "if (notebookContainer) {{\n",
       "    x.observe(notebookContainer, {childList: true});\n",
       "}}\n",
       "\n",
       "// Listen for the clearing of the current output cell\n",
       "var outputEl = gd.closest('.output');\n",
       "if (outputEl) {{\n",
       "    x.observe(outputEl, {childList: true});\n",
       "}}\n",
       "\n",
       "                        })                };                });            </script>        </div>"
      ]
     },
     "metadata": {},
     "output_type": "display_data"
    },
    {
     "data": {
      "application/vnd.plotly.v1+json": {
       "config": {
        "plotlyServerURL": "https://plotly.com"
       },
       "data": [
        {
         "alignmentgroup": "True",
         "hovertemplate": "Education Level=%{x}<br>Count=%{y}<extra></extra>",
         "legendgroup": "",
         "marker": {
          "color": "#636efa",
          "pattern": {
           "shape": ""
          }
         },
         "name": "",
         "offsetgroup": "",
         "orientation": "v",
         "showlegend": false,
         "textposition": "auto",
         "type": "bar",
         "x": [
          "First cycle / Bachelor’s or equivalent level",
          "Lower Secondary Education",
          "Not elsewhere classified",
          "Post-secondary non-Tertiary Education",
          "Second cycle / Master’s or equivalent level",
          "Short-cycle within the first cycle / Short-cycle tertiary education",
          "Third cycle / Doctoral or equivalent level",
          "Unknown",
          "Upper Secondary Education"
         ],
         "xaxis": "x",
         "y": [
          1264219,
          30879,
          30537,
          72860,
          629555,
          67483,
          56341,
          1789212,
          258314
         ],
         "yaxis": "y"
        }
       ],
       "layout": {
        "barmode": "relative",
        "legend": {
         "tracegroupgap": 0
        },
        "template": {
         "data": {
          "bar": [
           {
            "error_x": {
             "color": "#2a3f5f"
            },
            "error_y": {
             "color": "#2a3f5f"
            },
            "marker": {
             "line": {
              "color": "#E5ECF6",
              "width": 0.5
             },
             "pattern": {
              "fillmode": "overlay",
              "size": 10,
              "solidity": 0.2
             }
            },
            "type": "bar"
           }
          ],
          "barpolar": [
           {
            "marker": {
             "line": {
              "color": "#E5ECF6",
              "width": 0.5
             },
             "pattern": {
              "fillmode": "overlay",
              "size": 10,
              "solidity": 0.2
             }
            },
            "type": "barpolar"
           }
          ],
          "carpet": [
           {
            "aaxis": {
             "endlinecolor": "#2a3f5f",
             "gridcolor": "white",
             "linecolor": "white",
             "minorgridcolor": "white",
             "startlinecolor": "#2a3f5f"
            },
            "baxis": {
             "endlinecolor": "#2a3f5f",
             "gridcolor": "white",
             "linecolor": "white",
             "minorgridcolor": "white",
             "startlinecolor": "#2a3f5f"
            },
            "type": "carpet"
           }
          ],
          "choropleth": [
           {
            "colorbar": {
             "outlinewidth": 0,
             "ticks": ""
            },
            "type": "choropleth"
           }
          ],
          "contour": [
           {
            "colorbar": {
             "outlinewidth": 0,
             "ticks": ""
            },
            "colorscale": [
             [
              0,
              "#0d0887"
             ],
             [
              0.1111111111111111,
              "#46039f"
             ],
             [
              0.2222222222222222,
              "#7201a8"
             ],
             [
              0.3333333333333333,
              "#9c179e"
             ],
             [
              0.4444444444444444,
              "#bd3786"
             ],
             [
              0.5555555555555556,
              "#d8576b"
             ],
             [
              0.6666666666666666,
              "#ed7953"
             ],
             [
              0.7777777777777778,
              "#fb9f3a"
             ],
             [
              0.8888888888888888,
              "#fdca26"
             ],
             [
              1,
              "#f0f921"
             ]
            ],
            "type": "contour"
           }
          ],
          "contourcarpet": [
           {
            "colorbar": {
             "outlinewidth": 0,
             "ticks": ""
            },
            "type": "contourcarpet"
           }
          ],
          "heatmap": [
           {
            "colorbar": {
             "outlinewidth": 0,
             "ticks": ""
            },
            "colorscale": [
             [
              0,
              "#0d0887"
             ],
             [
              0.1111111111111111,
              "#46039f"
             ],
             [
              0.2222222222222222,
              "#7201a8"
             ],
             [
              0.3333333333333333,
              "#9c179e"
             ],
             [
              0.4444444444444444,
              "#bd3786"
             ],
             [
              0.5555555555555556,
              "#d8576b"
             ],
             [
              0.6666666666666666,
              "#ed7953"
             ],
             [
              0.7777777777777778,
              "#fb9f3a"
             ],
             [
              0.8888888888888888,
              "#fdca26"
             ],
             [
              1,
              "#f0f921"
             ]
            ],
            "type": "heatmap"
           }
          ],
          "heatmapgl": [
           {
            "colorbar": {
             "outlinewidth": 0,
             "ticks": ""
            },
            "colorscale": [
             [
              0,
              "#0d0887"
             ],
             [
              0.1111111111111111,
              "#46039f"
             ],
             [
              0.2222222222222222,
              "#7201a8"
             ],
             [
              0.3333333333333333,
              "#9c179e"
             ],
             [
              0.4444444444444444,
              "#bd3786"
             ],
             [
              0.5555555555555556,
              "#d8576b"
             ],
             [
              0.6666666666666666,
              "#ed7953"
             ],
             [
              0.7777777777777778,
              "#fb9f3a"
             ],
             [
              0.8888888888888888,
              "#fdca26"
             ],
             [
              1,
              "#f0f921"
             ]
            ],
            "type": "heatmapgl"
           }
          ],
          "histogram": [
           {
            "marker": {
             "pattern": {
              "fillmode": "overlay",
              "size": 10,
              "solidity": 0.2
             }
            },
            "type": "histogram"
           }
          ],
          "histogram2d": [
           {
            "colorbar": {
             "outlinewidth": 0,
             "ticks": ""
            },
            "colorscale": [
             [
              0,
              "#0d0887"
             ],
             [
              0.1111111111111111,
              "#46039f"
             ],
             [
              0.2222222222222222,
              "#7201a8"
             ],
             [
              0.3333333333333333,
              "#9c179e"
             ],
             [
              0.4444444444444444,
              "#bd3786"
             ],
             [
              0.5555555555555556,
              "#d8576b"
             ],
             [
              0.6666666666666666,
              "#ed7953"
             ],
             [
              0.7777777777777778,
              "#fb9f3a"
             ],
             [
              0.8888888888888888,
              "#fdca26"
             ],
             [
              1,
              "#f0f921"
             ]
            ],
            "type": "histogram2d"
           }
          ],
          "histogram2dcontour": [
           {
            "colorbar": {
             "outlinewidth": 0,
             "ticks": ""
            },
            "colorscale": [
             [
              0,
              "#0d0887"
             ],
             [
              0.1111111111111111,
              "#46039f"
             ],
             [
              0.2222222222222222,
              "#7201a8"
             ],
             [
              0.3333333333333333,
              "#9c179e"
             ],
             [
              0.4444444444444444,
              "#bd3786"
             ],
             [
              0.5555555555555556,
              "#d8576b"
             ],
             [
              0.6666666666666666,
              "#ed7953"
             ],
             [
              0.7777777777777778,
              "#fb9f3a"
             ],
             [
              0.8888888888888888,
              "#fdca26"
             ],
             [
              1,
              "#f0f921"
             ]
            ],
            "type": "histogram2dcontour"
           }
          ],
          "mesh3d": [
           {
            "colorbar": {
             "outlinewidth": 0,
             "ticks": ""
            },
            "type": "mesh3d"
           }
          ],
          "parcoords": [
           {
            "line": {
             "colorbar": {
              "outlinewidth": 0,
              "ticks": ""
             }
            },
            "type": "parcoords"
           }
          ],
          "pie": [
           {
            "automargin": true,
            "type": "pie"
           }
          ],
          "scatter": [
           {
            "fillpattern": {
             "fillmode": "overlay",
             "size": 10,
             "solidity": 0.2
            },
            "type": "scatter"
           }
          ],
          "scatter3d": [
           {
            "line": {
             "colorbar": {
              "outlinewidth": 0,
              "ticks": ""
             }
            },
            "marker": {
             "colorbar": {
              "outlinewidth": 0,
              "ticks": ""
             }
            },
            "type": "scatter3d"
           }
          ],
          "scattercarpet": [
           {
            "marker": {
             "colorbar": {
              "outlinewidth": 0,
              "ticks": ""
             }
            },
            "type": "scattercarpet"
           }
          ],
          "scattergeo": [
           {
            "marker": {
             "colorbar": {
              "outlinewidth": 0,
              "ticks": ""
             }
            },
            "type": "scattergeo"
           }
          ],
          "scattergl": [
           {
            "marker": {
             "colorbar": {
              "outlinewidth": 0,
              "ticks": ""
             }
            },
            "type": "scattergl"
           }
          ],
          "scattermapbox": [
           {
            "marker": {
             "colorbar": {
              "outlinewidth": 0,
              "ticks": ""
             }
            },
            "type": "scattermapbox"
           }
          ],
          "scatterpolar": [
           {
            "marker": {
             "colorbar": {
              "outlinewidth": 0,
              "ticks": ""
             }
            },
            "type": "scatterpolar"
           }
          ],
          "scatterpolargl": [
           {
            "marker": {
             "colorbar": {
              "outlinewidth": 0,
              "ticks": ""
             }
            },
            "type": "scatterpolargl"
           }
          ],
          "scatterternary": [
           {
            "marker": {
             "colorbar": {
              "outlinewidth": 0,
              "ticks": ""
             }
            },
            "type": "scatterternary"
           }
          ],
          "surface": [
           {
            "colorbar": {
             "outlinewidth": 0,
             "ticks": ""
            },
            "colorscale": [
             [
              0,
              "#0d0887"
             ],
             [
              0.1111111111111111,
              "#46039f"
             ],
             [
              0.2222222222222222,
              "#7201a8"
             ],
             [
              0.3333333333333333,
              "#9c179e"
             ],
             [
              0.4444444444444444,
              "#bd3786"
             ],
             [
              0.5555555555555556,
              "#d8576b"
             ],
             [
              0.6666666666666666,
              "#ed7953"
             ],
             [
              0.7777777777777778,
              "#fb9f3a"
             ],
             [
              0.8888888888888888,
              "#fdca26"
             ],
             [
              1,
              "#f0f921"
             ]
            ],
            "type": "surface"
           }
          ],
          "table": [
           {
            "cells": {
             "fill": {
              "color": "#EBF0F8"
             },
             "line": {
              "color": "white"
             }
            },
            "header": {
             "fill": {
              "color": "#C8D4E3"
             },
             "line": {
              "color": "white"
             }
            },
            "type": "table"
           }
          ]
         },
         "layout": {
          "annotationdefaults": {
           "arrowcolor": "#2a3f5f",
           "arrowhead": 0,
           "arrowwidth": 1
          },
          "autotypenumbers": "strict",
          "coloraxis": {
           "colorbar": {
            "outlinewidth": 0,
            "ticks": ""
           }
          },
          "colorscale": {
           "diverging": [
            [
             0,
             "#8e0152"
            ],
            [
             0.1,
             "#c51b7d"
            ],
            [
             0.2,
             "#de77ae"
            ],
            [
             0.3,
             "#f1b6da"
            ],
            [
             0.4,
             "#fde0ef"
            ],
            [
             0.5,
             "#f7f7f7"
            ],
            [
             0.6,
             "#e6f5d0"
            ],
            [
             0.7,
             "#b8e186"
            ],
            [
             0.8,
             "#7fbc41"
            ],
            [
             0.9,
             "#4d9221"
            ],
            [
             1,
             "#276419"
            ]
           ],
           "sequential": [
            [
             0,
             "#0d0887"
            ],
            [
             0.1111111111111111,
             "#46039f"
            ],
            [
             0.2222222222222222,
             "#7201a8"
            ],
            [
             0.3333333333333333,
             "#9c179e"
            ],
            [
             0.4444444444444444,
             "#bd3786"
            ],
            [
             0.5555555555555556,
             "#d8576b"
            ],
            [
             0.6666666666666666,
             "#ed7953"
            ],
            [
             0.7777777777777778,
             "#fb9f3a"
            ],
            [
             0.8888888888888888,
             "#fdca26"
            ],
            [
             1,
             "#f0f921"
            ]
           ],
           "sequentialminus": [
            [
             0,
             "#0d0887"
            ],
            [
             0.1111111111111111,
             "#46039f"
            ],
            [
             0.2222222222222222,
             "#7201a8"
            ],
            [
             0.3333333333333333,
             "#9c179e"
            ],
            [
             0.4444444444444444,
             "#bd3786"
            ],
            [
             0.5555555555555556,
             "#d8576b"
            ],
            [
             0.6666666666666666,
             "#ed7953"
            ],
            [
             0.7777777777777778,
             "#fb9f3a"
            ],
            [
             0.8888888888888888,
             "#fdca26"
            ],
            [
             1,
             "#f0f921"
            ]
           ]
          },
          "colorway": [
           "#636efa",
           "#EF553B",
           "#00cc96",
           "#ab63fa",
           "#FFA15A",
           "#19d3f3",
           "#FF6692",
           "#B6E880",
           "#FF97FF",
           "#FECB52"
          ],
          "font": {
           "color": "#2a3f5f"
          },
          "geo": {
           "bgcolor": "white",
           "lakecolor": "white",
           "landcolor": "#E5ECF6",
           "showlakes": true,
           "showland": true,
           "subunitcolor": "white"
          },
          "hoverlabel": {
           "align": "left"
          },
          "hovermode": "closest",
          "mapbox": {
           "style": "light"
          },
          "paper_bgcolor": "white",
          "plot_bgcolor": "#E5ECF6",
          "polar": {
           "angularaxis": {
            "gridcolor": "white",
            "linecolor": "white",
            "ticks": ""
           },
           "bgcolor": "#E5ECF6",
           "radialaxis": {
            "gridcolor": "white",
            "linecolor": "white",
            "ticks": ""
           }
          },
          "scene": {
           "xaxis": {
            "backgroundcolor": "#E5ECF6",
            "gridcolor": "white",
            "gridwidth": 2,
            "linecolor": "white",
            "showbackground": true,
            "ticks": "",
            "zerolinecolor": "white"
           },
           "yaxis": {
            "backgroundcolor": "#E5ECF6",
            "gridcolor": "white",
            "gridwidth": 2,
            "linecolor": "white",
            "showbackground": true,
            "ticks": "",
            "zerolinecolor": "white"
           },
           "zaxis": {
            "backgroundcolor": "#E5ECF6",
            "gridcolor": "white",
            "gridwidth": 2,
            "linecolor": "white",
            "showbackground": true,
            "ticks": "",
            "zerolinecolor": "white"
           }
          },
          "shapedefaults": {
           "line": {
            "color": "#2a3f5f"
           }
          },
          "ternary": {
           "aaxis": {
            "gridcolor": "white",
            "linecolor": "white",
            "ticks": ""
           },
           "baxis": {
            "gridcolor": "white",
            "linecolor": "white",
            "ticks": ""
           },
           "bgcolor": "#E5ECF6",
           "caxis": {
            "gridcolor": "white",
            "linecolor": "white",
            "ticks": ""
           }
          },
          "title": {
           "x": 0.05
          },
          "xaxis": {
           "automargin": true,
           "gridcolor": "white",
           "linecolor": "white",
           "ticks": "",
           "title": {
            "standoff": 15
           },
           "zerolinecolor": "white",
           "zerolinewidth": 2
          },
          "yaxis": {
           "automargin": true,
           "gridcolor": "white",
           "linecolor": "white",
           "ticks": "",
           "title": {
            "standoff": 15
           },
           "zerolinecolor": "white",
           "zerolinewidth": 2
          }
         }
        },
        "title": {
         "text": "Histogram of Education Level"
        },
        "xaxis": {
         "anchor": "y",
         "categoryorder": "total descending",
         "domain": [
          0,
          1
         ],
         "tickangle": 45,
         "title": {
          "text": "Education Level"
         }
        },
        "yaxis": {
         "anchor": "x",
         "domain": [
          0,
          1
         ],
         "title": {
          "text": "Count"
         }
        }
       }
      },
      "text/html": [
       "<div>                            <div id=\"2fe41c43-cda4-4cc1-b6bb-38b3bf2a12f5\" class=\"plotly-graph-div\" style=\"height:525px; width:100%;\"></div>            <script type=\"text/javascript\">                require([\"plotly\"], function(Plotly) {                    window.PLOTLYENV=window.PLOTLYENV || {};                                    if (document.getElementById(\"2fe41c43-cda4-4cc1-b6bb-38b3bf2a12f5\")) {                    Plotly.newPlot(                        \"2fe41c43-cda4-4cc1-b6bb-38b3bf2a12f5\",                        [{\"alignmentgroup\":\"True\",\"hovertemplate\":\"Education Level=%{x}<br>Count=%{y}<extra></extra>\",\"legendgroup\":\"\",\"marker\":{\"color\":\"#636efa\",\"pattern\":{\"shape\":\"\"}},\"name\":\"\",\"offsetgroup\":\"\",\"orientation\":\"v\",\"showlegend\":false,\"textposition\":\"auto\",\"x\":[\"First cycle / Bachelor\\u2019s or equivalent level\",\"Lower Secondary Education\",\"Not elsewhere classified\",\"Post-secondary non-Tertiary Education\",\"Second cycle / Master\\u2019s or equivalent level\",\"Short-cycle within the first cycle / Short-cycle tertiary education\",\"Third cycle / Doctoral or equivalent level\",\"Unknown\",\"Upper Secondary Education\"],\"xaxis\":\"x\",\"y\":[1264219,30879,30537,72860,629555,67483,56341,1789212,258314],\"yaxis\":\"y\",\"type\":\"bar\"}],                        {\"template\":{\"data\":{\"histogram2dcontour\":[{\"type\":\"histogram2dcontour\",\"colorbar\":{\"outlinewidth\":0,\"ticks\":\"\"},\"colorscale\":[[0.0,\"#0d0887\"],[0.1111111111111111,\"#46039f\"],[0.2222222222222222,\"#7201a8\"],[0.3333333333333333,\"#9c179e\"],[0.4444444444444444,\"#bd3786\"],[0.5555555555555556,\"#d8576b\"],[0.6666666666666666,\"#ed7953\"],[0.7777777777777778,\"#fb9f3a\"],[0.8888888888888888,\"#fdca26\"],[1.0,\"#f0f921\"]]}],\"choropleth\":[{\"type\":\"choropleth\",\"colorbar\":{\"outlinewidth\":0,\"ticks\":\"\"}}],\"histogram2d\":[{\"type\":\"histogram2d\",\"colorbar\":{\"outlinewidth\":0,\"ticks\":\"\"},\"colorscale\":[[0.0,\"#0d0887\"],[0.1111111111111111,\"#46039f\"],[0.2222222222222222,\"#7201a8\"],[0.3333333333333333,\"#9c179e\"],[0.4444444444444444,\"#bd3786\"],[0.5555555555555556,\"#d8576b\"],[0.6666666666666666,\"#ed7953\"],[0.7777777777777778,\"#fb9f3a\"],[0.8888888888888888,\"#fdca26\"],[1.0,\"#f0f921\"]]}],\"heatmap\":[{\"type\":\"heatmap\",\"colorbar\":{\"outlinewidth\":0,\"ticks\":\"\"},\"colorscale\":[[0.0,\"#0d0887\"],[0.1111111111111111,\"#46039f\"],[0.2222222222222222,\"#7201a8\"],[0.3333333333333333,\"#9c179e\"],[0.4444444444444444,\"#bd3786\"],[0.5555555555555556,\"#d8576b\"],[0.6666666666666666,\"#ed7953\"],[0.7777777777777778,\"#fb9f3a\"],[0.8888888888888888,\"#fdca26\"],[1.0,\"#f0f921\"]]}],\"heatmapgl\":[{\"type\":\"heatmapgl\",\"colorbar\":{\"outlinewidth\":0,\"ticks\":\"\"},\"colorscale\":[[0.0,\"#0d0887\"],[0.1111111111111111,\"#46039f\"],[0.2222222222222222,\"#7201a8\"],[0.3333333333333333,\"#9c179e\"],[0.4444444444444444,\"#bd3786\"],[0.5555555555555556,\"#d8576b\"],[0.6666666666666666,\"#ed7953\"],[0.7777777777777778,\"#fb9f3a\"],[0.8888888888888888,\"#fdca26\"],[1.0,\"#f0f921\"]]}],\"contourcarpet\":[{\"type\":\"contourcarpet\",\"colorbar\":{\"outlinewidth\":0,\"ticks\":\"\"}}],\"contour\":[{\"type\":\"contour\",\"colorbar\":{\"outlinewidth\":0,\"ticks\":\"\"},\"colorscale\":[[0.0,\"#0d0887\"],[0.1111111111111111,\"#46039f\"],[0.2222222222222222,\"#7201a8\"],[0.3333333333333333,\"#9c179e\"],[0.4444444444444444,\"#bd3786\"],[0.5555555555555556,\"#d8576b\"],[0.6666666666666666,\"#ed7953\"],[0.7777777777777778,\"#fb9f3a\"],[0.8888888888888888,\"#fdca26\"],[1.0,\"#f0f921\"]]}],\"surface\":[{\"type\":\"surface\",\"colorbar\":{\"outlinewidth\":0,\"ticks\":\"\"},\"colorscale\":[[0.0,\"#0d0887\"],[0.1111111111111111,\"#46039f\"],[0.2222222222222222,\"#7201a8\"],[0.3333333333333333,\"#9c179e\"],[0.4444444444444444,\"#bd3786\"],[0.5555555555555556,\"#d8576b\"],[0.6666666666666666,\"#ed7953\"],[0.7777777777777778,\"#fb9f3a\"],[0.8888888888888888,\"#fdca26\"],[1.0,\"#f0f921\"]]}],\"mesh3d\":[{\"type\":\"mesh3d\",\"colorbar\":{\"outlinewidth\":0,\"ticks\":\"\"}}],\"scatter\":[{\"fillpattern\":{\"fillmode\":\"overlay\",\"size\":10,\"solidity\":0.2},\"type\":\"scatter\"}],\"parcoords\":[{\"type\":\"parcoords\",\"line\":{\"colorbar\":{\"outlinewidth\":0,\"ticks\":\"\"}}}],\"scatterpolargl\":[{\"type\":\"scatterpolargl\",\"marker\":{\"colorbar\":{\"outlinewidth\":0,\"ticks\":\"\"}}}],\"bar\":[{\"error_x\":{\"color\":\"#2a3f5f\"},\"error_y\":{\"color\":\"#2a3f5f\"},\"marker\":{\"line\":{\"color\":\"#E5ECF6\",\"width\":0.5},\"pattern\":{\"fillmode\":\"overlay\",\"size\":10,\"solidity\":0.2}},\"type\":\"bar\"}],\"scattergeo\":[{\"type\":\"scattergeo\",\"marker\":{\"colorbar\":{\"outlinewidth\":0,\"ticks\":\"\"}}}],\"scatterpolar\":[{\"type\":\"scatterpolar\",\"marker\":{\"colorbar\":{\"outlinewidth\":0,\"ticks\":\"\"}}}],\"histogram\":[{\"marker\":{\"pattern\":{\"fillmode\":\"overlay\",\"size\":10,\"solidity\":0.2}},\"type\":\"histogram\"}],\"scattergl\":[{\"type\":\"scattergl\",\"marker\":{\"colorbar\":{\"outlinewidth\":0,\"ticks\":\"\"}}}],\"scatter3d\":[{\"type\":\"scatter3d\",\"line\":{\"colorbar\":{\"outlinewidth\":0,\"ticks\":\"\"}},\"marker\":{\"colorbar\":{\"outlinewidth\":0,\"ticks\":\"\"}}}],\"scattermapbox\":[{\"type\":\"scattermapbox\",\"marker\":{\"colorbar\":{\"outlinewidth\":0,\"ticks\":\"\"}}}],\"scatterternary\":[{\"type\":\"scatterternary\",\"marker\":{\"colorbar\":{\"outlinewidth\":0,\"ticks\":\"\"}}}],\"scattercarpet\":[{\"type\":\"scattercarpet\",\"marker\":{\"colorbar\":{\"outlinewidth\":0,\"ticks\":\"\"}}}],\"carpet\":[{\"aaxis\":{\"endlinecolor\":\"#2a3f5f\",\"gridcolor\":\"white\",\"linecolor\":\"white\",\"minorgridcolor\":\"white\",\"startlinecolor\":\"#2a3f5f\"},\"baxis\":{\"endlinecolor\":\"#2a3f5f\",\"gridcolor\":\"white\",\"linecolor\":\"white\",\"minorgridcolor\":\"white\",\"startlinecolor\":\"#2a3f5f\"},\"type\":\"carpet\"}],\"table\":[{\"cells\":{\"fill\":{\"color\":\"#EBF0F8\"},\"line\":{\"color\":\"white\"}},\"header\":{\"fill\":{\"color\":\"#C8D4E3\"},\"line\":{\"color\":\"white\"}},\"type\":\"table\"}],\"barpolar\":[{\"marker\":{\"line\":{\"color\":\"#E5ECF6\",\"width\":0.5},\"pattern\":{\"fillmode\":\"overlay\",\"size\":10,\"solidity\":0.2}},\"type\":\"barpolar\"}],\"pie\":[{\"automargin\":true,\"type\":\"pie\"}]},\"layout\":{\"autotypenumbers\":\"strict\",\"colorway\":[\"#636efa\",\"#EF553B\",\"#00cc96\",\"#ab63fa\",\"#FFA15A\",\"#19d3f3\",\"#FF6692\",\"#B6E880\",\"#FF97FF\",\"#FECB52\"],\"font\":{\"color\":\"#2a3f5f\"},\"hovermode\":\"closest\",\"hoverlabel\":{\"align\":\"left\"},\"paper_bgcolor\":\"white\",\"plot_bgcolor\":\"#E5ECF6\",\"polar\":{\"bgcolor\":\"#E5ECF6\",\"angularaxis\":{\"gridcolor\":\"white\",\"linecolor\":\"white\",\"ticks\":\"\"},\"radialaxis\":{\"gridcolor\":\"white\",\"linecolor\":\"white\",\"ticks\":\"\"}},\"ternary\":{\"bgcolor\":\"#E5ECF6\",\"aaxis\":{\"gridcolor\":\"white\",\"linecolor\":\"white\",\"ticks\":\"\"},\"baxis\":{\"gridcolor\":\"white\",\"linecolor\":\"white\",\"ticks\":\"\"},\"caxis\":{\"gridcolor\":\"white\",\"linecolor\":\"white\",\"ticks\":\"\"}},\"coloraxis\":{\"colorbar\":{\"outlinewidth\":0,\"ticks\":\"\"}},\"colorscale\":{\"sequential\":[[0.0,\"#0d0887\"],[0.1111111111111111,\"#46039f\"],[0.2222222222222222,\"#7201a8\"],[0.3333333333333333,\"#9c179e\"],[0.4444444444444444,\"#bd3786\"],[0.5555555555555556,\"#d8576b\"],[0.6666666666666666,\"#ed7953\"],[0.7777777777777778,\"#fb9f3a\"],[0.8888888888888888,\"#fdca26\"],[1.0,\"#f0f921\"]],\"sequentialminus\":[[0.0,\"#0d0887\"],[0.1111111111111111,\"#46039f\"],[0.2222222222222222,\"#7201a8\"],[0.3333333333333333,\"#9c179e\"],[0.4444444444444444,\"#bd3786\"],[0.5555555555555556,\"#d8576b\"],[0.6666666666666666,\"#ed7953\"],[0.7777777777777778,\"#fb9f3a\"],[0.8888888888888888,\"#fdca26\"],[1.0,\"#f0f921\"]],\"diverging\":[[0,\"#8e0152\"],[0.1,\"#c51b7d\"],[0.2,\"#de77ae\"],[0.3,\"#f1b6da\"],[0.4,\"#fde0ef\"],[0.5,\"#f7f7f7\"],[0.6,\"#e6f5d0\"],[0.7,\"#b8e186\"],[0.8,\"#7fbc41\"],[0.9,\"#4d9221\"],[1,\"#276419\"]]},\"xaxis\":{\"gridcolor\":\"white\",\"linecolor\":\"white\",\"ticks\":\"\",\"title\":{\"standoff\":15},\"zerolinecolor\":\"white\",\"automargin\":true,\"zerolinewidth\":2},\"yaxis\":{\"gridcolor\":\"white\",\"linecolor\":\"white\",\"ticks\":\"\",\"title\":{\"standoff\":15},\"zerolinecolor\":\"white\",\"automargin\":true,\"zerolinewidth\":2},\"scene\":{\"xaxis\":{\"backgroundcolor\":\"#E5ECF6\",\"gridcolor\":\"white\",\"linecolor\":\"white\",\"showbackground\":true,\"ticks\":\"\",\"zerolinecolor\":\"white\",\"gridwidth\":2},\"yaxis\":{\"backgroundcolor\":\"#E5ECF6\",\"gridcolor\":\"white\",\"linecolor\":\"white\",\"showbackground\":true,\"ticks\":\"\",\"zerolinecolor\":\"white\",\"gridwidth\":2},\"zaxis\":{\"backgroundcolor\":\"#E5ECF6\",\"gridcolor\":\"white\",\"linecolor\":\"white\",\"showbackground\":true,\"ticks\":\"\",\"zerolinecolor\":\"white\",\"gridwidth\":2}},\"shapedefaults\":{\"line\":{\"color\":\"#2a3f5f\"}},\"annotationdefaults\":{\"arrowcolor\":\"#2a3f5f\",\"arrowhead\":0,\"arrowwidth\":1},\"geo\":{\"bgcolor\":\"white\",\"landcolor\":\"#E5ECF6\",\"subunitcolor\":\"white\",\"showland\":true,\"showlakes\":true,\"lakecolor\":\"white\"},\"title\":{\"x\":0.05},\"mapbox\":{\"style\":\"light\"}}},\"xaxis\":{\"anchor\":\"y\",\"domain\":[0.0,1.0],\"title\":{\"text\":\"Education Level\"},\"categoryorder\":\"total descending\",\"tickangle\":45},\"yaxis\":{\"anchor\":\"x\",\"domain\":[0.0,1.0],\"title\":{\"text\":\"Count\"}},\"legend\":{\"tracegroupgap\":0},\"title\":{\"text\":\"Histogram of Education Level\"},\"barmode\":\"relative\"},                        {\"responsive\": true}                    ).then(function(){\n",
       "                            \n",
       "var gd = document.getElementById('2fe41c43-cda4-4cc1-b6bb-38b3bf2a12f5');\n",
       "var x = new MutationObserver(function (mutations, observer) {{\n",
       "        var display = window.getComputedStyle(gd).display;\n",
       "        if (!display || display === 'none') {{\n",
       "            console.log([gd, 'removed!']);\n",
       "            Plotly.purge(gd);\n",
       "            observer.disconnect();\n",
       "        }}\n",
       "}});\n",
       "\n",
       "// Listen for the removal of the full notebook cells\n",
       "var notebookContainer = gd.closest('#notebook-container');\n",
       "if (notebookContainer) {{\n",
       "    x.observe(notebookContainer, {childList: true});\n",
       "}}\n",
       "\n",
       "// Listen for the clearing of the current output cell\n",
       "var outputEl = gd.closest('.output');\n",
       "if (outputEl) {{\n",
       "    x.observe(outputEl, {childList: true});\n",
       "}}\n",
       "\n",
       "                        })                };                });            </script>        </div>"
      ]
     },
     "metadata": {},
     "output_type": "display_data"
    },
    {
     "data": {
      "application/vnd.plotly.v1+json": {
       "config": {
        "plotlyServerURL": "https://plotly.com"
       },
       "data": [
        {
         "alignmentgroup": "True",
         "hovertemplate": "Mobility Duration=%{x}<br>Count=%{y}<extra></extra>",
         "legendgroup": "",
         "marker": {
          "color": "#636efa",
          "pattern": {
           "shape": ""
          }
         },
         "name": "",
         "offsetgroup": "",
         "orientation": "v",
         "showlegend": false,
         "textposition": "auto",
         "type": "bar",
         "x": [
          0,
          1,
          2,
          3,
          4,
          5,
          6,
          7,
          8,
          9,
          10,
          11,
          12,
          13,
          14,
          15,
          16,
          17,
          18,
          19,
          20,
          21,
          22,
          23,
          24,
          25,
          26,
          27,
          28,
          29,
          30,
          31,
          32,
          33,
          34,
          35,
          36,
          37,
          38,
          39,
          40,
          41,
          42,
          43,
          44,
          45,
          46,
          47,
          48,
          49,
          50,
          51,
          52,
          53,
          54,
          55,
          56,
          57,
          58,
          59,
          60,
          61,
          62,
          63,
          64,
          65,
          66,
          67,
          68,
          69,
          70,
          71,
          72,
          73,
          74,
          75,
          76,
          77,
          78,
          79,
          80,
          81,
          82,
          83,
          84,
          85,
          86,
          87,
          88,
          89,
          90,
          91,
          92,
          93,
          94,
          95,
          96,
          97,
          98,
          99,
          100,
          101,
          102,
          103,
          104,
          105,
          106,
          107,
          108,
          109,
          110,
          111,
          112,
          113,
          114,
          115,
          116,
          117,
          118,
          119,
          120,
          121,
          122,
          123,
          124,
          125,
          126,
          127,
          128,
          129,
          130,
          131,
          132,
          133,
          134,
          135,
          136,
          137,
          138,
          139,
          140,
          141,
          142,
          143,
          144,
          145,
          146,
          147,
          148,
          149,
          150,
          151,
          152,
          153,
          154,
          155,
          156,
          157,
          158,
          159,
          160,
          161,
          162,
          163,
          164,
          165,
          166,
          167,
          168,
          169,
          170,
          171,
          172,
          173,
          174,
          175,
          176,
          177,
          178,
          179,
          180,
          181,
          182,
          183,
          184,
          185,
          186,
          187,
          188,
          189,
          190,
          191,
          192,
          193,
          194,
          195,
          196,
          197,
          198,
          199,
          200,
          201,
          202,
          203,
          204,
          205,
          206,
          207,
          208,
          209,
          210,
          211,
          212,
          213,
          214,
          215,
          216,
          217,
          218,
          219,
          220,
          221,
          222,
          223,
          224,
          225,
          226,
          227,
          228,
          229,
          230,
          231,
          232,
          233,
          234,
          235,
          236,
          237,
          238,
          239,
          240,
          241,
          242,
          243,
          244,
          245,
          246,
          247,
          248,
          249,
          250,
          251,
          252,
          253,
          254,
          255,
          256,
          257,
          258,
          259,
          260,
          261,
          262,
          263,
          264,
          265,
          266,
          267,
          268,
          269,
          270,
          271,
          272,
          273,
          274,
          275,
          276,
          277,
          278,
          279,
          280,
          281,
          282,
          283,
          284,
          285,
          286,
          287,
          288,
          289,
          290,
          291,
          292,
          293,
          294,
          295,
          296,
          297,
          298,
          299,
          300,
          301,
          302,
          303,
          304,
          305,
          306,
          307,
          308,
          309,
          310,
          311,
          312,
          313,
          314,
          315,
          316,
          317,
          318,
          319,
          320,
          321,
          322,
          323,
          324,
          325,
          326,
          327,
          328,
          329,
          330,
          331,
          332,
          333,
          334,
          335,
          336,
          337,
          338,
          339,
          340,
          341,
          342,
          343,
          344,
          345,
          346,
          347,
          348,
          349,
          350,
          351,
          352,
          353,
          354,
          355,
          356,
          357,
          358,
          359,
          360,
          361,
          362,
          363,
          364,
          365,
          366,
          367,
          368,
          369,
          370,
          371,
          372,
          373,
          374,
          375,
          376,
          377,
          378,
          379,
          380,
          381,
          382,
          383,
          384,
          385,
          386,
          387,
          388,
          389,
          390,
          391,
          392,
          393,
          394,
          395,
          396,
          397,
          398,
          399,
          400,
          402,
          404,
          405,
          407,
          408,
          409,
          410,
          411,
          412,
          413,
          414,
          415,
          416,
          417,
          418,
          419,
          420,
          421,
          422,
          423,
          424,
          425,
          426,
          427,
          428,
          429,
          432,
          433,
          434,
          436,
          438,
          439,
          445,
          446,
          447,
          449,
          450,
          451,
          452,
          453,
          454,
          456,
          463,
          469,
          475,
          476,
          477,
          479,
          480,
          481,
          483,
          486,
          487,
          489,
          491,
          494,
          495,
          501,
          506,
          507,
          508,
          509,
          510,
          513,
          519,
          523,
          524,
          532,
          538,
          540,
          541,
          542,
          545,
          548,
          549,
          558,
          577,
          580,
          600,
          630
         ],
         "xaxis": "x",
         "y": [
          139,
          190809,
          109937,
          122058,
          90383,
          359923,
          157274,
          230019,
          186383,
          91718,
          79882,
          29811,
          126109,
          27602,
          89930,
          33917,
          14773,
          6577,
          8618,
          72497,
          16077,
          37726,
          13419,
          4144,
          3383,
          4104,
          54622,
          8524,
          21685,
          8882,
          24994,
          6681,
          6676,
          9265,
          2931,
          7406,
          4351,
          1209,
          968,
          1192,
          6603,
          1655,
          2939,
          2432,
          1056,
          1201,
          724,
          1891,
          843,
          712,
          734,
          473,
          545,
          774,
          4635,
          1110,
          2200,
          1950,
          2286,
          5842,
          47184,
          31225,
          14326,
          6951,
          3642,
          2744,
          4040,
          5861,
          4510,
          2907,
          3371,
          2457,
          2052,
          3767,
          3775,
          4957,
          3306,
          2705,
          2172,
          2223,
          5792,
          7822,
          6460,
          4340,
          3901,
          3560,
          3435,
          7903,
          10060,
          11547,
          59120,
          30503,
          17640,
          10299,
          7036,
          8104,
          6861,
          4453,
          4795,
          4457,
          4707,
          6387,
          9564,
          7852,
          5151,
          7650,
          8412,
          7957,
          12423,
          13203,
          12801,
          9045,
          10546,
          10198,
          10832,
          15108,
          9502,
          12934,
          10371,
          11134,
          35384,
          24045,
          20772,
          14554,
          17249,
          13014,
          13457,
          15331,
          18116,
          21275,
          16277,
          20522,
          16458,
          17548,
          18948,
          27304,
          25079,
          20927,
          26480,
          21310,
          19608,
          20250,
          24482,
          20104,
          19130,
          22246,
          17334,
          16241,
          18701,
          24491,
          51882,
          29956,
          18890,
          14368,
          10771,
          9943,
          10373,
          6793,
          6689,
          8249,
          5492,
          5179,
          5644,
          6327,
          4370,
          5752,
          6114,
          3696,
          3238,
          3379,
          4050,
          2841,
          3387,
          3475,
          2542,
          2597,
          3685,
          4458,
          5890,
          6472,
          24010,
          11473,
          4382,
          3481,
          2463,
          1708,
          1167,
          972,
          778,
          680,
          821,
          788,
          812,
          791,
          839,
          764,
          832,
          675,
          637,
          779,
          628,
          624,
          490,
          484,
          570,
          543,
          796,
          612,
          842,
          804,
          4361,
          1285,
          1611,
          824,
          521,
          463,
          414,
          373,
          361,
          367,
          437,
          355,
          400,
          380,
          465,
          580,
          702,
          680,
          662,
          584,
          529,
          543,
          602,
          823,
          886,
          641,
          782,
          908,
          1285,
          1341,
          4847,
          2331,
          1568,
          2097,
          1704,
          1595,
          1736,
          2429,
          2190,
          1590,
          2441,
          2361,
          2149,
          3176,
          4467,
          3461,
          2468,
          3618,
          3034,
          3243,
          4013,
          5266,
          3310,
          3385,
          4751,
          3482,
          3947,
          4461,
          6169,
          4319,
          12654,
          9063,
          5051,
          6920,
          6984,
          6079,
          4779,
          4561,
          5482,
          4626,
          4781,
          5474,
          5979,
          4187,
          4329,
          6296,
          5012,
          4858,
          5013,
          5669,
          4272,
          4440,
          5364,
          4319,
          4642,
          5089,
          5175,
          4048,
          4361,
          5417,
          13723,
          6425,
          4108,
          5440,
          4355,
          3022,
          2943,
          2280,
          2235,
          2433,
          2085,
          1597,
          1734,
          1914,
          1311,
          1696,
          1589,
          1176,
          1166,
          1126,
          1235,
          870,
          811,
          856,
          878,
          746,
          855,
          886,
          833,
          895,
          2686,
          900,
          576,
          576,
          1281,
          946,
          524,
          460,
          381,
          431,
          436,
          528,
          443,
          408,
          410,
          450,
          444,
          353,
          361,
          406,
          405,
          437,
          398,
          400,
          468,
          527,
          634,
          1018,
          1079,
          935,
          10777,
          547,
          604,
          624,
          610,
          5414,
          1306,
          42,
          15,
          32,
          35,
          36,
          18,
          20,
          19,
          20,
          12,
          13,
          15,
          12,
          8,
          19,
          12,
          10,
          7,
          5,
          10,
          7,
          10,
          9,
          52,
          9,
          3,
          4,
          2,
          10,
          13,
          4,
          1,
          3,
          1,
          3,
          2,
          2,
          1,
          3,
          1,
          8,
          9,
          1,
          2,
          1,
          1,
          1,
          4,
          3,
          6,
          12,
          8,
          2,
          1,
          1,
          2,
          5,
          3,
          1,
          1,
          2,
          1,
          1,
          1,
          2,
          1,
          1,
          1,
          4,
          1,
          3,
          1,
          1,
          3,
          3,
          2,
          1,
          1,
          1,
          1,
          4,
          1,
          3,
          1,
          2,
          2,
          2,
          1,
          1,
          1,
          2,
          1,
          2,
          1,
          1,
          1,
          4,
          5,
          2,
          4,
          2,
          1,
          1,
          1,
          3,
          2,
          1,
          4,
          1,
          1,
          1,
          5,
          1,
          1
         ],
         "yaxis": "y"
        }
       ],
       "layout": {
        "barmode": "relative",
        "legend": {
         "tracegroupgap": 0
        },
        "template": {
         "data": {
          "bar": [
           {
            "error_x": {
             "color": "#2a3f5f"
            },
            "error_y": {
             "color": "#2a3f5f"
            },
            "marker": {
             "line": {
              "color": "#E5ECF6",
              "width": 0.5
             },
             "pattern": {
              "fillmode": "overlay",
              "size": 10,
              "solidity": 0.2
             }
            },
            "type": "bar"
           }
          ],
          "barpolar": [
           {
            "marker": {
             "line": {
              "color": "#E5ECF6",
              "width": 0.5
             },
             "pattern": {
              "fillmode": "overlay",
              "size": 10,
              "solidity": 0.2
             }
            },
            "type": "barpolar"
           }
          ],
          "carpet": [
           {
            "aaxis": {
             "endlinecolor": "#2a3f5f",
             "gridcolor": "white",
             "linecolor": "white",
             "minorgridcolor": "white",
             "startlinecolor": "#2a3f5f"
            },
            "baxis": {
             "endlinecolor": "#2a3f5f",
             "gridcolor": "white",
             "linecolor": "white",
             "minorgridcolor": "white",
             "startlinecolor": "#2a3f5f"
            },
            "type": "carpet"
           }
          ],
          "choropleth": [
           {
            "colorbar": {
             "outlinewidth": 0,
             "ticks": ""
            },
            "type": "choropleth"
           }
          ],
          "contour": [
           {
            "colorbar": {
             "outlinewidth": 0,
             "ticks": ""
            },
            "colorscale": [
             [
              0,
              "#0d0887"
             ],
             [
              0.1111111111111111,
              "#46039f"
             ],
             [
              0.2222222222222222,
              "#7201a8"
             ],
             [
              0.3333333333333333,
              "#9c179e"
             ],
             [
              0.4444444444444444,
              "#bd3786"
             ],
             [
              0.5555555555555556,
              "#d8576b"
             ],
             [
              0.6666666666666666,
              "#ed7953"
             ],
             [
              0.7777777777777778,
              "#fb9f3a"
             ],
             [
              0.8888888888888888,
              "#fdca26"
             ],
             [
              1,
              "#f0f921"
             ]
            ],
            "type": "contour"
           }
          ],
          "contourcarpet": [
           {
            "colorbar": {
             "outlinewidth": 0,
             "ticks": ""
            },
            "type": "contourcarpet"
           }
          ],
          "heatmap": [
           {
            "colorbar": {
             "outlinewidth": 0,
             "ticks": ""
            },
            "colorscale": [
             [
              0,
              "#0d0887"
             ],
             [
              0.1111111111111111,
              "#46039f"
             ],
             [
              0.2222222222222222,
              "#7201a8"
             ],
             [
              0.3333333333333333,
              "#9c179e"
             ],
             [
              0.4444444444444444,
              "#bd3786"
             ],
             [
              0.5555555555555556,
              "#d8576b"
             ],
             [
              0.6666666666666666,
              "#ed7953"
             ],
             [
              0.7777777777777778,
              "#fb9f3a"
             ],
             [
              0.8888888888888888,
              "#fdca26"
             ],
             [
              1,
              "#f0f921"
             ]
            ],
            "type": "heatmap"
           }
          ],
          "heatmapgl": [
           {
            "colorbar": {
             "outlinewidth": 0,
             "ticks": ""
            },
            "colorscale": [
             [
              0,
              "#0d0887"
             ],
             [
              0.1111111111111111,
              "#46039f"
             ],
             [
              0.2222222222222222,
              "#7201a8"
             ],
             [
              0.3333333333333333,
              "#9c179e"
             ],
             [
              0.4444444444444444,
              "#bd3786"
             ],
             [
              0.5555555555555556,
              "#d8576b"
             ],
             [
              0.6666666666666666,
              "#ed7953"
             ],
             [
              0.7777777777777778,
              "#fb9f3a"
             ],
             [
              0.8888888888888888,
              "#fdca26"
             ],
             [
              1,
              "#f0f921"
             ]
            ],
            "type": "heatmapgl"
           }
          ],
          "histogram": [
           {
            "marker": {
             "pattern": {
              "fillmode": "overlay",
              "size": 10,
              "solidity": 0.2
             }
            },
            "type": "histogram"
           }
          ],
          "histogram2d": [
           {
            "colorbar": {
             "outlinewidth": 0,
             "ticks": ""
            },
            "colorscale": [
             [
              0,
              "#0d0887"
             ],
             [
              0.1111111111111111,
              "#46039f"
             ],
             [
              0.2222222222222222,
              "#7201a8"
             ],
             [
              0.3333333333333333,
              "#9c179e"
             ],
             [
              0.4444444444444444,
              "#bd3786"
             ],
             [
              0.5555555555555556,
              "#d8576b"
             ],
             [
              0.6666666666666666,
              "#ed7953"
             ],
             [
              0.7777777777777778,
              "#fb9f3a"
             ],
             [
              0.8888888888888888,
              "#fdca26"
             ],
             [
              1,
              "#f0f921"
             ]
            ],
            "type": "histogram2d"
           }
          ],
          "histogram2dcontour": [
           {
            "colorbar": {
             "outlinewidth": 0,
             "ticks": ""
            },
            "colorscale": [
             [
              0,
              "#0d0887"
             ],
             [
              0.1111111111111111,
              "#46039f"
             ],
             [
              0.2222222222222222,
              "#7201a8"
             ],
             [
              0.3333333333333333,
              "#9c179e"
             ],
             [
              0.4444444444444444,
              "#bd3786"
             ],
             [
              0.5555555555555556,
              "#d8576b"
             ],
             [
              0.6666666666666666,
              "#ed7953"
             ],
             [
              0.7777777777777778,
              "#fb9f3a"
             ],
             [
              0.8888888888888888,
              "#fdca26"
             ],
             [
              1,
              "#f0f921"
             ]
            ],
            "type": "histogram2dcontour"
           }
          ],
          "mesh3d": [
           {
            "colorbar": {
             "outlinewidth": 0,
             "ticks": ""
            },
            "type": "mesh3d"
           }
          ],
          "parcoords": [
           {
            "line": {
             "colorbar": {
              "outlinewidth": 0,
              "ticks": ""
             }
            },
            "type": "parcoords"
           }
          ],
          "pie": [
           {
            "automargin": true,
            "type": "pie"
           }
          ],
          "scatter": [
           {
            "fillpattern": {
             "fillmode": "overlay",
             "size": 10,
             "solidity": 0.2
            },
            "type": "scatter"
           }
          ],
          "scatter3d": [
           {
            "line": {
             "colorbar": {
              "outlinewidth": 0,
              "ticks": ""
             }
            },
            "marker": {
             "colorbar": {
              "outlinewidth": 0,
              "ticks": ""
             }
            },
            "type": "scatter3d"
           }
          ],
          "scattercarpet": [
           {
            "marker": {
             "colorbar": {
              "outlinewidth": 0,
              "ticks": ""
             }
            },
            "type": "scattercarpet"
           }
          ],
          "scattergeo": [
           {
            "marker": {
             "colorbar": {
              "outlinewidth": 0,
              "ticks": ""
             }
            },
            "type": "scattergeo"
           }
          ],
          "scattergl": [
           {
            "marker": {
             "colorbar": {
              "outlinewidth": 0,
              "ticks": ""
             }
            },
            "type": "scattergl"
           }
          ],
          "scattermapbox": [
           {
            "marker": {
             "colorbar": {
              "outlinewidth": 0,
              "ticks": ""
             }
            },
            "type": "scattermapbox"
           }
          ],
          "scatterpolar": [
           {
            "marker": {
             "colorbar": {
              "outlinewidth": 0,
              "ticks": ""
             }
            },
            "type": "scatterpolar"
           }
          ],
          "scatterpolargl": [
           {
            "marker": {
             "colorbar": {
              "outlinewidth": 0,
              "ticks": ""
             }
            },
            "type": "scatterpolargl"
           }
          ],
          "scatterternary": [
           {
            "marker": {
             "colorbar": {
              "outlinewidth": 0,
              "ticks": ""
             }
            },
            "type": "scatterternary"
           }
          ],
          "surface": [
           {
            "colorbar": {
             "outlinewidth": 0,
             "ticks": ""
            },
            "colorscale": [
             [
              0,
              "#0d0887"
             ],
             [
              0.1111111111111111,
              "#46039f"
             ],
             [
              0.2222222222222222,
              "#7201a8"
             ],
             [
              0.3333333333333333,
              "#9c179e"
             ],
             [
              0.4444444444444444,
              "#bd3786"
             ],
             [
              0.5555555555555556,
              "#d8576b"
             ],
             [
              0.6666666666666666,
              "#ed7953"
             ],
             [
              0.7777777777777778,
              "#fb9f3a"
             ],
             [
              0.8888888888888888,
              "#fdca26"
             ],
             [
              1,
              "#f0f921"
             ]
            ],
            "type": "surface"
           }
          ],
          "table": [
           {
            "cells": {
             "fill": {
              "color": "#EBF0F8"
             },
             "line": {
              "color": "white"
             }
            },
            "header": {
             "fill": {
              "color": "#C8D4E3"
             },
             "line": {
              "color": "white"
             }
            },
            "type": "table"
           }
          ]
         },
         "layout": {
          "annotationdefaults": {
           "arrowcolor": "#2a3f5f",
           "arrowhead": 0,
           "arrowwidth": 1
          },
          "autotypenumbers": "strict",
          "coloraxis": {
           "colorbar": {
            "outlinewidth": 0,
            "ticks": ""
           }
          },
          "colorscale": {
           "diverging": [
            [
             0,
             "#8e0152"
            ],
            [
             0.1,
             "#c51b7d"
            ],
            [
             0.2,
             "#de77ae"
            ],
            [
             0.3,
             "#f1b6da"
            ],
            [
             0.4,
             "#fde0ef"
            ],
            [
             0.5,
             "#f7f7f7"
            ],
            [
             0.6,
             "#e6f5d0"
            ],
            [
             0.7,
             "#b8e186"
            ],
            [
             0.8,
             "#7fbc41"
            ],
            [
             0.9,
             "#4d9221"
            ],
            [
             1,
             "#276419"
            ]
           ],
           "sequential": [
            [
             0,
             "#0d0887"
            ],
            [
             0.1111111111111111,
             "#46039f"
            ],
            [
             0.2222222222222222,
             "#7201a8"
            ],
            [
             0.3333333333333333,
             "#9c179e"
            ],
            [
             0.4444444444444444,
             "#bd3786"
            ],
            [
             0.5555555555555556,
             "#d8576b"
            ],
            [
             0.6666666666666666,
             "#ed7953"
            ],
            [
             0.7777777777777778,
             "#fb9f3a"
            ],
            [
             0.8888888888888888,
             "#fdca26"
            ],
            [
             1,
             "#f0f921"
            ]
           ],
           "sequentialminus": [
            [
             0,
             "#0d0887"
            ],
            [
             0.1111111111111111,
             "#46039f"
            ],
            [
             0.2222222222222222,
             "#7201a8"
            ],
            [
             0.3333333333333333,
             "#9c179e"
            ],
            [
             0.4444444444444444,
             "#bd3786"
            ],
            [
             0.5555555555555556,
             "#d8576b"
            ],
            [
             0.6666666666666666,
             "#ed7953"
            ],
            [
             0.7777777777777778,
             "#fb9f3a"
            ],
            [
             0.8888888888888888,
             "#fdca26"
            ],
            [
             1,
             "#f0f921"
            ]
           ]
          },
          "colorway": [
           "#636efa",
           "#EF553B",
           "#00cc96",
           "#ab63fa",
           "#FFA15A",
           "#19d3f3",
           "#FF6692",
           "#B6E880",
           "#FF97FF",
           "#FECB52"
          ],
          "font": {
           "color": "#2a3f5f"
          },
          "geo": {
           "bgcolor": "white",
           "lakecolor": "white",
           "landcolor": "#E5ECF6",
           "showlakes": true,
           "showland": true,
           "subunitcolor": "white"
          },
          "hoverlabel": {
           "align": "left"
          },
          "hovermode": "closest",
          "mapbox": {
           "style": "light"
          },
          "paper_bgcolor": "white",
          "plot_bgcolor": "#E5ECF6",
          "polar": {
           "angularaxis": {
            "gridcolor": "white",
            "linecolor": "white",
            "ticks": ""
           },
           "bgcolor": "#E5ECF6",
           "radialaxis": {
            "gridcolor": "white",
            "linecolor": "white",
            "ticks": ""
           }
          },
          "scene": {
           "xaxis": {
            "backgroundcolor": "#E5ECF6",
            "gridcolor": "white",
            "gridwidth": 2,
            "linecolor": "white",
            "showbackground": true,
            "ticks": "",
            "zerolinecolor": "white"
           },
           "yaxis": {
            "backgroundcolor": "#E5ECF6",
            "gridcolor": "white",
            "gridwidth": 2,
            "linecolor": "white",
            "showbackground": true,
            "ticks": "",
            "zerolinecolor": "white"
           },
           "zaxis": {
            "backgroundcolor": "#E5ECF6",
            "gridcolor": "white",
            "gridwidth": 2,
            "linecolor": "white",
            "showbackground": true,
            "ticks": "",
            "zerolinecolor": "white"
           }
          },
          "shapedefaults": {
           "line": {
            "color": "#2a3f5f"
           }
          },
          "ternary": {
           "aaxis": {
            "gridcolor": "white",
            "linecolor": "white",
            "ticks": ""
           },
           "baxis": {
            "gridcolor": "white",
            "linecolor": "white",
            "ticks": ""
           },
           "bgcolor": "#E5ECF6",
           "caxis": {
            "gridcolor": "white",
            "linecolor": "white",
            "ticks": ""
           }
          },
          "title": {
           "x": 0.05
          },
          "xaxis": {
           "automargin": true,
           "gridcolor": "white",
           "linecolor": "white",
           "ticks": "",
           "title": {
            "standoff": 15
           },
           "zerolinecolor": "white",
           "zerolinewidth": 2
          },
          "yaxis": {
           "automargin": true,
           "gridcolor": "white",
           "linecolor": "white",
           "ticks": "",
           "title": {
            "standoff": 15
           },
           "zerolinecolor": "white",
           "zerolinewidth": 2
          }
         }
        },
        "title": {
         "text": "Histogram of Mobility Duration"
        },
        "xaxis": {
         "anchor": "y",
         "categoryorder": "total descending",
         "domain": [
          0,
          1
         ],
         "tickangle": 45,
         "title": {
          "text": "Mobility Duration"
         }
        },
        "yaxis": {
         "anchor": "x",
         "domain": [
          0,
          1
         ],
         "title": {
          "text": "Count"
         }
        }
       }
      },
      "text/html": [
       "<div>                            <div id=\"a1c4de26-affe-482c-ba9e-43f58f6427cf\" class=\"plotly-graph-div\" style=\"height:525px; width:100%;\"></div>            <script type=\"text/javascript\">                require([\"plotly\"], function(Plotly) {                    window.PLOTLYENV=window.PLOTLYENV || {};                                    if (document.getElementById(\"a1c4de26-affe-482c-ba9e-43f58f6427cf\")) {                    Plotly.newPlot(                        \"a1c4de26-affe-482c-ba9e-43f58f6427cf\",                        [{\"alignmentgroup\":\"True\",\"hovertemplate\":\"Mobility Duration=%{x}<br>Count=%{y}<extra></extra>\",\"legendgroup\":\"\",\"marker\":{\"color\":\"#636efa\",\"pattern\":{\"shape\":\"\"}},\"name\":\"\",\"offsetgroup\":\"\",\"orientation\":\"v\",\"showlegend\":false,\"textposition\":\"auto\",\"x\":[0.0,1.0,2.0,3.0,4.0,5.0,6.0,7.0,8.0,9.0,10.0,11.0,12.0,13.0,14.0,15.0,16.0,17.0,18.0,19.0,20.0,21.0,22.0,23.0,24.0,25.0,26.0,27.0,28.0,29.0,30.0,31.0,32.0,33.0,34.0,35.0,36.0,37.0,38.0,39.0,40.0,41.0,42.0,43.0,44.0,45.0,46.0,47.0,48.0,49.0,50.0,51.0,52.0,53.0,54.0,55.0,56.0,57.0,58.0,59.0,60.0,61.0,62.0,63.0,64.0,65.0,66.0,67.0,68.0,69.0,70.0,71.0,72.0,73.0,74.0,75.0,76.0,77.0,78.0,79.0,80.0,81.0,82.0,83.0,84.0,85.0,86.0,87.0,88.0,89.0,90.0,91.0,92.0,93.0,94.0,95.0,96.0,97.0,98.0,99.0,100.0,101.0,102.0,103.0,104.0,105.0,106.0,107.0,108.0,109.0,110.0,111.0,112.0,113.0,114.0,115.0,116.0,117.0,118.0,119.0,120.0,121.0,122.0,123.0,124.0,125.0,126.0,127.0,128.0,129.0,130.0,131.0,132.0,133.0,134.0,135.0,136.0,137.0,138.0,139.0,140.0,141.0,142.0,143.0,144.0,145.0,146.0,147.0,148.0,149.0,150.0,151.0,152.0,153.0,154.0,155.0,156.0,157.0,158.0,159.0,160.0,161.0,162.0,163.0,164.0,165.0,166.0,167.0,168.0,169.0,170.0,171.0,172.0,173.0,174.0,175.0,176.0,177.0,178.0,179.0,180.0,181.0,182.0,183.0,184.0,185.0,186.0,187.0,188.0,189.0,190.0,191.0,192.0,193.0,194.0,195.0,196.0,197.0,198.0,199.0,200.0,201.0,202.0,203.0,204.0,205.0,206.0,207.0,208.0,209.0,210.0,211.0,212.0,213.0,214.0,215.0,216.0,217.0,218.0,219.0,220.0,221.0,222.0,223.0,224.0,225.0,226.0,227.0,228.0,229.0,230.0,231.0,232.0,233.0,234.0,235.0,236.0,237.0,238.0,239.0,240.0,241.0,242.0,243.0,244.0,245.0,246.0,247.0,248.0,249.0,250.0,251.0,252.0,253.0,254.0,255.0,256.0,257.0,258.0,259.0,260.0,261.0,262.0,263.0,264.0,265.0,266.0,267.0,268.0,269.0,270.0,271.0,272.0,273.0,274.0,275.0,276.0,277.0,278.0,279.0,280.0,281.0,282.0,283.0,284.0,285.0,286.0,287.0,288.0,289.0,290.0,291.0,292.0,293.0,294.0,295.0,296.0,297.0,298.0,299.0,300.0,301.0,302.0,303.0,304.0,305.0,306.0,307.0,308.0,309.0,310.0,311.0,312.0,313.0,314.0,315.0,316.0,317.0,318.0,319.0,320.0,321.0,322.0,323.0,324.0,325.0,326.0,327.0,328.0,329.0,330.0,331.0,332.0,333.0,334.0,335.0,336.0,337.0,338.0,339.0,340.0,341.0,342.0,343.0,344.0,345.0,346.0,347.0,348.0,349.0,350.0,351.0,352.0,353.0,354.0,355.0,356.0,357.0,358.0,359.0,360.0,361.0,362.0,363.0,364.0,365.0,366.0,367.0,368.0,369.0,370.0,371.0,372.0,373.0,374.0,375.0,376.0,377.0,378.0,379.0,380.0,381.0,382.0,383.0,384.0,385.0,386.0,387.0,388.0,389.0,390.0,391.0,392.0,393.0,394.0,395.0,396.0,397.0,398.0,399.0,400.0,402.0,404.0,405.0,407.0,408.0,409.0,410.0,411.0,412.0,413.0,414.0,415.0,416.0,417.0,418.0,419.0,420.0,421.0,422.0,423.0,424.0,425.0,426.0,427.0,428.0,429.0,432.0,433.0,434.0,436.0,438.0,439.0,445.0,446.0,447.0,449.0,450.0,451.0,452.0,453.0,454.0,456.0,463.0,469.0,475.0,476.0,477.0,479.0,480.0,481.0,483.0,486.0,487.0,489.0,491.0,494.0,495.0,501.0,506.0,507.0,508.0,509.0,510.0,513.0,519.0,523.0,524.0,532.0,538.0,540.0,541.0,542.0,545.0,548.0,549.0,558.0,577.0,580.0,600.0,630.0],\"xaxis\":\"x\",\"y\":[139,190809,109937,122058,90383,359923,157274,230019,186383,91718,79882,29811,126109,27602,89930,33917,14773,6577,8618,72497,16077,37726,13419,4144,3383,4104,54622,8524,21685,8882,24994,6681,6676,9265,2931,7406,4351,1209,968,1192,6603,1655,2939,2432,1056,1201,724,1891,843,712,734,473,545,774,4635,1110,2200,1950,2286,5842,47184,31225,14326,6951,3642,2744,4040,5861,4510,2907,3371,2457,2052,3767,3775,4957,3306,2705,2172,2223,5792,7822,6460,4340,3901,3560,3435,7903,10060,11547,59120,30503,17640,10299,7036,8104,6861,4453,4795,4457,4707,6387,9564,7852,5151,7650,8412,7957,12423,13203,12801,9045,10546,10198,10832,15108,9502,12934,10371,11134,35384,24045,20772,14554,17249,13014,13457,15331,18116,21275,16277,20522,16458,17548,18948,27304,25079,20927,26480,21310,19608,20250,24482,20104,19130,22246,17334,16241,18701,24491,51882,29956,18890,14368,10771,9943,10373,6793,6689,8249,5492,5179,5644,6327,4370,5752,6114,3696,3238,3379,4050,2841,3387,3475,2542,2597,3685,4458,5890,6472,24010,11473,4382,3481,2463,1708,1167,972,778,680,821,788,812,791,839,764,832,675,637,779,628,624,490,484,570,543,796,612,842,804,4361,1285,1611,824,521,463,414,373,361,367,437,355,400,380,465,580,702,680,662,584,529,543,602,823,886,641,782,908,1285,1341,4847,2331,1568,2097,1704,1595,1736,2429,2190,1590,2441,2361,2149,3176,4467,3461,2468,3618,3034,3243,4013,5266,3310,3385,4751,3482,3947,4461,6169,4319,12654,9063,5051,6920,6984,6079,4779,4561,5482,4626,4781,5474,5979,4187,4329,6296,5012,4858,5013,5669,4272,4440,5364,4319,4642,5089,5175,4048,4361,5417,13723,6425,4108,5440,4355,3022,2943,2280,2235,2433,2085,1597,1734,1914,1311,1696,1589,1176,1166,1126,1235,870,811,856,878,746,855,886,833,895,2686,900,576,576,1281,946,524,460,381,431,436,528,443,408,410,450,444,353,361,406,405,437,398,400,468,527,634,1018,1079,935,10777,547,604,624,610,5414,1306,42,15,32,35,36,18,20,19,20,12,13,15,12,8,19,12,10,7,5,10,7,10,9,52,9,3,4,2,10,13,4,1,3,1,3,2,2,1,3,1,8,9,1,2,1,1,1,4,3,6,12,8,2,1,1,2,5,3,1,1,2,1,1,1,2,1,1,1,4,1,3,1,1,3,3,2,1,1,1,1,4,1,3,1,2,2,2,1,1,1,2,1,2,1,1,1,4,5,2,4,2,1,1,1,3,2,1,4,1,1,1,5,1,1],\"yaxis\":\"y\",\"type\":\"bar\"}],                        {\"template\":{\"data\":{\"histogram2dcontour\":[{\"type\":\"histogram2dcontour\",\"colorbar\":{\"outlinewidth\":0,\"ticks\":\"\"},\"colorscale\":[[0.0,\"#0d0887\"],[0.1111111111111111,\"#46039f\"],[0.2222222222222222,\"#7201a8\"],[0.3333333333333333,\"#9c179e\"],[0.4444444444444444,\"#bd3786\"],[0.5555555555555556,\"#d8576b\"],[0.6666666666666666,\"#ed7953\"],[0.7777777777777778,\"#fb9f3a\"],[0.8888888888888888,\"#fdca26\"],[1.0,\"#f0f921\"]]}],\"choropleth\":[{\"type\":\"choropleth\",\"colorbar\":{\"outlinewidth\":0,\"ticks\":\"\"}}],\"histogram2d\":[{\"type\":\"histogram2d\",\"colorbar\":{\"outlinewidth\":0,\"ticks\":\"\"},\"colorscale\":[[0.0,\"#0d0887\"],[0.1111111111111111,\"#46039f\"],[0.2222222222222222,\"#7201a8\"],[0.3333333333333333,\"#9c179e\"],[0.4444444444444444,\"#bd3786\"],[0.5555555555555556,\"#d8576b\"],[0.6666666666666666,\"#ed7953\"],[0.7777777777777778,\"#fb9f3a\"],[0.8888888888888888,\"#fdca26\"],[1.0,\"#f0f921\"]]}],\"heatmap\":[{\"type\":\"heatmap\",\"colorbar\":{\"outlinewidth\":0,\"ticks\":\"\"},\"colorscale\":[[0.0,\"#0d0887\"],[0.1111111111111111,\"#46039f\"],[0.2222222222222222,\"#7201a8\"],[0.3333333333333333,\"#9c179e\"],[0.4444444444444444,\"#bd3786\"],[0.5555555555555556,\"#d8576b\"],[0.6666666666666666,\"#ed7953\"],[0.7777777777777778,\"#fb9f3a\"],[0.8888888888888888,\"#fdca26\"],[1.0,\"#f0f921\"]]}],\"heatmapgl\":[{\"type\":\"heatmapgl\",\"colorbar\":{\"outlinewidth\":0,\"ticks\":\"\"},\"colorscale\":[[0.0,\"#0d0887\"],[0.1111111111111111,\"#46039f\"],[0.2222222222222222,\"#7201a8\"],[0.3333333333333333,\"#9c179e\"],[0.4444444444444444,\"#bd3786\"],[0.5555555555555556,\"#d8576b\"],[0.6666666666666666,\"#ed7953\"],[0.7777777777777778,\"#fb9f3a\"],[0.8888888888888888,\"#fdca26\"],[1.0,\"#f0f921\"]]}],\"contourcarpet\":[{\"type\":\"contourcarpet\",\"colorbar\":{\"outlinewidth\":0,\"ticks\":\"\"}}],\"contour\":[{\"type\":\"contour\",\"colorbar\":{\"outlinewidth\":0,\"ticks\":\"\"},\"colorscale\":[[0.0,\"#0d0887\"],[0.1111111111111111,\"#46039f\"],[0.2222222222222222,\"#7201a8\"],[0.3333333333333333,\"#9c179e\"],[0.4444444444444444,\"#bd3786\"],[0.5555555555555556,\"#d8576b\"],[0.6666666666666666,\"#ed7953\"],[0.7777777777777778,\"#fb9f3a\"],[0.8888888888888888,\"#fdca26\"],[1.0,\"#f0f921\"]]}],\"surface\":[{\"type\":\"surface\",\"colorbar\":{\"outlinewidth\":0,\"ticks\":\"\"},\"colorscale\":[[0.0,\"#0d0887\"],[0.1111111111111111,\"#46039f\"],[0.2222222222222222,\"#7201a8\"],[0.3333333333333333,\"#9c179e\"],[0.4444444444444444,\"#bd3786\"],[0.5555555555555556,\"#d8576b\"],[0.6666666666666666,\"#ed7953\"],[0.7777777777777778,\"#fb9f3a\"],[0.8888888888888888,\"#fdca26\"],[1.0,\"#f0f921\"]]}],\"mesh3d\":[{\"type\":\"mesh3d\",\"colorbar\":{\"outlinewidth\":0,\"ticks\":\"\"}}],\"scatter\":[{\"fillpattern\":{\"fillmode\":\"overlay\",\"size\":10,\"solidity\":0.2},\"type\":\"scatter\"}],\"parcoords\":[{\"type\":\"parcoords\",\"line\":{\"colorbar\":{\"outlinewidth\":0,\"ticks\":\"\"}}}],\"scatterpolargl\":[{\"type\":\"scatterpolargl\",\"marker\":{\"colorbar\":{\"outlinewidth\":0,\"ticks\":\"\"}}}],\"bar\":[{\"error_x\":{\"color\":\"#2a3f5f\"},\"error_y\":{\"color\":\"#2a3f5f\"},\"marker\":{\"line\":{\"color\":\"#E5ECF6\",\"width\":0.5},\"pattern\":{\"fillmode\":\"overlay\",\"size\":10,\"solidity\":0.2}},\"type\":\"bar\"}],\"scattergeo\":[{\"type\":\"scattergeo\",\"marker\":{\"colorbar\":{\"outlinewidth\":0,\"ticks\":\"\"}}}],\"scatterpolar\":[{\"type\":\"scatterpolar\",\"marker\":{\"colorbar\":{\"outlinewidth\":0,\"ticks\":\"\"}}}],\"histogram\":[{\"marker\":{\"pattern\":{\"fillmode\":\"overlay\",\"size\":10,\"solidity\":0.2}},\"type\":\"histogram\"}],\"scattergl\":[{\"type\":\"scattergl\",\"marker\":{\"colorbar\":{\"outlinewidth\":0,\"ticks\":\"\"}}}],\"scatter3d\":[{\"type\":\"scatter3d\",\"line\":{\"colorbar\":{\"outlinewidth\":0,\"ticks\":\"\"}},\"marker\":{\"colorbar\":{\"outlinewidth\":0,\"ticks\":\"\"}}}],\"scattermapbox\":[{\"type\":\"scattermapbox\",\"marker\":{\"colorbar\":{\"outlinewidth\":0,\"ticks\":\"\"}}}],\"scatterternary\":[{\"type\":\"scatterternary\",\"marker\":{\"colorbar\":{\"outlinewidth\":0,\"ticks\":\"\"}}}],\"scattercarpet\":[{\"type\":\"scattercarpet\",\"marker\":{\"colorbar\":{\"outlinewidth\":0,\"ticks\":\"\"}}}],\"carpet\":[{\"aaxis\":{\"endlinecolor\":\"#2a3f5f\",\"gridcolor\":\"white\",\"linecolor\":\"white\",\"minorgridcolor\":\"white\",\"startlinecolor\":\"#2a3f5f\"},\"baxis\":{\"endlinecolor\":\"#2a3f5f\",\"gridcolor\":\"white\",\"linecolor\":\"white\",\"minorgridcolor\":\"white\",\"startlinecolor\":\"#2a3f5f\"},\"type\":\"carpet\"}],\"table\":[{\"cells\":{\"fill\":{\"color\":\"#EBF0F8\"},\"line\":{\"color\":\"white\"}},\"header\":{\"fill\":{\"color\":\"#C8D4E3\"},\"line\":{\"color\":\"white\"}},\"type\":\"table\"}],\"barpolar\":[{\"marker\":{\"line\":{\"color\":\"#E5ECF6\",\"width\":0.5},\"pattern\":{\"fillmode\":\"overlay\",\"size\":10,\"solidity\":0.2}},\"type\":\"barpolar\"}],\"pie\":[{\"automargin\":true,\"type\":\"pie\"}]},\"layout\":{\"autotypenumbers\":\"strict\",\"colorway\":[\"#636efa\",\"#EF553B\",\"#00cc96\",\"#ab63fa\",\"#FFA15A\",\"#19d3f3\",\"#FF6692\",\"#B6E880\",\"#FF97FF\",\"#FECB52\"],\"font\":{\"color\":\"#2a3f5f\"},\"hovermode\":\"closest\",\"hoverlabel\":{\"align\":\"left\"},\"paper_bgcolor\":\"white\",\"plot_bgcolor\":\"#E5ECF6\",\"polar\":{\"bgcolor\":\"#E5ECF6\",\"angularaxis\":{\"gridcolor\":\"white\",\"linecolor\":\"white\",\"ticks\":\"\"},\"radialaxis\":{\"gridcolor\":\"white\",\"linecolor\":\"white\",\"ticks\":\"\"}},\"ternary\":{\"bgcolor\":\"#E5ECF6\",\"aaxis\":{\"gridcolor\":\"white\",\"linecolor\":\"white\",\"ticks\":\"\"},\"baxis\":{\"gridcolor\":\"white\",\"linecolor\":\"white\",\"ticks\":\"\"},\"caxis\":{\"gridcolor\":\"white\",\"linecolor\":\"white\",\"ticks\":\"\"}},\"coloraxis\":{\"colorbar\":{\"outlinewidth\":0,\"ticks\":\"\"}},\"colorscale\":{\"sequential\":[[0.0,\"#0d0887\"],[0.1111111111111111,\"#46039f\"],[0.2222222222222222,\"#7201a8\"],[0.3333333333333333,\"#9c179e\"],[0.4444444444444444,\"#bd3786\"],[0.5555555555555556,\"#d8576b\"],[0.6666666666666666,\"#ed7953\"],[0.7777777777777778,\"#fb9f3a\"],[0.8888888888888888,\"#fdca26\"],[1.0,\"#f0f921\"]],\"sequentialminus\":[[0.0,\"#0d0887\"],[0.1111111111111111,\"#46039f\"],[0.2222222222222222,\"#7201a8\"],[0.3333333333333333,\"#9c179e\"],[0.4444444444444444,\"#bd3786\"],[0.5555555555555556,\"#d8576b\"],[0.6666666666666666,\"#ed7953\"],[0.7777777777777778,\"#fb9f3a\"],[0.8888888888888888,\"#fdca26\"],[1.0,\"#f0f921\"]],\"diverging\":[[0,\"#8e0152\"],[0.1,\"#c51b7d\"],[0.2,\"#de77ae\"],[0.3,\"#f1b6da\"],[0.4,\"#fde0ef\"],[0.5,\"#f7f7f7\"],[0.6,\"#e6f5d0\"],[0.7,\"#b8e186\"],[0.8,\"#7fbc41\"],[0.9,\"#4d9221\"],[1,\"#276419\"]]},\"xaxis\":{\"gridcolor\":\"white\",\"linecolor\":\"white\",\"ticks\":\"\",\"title\":{\"standoff\":15},\"zerolinecolor\":\"white\",\"automargin\":true,\"zerolinewidth\":2},\"yaxis\":{\"gridcolor\":\"white\",\"linecolor\":\"white\",\"ticks\":\"\",\"title\":{\"standoff\":15},\"zerolinecolor\":\"white\",\"automargin\":true,\"zerolinewidth\":2},\"scene\":{\"xaxis\":{\"backgroundcolor\":\"#E5ECF6\",\"gridcolor\":\"white\",\"linecolor\":\"white\",\"showbackground\":true,\"ticks\":\"\",\"zerolinecolor\":\"white\",\"gridwidth\":2},\"yaxis\":{\"backgroundcolor\":\"#E5ECF6\",\"gridcolor\":\"white\",\"linecolor\":\"white\",\"showbackground\":true,\"ticks\":\"\",\"zerolinecolor\":\"white\",\"gridwidth\":2},\"zaxis\":{\"backgroundcolor\":\"#E5ECF6\",\"gridcolor\":\"white\",\"linecolor\":\"white\",\"showbackground\":true,\"ticks\":\"\",\"zerolinecolor\":\"white\",\"gridwidth\":2}},\"shapedefaults\":{\"line\":{\"color\":\"#2a3f5f\"}},\"annotationdefaults\":{\"arrowcolor\":\"#2a3f5f\",\"arrowhead\":0,\"arrowwidth\":1},\"geo\":{\"bgcolor\":\"white\",\"landcolor\":\"#E5ECF6\",\"subunitcolor\":\"white\",\"showland\":true,\"showlakes\":true,\"lakecolor\":\"white\"},\"title\":{\"x\":0.05},\"mapbox\":{\"style\":\"light\"}}},\"xaxis\":{\"anchor\":\"y\",\"domain\":[0.0,1.0],\"title\":{\"text\":\"Mobility Duration\"},\"categoryorder\":\"total descending\",\"tickangle\":45},\"yaxis\":{\"anchor\":\"x\",\"domain\":[0.0,1.0],\"title\":{\"text\":\"Count\"}},\"legend\":{\"tracegroupgap\":0},\"title\":{\"text\":\"Histogram of Mobility Duration\"},\"barmode\":\"relative\"},                        {\"responsive\": true}                    ).then(function(){\n",
       "                            \n",
       "var gd = document.getElementById('a1c4de26-affe-482c-ba9e-43f58f6427cf');\n",
       "var x = new MutationObserver(function (mutations, observer) {{\n",
       "        var display = window.getComputedStyle(gd).display;\n",
       "        if (!display || display === 'none') {{\n",
       "            console.log([gd, 'removed!']);\n",
       "            Plotly.purge(gd);\n",
       "            observer.disconnect();\n",
       "        }}\n",
       "}});\n",
       "\n",
       "// Listen for the removal of the full notebook cells\n",
       "var notebookContainer = gd.closest('#notebook-container');\n",
       "if (notebookContainer) {{\n",
       "    x.observe(notebookContainer, {childList: true});\n",
       "}}\n",
       "\n",
       "// Listen for the clearing of the current output cell\n",
       "var outputEl = gd.closest('.output');\n",
       "if (outputEl) {{\n",
       "    x.observe(outputEl, {childList: true});\n",
       "}}\n",
       "\n",
       "                        })                };                });            </script>        </div>"
      ]
     },
     "metadata": {},
     "output_type": "display_data"
    }
   ],
   "source": [
    "plot_world_dist(data, 'Participant Nationality')\n",
    "plot_world_dist(data, 'Sending Country')\n",
    "plot_world_dist(data, 'Receiving Country')\n",
    "\n",
    "plot_hist(data, 'Activity')\n",
    "plot_hist(data, 'Education Level')\n",
    "plot_hist(data, 'Mobility Duration')\n"
   ]
  },
  {
   "cell_type": "markdown",
   "id": "f99217e4",
   "metadata": {},
   "source": [
    "Next a plot for the duration by each possible activity"
   ]
  },
  {
   "cell_type": "code",
   "execution_count": 3,
   "id": "c98ad4bc",
   "metadata": {},
   "outputs": [
    {
     "data": {
      "application/vnd.plotly.v1+json": {
       "config": {
        "plotlyServerURL": "https://plotly.com"
       },
       "data": [
        {
         "alignmentgroup": "True",
         "hovertemplate": "Activity=%{x}<br>Mean Mobility Duration=%{y}<extra></extra>",
         "legendgroup": "",
         "marker": {
          "color": "#636efa",
          "pattern": {
           "shape": ""
          }
         },
         "name": "",
         "offsetgroup": "",
         "orientation": "v",
         "showlegend": false,
         "textposition": "auto",
         "type": "bar",
         "x": [
          "Advance Planning Visit",
          "Advance Planning Visit - EVS",
          "Advance Planning Visit - Erasmus- PRO",
          "Advance Planning Visit – Youth Exchange",
          "ErasmusPro - Mobility of VET learners (3 to 12 months)",
          "European Voluntary Service - Partner Countries",
          "European Voluntary Service - Programme Countries",
          "Group Volunteering Activities",
          "Individual Volunteering Activities",
          "Job Shadowing",
          "Mobility of VET learners (2 weeks up to 3 months)",
          "Mobility of youth workers - Partner Countries",
          "Mobility of youth workers - Programme Countries",
          "National youth meetings",
          "Staff mobility for Teaching To/From Partner Countries",
          "Staff mobility for Training To/From Partner Countries",
          "Staff mobility for teaching between Programme Countries",
          "Staff mobility for training between Programme Countries",
          "Staff training abroad",
          "Structured Courses/Training Events",
          "Student mobility for Studies To/From Partner Countries",
          "Student mobility for studies between Programme Countries",
          "Student mobility for traineeships To/From Partner Countries",
          "Student mobility for traineeships between Programme Countries",
          "Teaching/training assignments abroad",
          "Transnational youth meetings",
          "VET learners traineeships in companies abroad",
          "VET learners traineeships in vocational institutes abroad",
          "Youth Exchanges - Partner Countries",
          "Youth Exchanges - Programme Countries"
         ],
         "xaxis": "x",
         "y": [
          1.9947916666666667,
          1.933920704845815,
          2.774774774774775,
          1.9706733981735838,
          118.93298153034301,
          189.53686782830428,
          188.1789290791344,
          34.17953020134228,
          214.83755404570724,
          5.81316201817612,
          22.779000681796045,
          6.964917417517335,
          6.72890838578422,
          1.8659405323535594,
          7.224837765619036,
          6.771446462116469,
          5.008607389813202,
          5.190939836001771,
          6.91922278336401,
          7.221752603784656,
          146.8505128603621,
          173.50609825601276,
          89.03926096997691,
          115.75524146307383,
          7.932181035679578,
          4.4327182251710555,
          34.160707518780235,
          20.716816287271563,
          8.54591939041508,
          8.258766549066369
         ],
         "yaxis": "y"
        }
       ],
       "layout": {
        "barmode": "relative",
        "legend": {
         "tracegroupgap": 0
        },
        "template": {
         "data": {
          "bar": [
           {
            "error_x": {
             "color": "#2a3f5f"
            },
            "error_y": {
             "color": "#2a3f5f"
            },
            "marker": {
             "line": {
              "color": "#E5ECF6",
              "width": 0.5
             },
             "pattern": {
              "fillmode": "overlay",
              "size": 10,
              "solidity": 0.2
             }
            },
            "type": "bar"
           }
          ],
          "barpolar": [
           {
            "marker": {
             "line": {
              "color": "#E5ECF6",
              "width": 0.5
             },
             "pattern": {
              "fillmode": "overlay",
              "size": 10,
              "solidity": 0.2
             }
            },
            "type": "barpolar"
           }
          ],
          "carpet": [
           {
            "aaxis": {
             "endlinecolor": "#2a3f5f",
             "gridcolor": "white",
             "linecolor": "white",
             "minorgridcolor": "white",
             "startlinecolor": "#2a3f5f"
            },
            "baxis": {
             "endlinecolor": "#2a3f5f",
             "gridcolor": "white",
             "linecolor": "white",
             "minorgridcolor": "white",
             "startlinecolor": "#2a3f5f"
            },
            "type": "carpet"
           }
          ],
          "choropleth": [
           {
            "colorbar": {
             "outlinewidth": 0,
             "ticks": ""
            },
            "type": "choropleth"
           }
          ],
          "contour": [
           {
            "colorbar": {
             "outlinewidth": 0,
             "ticks": ""
            },
            "colorscale": [
             [
              0,
              "#0d0887"
             ],
             [
              0.1111111111111111,
              "#46039f"
             ],
             [
              0.2222222222222222,
              "#7201a8"
             ],
             [
              0.3333333333333333,
              "#9c179e"
             ],
             [
              0.4444444444444444,
              "#bd3786"
             ],
             [
              0.5555555555555556,
              "#d8576b"
             ],
             [
              0.6666666666666666,
              "#ed7953"
             ],
             [
              0.7777777777777778,
              "#fb9f3a"
             ],
             [
              0.8888888888888888,
              "#fdca26"
             ],
             [
              1,
              "#f0f921"
             ]
            ],
            "type": "contour"
           }
          ],
          "contourcarpet": [
           {
            "colorbar": {
             "outlinewidth": 0,
             "ticks": ""
            },
            "type": "contourcarpet"
           }
          ],
          "heatmap": [
           {
            "colorbar": {
             "outlinewidth": 0,
             "ticks": ""
            },
            "colorscale": [
             [
              0,
              "#0d0887"
             ],
             [
              0.1111111111111111,
              "#46039f"
             ],
             [
              0.2222222222222222,
              "#7201a8"
             ],
             [
              0.3333333333333333,
              "#9c179e"
             ],
             [
              0.4444444444444444,
              "#bd3786"
             ],
             [
              0.5555555555555556,
              "#d8576b"
             ],
             [
              0.6666666666666666,
              "#ed7953"
             ],
             [
              0.7777777777777778,
              "#fb9f3a"
             ],
             [
              0.8888888888888888,
              "#fdca26"
             ],
             [
              1,
              "#f0f921"
             ]
            ],
            "type": "heatmap"
           }
          ],
          "heatmapgl": [
           {
            "colorbar": {
             "outlinewidth": 0,
             "ticks": ""
            },
            "colorscale": [
             [
              0,
              "#0d0887"
             ],
             [
              0.1111111111111111,
              "#46039f"
             ],
             [
              0.2222222222222222,
              "#7201a8"
             ],
             [
              0.3333333333333333,
              "#9c179e"
             ],
             [
              0.4444444444444444,
              "#bd3786"
             ],
             [
              0.5555555555555556,
              "#d8576b"
             ],
             [
              0.6666666666666666,
              "#ed7953"
             ],
             [
              0.7777777777777778,
              "#fb9f3a"
             ],
             [
              0.8888888888888888,
              "#fdca26"
             ],
             [
              1,
              "#f0f921"
             ]
            ],
            "type": "heatmapgl"
           }
          ],
          "histogram": [
           {
            "marker": {
             "pattern": {
              "fillmode": "overlay",
              "size": 10,
              "solidity": 0.2
             }
            },
            "type": "histogram"
           }
          ],
          "histogram2d": [
           {
            "colorbar": {
             "outlinewidth": 0,
             "ticks": ""
            },
            "colorscale": [
             [
              0,
              "#0d0887"
             ],
             [
              0.1111111111111111,
              "#46039f"
             ],
             [
              0.2222222222222222,
              "#7201a8"
             ],
             [
              0.3333333333333333,
              "#9c179e"
             ],
             [
              0.4444444444444444,
              "#bd3786"
             ],
             [
              0.5555555555555556,
              "#d8576b"
             ],
             [
              0.6666666666666666,
              "#ed7953"
             ],
             [
              0.7777777777777778,
              "#fb9f3a"
             ],
             [
              0.8888888888888888,
              "#fdca26"
             ],
             [
              1,
              "#f0f921"
             ]
            ],
            "type": "histogram2d"
           }
          ],
          "histogram2dcontour": [
           {
            "colorbar": {
             "outlinewidth": 0,
             "ticks": ""
            },
            "colorscale": [
             [
              0,
              "#0d0887"
             ],
             [
              0.1111111111111111,
              "#46039f"
             ],
             [
              0.2222222222222222,
              "#7201a8"
             ],
             [
              0.3333333333333333,
              "#9c179e"
             ],
             [
              0.4444444444444444,
              "#bd3786"
             ],
             [
              0.5555555555555556,
              "#d8576b"
             ],
             [
              0.6666666666666666,
              "#ed7953"
             ],
             [
              0.7777777777777778,
              "#fb9f3a"
             ],
             [
              0.8888888888888888,
              "#fdca26"
             ],
             [
              1,
              "#f0f921"
             ]
            ],
            "type": "histogram2dcontour"
           }
          ],
          "mesh3d": [
           {
            "colorbar": {
             "outlinewidth": 0,
             "ticks": ""
            },
            "type": "mesh3d"
           }
          ],
          "parcoords": [
           {
            "line": {
             "colorbar": {
              "outlinewidth": 0,
              "ticks": ""
             }
            },
            "type": "parcoords"
           }
          ],
          "pie": [
           {
            "automargin": true,
            "type": "pie"
           }
          ],
          "scatter": [
           {
            "fillpattern": {
             "fillmode": "overlay",
             "size": 10,
             "solidity": 0.2
            },
            "type": "scatter"
           }
          ],
          "scatter3d": [
           {
            "line": {
             "colorbar": {
              "outlinewidth": 0,
              "ticks": ""
             }
            },
            "marker": {
             "colorbar": {
              "outlinewidth": 0,
              "ticks": ""
             }
            },
            "type": "scatter3d"
           }
          ],
          "scattercarpet": [
           {
            "marker": {
             "colorbar": {
              "outlinewidth": 0,
              "ticks": ""
             }
            },
            "type": "scattercarpet"
           }
          ],
          "scattergeo": [
           {
            "marker": {
             "colorbar": {
              "outlinewidth": 0,
              "ticks": ""
             }
            },
            "type": "scattergeo"
           }
          ],
          "scattergl": [
           {
            "marker": {
             "colorbar": {
              "outlinewidth": 0,
              "ticks": ""
             }
            },
            "type": "scattergl"
           }
          ],
          "scattermapbox": [
           {
            "marker": {
             "colorbar": {
              "outlinewidth": 0,
              "ticks": ""
             }
            },
            "type": "scattermapbox"
           }
          ],
          "scatterpolar": [
           {
            "marker": {
             "colorbar": {
              "outlinewidth": 0,
              "ticks": ""
             }
            },
            "type": "scatterpolar"
           }
          ],
          "scatterpolargl": [
           {
            "marker": {
             "colorbar": {
              "outlinewidth": 0,
              "ticks": ""
             }
            },
            "type": "scatterpolargl"
           }
          ],
          "scatterternary": [
           {
            "marker": {
             "colorbar": {
              "outlinewidth": 0,
              "ticks": ""
             }
            },
            "type": "scatterternary"
           }
          ],
          "surface": [
           {
            "colorbar": {
             "outlinewidth": 0,
             "ticks": ""
            },
            "colorscale": [
             [
              0,
              "#0d0887"
             ],
             [
              0.1111111111111111,
              "#46039f"
             ],
             [
              0.2222222222222222,
              "#7201a8"
             ],
             [
              0.3333333333333333,
              "#9c179e"
             ],
             [
              0.4444444444444444,
              "#bd3786"
             ],
             [
              0.5555555555555556,
              "#d8576b"
             ],
             [
              0.6666666666666666,
              "#ed7953"
             ],
             [
              0.7777777777777778,
              "#fb9f3a"
             ],
             [
              0.8888888888888888,
              "#fdca26"
             ],
             [
              1,
              "#f0f921"
             ]
            ],
            "type": "surface"
           }
          ],
          "table": [
           {
            "cells": {
             "fill": {
              "color": "#EBF0F8"
             },
             "line": {
              "color": "white"
             }
            },
            "header": {
             "fill": {
              "color": "#C8D4E3"
             },
             "line": {
              "color": "white"
             }
            },
            "type": "table"
           }
          ]
         },
         "layout": {
          "annotationdefaults": {
           "arrowcolor": "#2a3f5f",
           "arrowhead": 0,
           "arrowwidth": 1
          },
          "autotypenumbers": "strict",
          "coloraxis": {
           "colorbar": {
            "outlinewidth": 0,
            "ticks": ""
           }
          },
          "colorscale": {
           "diverging": [
            [
             0,
             "#8e0152"
            ],
            [
             0.1,
             "#c51b7d"
            ],
            [
             0.2,
             "#de77ae"
            ],
            [
             0.3,
             "#f1b6da"
            ],
            [
             0.4,
             "#fde0ef"
            ],
            [
             0.5,
             "#f7f7f7"
            ],
            [
             0.6,
             "#e6f5d0"
            ],
            [
             0.7,
             "#b8e186"
            ],
            [
             0.8,
             "#7fbc41"
            ],
            [
             0.9,
             "#4d9221"
            ],
            [
             1,
             "#276419"
            ]
           ],
           "sequential": [
            [
             0,
             "#0d0887"
            ],
            [
             0.1111111111111111,
             "#46039f"
            ],
            [
             0.2222222222222222,
             "#7201a8"
            ],
            [
             0.3333333333333333,
             "#9c179e"
            ],
            [
             0.4444444444444444,
             "#bd3786"
            ],
            [
             0.5555555555555556,
             "#d8576b"
            ],
            [
             0.6666666666666666,
             "#ed7953"
            ],
            [
             0.7777777777777778,
             "#fb9f3a"
            ],
            [
             0.8888888888888888,
             "#fdca26"
            ],
            [
             1,
             "#f0f921"
            ]
           ],
           "sequentialminus": [
            [
             0,
             "#0d0887"
            ],
            [
             0.1111111111111111,
             "#46039f"
            ],
            [
             0.2222222222222222,
             "#7201a8"
            ],
            [
             0.3333333333333333,
             "#9c179e"
            ],
            [
             0.4444444444444444,
             "#bd3786"
            ],
            [
             0.5555555555555556,
             "#d8576b"
            ],
            [
             0.6666666666666666,
             "#ed7953"
            ],
            [
             0.7777777777777778,
             "#fb9f3a"
            ],
            [
             0.8888888888888888,
             "#fdca26"
            ],
            [
             1,
             "#f0f921"
            ]
           ]
          },
          "colorway": [
           "#636efa",
           "#EF553B",
           "#00cc96",
           "#ab63fa",
           "#FFA15A",
           "#19d3f3",
           "#FF6692",
           "#B6E880",
           "#FF97FF",
           "#FECB52"
          ],
          "font": {
           "color": "#2a3f5f"
          },
          "geo": {
           "bgcolor": "white",
           "lakecolor": "white",
           "landcolor": "#E5ECF6",
           "showlakes": true,
           "showland": true,
           "subunitcolor": "white"
          },
          "hoverlabel": {
           "align": "left"
          },
          "hovermode": "closest",
          "mapbox": {
           "style": "light"
          },
          "paper_bgcolor": "white",
          "plot_bgcolor": "#E5ECF6",
          "polar": {
           "angularaxis": {
            "gridcolor": "white",
            "linecolor": "white",
            "ticks": ""
           },
           "bgcolor": "#E5ECF6",
           "radialaxis": {
            "gridcolor": "white",
            "linecolor": "white",
            "ticks": ""
           }
          },
          "scene": {
           "xaxis": {
            "backgroundcolor": "#E5ECF6",
            "gridcolor": "white",
            "gridwidth": 2,
            "linecolor": "white",
            "showbackground": true,
            "ticks": "",
            "zerolinecolor": "white"
           },
           "yaxis": {
            "backgroundcolor": "#E5ECF6",
            "gridcolor": "white",
            "gridwidth": 2,
            "linecolor": "white",
            "showbackground": true,
            "ticks": "",
            "zerolinecolor": "white"
           },
           "zaxis": {
            "backgroundcolor": "#E5ECF6",
            "gridcolor": "white",
            "gridwidth": 2,
            "linecolor": "white",
            "showbackground": true,
            "ticks": "",
            "zerolinecolor": "white"
           }
          },
          "shapedefaults": {
           "line": {
            "color": "#2a3f5f"
           }
          },
          "ternary": {
           "aaxis": {
            "gridcolor": "white",
            "linecolor": "white",
            "ticks": ""
           },
           "baxis": {
            "gridcolor": "white",
            "linecolor": "white",
            "ticks": ""
           },
           "bgcolor": "#E5ECF6",
           "caxis": {
            "gridcolor": "white",
            "linecolor": "white",
            "ticks": ""
           }
          },
          "title": {
           "x": 0.05
          },
          "xaxis": {
           "automargin": true,
           "gridcolor": "white",
           "linecolor": "white",
           "ticks": "",
           "title": {
            "standoff": 15
           },
           "zerolinecolor": "white",
           "zerolinewidth": 2
          },
          "yaxis": {
           "automargin": true,
           "gridcolor": "white",
           "linecolor": "white",
           "ticks": "",
           "title": {
            "standoff": 15
           },
           "zerolinecolor": "white",
           "zerolinewidth": 2
          }
         }
        },
        "title": {
         "text": "Mean Mobility Duration by Activity"
        },
        "xaxis": {
         "anchor": "y",
         "categoryorder": "total descending",
         "domain": [
          0,
          1
         ],
         "title": {
          "text": "Activity"
         }
        },
        "yaxis": {
         "anchor": "x",
         "domain": [
          0,
          1
         ],
         "title": {
          "text": "Mean Mobility Duration"
         }
        }
       }
      },
      "text/html": [
       "<div>                            <div id=\"985fc3ac-6f39-47e7-b136-5af52858a426\" class=\"plotly-graph-div\" style=\"height:525px; width:100%;\"></div>            <script type=\"text/javascript\">                require([\"plotly\"], function(Plotly) {                    window.PLOTLYENV=window.PLOTLYENV || {};                                    if (document.getElementById(\"985fc3ac-6f39-47e7-b136-5af52858a426\")) {                    Plotly.newPlot(                        \"985fc3ac-6f39-47e7-b136-5af52858a426\",                        [{\"alignmentgroup\":\"True\",\"hovertemplate\":\"Activity=%{x}<br>Mean Mobility Duration=%{y}<extra></extra>\",\"legendgroup\":\"\",\"marker\":{\"color\":\"#636efa\",\"pattern\":{\"shape\":\"\"}},\"name\":\"\",\"offsetgroup\":\"\",\"orientation\":\"v\",\"showlegend\":false,\"textposition\":\"auto\",\"x\":[\"Advance Planning Visit\",\"Advance Planning Visit - EVS\",\"Advance Planning Visit - Erasmus- PRO\",\"Advance Planning Visit \\u2013 Youth Exchange\",\"ErasmusPro - Mobility of VET learners (3 to 12 months)\",\"European Voluntary Service - Partner Countries\",\"European Voluntary Service - Programme Countries\",\"Group Volunteering Activities\",\"Individual Volunteering Activities\",\"Job Shadowing\",\"Mobility of VET learners (2 weeks up to 3 months)\",\"Mobility of youth workers - Partner Countries\",\"Mobility of youth workers - Programme Countries\",\"National youth meetings\",\"Staff mobility for Teaching To/From Partner Countries\",\"Staff mobility for Training To/From Partner Countries\",\"Staff mobility for teaching between Programme Countries\",\"Staff mobility for training between Programme Countries\",\"Staff training abroad\",\"Structured Courses/Training Events\",\"Student mobility for Studies To/From Partner Countries\",\"Student mobility for studies between Programme Countries\",\"Student mobility for traineeships To/From Partner Countries\",\"Student mobility for traineeships between Programme Countries\",\"Teaching/training assignments abroad\",\"Transnational youth meetings\",\"VET learners traineeships in companies abroad\",\"VET learners traineeships in vocational institutes abroad\",\"Youth Exchanges - Partner Countries\",\"Youth Exchanges - Programme Countries\"],\"xaxis\":\"x\",\"y\":[1.9947916666666667,1.933920704845815,2.774774774774775,1.9706733981735838,118.93298153034301,189.53686782830428,188.1789290791344,34.17953020134228,214.83755404570724,5.81316201817612,22.779000681796045,6.964917417517335,6.72890838578422,1.8659405323535594,7.224837765619036,6.771446462116469,5.008607389813202,5.190939836001771,6.91922278336401,7.221752603784656,146.8505128603621,173.50609825601276,89.03926096997691,115.75524146307383,7.932181035679578,4.4327182251710555,34.160707518780235,20.716816287271563,8.54591939041508,8.258766549066369],\"yaxis\":\"y\",\"type\":\"bar\"}],                        {\"template\":{\"data\":{\"histogram2dcontour\":[{\"type\":\"histogram2dcontour\",\"colorbar\":{\"outlinewidth\":0,\"ticks\":\"\"},\"colorscale\":[[0.0,\"#0d0887\"],[0.1111111111111111,\"#46039f\"],[0.2222222222222222,\"#7201a8\"],[0.3333333333333333,\"#9c179e\"],[0.4444444444444444,\"#bd3786\"],[0.5555555555555556,\"#d8576b\"],[0.6666666666666666,\"#ed7953\"],[0.7777777777777778,\"#fb9f3a\"],[0.8888888888888888,\"#fdca26\"],[1.0,\"#f0f921\"]]}],\"choropleth\":[{\"type\":\"choropleth\",\"colorbar\":{\"outlinewidth\":0,\"ticks\":\"\"}}],\"histogram2d\":[{\"type\":\"histogram2d\",\"colorbar\":{\"outlinewidth\":0,\"ticks\":\"\"},\"colorscale\":[[0.0,\"#0d0887\"],[0.1111111111111111,\"#46039f\"],[0.2222222222222222,\"#7201a8\"],[0.3333333333333333,\"#9c179e\"],[0.4444444444444444,\"#bd3786\"],[0.5555555555555556,\"#d8576b\"],[0.6666666666666666,\"#ed7953\"],[0.7777777777777778,\"#fb9f3a\"],[0.8888888888888888,\"#fdca26\"],[1.0,\"#f0f921\"]]}],\"heatmap\":[{\"type\":\"heatmap\",\"colorbar\":{\"outlinewidth\":0,\"ticks\":\"\"},\"colorscale\":[[0.0,\"#0d0887\"],[0.1111111111111111,\"#46039f\"],[0.2222222222222222,\"#7201a8\"],[0.3333333333333333,\"#9c179e\"],[0.4444444444444444,\"#bd3786\"],[0.5555555555555556,\"#d8576b\"],[0.6666666666666666,\"#ed7953\"],[0.7777777777777778,\"#fb9f3a\"],[0.8888888888888888,\"#fdca26\"],[1.0,\"#f0f921\"]]}],\"heatmapgl\":[{\"type\":\"heatmapgl\",\"colorbar\":{\"outlinewidth\":0,\"ticks\":\"\"},\"colorscale\":[[0.0,\"#0d0887\"],[0.1111111111111111,\"#46039f\"],[0.2222222222222222,\"#7201a8\"],[0.3333333333333333,\"#9c179e\"],[0.4444444444444444,\"#bd3786\"],[0.5555555555555556,\"#d8576b\"],[0.6666666666666666,\"#ed7953\"],[0.7777777777777778,\"#fb9f3a\"],[0.8888888888888888,\"#fdca26\"],[1.0,\"#f0f921\"]]}],\"contourcarpet\":[{\"type\":\"contourcarpet\",\"colorbar\":{\"outlinewidth\":0,\"ticks\":\"\"}}],\"contour\":[{\"type\":\"contour\",\"colorbar\":{\"outlinewidth\":0,\"ticks\":\"\"},\"colorscale\":[[0.0,\"#0d0887\"],[0.1111111111111111,\"#46039f\"],[0.2222222222222222,\"#7201a8\"],[0.3333333333333333,\"#9c179e\"],[0.4444444444444444,\"#bd3786\"],[0.5555555555555556,\"#d8576b\"],[0.6666666666666666,\"#ed7953\"],[0.7777777777777778,\"#fb9f3a\"],[0.8888888888888888,\"#fdca26\"],[1.0,\"#f0f921\"]]}],\"surface\":[{\"type\":\"surface\",\"colorbar\":{\"outlinewidth\":0,\"ticks\":\"\"},\"colorscale\":[[0.0,\"#0d0887\"],[0.1111111111111111,\"#46039f\"],[0.2222222222222222,\"#7201a8\"],[0.3333333333333333,\"#9c179e\"],[0.4444444444444444,\"#bd3786\"],[0.5555555555555556,\"#d8576b\"],[0.6666666666666666,\"#ed7953\"],[0.7777777777777778,\"#fb9f3a\"],[0.8888888888888888,\"#fdca26\"],[1.0,\"#f0f921\"]]}],\"mesh3d\":[{\"type\":\"mesh3d\",\"colorbar\":{\"outlinewidth\":0,\"ticks\":\"\"}}],\"scatter\":[{\"fillpattern\":{\"fillmode\":\"overlay\",\"size\":10,\"solidity\":0.2},\"type\":\"scatter\"}],\"parcoords\":[{\"type\":\"parcoords\",\"line\":{\"colorbar\":{\"outlinewidth\":0,\"ticks\":\"\"}}}],\"scatterpolargl\":[{\"type\":\"scatterpolargl\",\"marker\":{\"colorbar\":{\"outlinewidth\":0,\"ticks\":\"\"}}}],\"bar\":[{\"error_x\":{\"color\":\"#2a3f5f\"},\"error_y\":{\"color\":\"#2a3f5f\"},\"marker\":{\"line\":{\"color\":\"#E5ECF6\",\"width\":0.5},\"pattern\":{\"fillmode\":\"overlay\",\"size\":10,\"solidity\":0.2}},\"type\":\"bar\"}],\"scattergeo\":[{\"type\":\"scattergeo\",\"marker\":{\"colorbar\":{\"outlinewidth\":0,\"ticks\":\"\"}}}],\"scatterpolar\":[{\"type\":\"scatterpolar\",\"marker\":{\"colorbar\":{\"outlinewidth\":0,\"ticks\":\"\"}}}],\"histogram\":[{\"marker\":{\"pattern\":{\"fillmode\":\"overlay\",\"size\":10,\"solidity\":0.2}},\"type\":\"histogram\"}],\"scattergl\":[{\"type\":\"scattergl\",\"marker\":{\"colorbar\":{\"outlinewidth\":0,\"ticks\":\"\"}}}],\"scatter3d\":[{\"type\":\"scatter3d\",\"line\":{\"colorbar\":{\"outlinewidth\":0,\"ticks\":\"\"}},\"marker\":{\"colorbar\":{\"outlinewidth\":0,\"ticks\":\"\"}}}],\"scattermapbox\":[{\"type\":\"scattermapbox\",\"marker\":{\"colorbar\":{\"outlinewidth\":0,\"ticks\":\"\"}}}],\"scatterternary\":[{\"type\":\"scatterternary\",\"marker\":{\"colorbar\":{\"outlinewidth\":0,\"ticks\":\"\"}}}],\"scattercarpet\":[{\"type\":\"scattercarpet\",\"marker\":{\"colorbar\":{\"outlinewidth\":0,\"ticks\":\"\"}}}],\"carpet\":[{\"aaxis\":{\"endlinecolor\":\"#2a3f5f\",\"gridcolor\":\"white\",\"linecolor\":\"white\",\"minorgridcolor\":\"white\",\"startlinecolor\":\"#2a3f5f\"},\"baxis\":{\"endlinecolor\":\"#2a3f5f\",\"gridcolor\":\"white\",\"linecolor\":\"white\",\"minorgridcolor\":\"white\",\"startlinecolor\":\"#2a3f5f\"},\"type\":\"carpet\"}],\"table\":[{\"cells\":{\"fill\":{\"color\":\"#EBF0F8\"},\"line\":{\"color\":\"white\"}},\"header\":{\"fill\":{\"color\":\"#C8D4E3\"},\"line\":{\"color\":\"white\"}},\"type\":\"table\"}],\"barpolar\":[{\"marker\":{\"line\":{\"color\":\"#E5ECF6\",\"width\":0.5},\"pattern\":{\"fillmode\":\"overlay\",\"size\":10,\"solidity\":0.2}},\"type\":\"barpolar\"}],\"pie\":[{\"automargin\":true,\"type\":\"pie\"}]},\"layout\":{\"autotypenumbers\":\"strict\",\"colorway\":[\"#636efa\",\"#EF553B\",\"#00cc96\",\"#ab63fa\",\"#FFA15A\",\"#19d3f3\",\"#FF6692\",\"#B6E880\",\"#FF97FF\",\"#FECB52\"],\"font\":{\"color\":\"#2a3f5f\"},\"hovermode\":\"closest\",\"hoverlabel\":{\"align\":\"left\"},\"paper_bgcolor\":\"white\",\"plot_bgcolor\":\"#E5ECF6\",\"polar\":{\"bgcolor\":\"#E5ECF6\",\"angularaxis\":{\"gridcolor\":\"white\",\"linecolor\":\"white\",\"ticks\":\"\"},\"radialaxis\":{\"gridcolor\":\"white\",\"linecolor\":\"white\",\"ticks\":\"\"}},\"ternary\":{\"bgcolor\":\"#E5ECF6\",\"aaxis\":{\"gridcolor\":\"white\",\"linecolor\":\"white\",\"ticks\":\"\"},\"baxis\":{\"gridcolor\":\"white\",\"linecolor\":\"white\",\"ticks\":\"\"},\"caxis\":{\"gridcolor\":\"white\",\"linecolor\":\"white\",\"ticks\":\"\"}},\"coloraxis\":{\"colorbar\":{\"outlinewidth\":0,\"ticks\":\"\"}},\"colorscale\":{\"sequential\":[[0.0,\"#0d0887\"],[0.1111111111111111,\"#46039f\"],[0.2222222222222222,\"#7201a8\"],[0.3333333333333333,\"#9c179e\"],[0.4444444444444444,\"#bd3786\"],[0.5555555555555556,\"#d8576b\"],[0.6666666666666666,\"#ed7953\"],[0.7777777777777778,\"#fb9f3a\"],[0.8888888888888888,\"#fdca26\"],[1.0,\"#f0f921\"]],\"sequentialminus\":[[0.0,\"#0d0887\"],[0.1111111111111111,\"#46039f\"],[0.2222222222222222,\"#7201a8\"],[0.3333333333333333,\"#9c179e\"],[0.4444444444444444,\"#bd3786\"],[0.5555555555555556,\"#d8576b\"],[0.6666666666666666,\"#ed7953\"],[0.7777777777777778,\"#fb9f3a\"],[0.8888888888888888,\"#fdca26\"],[1.0,\"#f0f921\"]],\"diverging\":[[0,\"#8e0152\"],[0.1,\"#c51b7d\"],[0.2,\"#de77ae\"],[0.3,\"#f1b6da\"],[0.4,\"#fde0ef\"],[0.5,\"#f7f7f7\"],[0.6,\"#e6f5d0\"],[0.7,\"#b8e186\"],[0.8,\"#7fbc41\"],[0.9,\"#4d9221\"],[1,\"#276419\"]]},\"xaxis\":{\"gridcolor\":\"white\",\"linecolor\":\"white\",\"ticks\":\"\",\"title\":{\"standoff\":15},\"zerolinecolor\":\"white\",\"automargin\":true,\"zerolinewidth\":2},\"yaxis\":{\"gridcolor\":\"white\",\"linecolor\":\"white\",\"ticks\":\"\",\"title\":{\"standoff\":15},\"zerolinecolor\":\"white\",\"automargin\":true,\"zerolinewidth\":2},\"scene\":{\"xaxis\":{\"backgroundcolor\":\"#E5ECF6\",\"gridcolor\":\"white\",\"linecolor\":\"white\",\"showbackground\":true,\"ticks\":\"\",\"zerolinecolor\":\"white\",\"gridwidth\":2},\"yaxis\":{\"backgroundcolor\":\"#E5ECF6\",\"gridcolor\":\"white\",\"linecolor\":\"white\",\"showbackground\":true,\"ticks\":\"\",\"zerolinecolor\":\"white\",\"gridwidth\":2},\"zaxis\":{\"backgroundcolor\":\"#E5ECF6\",\"gridcolor\":\"white\",\"linecolor\":\"white\",\"showbackground\":true,\"ticks\":\"\",\"zerolinecolor\":\"white\",\"gridwidth\":2}},\"shapedefaults\":{\"line\":{\"color\":\"#2a3f5f\"}},\"annotationdefaults\":{\"arrowcolor\":\"#2a3f5f\",\"arrowhead\":0,\"arrowwidth\":1},\"geo\":{\"bgcolor\":\"white\",\"landcolor\":\"#E5ECF6\",\"subunitcolor\":\"white\",\"showland\":true,\"showlakes\":true,\"lakecolor\":\"white\"},\"title\":{\"x\":0.05},\"mapbox\":{\"style\":\"light\"}}},\"xaxis\":{\"anchor\":\"y\",\"domain\":[0.0,1.0],\"title\":{\"text\":\"Activity\"},\"categoryorder\":\"total descending\"},\"yaxis\":{\"anchor\":\"x\",\"domain\":[0.0,1.0],\"title\":{\"text\":\"Mean Mobility Duration\"}},\"legend\":{\"tracegroupgap\":0},\"title\":{\"text\":\"Mean Mobility Duration by Activity\"},\"barmode\":\"relative\"},                        {\"responsive\": true}                    ).then(function(){\n",
       "                            \n",
       "var gd = document.getElementById('985fc3ac-6f39-47e7-b136-5af52858a426');\n",
       "var x = new MutationObserver(function (mutations, observer) {{\n",
       "        var display = window.getComputedStyle(gd).display;\n",
       "        if (!display || display === 'none') {{\n",
       "            console.log([gd, 'removed!']);\n",
       "            Plotly.purge(gd);\n",
       "            observer.disconnect();\n",
       "        }}\n",
       "}});\n",
       "\n",
       "// Listen for the removal of the full notebook cells\n",
       "var notebookContainer = gd.closest('#notebook-container');\n",
       "if (notebookContainer) {{\n",
       "    x.observe(notebookContainer, {childList: true});\n",
       "}}\n",
       "\n",
       "// Listen for the clearing of the current output cell\n",
       "var outputEl = gd.closest('.output');\n",
       "if (outputEl) {{\n",
       "    x.observe(outputEl, {childList: true});\n",
       "}}\n",
       "\n",
       "                        })                };                });            </script>        </div>"
      ]
     },
     "metadata": {},
     "output_type": "display_data"
    }
   ],
   "source": [
    "fig = px.bar(data_frame=data.groupby('Activity')['Mobility Duration'].mean().reset_index(),\n",
    "             x='Activity', y='Mobility Duration',\n",
    "             title='Mean Mobility Duration by Activity',\n",
    "             labels={'Activity': 'Activity', 'Mobility Duration': 'Mean Mobility Duration'})\n",
    "\n",
    "fig = fig.update_layout(xaxis_categoryorder='total descending')\n",
    "fig.show()\n"
   ]
  },
  {
   "cell_type": "markdown",
   "id": "4fd0edfc",
   "metadata": {},
   "source": [
    "Next distribution of age and age by activity"
   ]
  },
  {
   "cell_type": "code",
   "execution_count": 4,
   "id": "bc1cff9d",
   "metadata": {},
   "outputs": [
    {
     "data": {
      "application/vnd.plotly.v1+json": {
       "config": {
        "plotlyServerURL": "https://plotly.com"
       },
       "data": [
        {
         "alignmentgroup": "True",
         "hovertemplate": "Participant Age=%{x}<br>Count=%{y}<extra></extra>",
         "legendgroup": "",
         "marker": {
          "color": "#636efa",
          "pattern": {
           "shape": ""
          }
         },
         "name": "",
         "offsetgroup": "",
         "orientation": "v",
         "showlegend": false,
         "textposition": "auto",
         "type": "bar",
         "x": [
          5,
          6,
          7,
          8,
          9,
          10,
          11,
          12,
          13,
          14,
          15,
          16,
          17,
          18,
          19,
          20,
          21,
          22,
          23,
          24,
          25,
          26,
          27,
          28,
          29,
          30,
          31,
          32,
          33,
          34,
          35,
          36,
          37,
          38,
          39,
          40,
          41,
          42,
          43,
          44,
          45,
          46,
          47,
          48,
          49,
          50,
          51,
          52,
          53,
          54,
          55,
          56,
          57,
          58,
          59,
          60,
          61,
          62,
          63,
          64,
          65,
          66,
          67,
          68,
          69,
          70,
          71,
          72,
          73,
          74,
          75,
          76,
          77,
          78,
          79,
          80,
          81,
          82,
          83,
          84,
          85,
          86,
          87,
          88,
          89,
          90
         ],
         "xaxis": "x",
         "y": [
          21,
          25,
          52,
          33,
          39,
          53,
          121,
          529,
          18197,
          33522,
          62385,
          136472,
          230080,
          246762,
          237570,
          418326,
          473254,
          390493,
          322799,
          239182,
          163297,
          111301,
          80020,
          61576,
          49824,
          38408,
          28683,
          24324,
          21657,
          19987,
          18946,
          17893,
          17633,
          17372,
          16794,
          16417,
          16236,
          15840,
          15521,
          15695,
          15487,
          15058,
          15046,
          14823,
          14407,
          14096,
          13616,
          12919,
          12353,
          11669,
          11057,
          10364,
          9214,
          8327,
          7379,
          6409,
          5208,
          4122,
          3122,
          2254,
          1631,
          1160,
          899,
          715,
          575,
          422,
          319,
          239,
          159,
          127,
          107,
          73,
          49,
          56,
          32,
          31,
          25,
          16,
          24,
          14,
          14,
          8,
          3,
          2,
          1,
          1
         ],
         "yaxis": "y"
        }
       ],
       "layout": {
        "barmode": "relative",
        "legend": {
         "tracegroupgap": 0
        },
        "template": {
         "data": {
          "bar": [
           {
            "error_x": {
             "color": "#2a3f5f"
            },
            "error_y": {
             "color": "#2a3f5f"
            },
            "marker": {
             "line": {
              "color": "#E5ECF6",
              "width": 0.5
             },
             "pattern": {
              "fillmode": "overlay",
              "size": 10,
              "solidity": 0.2
             }
            },
            "type": "bar"
           }
          ],
          "barpolar": [
           {
            "marker": {
             "line": {
              "color": "#E5ECF6",
              "width": 0.5
             },
             "pattern": {
              "fillmode": "overlay",
              "size": 10,
              "solidity": 0.2
             }
            },
            "type": "barpolar"
           }
          ],
          "carpet": [
           {
            "aaxis": {
             "endlinecolor": "#2a3f5f",
             "gridcolor": "white",
             "linecolor": "white",
             "minorgridcolor": "white",
             "startlinecolor": "#2a3f5f"
            },
            "baxis": {
             "endlinecolor": "#2a3f5f",
             "gridcolor": "white",
             "linecolor": "white",
             "minorgridcolor": "white",
             "startlinecolor": "#2a3f5f"
            },
            "type": "carpet"
           }
          ],
          "choropleth": [
           {
            "colorbar": {
             "outlinewidth": 0,
             "ticks": ""
            },
            "type": "choropleth"
           }
          ],
          "contour": [
           {
            "colorbar": {
             "outlinewidth": 0,
             "ticks": ""
            },
            "colorscale": [
             [
              0,
              "#0d0887"
             ],
             [
              0.1111111111111111,
              "#46039f"
             ],
             [
              0.2222222222222222,
              "#7201a8"
             ],
             [
              0.3333333333333333,
              "#9c179e"
             ],
             [
              0.4444444444444444,
              "#bd3786"
             ],
             [
              0.5555555555555556,
              "#d8576b"
             ],
             [
              0.6666666666666666,
              "#ed7953"
             ],
             [
              0.7777777777777778,
              "#fb9f3a"
             ],
             [
              0.8888888888888888,
              "#fdca26"
             ],
             [
              1,
              "#f0f921"
             ]
            ],
            "type": "contour"
           }
          ],
          "contourcarpet": [
           {
            "colorbar": {
             "outlinewidth": 0,
             "ticks": ""
            },
            "type": "contourcarpet"
           }
          ],
          "heatmap": [
           {
            "colorbar": {
             "outlinewidth": 0,
             "ticks": ""
            },
            "colorscale": [
             [
              0,
              "#0d0887"
             ],
             [
              0.1111111111111111,
              "#46039f"
             ],
             [
              0.2222222222222222,
              "#7201a8"
             ],
             [
              0.3333333333333333,
              "#9c179e"
             ],
             [
              0.4444444444444444,
              "#bd3786"
             ],
             [
              0.5555555555555556,
              "#d8576b"
             ],
             [
              0.6666666666666666,
              "#ed7953"
             ],
             [
              0.7777777777777778,
              "#fb9f3a"
             ],
             [
              0.8888888888888888,
              "#fdca26"
             ],
             [
              1,
              "#f0f921"
             ]
            ],
            "type": "heatmap"
           }
          ],
          "heatmapgl": [
           {
            "colorbar": {
             "outlinewidth": 0,
             "ticks": ""
            },
            "colorscale": [
             [
              0,
              "#0d0887"
             ],
             [
              0.1111111111111111,
              "#46039f"
             ],
             [
              0.2222222222222222,
              "#7201a8"
             ],
             [
              0.3333333333333333,
              "#9c179e"
             ],
             [
              0.4444444444444444,
              "#bd3786"
             ],
             [
              0.5555555555555556,
              "#d8576b"
             ],
             [
              0.6666666666666666,
              "#ed7953"
             ],
             [
              0.7777777777777778,
              "#fb9f3a"
             ],
             [
              0.8888888888888888,
              "#fdca26"
             ],
             [
              1,
              "#f0f921"
             ]
            ],
            "type": "heatmapgl"
           }
          ],
          "histogram": [
           {
            "marker": {
             "pattern": {
              "fillmode": "overlay",
              "size": 10,
              "solidity": 0.2
             }
            },
            "type": "histogram"
           }
          ],
          "histogram2d": [
           {
            "colorbar": {
             "outlinewidth": 0,
             "ticks": ""
            },
            "colorscale": [
             [
              0,
              "#0d0887"
             ],
             [
              0.1111111111111111,
              "#46039f"
             ],
             [
              0.2222222222222222,
              "#7201a8"
             ],
             [
              0.3333333333333333,
              "#9c179e"
             ],
             [
              0.4444444444444444,
              "#bd3786"
             ],
             [
              0.5555555555555556,
              "#d8576b"
             ],
             [
              0.6666666666666666,
              "#ed7953"
             ],
             [
              0.7777777777777778,
              "#fb9f3a"
             ],
             [
              0.8888888888888888,
              "#fdca26"
             ],
             [
              1,
              "#f0f921"
             ]
            ],
            "type": "histogram2d"
           }
          ],
          "histogram2dcontour": [
           {
            "colorbar": {
             "outlinewidth": 0,
             "ticks": ""
            },
            "colorscale": [
             [
              0,
              "#0d0887"
             ],
             [
              0.1111111111111111,
              "#46039f"
             ],
             [
              0.2222222222222222,
              "#7201a8"
             ],
             [
              0.3333333333333333,
              "#9c179e"
             ],
             [
              0.4444444444444444,
              "#bd3786"
             ],
             [
              0.5555555555555556,
              "#d8576b"
             ],
             [
              0.6666666666666666,
              "#ed7953"
             ],
             [
              0.7777777777777778,
              "#fb9f3a"
             ],
             [
              0.8888888888888888,
              "#fdca26"
             ],
             [
              1,
              "#f0f921"
             ]
            ],
            "type": "histogram2dcontour"
           }
          ],
          "mesh3d": [
           {
            "colorbar": {
             "outlinewidth": 0,
             "ticks": ""
            },
            "type": "mesh3d"
           }
          ],
          "parcoords": [
           {
            "line": {
             "colorbar": {
              "outlinewidth": 0,
              "ticks": ""
             }
            },
            "type": "parcoords"
           }
          ],
          "pie": [
           {
            "automargin": true,
            "type": "pie"
           }
          ],
          "scatter": [
           {
            "fillpattern": {
             "fillmode": "overlay",
             "size": 10,
             "solidity": 0.2
            },
            "type": "scatter"
           }
          ],
          "scatter3d": [
           {
            "line": {
             "colorbar": {
              "outlinewidth": 0,
              "ticks": ""
             }
            },
            "marker": {
             "colorbar": {
              "outlinewidth": 0,
              "ticks": ""
             }
            },
            "type": "scatter3d"
           }
          ],
          "scattercarpet": [
           {
            "marker": {
             "colorbar": {
              "outlinewidth": 0,
              "ticks": ""
             }
            },
            "type": "scattercarpet"
           }
          ],
          "scattergeo": [
           {
            "marker": {
             "colorbar": {
              "outlinewidth": 0,
              "ticks": ""
             }
            },
            "type": "scattergeo"
           }
          ],
          "scattergl": [
           {
            "marker": {
             "colorbar": {
              "outlinewidth": 0,
              "ticks": ""
             }
            },
            "type": "scattergl"
           }
          ],
          "scattermapbox": [
           {
            "marker": {
             "colorbar": {
              "outlinewidth": 0,
              "ticks": ""
             }
            },
            "type": "scattermapbox"
           }
          ],
          "scatterpolar": [
           {
            "marker": {
             "colorbar": {
              "outlinewidth": 0,
              "ticks": ""
             }
            },
            "type": "scatterpolar"
           }
          ],
          "scatterpolargl": [
           {
            "marker": {
             "colorbar": {
              "outlinewidth": 0,
              "ticks": ""
             }
            },
            "type": "scatterpolargl"
           }
          ],
          "scatterternary": [
           {
            "marker": {
             "colorbar": {
              "outlinewidth": 0,
              "ticks": ""
             }
            },
            "type": "scatterternary"
           }
          ],
          "surface": [
           {
            "colorbar": {
             "outlinewidth": 0,
             "ticks": ""
            },
            "colorscale": [
             [
              0,
              "#0d0887"
             ],
             [
              0.1111111111111111,
              "#46039f"
             ],
             [
              0.2222222222222222,
              "#7201a8"
             ],
             [
              0.3333333333333333,
              "#9c179e"
             ],
             [
              0.4444444444444444,
              "#bd3786"
             ],
             [
              0.5555555555555556,
              "#d8576b"
             ],
             [
              0.6666666666666666,
              "#ed7953"
             ],
             [
              0.7777777777777778,
              "#fb9f3a"
             ],
             [
              0.8888888888888888,
              "#fdca26"
             ],
             [
              1,
              "#f0f921"
             ]
            ],
            "type": "surface"
           }
          ],
          "table": [
           {
            "cells": {
             "fill": {
              "color": "#EBF0F8"
             },
             "line": {
              "color": "white"
             }
            },
            "header": {
             "fill": {
              "color": "#C8D4E3"
             },
             "line": {
              "color": "white"
             }
            },
            "type": "table"
           }
          ]
         },
         "layout": {
          "annotationdefaults": {
           "arrowcolor": "#2a3f5f",
           "arrowhead": 0,
           "arrowwidth": 1
          },
          "autotypenumbers": "strict",
          "coloraxis": {
           "colorbar": {
            "outlinewidth": 0,
            "ticks": ""
           }
          },
          "colorscale": {
           "diverging": [
            [
             0,
             "#8e0152"
            ],
            [
             0.1,
             "#c51b7d"
            ],
            [
             0.2,
             "#de77ae"
            ],
            [
             0.3,
             "#f1b6da"
            ],
            [
             0.4,
             "#fde0ef"
            ],
            [
             0.5,
             "#f7f7f7"
            ],
            [
             0.6,
             "#e6f5d0"
            ],
            [
             0.7,
             "#b8e186"
            ],
            [
             0.8,
             "#7fbc41"
            ],
            [
             0.9,
             "#4d9221"
            ],
            [
             1,
             "#276419"
            ]
           ],
           "sequential": [
            [
             0,
             "#0d0887"
            ],
            [
             0.1111111111111111,
             "#46039f"
            ],
            [
             0.2222222222222222,
             "#7201a8"
            ],
            [
             0.3333333333333333,
             "#9c179e"
            ],
            [
             0.4444444444444444,
             "#bd3786"
            ],
            [
             0.5555555555555556,
             "#d8576b"
            ],
            [
             0.6666666666666666,
             "#ed7953"
            ],
            [
             0.7777777777777778,
             "#fb9f3a"
            ],
            [
             0.8888888888888888,
             "#fdca26"
            ],
            [
             1,
             "#f0f921"
            ]
           ],
           "sequentialminus": [
            [
             0,
             "#0d0887"
            ],
            [
             0.1111111111111111,
             "#46039f"
            ],
            [
             0.2222222222222222,
             "#7201a8"
            ],
            [
             0.3333333333333333,
             "#9c179e"
            ],
            [
             0.4444444444444444,
             "#bd3786"
            ],
            [
             0.5555555555555556,
             "#d8576b"
            ],
            [
             0.6666666666666666,
             "#ed7953"
            ],
            [
             0.7777777777777778,
             "#fb9f3a"
            ],
            [
             0.8888888888888888,
             "#fdca26"
            ],
            [
             1,
             "#f0f921"
            ]
           ]
          },
          "colorway": [
           "#636efa",
           "#EF553B",
           "#00cc96",
           "#ab63fa",
           "#FFA15A",
           "#19d3f3",
           "#FF6692",
           "#B6E880",
           "#FF97FF",
           "#FECB52"
          ],
          "font": {
           "color": "#2a3f5f"
          },
          "geo": {
           "bgcolor": "white",
           "lakecolor": "white",
           "landcolor": "#E5ECF6",
           "showlakes": true,
           "showland": true,
           "subunitcolor": "white"
          },
          "hoverlabel": {
           "align": "left"
          },
          "hovermode": "closest",
          "mapbox": {
           "style": "light"
          },
          "paper_bgcolor": "white",
          "plot_bgcolor": "#E5ECF6",
          "polar": {
           "angularaxis": {
            "gridcolor": "white",
            "linecolor": "white",
            "ticks": ""
           },
           "bgcolor": "#E5ECF6",
           "radialaxis": {
            "gridcolor": "white",
            "linecolor": "white",
            "ticks": ""
           }
          },
          "scene": {
           "xaxis": {
            "backgroundcolor": "#E5ECF6",
            "gridcolor": "white",
            "gridwidth": 2,
            "linecolor": "white",
            "showbackground": true,
            "ticks": "",
            "zerolinecolor": "white"
           },
           "yaxis": {
            "backgroundcolor": "#E5ECF6",
            "gridcolor": "white",
            "gridwidth": 2,
            "linecolor": "white",
            "showbackground": true,
            "ticks": "",
            "zerolinecolor": "white"
           },
           "zaxis": {
            "backgroundcolor": "#E5ECF6",
            "gridcolor": "white",
            "gridwidth": 2,
            "linecolor": "white",
            "showbackground": true,
            "ticks": "",
            "zerolinecolor": "white"
           }
          },
          "shapedefaults": {
           "line": {
            "color": "#2a3f5f"
           }
          },
          "ternary": {
           "aaxis": {
            "gridcolor": "white",
            "linecolor": "white",
            "ticks": ""
           },
           "baxis": {
            "gridcolor": "white",
            "linecolor": "white",
            "ticks": ""
           },
           "bgcolor": "#E5ECF6",
           "caxis": {
            "gridcolor": "white",
            "linecolor": "white",
            "ticks": ""
           }
          },
          "title": {
           "x": 0.05
          },
          "xaxis": {
           "automargin": true,
           "gridcolor": "white",
           "linecolor": "white",
           "ticks": "",
           "title": {
            "standoff": 15
           },
           "zerolinecolor": "white",
           "zerolinewidth": 2
          },
          "yaxis": {
           "automargin": true,
           "gridcolor": "white",
           "linecolor": "white",
           "ticks": "",
           "title": {
            "standoff": 15
           },
           "zerolinecolor": "white",
           "zerolinewidth": 2
          }
         }
        },
        "title": {
         "text": "Histogram of Participant Age"
        },
        "xaxis": {
         "anchor": "y",
         "categoryorder": "total descending",
         "domain": [
          0,
          1
         ],
         "tickangle": 45,
         "title": {
          "text": "Participant Age"
         }
        },
        "yaxis": {
         "anchor": "x",
         "domain": [
          0,
          1
         ],
         "title": {
          "text": "Count"
         }
        }
       }
      },
      "text/html": [
       "<div>                            <div id=\"b0d74357-e577-4b70-a195-78fec92b7f5b\" class=\"plotly-graph-div\" style=\"height:525px; width:100%;\"></div>            <script type=\"text/javascript\">                require([\"plotly\"], function(Plotly) {                    window.PLOTLYENV=window.PLOTLYENV || {};                                    if (document.getElementById(\"b0d74357-e577-4b70-a195-78fec92b7f5b\")) {                    Plotly.newPlot(                        \"b0d74357-e577-4b70-a195-78fec92b7f5b\",                        [{\"alignmentgroup\":\"True\",\"hovertemplate\":\"Participant Age=%{x}<br>Count=%{y}<extra></extra>\",\"legendgroup\":\"\",\"marker\":{\"color\":\"#636efa\",\"pattern\":{\"shape\":\"\"}},\"name\":\"\",\"offsetgroup\":\"\",\"orientation\":\"v\",\"showlegend\":false,\"textposition\":\"auto\",\"x\":[5.0,6.0,7.0,8.0,9.0,10.0,11.0,12.0,13.0,14.0,15.0,16.0,17.0,18.0,19.0,20.0,21.0,22.0,23.0,24.0,25.0,26.0,27.0,28.0,29.0,30.0,31.0,32.0,33.0,34.0,35.0,36.0,37.0,38.0,39.0,40.0,41.0,42.0,43.0,44.0,45.0,46.0,47.0,48.0,49.0,50.0,51.0,52.0,53.0,54.0,55.0,56.0,57.0,58.0,59.0,60.0,61.0,62.0,63.0,64.0,65.0,66.0,67.0,68.0,69.0,70.0,71.0,72.0,73.0,74.0,75.0,76.0,77.0,78.0,79.0,80.0,81.0,82.0,83.0,84.0,85.0,86.0,87.0,88.0,89.0,90.0],\"xaxis\":\"x\",\"y\":[21,25,52,33,39,53,121,529,18197,33522,62385,136472,230080,246762,237570,418326,473254,390493,322799,239182,163297,111301,80020,61576,49824,38408,28683,24324,21657,19987,18946,17893,17633,17372,16794,16417,16236,15840,15521,15695,15487,15058,15046,14823,14407,14096,13616,12919,12353,11669,11057,10364,9214,8327,7379,6409,5208,4122,3122,2254,1631,1160,899,715,575,422,319,239,159,127,107,73,49,56,32,31,25,16,24,14,14,8,3,2,1,1],\"yaxis\":\"y\",\"type\":\"bar\"}],                        {\"template\":{\"data\":{\"histogram2dcontour\":[{\"type\":\"histogram2dcontour\",\"colorbar\":{\"outlinewidth\":0,\"ticks\":\"\"},\"colorscale\":[[0.0,\"#0d0887\"],[0.1111111111111111,\"#46039f\"],[0.2222222222222222,\"#7201a8\"],[0.3333333333333333,\"#9c179e\"],[0.4444444444444444,\"#bd3786\"],[0.5555555555555556,\"#d8576b\"],[0.6666666666666666,\"#ed7953\"],[0.7777777777777778,\"#fb9f3a\"],[0.8888888888888888,\"#fdca26\"],[1.0,\"#f0f921\"]]}],\"choropleth\":[{\"type\":\"choropleth\",\"colorbar\":{\"outlinewidth\":0,\"ticks\":\"\"}}],\"histogram2d\":[{\"type\":\"histogram2d\",\"colorbar\":{\"outlinewidth\":0,\"ticks\":\"\"},\"colorscale\":[[0.0,\"#0d0887\"],[0.1111111111111111,\"#46039f\"],[0.2222222222222222,\"#7201a8\"],[0.3333333333333333,\"#9c179e\"],[0.4444444444444444,\"#bd3786\"],[0.5555555555555556,\"#d8576b\"],[0.6666666666666666,\"#ed7953\"],[0.7777777777777778,\"#fb9f3a\"],[0.8888888888888888,\"#fdca26\"],[1.0,\"#f0f921\"]]}],\"heatmap\":[{\"type\":\"heatmap\",\"colorbar\":{\"outlinewidth\":0,\"ticks\":\"\"},\"colorscale\":[[0.0,\"#0d0887\"],[0.1111111111111111,\"#46039f\"],[0.2222222222222222,\"#7201a8\"],[0.3333333333333333,\"#9c179e\"],[0.4444444444444444,\"#bd3786\"],[0.5555555555555556,\"#d8576b\"],[0.6666666666666666,\"#ed7953\"],[0.7777777777777778,\"#fb9f3a\"],[0.8888888888888888,\"#fdca26\"],[1.0,\"#f0f921\"]]}],\"heatmapgl\":[{\"type\":\"heatmapgl\",\"colorbar\":{\"outlinewidth\":0,\"ticks\":\"\"},\"colorscale\":[[0.0,\"#0d0887\"],[0.1111111111111111,\"#46039f\"],[0.2222222222222222,\"#7201a8\"],[0.3333333333333333,\"#9c179e\"],[0.4444444444444444,\"#bd3786\"],[0.5555555555555556,\"#d8576b\"],[0.6666666666666666,\"#ed7953\"],[0.7777777777777778,\"#fb9f3a\"],[0.8888888888888888,\"#fdca26\"],[1.0,\"#f0f921\"]]}],\"contourcarpet\":[{\"type\":\"contourcarpet\",\"colorbar\":{\"outlinewidth\":0,\"ticks\":\"\"}}],\"contour\":[{\"type\":\"contour\",\"colorbar\":{\"outlinewidth\":0,\"ticks\":\"\"},\"colorscale\":[[0.0,\"#0d0887\"],[0.1111111111111111,\"#46039f\"],[0.2222222222222222,\"#7201a8\"],[0.3333333333333333,\"#9c179e\"],[0.4444444444444444,\"#bd3786\"],[0.5555555555555556,\"#d8576b\"],[0.6666666666666666,\"#ed7953\"],[0.7777777777777778,\"#fb9f3a\"],[0.8888888888888888,\"#fdca26\"],[1.0,\"#f0f921\"]]}],\"surface\":[{\"type\":\"surface\",\"colorbar\":{\"outlinewidth\":0,\"ticks\":\"\"},\"colorscale\":[[0.0,\"#0d0887\"],[0.1111111111111111,\"#46039f\"],[0.2222222222222222,\"#7201a8\"],[0.3333333333333333,\"#9c179e\"],[0.4444444444444444,\"#bd3786\"],[0.5555555555555556,\"#d8576b\"],[0.6666666666666666,\"#ed7953\"],[0.7777777777777778,\"#fb9f3a\"],[0.8888888888888888,\"#fdca26\"],[1.0,\"#f0f921\"]]}],\"mesh3d\":[{\"type\":\"mesh3d\",\"colorbar\":{\"outlinewidth\":0,\"ticks\":\"\"}}],\"scatter\":[{\"fillpattern\":{\"fillmode\":\"overlay\",\"size\":10,\"solidity\":0.2},\"type\":\"scatter\"}],\"parcoords\":[{\"type\":\"parcoords\",\"line\":{\"colorbar\":{\"outlinewidth\":0,\"ticks\":\"\"}}}],\"scatterpolargl\":[{\"type\":\"scatterpolargl\",\"marker\":{\"colorbar\":{\"outlinewidth\":0,\"ticks\":\"\"}}}],\"bar\":[{\"error_x\":{\"color\":\"#2a3f5f\"},\"error_y\":{\"color\":\"#2a3f5f\"},\"marker\":{\"line\":{\"color\":\"#E5ECF6\",\"width\":0.5},\"pattern\":{\"fillmode\":\"overlay\",\"size\":10,\"solidity\":0.2}},\"type\":\"bar\"}],\"scattergeo\":[{\"type\":\"scattergeo\",\"marker\":{\"colorbar\":{\"outlinewidth\":0,\"ticks\":\"\"}}}],\"scatterpolar\":[{\"type\":\"scatterpolar\",\"marker\":{\"colorbar\":{\"outlinewidth\":0,\"ticks\":\"\"}}}],\"histogram\":[{\"marker\":{\"pattern\":{\"fillmode\":\"overlay\",\"size\":10,\"solidity\":0.2}},\"type\":\"histogram\"}],\"scattergl\":[{\"type\":\"scattergl\",\"marker\":{\"colorbar\":{\"outlinewidth\":0,\"ticks\":\"\"}}}],\"scatter3d\":[{\"type\":\"scatter3d\",\"line\":{\"colorbar\":{\"outlinewidth\":0,\"ticks\":\"\"}},\"marker\":{\"colorbar\":{\"outlinewidth\":0,\"ticks\":\"\"}}}],\"scattermapbox\":[{\"type\":\"scattermapbox\",\"marker\":{\"colorbar\":{\"outlinewidth\":0,\"ticks\":\"\"}}}],\"scatterternary\":[{\"type\":\"scatterternary\",\"marker\":{\"colorbar\":{\"outlinewidth\":0,\"ticks\":\"\"}}}],\"scattercarpet\":[{\"type\":\"scattercarpet\",\"marker\":{\"colorbar\":{\"outlinewidth\":0,\"ticks\":\"\"}}}],\"carpet\":[{\"aaxis\":{\"endlinecolor\":\"#2a3f5f\",\"gridcolor\":\"white\",\"linecolor\":\"white\",\"minorgridcolor\":\"white\",\"startlinecolor\":\"#2a3f5f\"},\"baxis\":{\"endlinecolor\":\"#2a3f5f\",\"gridcolor\":\"white\",\"linecolor\":\"white\",\"minorgridcolor\":\"white\",\"startlinecolor\":\"#2a3f5f\"},\"type\":\"carpet\"}],\"table\":[{\"cells\":{\"fill\":{\"color\":\"#EBF0F8\"},\"line\":{\"color\":\"white\"}},\"header\":{\"fill\":{\"color\":\"#C8D4E3\"},\"line\":{\"color\":\"white\"}},\"type\":\"table\"}],\"barpolar\":[{\"marker\":{\"line\":{\"color\":\"#E5ECF6\",\"width\":0.5},\"pattern\":{\"fillmode\":\"overlay\",\"size\":10,\"solidity\":0.2}},\"type\":\"barpolar\"}],\"pie\":[{\"automargin\":true,\"type\":\"pie\"}]},\"layout\":{\"autotypenumbers\":\"strict\",\"colorway\":[\"#636efa\",\"#EF553B\",\"#00cc96\",\"#ab63fa\",\"#FFA15A\",\"#19d3f3\",\"#FF6692\",\"#B6E880\",\"#FF97FF\",\"#FECB52\"],\"font\":{\"color\":\"#2a3f5f\"},\"hovermode\":\"closest\",\"hoverlabel\":{\"align\":\"left\"},\"paper_bgcolor\":\"white\",\"plot_bgcolor\":\"#E5ECF6\",\"polar\":{\"bgcolor\":\"#E5ECF6\",\"angularaxis\":{\"gridcolor\":\"white\",\"linecolor\":\"white\",\"ticks\":\"\"},\"radialaxis\":{\"gridcolor\":\"white\",\"linecolor\":\"white\",\"ticks\":\"\"}},\"ternary\":{\"bgcolor\":\"#E5ECF6\",\"aaxis\":{\"gridcolor\":\"white\",\"linecolor\":\"white\",\"ticks\":\"\"},\"baxis\":{\"gridcolor\":\"white\",\"linecolor\":\"white\",\"ticks\":\"\"},\"caxis\":{\"gridcolor\":\"white\",\"linecolor\":\"white\",\"ticks\":\"\"}},\"coloraxis\":{\"colorbar\":{\"outlinewidth\":0,\"ticks\":\"\"}},\"colorscale\":{\"sequential\":[[0.0,\"#0d0887\"],[0.1111111111111111,\"#46039f\"],[0.2222222222222222,\"#7201a8\"],[0.3333333333333333,\"#9c179e\"],[0.4444444444444444,\"#bd3786\"],[0.5555555555555556,\"#d8576b\"],[0.6666666666666666,\"#ed7953\"],[0.7777777777777778,\"#fb9f3a\"],[0.8888888888888888,\"#fdca26\"],[1.0,\"#f0f921\"]],\"sequentialminus\":[[0.0,\"#0d0887\"],[0.1111111111111111,\"#46039f\"],[0.2222222222222222,\"#7201a8\"],[0.3333333333333333,\"#9c179e\"],[0.4444444444444444,\"#bd3786\"],[0.5555555555555556,\"#d8576b\"],[0.6666666666666666,\"#ed7953\"],[0.7777777777777778,\"#fb9f3a\"],[0.8888888888888888,\"#fdca26\"],[1.0,\"#f0f921\"]],\"diverging\":[[0,\"#8e0152\"],[0.1,\"#c51b7d\"],[0.2,\"#de77ae\"],[0.3,\"#f1b6da\"],[0.4,\"#fde0ef\"],[0.5,\"#f7f7f7\"],[0.6,\"#e6f5d0\"],[0.7,\"#b8e186\"],[0.8,\"#7fbc41\"],[0.9,\"#4d9221\"],[1,\"#276419\"]]},\"xaxis\":{\"gridcolor\":\"white\",\"linecolor\":\"white\",\"ticks\":\"\",\"title\":{\"standoff\":15},\"zerolinecolor\":\"white\",\"automargin\":true,\"zerolinewidth\":2},\"yaxis\":{\"gridcolor\":\"white\",\"linecolor\":\"white\",\"ticks\":\"\",\"title\":{\"standoff\":15},\"zerolinecolor\":\"white\",\"automargin\":true,\"zerolinewidth\":2},\"scene\":{\"xaxis\":{\"backgroundcolor\":\"#E5ECF6\",\"gridcolor\":\"white\",\"linecolor\":\"white\",\"showbackground\":true,\"ticks\":\"\",\"zerolinecolor\":\"white\",\"gridwidth\":2},\"yaxis\":{\"backgroundcolor\":\"#E5ECF6\",\"gridcolor\":\"white\",\"linecolor\":\"white\",\"showbackground\":true,\"ticks\":\"\",\"zerolinecolor\":\"white\",\"gridwidth\":2},\"zaxis\":{\"backgroundcolor\":\"#E5ECF6\",\"gridcolor\":\"white\",\"linecolor\":\"white\",\"showbackground\":true,\"ticks\":\"\",\"zerolinecolor\":\"white\",\"gridwidth\":2}},\"shapedefaults\":{\"line\":{\"color\":\"#2a3f5f\"}},\"annotationdefaults\":{\"arrowcolor\":\"#2a3f5f\",\"arrowhead\":0,\"arrowwidth\":1},\"geo\":{\"bgcolor\":\"white\",\"landcolor\":\"#E5ECF6\",\"subunitcolor\":\"white\",\"showland\":true,\"showlakes\":true,\"lakecolor\":\"white\"},\"title\":{\"x\":0.05},\"mapbox\":{\"style\":\"light\"}}},\"xaxis\":{\"anchor\":\"y\",\"domain\":[0.0,1.0],\"title\":{\"text\":\"Participant Age\"},\"categoryorder\":\"total descending\",\"tickangle\":45},\"yaxis\":{\"anchor\":\"x\",\"domain\":[0.0,1.0],\"title\":{\"text\":\"Count\"}},\"legend\":{\"tracegroupgap\":0},\"title\":{\"text\":\"Histogram of Participant Age\"},\"barmode\":\"relative\"},                        {\"responsive\": true}                    ).then(function(){\n",
       "                            \n",
       "var gd = document.getElementById('b0d74357-e577-4b70-a195-78fec92b7f5b');\n",
       "var x = new MutationObserver(function (mutations, observer) {{\n",
       "        var display = window.getComputedStyle(gd).display;\n",
       "        if (!display || display === 'none') {{\n",
       "            console.log([gd, 'removed!']);\n",
       "            Plotly.purge(gd);\n",
       "            observer.disconnect();\n",
       "        }}\n",
       "}});\n",
       "\n",
       "// Listen for the removal of the full notebook cells\n",
       "var notebookContainer = gd.closest('#notebook-container');\n",
       "if (notebookContainer) {{\n",
       "    x.observe(notebookContainer, {childList: true});\n",
       "}}\n",
       "\n",
       "// Listen for the clearing of the current output cell\n",
       "var outputEl = gd.closest('.output');\n",
       "if (outputEl) {{\n",
       "    x.observe(outputEl, {childList: true});\n",
       "}}\n",
       "\n",
       "                        })                };                });            </script>        </div>"
      ]
     },
     "metadata": {},
     "output_type": "display_data"
    },
    {
     "data": {
      "application/vnd.plotly.v1+json": {
       "config": {
        "plotlyServerURL": "https://plotly.com"
       },
       "data": [
        {
         "alignmentgroup": "True",
         "hovertemplate": "Activity=%{x}<br>Mean Participant Age=%{y}<extra></extra>",
         "legendgroup": "",
         "marker": {
          "color": "#636efa",
          "pattern": {
           "shape": ""
          }
         },
         "name": "",
         "offsetgroup": "",
         "orientation": "v",
         "showlegend": false,
         "textposition": "auto",
         "type": "bar",
         "x": [
          "Advance Planning Visit",
          "Advance Planning Visit - EVS",
          "Advance Planning Visit - Erasmus- PRO",
          "Advance Planning Visit – Youth Exchange",
          "ErasmusPro - Mobility of VET learners (3 to 12 months)",
          "European Voluntary Service - Partner Countries",
          "European Voluntary Service - Programme Countries",
          "Group Volunteering Activities",
          "Individual Volunteering Activities",
          "Job Shadowing",
          "Mobility of VET learners (2 weeks up to 3 months)",
          "Mobility of youth workers - Partner Countries",
          "Mobility of youth workers - Programme Countries",
          "National youth meetings",
          "Staff mobility for Teaching To/From Partner Countries",
          "Staff mobility for Training To/From Partner Countries",
          "Staff mobility for teaching between Programme Countries",
          "Staff mobility for training between Programme Countries",
          "Staff training abroad",
          "Structured Courses/Training Events",
          "Student mobility for Studies To/From Partner Countries",
          "Student mobility for studies between Programme Countries",
          "Student mobility for traineeships To/From Partner Countries",
          "Student mobility for traineeships between Programme Countries",
          "Teaching/training assignments abroad",
          "Transnational youth meetings",
          "VET learners traineeships in companies abroad",
          "VET learners traineeships in vocational institutes abroad",
          "Youth Exchanges - Partner Countries",
          "Youth Exchanges - Programme Countries"
         ],
         "xaxis": "x",
         "y": [
          29.625,
          30.008810572687224,
          46.14673913043478,
          28.712385269963956,
          20.84342453662842,
          23.677165354330707,
          23.0925691499462,
          22.654362416107382,
          23.006640926640927,
          44.914358554702254,
          21.692780303371293,
          28.17329666809056,
          29.124156319643426,
          21.953473529230447,
          32,
          null,
          22.27683615819209,
          21.87142857142857,
          44.98169223608436,
          43.86745834484029,
          23.195631898025805,
          22.09310692185926,
          24.534104046242774,
          23.185949817704692,
          44.645952747099116,
          23.114417832582404,
          20.944439477419284,
          20.76515104134092,
          22.549792242697603,
          21.84260966083466
         ],
         "yaxis": "y"
        }
       ],
       "layout": {
        "barmode": "relative",
        "legend": {
         "tracegroupgap": 0
        },
        "template": {
         "data": {
          "bar": [
           {
            "error_x": {
             "color": "#2a3f5f"
            },
            "error_y": {
             "color": "#2a3f5f"
            },
            "marker": {
             "line": {
              "color": "#E5ECF6",
              "width": 0.5
             },
             "pattern": {
              "fillmode": "overlay",
              "size": 10,
              "solidity": 0.2
             }
            },
            "type": "bar"
           }
          ],
          "barpolar": [
           {
            "marker": {
             "line": {
              "color": "#E5ECF6",
              "width": 0.5
             },
             "pattern": {
              "fillmode": "overlay",
              "size": 10,
              "solidity": 0.2
             }
            },
            "type": "barpolar"
           }
          ],
          "carpet": [
           {
            "aaxis": {
             "endlinecolor": "#2a3f5f",
             "gridcolor": "white",
             "linecolor": "white",
             "minorgridcolor": "white",
             "startlinecolor": "#2a3f5f"
            },
            "baxis": {
             "endlinecolor": "#2a3f5f",
             "gridcolor": "white",
             "linecolor": "white",
             "minorgridcolor": "white",
             "startlinecolor": "#2a3f5f"
            },
            "type": "carpet"
           }
          ],
          "choropleth": [
           {
            "colorbar": {
             "outlinewidth": 0,
             "ticks": ""
            },
            "type": "choropleth"
           }
          ],
          "contour": [
           {
            "colorbar": {
             "outlinewidth": 0,
             "ticks": ""
            },
            "colorscale": [
             [
              0,
              "#0d0887"
             ],
             [
              0.1111111111111111,
              "#46039f"
             ],
             [
              0.2222222222222222,
              "#7201a8"
             ],
             [
              0.3333333333333333,
              "#9c179e"
             ],
             [
              0.4444444444444444,
              "#bd3786"
             ],
             [
              0.5555555555555556,
              "#d8576b"
             ],
             [
              0.6666666666666666,
              "#ed7953"
             ],
             [
              0.7777777777777778,
              "#fb9f3a"
             ],
             [
              0.8888888888888888,
              "#fdca26"
             ],
             [
              1,
              "#f0f921"
             ]
            ],
            "type": "contour"
           }
          ],
          "contourcarpet": [
           {
            "colorbar": {
             "outlinewidth": 0,
             "ticks": ""
            },
            "type": "contourcarpet"
           }
          ],
          "heatmap": [
           {
            "colorbar": {
             "outlinewidth": 0,
             "ticks": ""
            },
            "colorscale": [
             [
              0,
              "#0d0887"
             ],
             [
              0.1111111111111111,
              "#46039f"
             ],
             [
              0.2222222222222222,
              "#7201a8"
             ],
             [
              0.3333333333333333,
              "#9c179e"
             ],
             [
              0.4444444444444444,
              "#bd3786"
             ],
             [
              0.5555555555555556,
              "#d8576b"
             ],
             [
              0.6666666666666666,
              "#ed7953"
             ],
             [
              0.7777777777777778,
              "#fb9f3a"
             ],
             [
              0.8888888888888888,
              "#fdca26"
             ],
             [
              1,
              "#f0f921"
             ]
            ],
            "type": "heatmap"
           }
          ],
          "heatmapgl": [
           {
            "colorbar": {
             "outlinewidth": 0,
             "ticks": ""
            },
            "colorscale": [
             [
              0,
              "#0d0887"
             ],
             [
              0.1111111111111111,
              "#46039f"
             ],
             [
              0.2222222222222222,
              "#7201a8"
             ],
             [
              0.3333333333333333,
              "#9c179e"
             ],
             [
              0.4444444444444444,
              "#bd3786"
             ],
             [
              0.5555555555555556,
              "#d8576b"
             ],
             [
              0.6666666666666666,
              "#ed7953"
             ],
             [
              0.7777777777777778,
              "#fb9f3a"
             ],
             [
              0.8888888888888888,
              "#fdca26"
             ],
             [
              1,
              "#f0f921"
             ]
            ],
            "type": "heatmapgl"
           }
          ],
          "histogram": [
           {
            "marker": {
             "pattern": {
              "fillmode": "overlay",
              "size": 10,
              "solidity": 0.2
             }
            },
            "type": "histogram"
           }
          ],
          "histogram2d": [
           {
            "colorbar": {
             "outlinewidth": 0,
             "ticks": ""
            },
            "colorscale": [
             [
              0,
              "#0d0887"
             ],
             [
              0.1111111111111111,
              "#46039f"
             ],
             [
              0.2222222222222222,
              "#7201a8"
             ],
             [
              0.3333333333333333,
              "#9c179e"
             ],
             [
              0.4444444444444444,
              "#bd3786"
             ],
             [
              0.5555555555555556,
              "#d8576b"
             ],
             [
              0.6666666666666666,
              "#ed7953"
             ],
             [
              0.7777777777777778,
              "#fb9f3a"
             ],
             [
              0.8888888888888888,
              "#fdca26"
             ],
             [
              1,
              "#f0f921"
             ]
            ],
            "type": "histogram2d"
           }
          ],
          "histogram2dcontour": [
           {
            "colorbar": {
             "outlinewidth": 0,
             "ticks": ""
            },
            "colorscale": [
             [
              0,
              "#0d0887"
             ],
             [
              0.1111111111111111,
              "#46039f"
             ],
             [
              0.2222222222222222,
              "#7201a8"
             ],
             [
              0.3333333333333333,
              "#9c179e"
             ],
             [
              0.4444444444444444,
              "#bd3786"
             ],
             [
              0.5555555555555556,
              "#d8576b"
             ],
             [
              0.6666666666666666,
              "#ed7953"
             ],
             [
              0.7777777777777778,
              "#fb9f3a"
             ],
             [
              0.8888888888888888,
              "#fdca26"
             ],
             [
              1,
              "#f0f921"
             ]
            ],
            "type": "histogram2dcontour"
           }
          ],
          "mesh3d": [
           {
            "colorbar": {
             "outlinewidth": 0,
             "ticks": ""
            },
            "type": "mesh3d"
           }
          ],
          "parcoords": [
           {
            "line": {
             "colorbar": {
              "outlinewidth": 0,
              "ticks": ""
             }
            },
            "type": "parcoords"
           }
          ],
          "pie": [
           {
            "automargin": true,
            "type": "pie"
           }
          ],
          "scatter": [
           {
            "fillpattern": {
             "fillmode": "overlay",
             "size": 10,
             "solidity": 0.2
            },
            "type": "scatter"
           }
          ],
          "scatter3d": [
           {
            "line": {
             "colorbar": {
              "outlinewidth": 0,
              "ticks": ""
             }
            },
            "marker": {
             "colorbar": {
              "outlinewidth": 0,
              "ticks": ""
             }
            },
            "type": "scatter3d"
           }
          ],
          "scattercarpet": [
           {
            "marker": {
             "colorbar": {
              "outlinewidth": 0,
              "ticks": ""
             }
            },
            "type": "scattercarpet"
           }
          ],
          "scattergeo": [
           {
            "marker": {
             "colorbar": {
              "outlinewidth": 0,
              "ticks": ""
             }
            },
            "type": "scattergeo"
           }
          ],
          "scattergl": [
           {
            "marker": {
             "colorbar": {
              "outlinewidth": 0,
              "ticks": ""
             }
            },
            "type": "scattergl"
           }
          ],
          "scattermapbox": [
           {
            "marker": {
             "colorbar": {
              "outlinewidth": 0,
              "ticks": ""
             }
            },
            "type": "scattermapbox"
           }
          ],
          "scatterpolar": [
           {
            "marker": {
             "colorbar": {
              "outlinewidth": 0,
              "ticks": ""
             }
            },
            "type": "scatterpolar"
           }
          ],
          "scatterpolargl": [
           {
            "marker": {
             "colorbar": {
              "outlinewidth": 0,
              "ticks": ""
             }
            },
            "type": "scatterpolargl"
           }
          ],
          "scatterternary": [
           {
            "marker": {
             "colorbar": {
              "outlinewidth": 0,
              "ticks": ""
             }
            },
            "type": "scatterternary"
           }
          ],
          "surface": [
           {
            "colorbar": {
             "outlinewidth": 0,
             "ticks": ""
            },
            "colorscale": [
             [
              0,
              "#0d0887"
             ],
             [
              0.1111111111111111,
              "#46039f"
             ],
             [
              0.2222222222222222,
              "#7201a8"
             ],
             [
              0.3333333333333333,
              "#9c179e"
             ],
             [
              0.4444444444444444,
              "#bd3786"
             ],
             [
              0.5555555555555556,
              "#d8576b"
             ],
             [
              0.6666666666666666,
              "#ed7953"
             ],
             [
              0.7777777777777778,
              "#fb9f3a"
             ],
             [
              0.8888888888888888,
              "#fdca26"
             ],
             [
              1,
              "#f0f921"
             ]
            ],
            "type": "surface"
           }
          ],
          "table": [
           {
            "cells": {
             "fill": {
              "color": "#EBF0F8"
             },
             "line": {
              "color": "white"
             }
            },
            "header": {
             "fill": {
              "color": "#C8D4E3"
             },
             "line": {
              "color": "white"
             }
            },
            "type": "table"
           }
          ]
         },
         "layout": {
          "annotationdefaults": {
           "arrowcolor": "#2a3f5f",
           "arrowhead": 0,
           "arrowwidth": 1
          },
          "autotypenumbers": "strict",
          "coloraxis": {
           "colorbar": {
            "outlinewidth": 0,
            "ticks": ""
           }
          },
          "colorscale": {
           "diverging": [
            [
             0,
             "#8e0152"
            ],
            [
             0.1,
             "#c51b7d"
            ],
            [
             0.2,
             "#de77ae"
            ],
            [
             0.3,
             "#f1b6da"
            ],
            [
             0.4,
             "#fde0ef"
            ],
            [
             0.5,
             "#f7f7f7"
            ],
            [
             0.6,
             "#e6f5d0"
            ],
            [
             0.7,
             "#b8e186"
            ],
            [
             0.8,
             "#7fbc41"
            ],
            [
             0.9,
             "#4d9221"
            ],
            [
             1,
             "#276419"
            ]
           ],
           "sequential": [
            [
             0,
             "#0d0887"
            ],
            [
             0.1111111111111111,
             "#46039f"
            ],
            [
             0.2222222222222222,
             "#7201a8"
            ],
            [
             0.3333333333333333,
             "#9c179e"
            ],
            [
             0.4444444444444444,
             "#bd3786"
            ],
            [
             0.5555555555555556,
             "#d8576b"
            ],
            [
             0.6666666666666666,
             "#ed7953"
            ],
            [
             0.7777777777777778,
             "#fb9f3a"
            ],
            [
             0.8888888888888888,
             "#fdca26"
            ],
            [
             1,
             "#f0f921"
            ]
           ],
           "sequentialminus": [
            [
             0,
             "#0d0887"
            ],
            [
             0.1111111111111111,
             "#46039f"
            ],
            [
             0.2222222222222222,
             "#7201a8"
            ],
            [
             0.3333333333333333,
             "#9c179e"
            ],
            [
             0.4444444444444444,
             "#bd3786"
            ],
            [
             0.5555555555555556,
             "#d8576b"
            ],
            [
             0.6666666666666666,
             "#ed7953"
            ],
            [
             0.7777777777777778,
             "#fb9f3a"
            ],
            [
             0.8888888888888888,
             "#fdca26"
            ],
            [
             1,
             "#f0f921"
            ]
           ]
          },
          "colorway": [
           "#636efa",
           "#EF553B",
           "#00cc96",
           "#ab63fa",
           "#FFA15A",
           "#19d3f3",
           "#FF6692",
           "#B6E880",
           "#FF97FF",
           "#FECB52"
          ],
          "font": {
           "color": "#2a3f5f"
          },
          "geo": {
           "bgcolor": "white",
           "lakecolor": "white",
           "landcolor": "#E5ECF6",
           "showlakes": true,
           "showland": true,
           "subunitcolor": "white"
          },
          "hoverlabel": {
           "align": "left"
          },
          "hovermode": "closest",
          "mapbox": {
           "style": "light"
          },
          "paper_bgcolor": "white",
          "plot_bgcolor": "#E5ECF6",
          "polar": {
           "angularaxis": {
            "gridcolor": "white",
            "linecolor": "white",
            "ticks": ""
           },
           "bgcolor": "#E5ECF6",
           "radialaxis": {
            "gridcolor": "white",
            "linecolor": "white",
            "ticks": ""
           }
          },
          "scene": {
           "xaxis": {
            "backgroundcolor": "#E5ECF6",
            "gridcolor": "white",
            "gridwidth": 2,
            "linecolor": "white",
            "showbackground": true,
            "ticks": "",
            "zerolinecolor": "white"
           },
           "yaxis": {
            "backgroundcolor": "#E5ECF6",
            "gridcolor": "white",
            "gridwidth": 2,
            "linecolor": "white",
            "showbackground": true,
            "ticks": "",
            "zerolinecolor": "white"
           },
           "zaxis": {
            "backgroundcolor": "#E5ECF6",
            "gridcolor": "white",
            "gridwidth": 2,
            "linecolor": "white",
            "showbackground": true,
            "ticks": "",
            "zerolinecolor": "white"
           }
          },
          "shapedefaults": {
           "line": {
            "color": "#2a3f5f"
           }
          },
          "ternary": {
           "aaxis": {
            "gridcolor": "white",
            "linecolor": "white",
            "ticks": ""
           },
           "baxis": {
            "gridcolor": "white",
            "linecolor": "white",
            "ticks": ""
           },
           "bgcolor": "#E5ECF6",
           "caxis": {
            "gridcolor": "white",
            "linecolor": "white",
            "ticks": ""
           }
          },
          "title": {
           "x": 0.05
          },
          "xaxis": {
           "automargin": true,
           "gridcolor": "white",
           "linecolor": "white",
           "ticks": "",
           "title": {
            "standoff": 15
           },
           "zerolinecolor": "white",
           "zerolinewidth": 2
          },
          "yaxis": {
           "automargin": true,
           "gridcolor": "white",
           "linecolor": "white",
           "ticks": "",
           "title": {
            "standoff": 15
           },
           "zerolinecolor": "white",
           "zerolinewidth": 2
          }
         }
        },
        "title": {
         "text": "Mean Participant Age by Activity"
        },
        "xaxis": {
         "anchor": "y",
         "categoryorder": "total descending",
         "domain": [
          0,
          1
         ],
         "title": {
          "text": "Activity"
         }
        },
        "yaxis": {
         "anchor": "x",
         "domain": [
          0,
          1
         ],
         "title": {
          "text": "Mean Participant Age"
         }
        }
       }
      },
      "text/html": [
       "<div>                            <div id=\"e605f4c2-0754-48f2-9ccc-e38df4b3cfe8\" class=\"plotly-graph-div\" style=\"height:525px; width:100%;\"></div>            <script type=\"text/javascript\">                require([\"plotly\"], function(Plotly) {                    window.PLOTLYENV=window.PLOTLYENV || {};                                    if (document.getElementById(\"e605f4c2-0754-48f2-9ccc-e38df4b3cfe8\")) {                    Plotly.newPlot(                        \"e605f4c2-0754-48f2-9ccc-e38df4b3cfe8\",                        [{\"alignmentgroup\":\"True\",\"hovertemplate\":\"Activity=%{x}<br>Mean Participant Age=%{y}<extra></extra>\",\"legendgroup\":\"\",\"marker\":{\"color\":\"#636efa\",\"pattern\":{\"shape\":\"\"}},\"name\":\"\",\"offsetgroup\":\"\",\"orientation\":\"v\",\"showlegend\":false,\"textposition\":\"auto\",\"x\":[\"Advance Planning Visit\",\"Advance Planning Visit - EVS\",\"Advance Planning Visit - Erasmus- PRO\",\"Advance Planning Visit \\u2013 Youth Exchange\",\"ErasmusPro - Mobility of VET learners (3 to 12 months)\",\"European Voluntary Service - Partner Countries\",\"European Voluntary Service - Programme Countries\",\"Group Volunteering Activities\",\"Individual Volunteering Activities\",\"Job Shadowing\",\"Mobility of VET learners (2 weeks up to 3 months)\",\"Mobility of youth workers - Partner Countries\",\"Mobility of youth workers - Programme Countries\",\"National youth meetings\",\"Staff mobility for Teaching To/From Partner Countries\",\"Staff mobility for Training To/From Partner Countries\",\"Staff mobility for teaching between Programme Countries\",\"Staff mobility for training between Programme Countries\",\"Staff training abroad\",\"Structured Courses/Training Events\",\"Student mobility for Studies To/From Partner Countries\",\"Student mobility for studies between Programme Countries\",\"Student mobility for traineeships To/From Partner Countries\",\"Student mobility for traineeships between Programme Countries\",\"Teaching/training assignments abroad\",\"Transnational youth meetings\",\"VET learners traineeships in companies abroad\",\"VET learners traineeships in vocational institutes abroad\",\"Youth Exchanges - Partner Countries\",\"Youth Exchanges - Programme Countries\"],\"xaxis\":\"x\",\"y\":[29.625,30.008810572687224,46.14673913043478,28.712385269963956,20.84342453662842,23.677165354330707,23.0925691499462,22.654362416107382,23.006640926640927,44.914358554702254,21.692780303371293,28.17329666809056,29.124156319643426,21.953473529230447,32.0,null,22.27683615819209,21.87142857142857,44.98169223608436,43.86745834484029,23.195631898025805,22.09310692185926,24.534104046242774,23.185949817704692,44.645952747099116,23.114417832582404,20.944439477419284,20.76515104134092,22.549792242697603,21.84260966083466],\"yaxis\":\"y\",\"type\":\"bar\"}],                        {\"template\":{\"data\":{\"histogram2dcontour\":[{\"type\":\"histogram2dcontour\",\"colorbar\":{\"outlinewidth\":0,\"ticks\":\"\"},\"colorscale\":[[0.0,\"#0d0887\"],[0.1111111111111111,\"#46039f\"],[0.2222222222222222,\"#7201a8\"],[0.3333333333333333,\"#9c179e\"],[0.4444444444444444,\"#bd3786\"],[0.5555555555555556,\"#d8576b\"],[0.6666666666666666,\"#ed7953\"],[0.7777777777777778,\"#fb9f3a\"],[0.8888888888888888,\"#fdca26\"],[1.0,\"#f0f921\"]]}],\"choropleth\":[{\"type\":\"choropleth\",\"colorbar\":{\"outlinewidth\":0,\"ticks\":\"\"}}],\"histogram2d\":[{\"type\":\"histogram2d\",\"colorbar\":{\"outlinewidth\":0,\"ticks\":\"\"},\"colorscale\":[[0.0,\"#0d0887\"],[0.1111111111111111,\"#46039f\"],[0.2222222222222222,\"#7201a8\"],[0.3333333333333333,\"#9c179e\"],[0.4444444444444444,\"#bd3786\"],[0.5555555555555556,\"#d8576b\"],[0.6666666666666666,\"#ed7953\"],[0.7777777777777778,\"#fb9f3a\"],[0.8888888888888888,\"#fdca26\"],[1.0,\"#f0f921\"]]}],\"heatmap\":[{\"type\":\"heatmap\",\"colorbar\":{\"outlinewidth\":0,\"ticks\":\"\"},\"colorscale\":[[0.0,\"#0d0887\"],[0.1111111111111111,\"#46039f\"],[0.2222222222222222,\"#7201a8\"],[0.3333333333333333,\"#9c179e\"],[0.4444444444444444,\"#bd3786\"],[0.5555555555555556,\"#d8576b\"],[0.6666666666666666,\"#ed7953\"],[0.7777777777777778,\"#fb9f3a\"],[0.8888888888888888,\"#fdca26\"],[1.0,\"#f0f921\"]]}],\"heatmapgl\":[{\"type\":\"heatmapgl\",\"colorbar\":{\"outlinewidth\":0,\"ticks\":\"\"},\"colorscale\":[[0.0,\"#0d0887\"],[0.1111111111111111,\"#46039f\"],[0.2222222222222222,\"#7201a8\"],[0.3333333333333333,\"#9c179e\"],[0.4444444444444444,\"#bd3786\"],[0.5555555555555556,\"#d8576b\"],[0.6666666666666666,\"#ed7953\"],[0.7777777777777778,\"#fb9f3a\"],[0.8888888888888888,\"#fdca26\"],[1.0,\"#f0f921\"]]}],\"contourcarpet\":[{\"type\":\"contourcarpet\",\"colorbar\":{\"outlinewidth\":0,\"ticks\":\"\"}}],\"contour\":[{\"type\":\"contour\",\"colorbar\":{\"outlinewidth\":0,\"ticks\":\"\"},\"colorscale\":[[0.0,\"#0d0887\"],[0.1111111111111111,\"#46039f\"],[0.2222222222222222,\"#7201a8\"],[0.3333333333333333,\"#9c179e\"],[0.4444444444444444,\"#bd3786\"],[0.5555555555555556,\"#d8576b\"],[0.6666666666666666,\"#ed7953\"],[0.7777777777777778,\"#fb9f3a\"],[0.8888888888888888,\"#fdca26\"],[1.0,\"#f0f921\"]]}],\"surface\":[{\"type\":\"surface\",\"colorbar\":{\"outlinewidth\":0,\"ticks\":\"\"},\"colorscale\":[[0.0,\"#0d0887\"],[0.1111111111111111,\"#46039f\"],[0.2222222222222222,\"#7201a8\"],[0.3333333333333333,\"#9c179e\"],[0.4444444444444444,\"#bd3786\"],[0.5555555555555556,\"#d8576b\"],[0.6666666666666666,\"#ed7953\"],[0.7777777777777778,\"#fb9f3a\"],[0.8888888888888888,\"#fdca26\"],[1.0,\"#f0f921\"]]}],\"mesh3d\":[{\"type\":\"mesh3d\",\"colorbar\":{\"outlinewidth\":0,\"ticks\":\"\"}}],\"scatter\":[{\"fillpattern\":{\"fillmode\":\"overlay\",\"size\":10,\"solidity\":0.2},\"type\":\"scatter\"}],\"parcoords\":[{\"type\":\"parcoords\",\"line\":{\"colorbar\":{\"outlinewidth\":0,\"ticks\":\"\"}}}],\"scatterpolargl\":[{\"type\":\"scatterpolargl\",\"marker\":{\"colorbar\":{\"outlinewidth\":0,\"ticks\":\"\"}}}],\"bar\":[{\"error_x\":{\"color\":\"#2a3f5f\"},\"error_y\":{\"color\":\"#2a3f5f\"},\"marker\":{\"line\":{\"color\":\"#E5ECF6\",\"width\":0.5},\"pattern\":{\"fillmode\":\"overlay\",\"size\":10,\"solidity\":0.2}},\"type\":\"bar\"}],\"scattergeo\":[{\"type\":\"scattergeo\",\"marker\":{\"colorbar\":{\"outlinewidth\":0,\"ticks\":\"\"}}}],\"scatterpolar\":[{\"type\":\"scatterpolar\",\"marker\":{\"colorbar\":{\"outlinewidth\":0,\"ticks\":\"\"}}}],\"histogram\":[{\"marker\":{\"pattern\":{\"fillmode\":\"overlay\",\"size\":10,\"solidity\":0.2}},\"type\":\"histogram\"}],\"scattergl\":[{\"type\":\"scattergl\",\"marker\":{\"colorbar\":{\"outlinewidth\":0,\"ticks\":\"\"}}}],\"scatter3d\":[{\"type\":\"scatter3d\",\"line\":{\"colorbar\":{\"outlinewidth\":0,\"ticks\":\"\"}},\"marker\":{\"colorbar\":{\"outlinewidth\":0,\"ticks\":\"\"}}}],\"scattermapbox\":[{\"type\":\"scattermapbox\",\"marker\":{\"colorbar\":{\"outlinewidth\":0,\"ticks\":\"\"}}}],\"scatterternary\":[{\"type\":\"scatterternary\",\"marker\":{\"colorbar\":{\"outlinewidth\":0,\"ticks\":\"\"}}}],\"scattercarpet\":[{\"type\":\"scattercarpet\",\"marker\":{\"colorbar\":{\"outlinewidth\":0,\"ticks\":\"\"}}}],\"carpet\":[{\"aaxis\":{\"endlinecolor\":\"#2a3f5f\",\"gridcolor\":\"white\",\"linecolor\":\"white\",\"minorgridcolor\":\"white\",\"startlinecolor\":\"#2a3f5f\"},\"baxis\":{\"endlinecolor\":\"#2a3f5f\",\"gridcolor\":\"white\",\"linecolor\":\"white\",\"minorgridcolor\":\"white\",\"startlinecolor\":\"#2a3f5f\"},\"type\":\"carpet\"}],\"table\":[{\"cells\":{\"fill\":{\"color\":\"#EBF0F8\"},\"line\":{\"color\":\"white\"}},\"header\":{\"fill\":{\"color\":\"#C8D4E3\"},\"line\":{\"color\":\"white\"}},\"type\":\"table\"}],\"barpolar\":[{\"marker\":{\"line\":{\"color\":\"#E5ECF6\",\"width\":0.5},\"pattern\":{\"fillmode\":\"overlay\",\"size\":10,\"solidity\":0.2}},\"type\":\"barpolar\"}],\"pie\":[{\"automargin\":true,\"type\":\"pie\"}]},\"layout\":{\"autotypenumbers\":\"strict\",\"colorway\":[\"#636efa\",\"#EF553B\",\"#00cc96\",\"#ab63fa\",\"#FFA15A\",\"#19d3f3\",\"#FF6692\",\"#B6E880\",\"#FF97FF\",\"#FECB52\"],\"font\":{\"color\":\"#2a3f5f\"},\"hovermode\":\"closest\",\"hoverlabel\":{\"align\":\"left\"},\"paper_bgcolor\":\"white\",\"plot_bgcolor\":\"#E5ECF6\",\"polar\":{\"bgcolor\":\"#E5ECF6\",\"angularaxis\":{\"gridcolor\":\"white\",\"linecolor\":\"white\",\"ticks\":\"\"},\"radialaxis\":{\"gridcolor\":\"white\",\"linecolor\":\"white\",\"ticks\":\"\"}},\"ternary\":{\"bgcolor\":\"#E5ECF6\",\"aaxis\":{\"gridcolor\":\"white\",\"linecolor\":\"white\",\"ticks\":\"\"},\"baxis\":{\"gridcolor\":\"white\",\"linecolor\":\"white\",\"ticks\":\"\"},\"caxis\":{\"gridcolor\":\"white\",\"linecolor\":\"white\",\"ticks\":\"\"}},\"coloraxis\":{\"colorbar\":{\"outlinewidth\":0,\"ticks\":\"\"}},\"colorscale\":{\"sequential\":[[0.0,\"#0d0887\"],[0.1111111111111111,\"#46039f\"],[0.2222222222222222,\"#7201a8\"],[0.3333333333333333,\"#9c179e\"],[0.4444444444444444,\"#bd3786\"],[0.5555555555555556,\"#d8576b\"],[0.6666666666666666,\"#ed7953\"],[0.7777777777777778,\"#fb9f3a\"],[0.8888888888888888,\"#fdca26\"],[1.0,\"#f0f921\"]],\"sequentialminus\":[[0.0,\"#0d0887\"],[0.1111111111111111,\"#46039f\"],[0.2222222222222222,\"#7201a8\"],[0.3333333333333333,\"#9c179e\"],[0.4444444444444444,\"#bd3786\"],[0.5555555555555556,\"#d8576b\"],[0.6666666666666666,\"#ed7953\"],[0.7777777777777778,\"#fb9f3a\"],[0.8888888888888888,\"#fdca26\"],[1.0,\"#f0f921\"]],\"diverging\":[[0,\"#8e0152\"],[0.1,\"#c51b7d\"],[0.2,\"#de77ae\"],[0.3,\"#f1b6da\"],[0.4,\"#fde0ef\"],[0.5,\"#f7f7f7\"],[0.6,\"#e6f5d0\"],[0.7,\"#b8e186\"],[0.8,\"#7fbc41\"],[0.9,\"#4d9221\"],[1,\"#276419\"]]},\"xaxis\":{\"gridcolor\":\"white\",\"linecolor\":\"white\",\"ticks\":\"\",\"title\":{\"standoff\":15},\"zerolinecolor\":\"white\",\"automargin\":true,\"zerolinewidth\":2},\"yaxis\":{\"gridcolor\":\"white\",\"linecolor\":\"white\",\"ticks\":\"\",\"title\":{\"standoff\":15},\"zerolinecolor\":\"white\",\"automargin\":true,\"zerolinewidth\":2},\"scene\":{\"xaxis\":{\"backgroundcolor\":\"#E5ECF6\",\"gridcolor\":\"white\",\"linecolor\":\"white\",\"showbackground\":true,\"ticks\":\"\",\"zerolinecolor\":\"white\",\"gridwidth\":2},\"yaxis\":{\"backgroundcolor\":\"#E5ECF6\",\"gridcolor\":\"white\",\"linecolor\":\"white\",\"showbackground\":true,\"ticks\":\"\",\"zerolinecolor\":\"white\",\"gridwidth\":2},\"zaxis\":{\"backgroundcolor\":\"#E5ECF6\",\"gridcolor\":\"white\",\"linecolor\":\"white\",\"showbackground\":true,\"ticks\":\"\",\"zerolinecolor\":\"white\",\"gridwidth\":2}},\"shapedefaults\":{\"line\":{\"color\":\"#2a3f5f\"}},\"annotationdefaults\":{\"arrowcolor\":\"#2a3f5f\",\"arrowhead\":0,\"arrowwidth\":1},\"geo\":{\"bgcolor\":\"white\",\"landcolor\":\"#E5ECF6\",\"subunitcolor\":\"white\",\"showland\":true,\"showlakes\":true,\"lakecolor\":\"white\"},\"title\":{\"x\":0.05},\"mapbox\":{\"style\":\"light\"}}},\"xaxis\":{\"anchor\":\"y\",\"domain\":[0.0,1.0],\"title\":{\"text\":\"Activity\"},\"categoryorder\":\"total descending\"},\"yaxis\":{\"anchor\":\"x\",\"domain\":[0.0,1.0],\"title\":{\"text\":\"Mean Participant Age\"}},\"legend\":{\"tracegroupgap\":0},\"title\":{\"text\":\"Mean Participant Age by Activity\"},\"barmode\":\"relative\"},                        {\"responsive\": true}                    ).then(function(){\n",
       "                            \n",
       "var gd = document.getElementById('e605f4c2-0754-48f2-9ccc-e38df4b3cfe8');\n",
       "var x = new MutationObserver(function (mutations, observer) {{\n",
       "        var display = window.getComputedStyle(gd).display;\n",
       "        if (!display || display === 'none') {{\n",
       "            console.log([gd, 'removed!']);\n",
       "            Plotly.purge(gd);\n",
       "            observer.disconnect();\n",
       "        }}\n",
       "}});\n",
       "\n",
       "// Listen for the removal of the full notebook cells\n",
       "var notebookContainer = gd.closest('#notebook-container');\n",
       "if (notebookContainer) {{\n",
       "    x.observe(notebookContainer, {childList: true});\n",
       "}}\n",
       "\n",
       "// Listen for the clearing of the current output cell\n",
       "var outputEl = gd.closest('.output');\n",
       "if (outputEl) {{\n",
       "    x.observe(outputEl, {childList: true});\n",
       "}}\n",
       "\n",
       "                        })                };                });            </script>        </div>"
      ]
     },
     "metadata": {},
     "output_type": "display_data"
    }
   ],
   "source": [
    "plot_hist(data, 'Participant Age')\n",
    "\n",
    "fig = px.bar(data_frame=data.groupby('Activity')['Participant Age'].mean().reset_index(),\n",
    "             x='Activity', y='Participant Age',\n",
    "             title='Mean Participant Age by Activity',\n",
    "             labels={'Activity': 'Activity', 'Participant Age': 'Mean Participant Age'})\n",
    "\n",
    "fig = fig.update_layout(xaxis_categoryorder='total descending')\n",
    "fig.show()"
   ]
  },
  {
   "cell_type": "markdown",
   "id": "dbc274de",
   "metadata": {},
   "source": [
    "The distribution of the gender:"
   ]
  },
  {
   "cell_type": "code",
   "execution_count": 5,
   "id": "b071e0e0",
   "metadata": {},
   "outputs": [
    {
     "data": {
      "application/vnd.plotly.v1+json": {
       "config": {
        "plotlyServerURL": "https://plotly.com"
       },
       "data": [
        {
         "alignmentgroup": "True",
         "hovertemplate": "Participant Gender=%{x}<br>Count=%{y}<extra></extra>",
         "legendgroup": "",
         "marker": {
          "color": "#636efa",
          "pattern": {
           "shape": ""
          }
         },
         "name": "",
         "offsetgroup": "",
         "orientation": "v",
         "showlegend": false,
         "textposition": "auto",
         "type": "bar",
         "x": [
          "Female",
          "Male",
          "Undefined"
         ],
         "xaxis": "x",
         "y": [
          2444398,
          1749777,
          5225
         ],
         "yaxis": "y"
        }
       ],
       "layout": {
        "barmode": "relative",
        "legend": {
         "tracegroupgap": 0
        },
        "template": {
         "data": {
          "bar": [
           {
            "error_x": {
             "color": "#2a3f5f"
            },
            "error_y": {
             "color": "#2a3f5f"
            },
            "marker": {
             "line": {
              "color": "#E5ECF6",
              "width": 0.5
             },
             "pattern": {
              "fillmode": "overlay",
              "size": 10,
              "solidity": 0.2
             }
            },
            "type": "bar"
           }
          ],
          "barpolar": [
           {
            "marker": {
             "line": {
              "color": "#E5ECF6",
              "width": 0.5
             },
             "pattern": {
              "fillmode": "overlay",
              "size": 10,
              "solidity": 0.2
             }
            },
            "type": "barpolar"
           }
          ],
          "carpet": [
           {
            "aaxis": {
             "endlinecolor": "#2a3f5f",
             "gridcolor": "white",
             "linecolor": "white",
             "minorgridcolor": "white",
             "startlinecolor": "#2a3f5f"
            },
            "baxis": {
             "endlinecolor": "#2a3f5f",
             "gridcolor": "white",
             "linecolor": "white",
             "minorgridcolor": "white",
             "startlinecolor": "#2a3f5f"
            },
            "type": "carpet"
           }
          ],
          "choropleth": [
           {
            "colorbar": {
             "outlinewidth": 0,
             "ticks": ""
            },
            "type": "choropleth"
           }
          ],
          "contour": [
           {
            "colorbar": {
             "outlinewidth": 0,
             "ticks": ""
            },
            "colorscale": [
             [
              0,
              "#0d0887"
             ],
             [
              0.1111111111111111,
              "#46039f"
             ],
             [
              0.2222222222222222,
              "#7201a8"
             ],
             [
              0.3333333333333333,
              "#9c179e"
             ],
             [
              0.4444444444444444,
              "#bd3786"
             ],
             [
              0.5555555555555556,
              "#d8576b"
             ],
             [
              0.6666666666666666,
              "#ed7953"
             ],
             [
              0.7777777777777778,
              "#fb9f3a"
             ],
             [
              0.8888888888888888,
              "#fdca26"
             ],
             [
              1,
              "#f0f921"
             ]
            ],
            "type": "contour"
           }
          ],
          "contourcarpet": [
           {
            "colorbar": {
             "outlinewidth": 0,
             "ticks": ""
            },
            "type": "contourcarpet"
           }
          ],
          "heatmap": [
           {
            "colorbar": {
             "outlinewidth": 0,
             "ticks": ""
            },
            "colorscale": [
             [
              0,
              "#0d0887"
             ],
             [
              0.1111111111111111,
              "#46039f"
             ],
             [
              0.2222222222222222,
              "#7201a8"
             ],
             [
              0.3333333333333333,
              "#9c179e"
             ],
             [
              0.4444444444444444,
              "#bd3786"
             ],
             [
              0.5555555555555556,
              "#d8576b"
             ],
             [
              0.6666666666666666,
              "#ed7953"
             ],
             [
              0.7777777777777778,
              "#fb9f3a"
             ],
             [
              0.8888888888888888,
              "#fdca26"
             ],
             [
              1,
              "#f0f921"
             ]
            ],
            "type": "heatmap"
           }
          ],
          "heatmapgl": [
           {
            "colorbar": {
             "outlinewidth": 0,
             "ticks": ""
            },
            "colorscale": [
             [
              0,
              "#0d0887"
             ],
             [
              0.1111111111111111,
              "#46039f"
             ],
             [
              0.2222222222222222,
              "#7201a8"
             ],
             [
              0.3333333333333333,
              "#9c179e"
             ],
             [
              0.4444444444444444,
              "#bd3786"
             ],
             [
              0.5555555555555556,
              "#d8576b"
             ],
             [
              0.6666666666666666,
              "#ed7953"
             ],
             [
              0.7777777777777778,
              "#fb9f3a"
             ],
             [
              0.8888888888888888,
              "#fdca26"
             ],
             [
              1,
              "#f0f921"
             ]
            ],
            "type": "heatmapgl"
           }
          ],
          "histogram": [
           {
            "marker": {
             "pattern": {
              "fillmode": "overlay",
              "size": 10,
              "solidity": 0.2
             }
            },
            "type": "histogram"
           }
          ],
          "histogram2d": [
           {
            "colorbar": {
             "outlinewidth": 0,
             "ticks": ""
            },
            "colorscale": [
             [
              0,
              "#0d0887"
             ],
             [
              0.1111111111111111,
              "#46039f"
             ],
             [
              0.2222222222222222,
              "#7201a8"
             ],
             [
              0.3333333333333333,
              "#9c179e"
             ],
             [
              0.4444444444444444,
              "#bd3786"
             ],
             [
              0.5555555555555556,
              "#d8576b"
             ],
             [
              0.6666666666666666,
              "#ed7953"
             ],
             [
              0.7777777777777778,
              "#fb9f3a"
             ],
             [
              0.8888888888888888,
              "#fdca26"
             ],
             [
              1,
              "#f0f921"
             ]
            ],
            "type": "histogram2d"
           }
          ],
          "histogram2dcontour": [
           {
            "colorbar": {
             "outlinewidth": 0,
             "ticks": ""
            },
            "colorscale": [
             [
              0,
              "#0d0887"
             ],
             [
              0.1111111111111111,
              "#46039f"
             ],
             [
              0.2222222222222222,
              "#7201a8"
             ],
             [
              0.3333333333333333,
              "#9c179e"
             ],
             [
              0.4444444444444444,
              "#bd3786"
             ],
             [
              0.5555555555555556,
              "#d8576b"
             ],
             [
              0.6666666666666666,
              "#ed7953"
             ],
             [
              0.7777777777777778,
              "#fb9f3a"
             ],
             [
              0.8888888888888888,
              "#fdca26"
             ],
             [
              1,
              "#f0f921"
             ]
            ],
            "type": "histogram2dcontour"
           }
          ],
          "mesh3d": [
           {
            "colorbar": {
             "outlinewidth": 0,
             "ticks": ""
            },
            "type": "mesh3d"
           }
          ],
          "parcoords": [
           {
            "line": {
             "colorbar": {
              "outlinewidth": 0,
              "ticks": ""
             }
            },
            "type": "parcoords"
           }
          ],
          "pie": [
           {
            "automargin": true,
            "type": "pie"
           }
          ],
          "scatter": [
           {
            "fillpattern": {
             "fillmode": "overlay",
             "size": 10,
             "solidity": 0.2
            },
            "type": "scatter"
           }
          ],
          "scatter3d": [
           {
            "line": {
             "colorbar": {
              "outlinewidth": 0,
              "ticks": ""
             }
            },
            "marker": {
             "colorbar": {
              "outlinewidth": 0,
              "ticks": ""
             }
            },
            "type": "scatter3d"
           }
          ],
          "scattercarpet": [
           {
            "marker": {
             "colorbar": {
              "outlinewidth": 0,
              "ticks": ""
             }
            },
            "type": "scattercarpet"
           }
          ],
          "scattergeo": [
           {
            "marker": {
             "colorbar": {
              "outlinewidth": 0,
              "ticks": ""
             }
            },
            "type": "scattergeo"
           }
          ],
          "scattergl": [
           {
            "marker": {
             "colorbar": {
              "outlinewidth": 0,
              "ticks": ""
             }
            },
            "type": "scattergl"
           }
          ],
          "scattermapbox": [
           {
            "marker": {
             "colorbar": {
              "outlinewidth": 0,
              "ticks": ""
             }
            },
            "type": "scattermapbox"
           }
          ],
          "scatterpolar": [
           {
            "marker": {
             "colorbar": {
              "outlinewidth": 0,
              "ticks": ""
             }
            },
            "type": "scatterpolar"
           }
          ],
          "scatterpolargl": [
           {
            "marker": {
             "colorbar": {
              "outlinewidth": 0,
              "ticks": ""
             }
            },
            "type": "scatterpolargl"
           }
          ],
          "scatterternary": [
           {
            "marker": {
             "colorbar": {
              "outlinewidth": 0,
              "ticks": ""
             }
            },
            "type": "scatterternary"
           }
          ],
          "surface": [
           {
            "colorbar": {
             "outlinewidth": 0,
             "ticks": ""
            },
            "colorscale": [
             [
              0,
              "#0d0887"
             ],
             [
              0.1111111111111111,
              "#46039f"
             ],
             [
              0.2222222222222222,
              "#7201a8"
             ],
             [
              0.3333333333333333,
              "#9c179e"
             ],
             [
              0.4444444444444444,
              "#bd3786"
             ],
             [
              0.5555555555555556,
              "#d8576b"
             ],
             [
              0.6666666666666666,
              "#ed7953"
             ],
             [
              0.7777777777777778,
              "#fb9f3a"
             ],
             [
              0.8888888888888888,
              "#fdca26"
             ],
             [
              1,
              "#f0f921"
             ]
            ],
            "type": "surface"
           }
          ],
          "table": [
           {
            "cells": {
             "fill": {
              "color": "#EBF0F8"
             },
             "line": {
              "color": "white"
             }
            },
            "header": {
             "fill": {
              "color": "#C8D4E3"
             },
             "line": {
              "color": "white"
             }
            },
            "type": "table"
           }
          ]
         },
         "layout": {
          "annotationdefaults": {
           "arrowcolor": "#2a3f5f",
           "arrowhead": 0,
           "arrowwidth": 1
          },
          "autotypenumbers": "strict",
          "coloraxis": {
           "colorbar": {
            "outlinewidth": 0,
            "ticks": ""
           }
          },
          "colorscale": {
           "diverging": [
            [
             0,
             "#8e0152"
            ],
            [
             0.1,
             "#c51b7d"
            ],
            [
             0.2,
             "#de77ae"
            ],
            [
             0.3,
             "#f1b6da"
            ],
            [
             0.4,
             "#fde0ef"
            ],
            [
             0.5,
             "#f7f7f7"
            ],
            [
             0.6,
             "#e6f5d0"
            ],
            [
             0.7,
             "#b8e186"
            ],
            [
             0.8,
             "#7fbc41"
            ],
            [
             0.9,
             "#4d9221"
            ],
            [
             1,
             "#276419"
            ]
           ],
           "sequential": [
            [
             0,
             "#0d0887"
            ],
            [
             0.1111111111111111,
             "#46039f"
            ],
            [
             0.2222222222222222,
             "#7201a8"
            ],
            [
             0.3333333333333333,
             "#9c179e"
            ],
            [
             0.4444444444444444,
             "#bd3786"
            ],
            [
             0.5555555555555556,
             "#d8576b"
            ],
            [
             0.6666666666666666,
             "#ed7953"
            ],
            [
             0.7777777777777778,
             "#fb9f3a"
            ],
            [
             0.8888888888888888,
             "#fdca26"
            ],
            [
             1,
             "#f0f921"
            ]
           ],
           "sequentialminus": [
            [
             0,
             "#0d0887"
            ],
            [
             0.1111111111111111,
             "#46039f"
            ],
            [
             0.2222222222222222,
             "#7201a8"
            ],
            [
             0.3333333333333333,
             "#9c179e"
            ],
            [
             0.4444444444444444,
             "#bd3786"
            ],
            [
             0.5555555555555556,
             "#d8576b"
            ],
            [
             0.6666666666666666,
             "#ed7953"
            ],
            [
             0.7777777777777778,
             "#fb9f3a"
            ],
            [
             0.8888888888888888,
             "#fdca26"
            ],
            [
             1,
             "#f0f921"
            ]
           ]
          },
          "colorway": [
           "#636efa",
           "#EF553B",
           "#00cc96",
           "#ab63fa",
           "#FFA15A",
           "#19d3f3",
           "#FF6692",
           "#B6E880",
           "#FF97FF",
           "#FECB52"
          ],
          "font": {
           "color": "#2a3f5f"
          },
          "geo": {
           "bgcolor": "white",
           "lakecolor": "white",
           "landcolor": "#E5ECF6",
           "showlakes": true,
           "showland": true,
           "subunitcolor": "white"
          },
          "hoverlabel": {
           "align": "left"
          },
          "hovermode": "closest",
          "mapbox": {
           "style": "light"
          },
          "paper_bgcolor": "white",
          "plot_bgcolor": "#E5ECF6",
          "polar": {
           "angularaxis": {
            "gridcolor": "white",
            "linecolor": "white",
            "ticks": ""
           },
           "bgcolor": "#E5ECF6",
           "radialaxis": {
            "gridcolor": "white",
            "linecolor": "white",
            "ticks": ""
           }
          },
          "scene": {
           "xaxis": {
            "backgroundcolor": "#E5ECF6",
            "gridcolor": "white",
            "gridwidth": 2,
            "linecolor": "white",
            "showbackground": true,
            "ticks": "",
            "zerolinecolor": "white"
           },
           "yaxis": {
            "backgroundcolor": "#E5ECF6",
            "gridcolor": "white",
            "gridwidth": 2,
            "linecolor": "white",
            "showbackground": true,
            "ticks": "",
            "zerolinecolor": "white"
           },
           "zaxis": {
            "backgroundcolor": "#E5ECF6",
            "gridcolor": "white",
            "gridwidth": 2,
            "linecolor": "white",
            "showbackground": true,
            "ticks": "",
            "zerolinecolor": "white"
           }
          },
          "shapedefaults": {
           "line": {
            "color": "#2a3f5f"
           }
          },
          "ternary": {
           "aaxis": {
            "gridcolor": "white",
            "linecolor": "white",
            "ticks": ""
           },
           "baxis": {
            "gridcolor": "white",
            "linecolor": "white",
            "ticks": ""
           },
           "bgcolor": "#E5ECF6",
           "caxis": {
            "gridcolor": "white",
            "linecolor": "white",
            "ticks": ""
           }
          },
          "title": {
           "x": 0.05
          },
          "xaxis": {
           "automargin": true,
           "gridcolor": "white",
           "linecolor": "white",
           "ticks": "",
           "title": {
            "standoff": 15
           },
           "zerolinecolor": "white",
           "zerolinewidth": 2
          },
          "yaxis": {
           "automargin": true,
           "gridcolor": "white",
           "linecolor": "white",
           "ticks": "",
           "title": {
            "standoff": 15
           },
           "zerolinecolor": "white",
           "zerolinewidth": 2
          }
         }
        },
        "title": {
         "text": "Histogram of Participant Gender"
        },
        "xaxis": {
         "anchor": "y",
         "categoryorder": "total descending",
         "domain": [
          0,
          1
         ],
         "tickangle": 45,
         "title": {
          "text": "Participant Gender"
         }
        },
        "yaxis": {
         "anchor": "x",
         "domain": [
          0,
          1
         ],
         "title": {
          "text": "Count"
         }
        }
       }
      },
      "text/html": [
       "<div>                            <div id=\"db0c4150-77f8-4e01-ba46-18fbec498432\" class=\"plotly-graph-div\" style=\"height:525px; width:100%;\"></div>            <script type=\"text/javascript\">                require([\"plotly\"], function(Plotly) {                    window.PLOTLYENV=window.PLOTLYENV || {};                                    if (document.getElementById(\"db0c4150-77f8-4e01-ba46-18fbec498432\")) {                    Plotly.newPlot(                        \"db0c4150-77f8-4e01-ba46-18fbec498432\",                        [{\"alignmentgroup\":\"True\",\"hovertemplate\":\"Participant Gender=%{x}<br>Count=%{y}<extra></extra>\",\"legendgroup\":\"\",\"marker\":{\"color\":\"#636efa\",\"pattern\":{\"shape\":\"\"}},\"name\":\"\",\"offsetgroup\":\"\",\"orientation\":\"v\",\"showlegend\":false,\"textposition\":\"auto\",\"x\":[\"Female\",\"Male\",\"Undefined\"],\"xaxis\":\"x\",\"y\":[2444398,1749777,5225],\"yaxis\":\"y\",\"type\":\"bar\"}],                        {\"template\":{\"data\":{\"histogram2dcontour\":[{\"type\":\"histogram2dcontour\",\"colorbar\":{\"outlinewidth\":0,\"ticks\":\"\"},\"colorscale\":[[0.0,\"#0d0887\"],[0.1111111111111111,\"#46039f\"],[0.2222222222222222,\"#7201a8\"],[0.3333333333333333,\"#9c179e\"],[0.4444444444444444,\"#bd3786\"],[0.5555555555555556,\"#d8576b\"],[0.6666666666666666,\"#ed7953\"],[0.7777777777777778,\"#fb9f3a\"],[0.8888888888888888,\"#fdca26\"],[1.0,\"#f0f921\"]]}],\"choropleth\":[{\"type\":\"choropleth\",\"colorbar\":{\"outlinewidth\":0,\"ticks\":\"\"}}],\"histogram2d\":[{\"type\":\"histogram2d\",\"colorbar\":{\"outlinewidth\":0,\"ticks\":\"\"},\"colorscale\":[[0.0,\"#0d0887\"],[0.1111111111111111,\"#46039f\"],[0.2222222222222222,\"#7201a8\"],[0.3333333333333333,\"#9c179e\"],[0.4444444444444444,\"#bd3786\"],[0.5555555555555556,\"#d8576b\"],[0.6666666666666666,\"#ed7953\"],[0.7777777777777778,\"#fb9f3a\"],[0.8888888888888888,\"#fdca26\"],[1.0,\"#f0f921\"]]}],\"heatmap\":[{\"type\":\"heatmap\",\"colorbar\":{\"outlinewidth\":0,\"ticks\":\"\"},\"colorscale\":[[0.0,\"#0d0887\"],[0.1111111111111111,\"#46039f\"],[0.2222222222222222,\"#7201a8\"],[0.3333333333333333,\"#9c179e\"],[0.4444444444444444,\"#bd3786\"],[0.5555555555555556,\"#d8576b\"],[0.6666666666666666,\"#ed7953\"],[0.7777777777777778,\"#fb9f3a\"],[0.8888888888888888,\"#fdca26\"],[1.0,\"#f0f921\"]]}],\"heatmapgl\":[{\"type\":\"heatmapgl\",\"colorbar\":{\"outlinewidth\":0,\"ticks\":\"\"},\"colorscale\":[[0.0,\"#0d0887\"],[0.1111111111111111,\"#46039f\"],[0.2222222222222222,\"#7201a8\"],[0.3333333333333333,\"#9c179e\"],[0.4444444444444444,\"#bd3786\"],[0.5555555555555556,\"#d8576b\"],[0.6666666666666666,\"#ed7953\"],[0.7777777777777778,\"#fb9f3a\"],[0.8888888888888888,\"#fdca26\"],[1.0,\"#f0f921\"]]}],\"contourcarpet\":[{\"type\":\"contourcarpet\",\"colorbar\":{\"outlinewidth\":0,\"ticks\":\"\"}}],\"contour\":[{\"type\":\"contour\",\"colorbar\":{\"outlinewidth\":0,\"ticks\":\"\"},\"colorscale\":[[0.0,\"#0d0887\"],[0.1111111111111111,\"#46039f\"],[0.2222222222222222,\"#7201a8\"],[0.3333333333333333,\"#9c179e\"],[0.4444444444444444,\"#bd3786\"],[0.5555555555555556,\"#d8576b\"],[0.6666666666666666,\"#ed7953\"],[0.7777777777777778,\"#fb9f3a\"],[0.8888888888888888,\"#fdca26\"],[1.0,\"#f0f921\"]]}],\"surface\":[{\"type\":\"surface\",\"colorbar\":{\"outlinewidth\":0,\"ticks\":\"\"},\"colorscale\":[[0.0,\"#0d0887\"],[0.1111111111111111,\"#46039f\"],[0.2222222222222222,\"#7201a8\"],[0.3333333333333333,\"#9c179e\"],[0.4444444444444444,\"#bd3786\"],[0.5555555555555556,\"#d8576b\"],[0.6666666666666666,\"#ed7953\"],[0.7777777777777778,\"#fb9f3a\"],[0.8888888888888888,\"#fdca26\"],[1.0,\"#f0f921\"]]}],\"mesh3d\":[{\"type\":\"mesh3d\",\"colorbar\":{\"outlinewidth\":0,\"ticks\":\"\"}}],\"scatter\":[{\"fillpattern\":{\"fillmode\":\"overlay\",\"size\":10,\"solidity\":0.2},\"type\":\"scatter\"}],\"parcoords\":[{\"type\":\"parcoords\",\"line\":{\"colorbar\":{\"outlinewidth\":0,\"ticks\":\"\"}}}],\"scatterpolargl\":[{\"type\":\"scatterpolargl\",\"marker\":{\"colorbar\":{\"outlinewidth\":0,\"ticks\":\"\"}}}],\"bar\":[{\"error_x\":{\"color\":\"#2a3f5f\"},\"error_y\":{\"color\":\"#2a3f5f\"},\"marker\":{\"line\":{\"color\":\"#E5ECF6\",\"width\":0.5},\"pattern\":{\"fillmode\":\"overlay\",\"size\":10,\"solidity\":0.2}},\"type\":\"bar\"}],\"scattergeo\":[{\"type\":\"scattergeo\",\"marker\":{\"colorbar\":{\"outlinewidth\":0,\"ticks\":\"\"}}}],\"scatterpolar\":[{\"type\":\"scatterpolar\",\"marker\":{\"colorbar\":{\"outlinewidth\":0,\"ticks\":\"\"}}}],\"histogram\":[{\"marker\":{\"pattern\":{\"fillmode\":\"overlay\",\"size\":10,\"solidity\":0.2}},\"type\":\"histogram\"}],\"scattergl\":[{\"type\":\"scattergl\",\"marker\":{\"colorbar\":{\"outlinewidth\":0,\"ticks\":\"\"}}}],\"scatter3d\":[{\"type\":\"scatter3d\",\"line\":{\"colorbar\":{\"outlinewidth\":0,\"ticks\":\"\"}},\"marker\":{\"colorbar\":{\"outlinewidth\":0,\"ticks\":\"\"}}}],\"scattermapbox\":[{\"type\":\"scattermapbox\",\"marker\":{\"colorbar\":{\"outlinewidth\":0,\"ticks\":\"\"}}}],\"scatterternary\":[{\"type\":\"scatterternary\",\"marker\":{\"colorbar\":{\"outlinewidth\":0,\"ticks\":\"\"}}}],\"scattercarpet\":[{\"type\":\"scattercarpet\",\"marker\":{\"colorbar\":{\"outlinewidth\":0,\"ticks\":\"\"}}}],\"carpet\":[{\"aaxis\":{\"endlinecolor\":\"#2a3f5f\",\"gridcolor\":\"white\",\"linecolor\":\"white\",\"minorgridcolor\":\"white\",\"startlinecolor\":\"#2a3f5f\"},\"baxis\":{\"endlinecolor\":\"#2a3f5f\",\"gridcolor\":\"white\",\"linecolor\":\"white\",\"minorgridcolor\":\"white\",\"startlinecolor\":\"#2a3f5f\"},\"type\":\"carpet\"}],\"table\":[{\"cells\":{\"fill\":{\"color\":\"#EBF0F8\"},\"line\":{\"color\":\"white\"}},\"header\":{\"fill\":{\"color\":\"#C8D4E3\"},\"line\":{\"color\":\"white\"}},\"type\":\"table\"}],\"barpolar\":[{\"marker\":{\"line\":{\"color\":\"#E5ECF6\",\"width\":0.5},\"pattern\":{\"fillmode\":\"overlay\",\"size\":10,\"solidity\":0.2}},\"type\":\"barpolar\"}],\"pie\":[{\"automargin\":true,\"type\":\"pie\"}]},\"layout\":{\"autotypenumbers\":\"strict\",\"colorway\":[\"#636efa\",\"#EF553B\",\"#00cc96\",\"#ab63fa\",\"#FFA15A\",\"#19d3f3\",\"#FF6692\",\"#B6E880\",\"#FF97FF\",\"#FECB52\"],\"font\":{\"color\":\"#2a3f5f\"},\"hovermode\":\"closest\",\"hoverlabel\":{\"align\":\"left\"},\"paper_bgcolor\":\"white\",\"plot_bgcolor\":\"#E5ECF6\",\"polar\":{\"bgcolor\":\"#E5ECF6\",\"angularaxis\":{\"gridcolor\":\"white\",\"linecolor\":\"white\",\"ticks\":\"\"},\"radialaxis\":{\"gridcolor\":\"white\",\"linecolor\":\"white\",\"ticks\":\"\"}},\"ternary\":{\"bgcolor\":\"#E5ECF6\",\"aaxis\":{\"gridcolor\":\"white\",\"linecolor\":\"white\",\"ticks\":\"\"},\"baxis\":{\"gridcolor\":\"white\",\"linecolor\":\"white\",\"ticks\":\"\"},\"caxis\":{\"gridcolor\":\"white\",\"linecolor\":\"white\",\"ticks\":\"\"}},\"coloraxis\":{\"colorbar\":{\"outlinewidth\":0,\"ticks\":\"\"}},\"colorscale\":{\"sequential\":[[0.0,\"#0d0887\"],[0.1111111111111111,\"#46039f\"],[0.2222222222222222,\"#7201a8\"],[0.3333333333333333,\"#9c179e\"],[0.4444444444444444,\"#bd3786\"],[0.5555555555555556,\"#d8576b\"],[0.6666666666666666,\"#ed7953\"],[0.7777777777777778,\"#fb9f3a\"],[0.8888888888888888,\"#fdca26\"],[1.0,\"#f0f921\"]],\"sequentialminus\":[[0.0,\"#0d0887\"],[0.1111111111111111,\"#46039f\"],[0.2222222222222222,\"#7201a8\"],[0.3333333333333333,\"#9c179e\"],[0.4444444444444444,\"#bd3786\"],[0.5555555555555556,\"#d8576b\"],[0.6666666666666666,\"#ed7953\"],[0.7777777777777778,\"#fb9f3a\"],[0.8888888888888888,\"#fdca26\"],[1.0,\"#f0f921\"]],\"diverging\":[[0,\"#8e0152\"],[0.1,\"#c51b7d\"],[0.2,\"#de77ae\"],[0.3,\"#f1b6da\"],[0.4,\"#fde0ef\"],[0.5,\"#f7f7f7\"],[0.6,\"#e6f5d0\"],[0.7,\"#b8e186\"],[0.8,\"#7fbc41\"],[0.9,\"#4d9221\"],[1,\"#276419\"]]},\"xaxis\":{\"gridcolor\":\"white\",\"linecolor\":\"white\",\"ticks\":\"\",\"title\":{\"standoff\":15},\"zerolinecolor\":\"white\",\"automargin\":true,\"zerolinewidth\":2},\"yaxis\":{\"gridcolor\":\"white\",\"linecolor\":\"white\",\"ticks\":\"\",\"title\":{\"standoff\":15},\"zerolinecolor\":\"white\",\"automargin\":true,\"zerolinewidth\":2},\"scene\":{\"xaxis\":{\"backgroundcolor\":\"#E5ECF6\",\"gridcolor\":\"white\",\"linecolor\":\"white\",\"showbackground\":true,\"ticks\":\"\",\"zerolinecolor\":\"white\",\"gridwidth\":2},\"yaxis\":{\"backgroundcolor\":\"#E5ECF6\",\"gridcolor\":\"white\",\"linecolor\":\"white\",\"showbackground\":true,\"ticks\":\"\",\"zerolinecolor\":\"white\",\"gridwidth\":2},\"zaxis\":{\"backgroundcolor\":\"#E5ECF6\",\"gridcolor\":\"white\",\"linecolor\":\"white\",\"showbackground\":true,\"ticks\":\"\",\"zerolinecolor\":\"white\",\"gridwidth\":2}},\"shapedefaults\":{\"line\":{\"color\":\"#2a3f5f\"}},\"annotationdefaults\":{\"arrowcolor\":\"#2a3f5f\",\"arrowhead\":0,\"arrowwidth\":1},\"geo\":{\"bgcolor\":\"white\",\"landcolor\":\"#E5ECF6\",\"subunitcolor\":\"white\",\"showland\":true,\"showlakes\":true,\"lakecolor\":\"white\"},\"title\":{\"x\":0.05},\"mapbox\":{\"style\":\"light\"}}},\"xaxis\":{\"anchor\":\"y\",\"domain\":[0.0,1.0],\"title\":{\"text\":\"Participant Gender\"},\"categoryorder\":\"total descending\",\"tickangle\":45},\"yaxis\":{\"anchor\":\"x\",\"domain\":[0.0,1.0],\"title\":{\"text\":\"Count\"}},\"legend\":{\"tracegroupgap\":0},\"title\":{\"text\":\"Histogram of Participant Gender\"},\"barmode\":\"relative\"},                        {\"responsive\": true}                    ).then(function(){\n",
       "                            \n",
       "var gd = document.getElementById('db0c4150-77f8-4e01-ba46-18fbec498432');\n",
       "var x = new MutationObserver(function (mutations, observer) {{\n",
       "        var display = window.getComputedStyle(gd).display;\n",
       "        if (!display || display === 'none') {{\n",
       "            console.log([gd, 'removed!']);\n",
       "            Plotly.purge(gd);\n",
       "            observer.disconnect();\n",
       "        }}\n",
       "}});\n",
       "\n",
       "// Listen for the removal of the full notebook cells\n",
       "var notebookContainer = gd.closest('#notebook-container');\n",
       "if (notebookContainer) {{\n",
       "    x.observe(notebookContainer, {childList: true});\n",
       "}}\n",
       "\n",
       "// Listen for the clearing of the current output cell\n",
       "var outputEl = gd.closest('.output');\n",
       "if (outputEl) {{\n",
       "    x.observe(outputEl, {childList: true});\n",
       "}}\n",
       "\n",
       "                        })                };                });            </script>        </div>"
      ]
     },
     "metadata": {},
     "output_type": "display_data"
    }
   ],
   "source": [
    "plot_hist(data, 'Participant Gender')"
   ]
  },
  {
   "cell_type": "markdown",
   "id": "7617c88a",
   "metadata": {},
   "source": [
    "And the distribution of the field of education"
   ]
  },
  {
   "cell_type": "code",
   "execution_count": 6,
   "id": "4756e0aa",
   "metadata": {},
   "outputs": [
    {
     "data": {
      "application/vnd.plotly.v1+json": {
       "config": {
        "plotlyServerURL": "https://plotly.com"
       },
       "data": [
        {
         "alignmentgroup": "True",
         "hovertemplate": "Field of Education=%{x}<br>Count=%{y}<extra></extra>",
         "legendgroup": "",
         "marker": {
          "color": "#636efa",
          "pattern": {
           "shape": ""
          }
         },
         "name": "",
         "offsetgroup": "",
         "orientation": "v",
         "showlegend": false,
         "textposition": "auto",
         "type": "bar",
         "x": [
          "Accounting and taxation",
          "Agriculture",
          "Agriculture, forestry, fisheries and veterinary",
          "Agriculture, forestry, fisheries and veterinary not elsewhere classified",
          "Agriculture, not elsewhere classified",
          "Agriculture, not further defined",
          "Architecture and construction",
          "Architecture and construction, not elsewhere classified",
          "Architecture and construction, not further defined",
          "Architecture and town planning",
          "Arts",
          "Arts and humanities",
          "Arts and humanities, inter-disciplinary programmes",
          "Arts, not elsewhere classified",
          "Arts, not further defined",
          "Audio-visual techniques and media production",
          "Biochemistry",
          "Biological and related sciences",
          "Biological and related sciences, not elsewhere classifed",
          "Biological and related sciences, not further defined",
          "Biology",
          "Building and civil engineering",
          "Business and administration",
          "Business and administration, not elsewhere classified",
          "Business and administration, not further defined",
          "Business, administration and law",
          "Business, administration and law not elsewhere classified",
          "Care of the elderly and of disabled adults",
          "Chemical engineering and processes",
          "Chemistry",
          "Child care and youth services",
          "Community sanitation",
          "Computer use",
          "Crop and livestock production",
          "Database and network design and administration",
          "Dental studies",
          "Domestic services",
          "Earth sciences",
          "Economics",
          "Education",
          "Education science",
          "Education, not elsewhere classified",
          "Education, not further defined",
          "Electricity and energy",
          "Electronics and automation",
          "Engineering and engineering trades",
          "Engineering and engineering trades, not elsewhere classified",
          "Engineering and engineering trades, not further defined",
          "Engineering, manufacturing and construction",
          "Engineering, manufacturing and construction not elsewhere classified",
          "Environment",
          "Environment, not elsewhere classified",
          "Environment, not further defined",
          "Environmental protection technology",
          "Environmental sciences",
          "Fashion, interior and industrial design",
          "Finance, banking and insurance",
          "Fine arts",
          "Fisheries",
          "Fisheries, not elsewhere classified",
          "Food processing",
          "Forestry",
          "Forestry, not elsewhere classified",
          "Hair and beauty services",
          "Handicrafts",
          "Health",
          "Health and Welfare, inter-disciplinary programmes",
          "Health and welfare",
          "Health, not elsewhere classified",
          "Health, not further defined",
          "History and archaeology",
          "Horticulture",
          "Hotel, restaurants and catering",
          "Humanities (except languages)",
          "Humanities (except languages), not elsewhere classified",
          "Humanities (except languages), not further defined",
          "Hygiene and occupational health services",
          "Hygiene and occupational health services, not elsewhere classified",
          "Hygiene and occupational health services, not further defined",
          "Information and Communication Technologies (ICTs)",
          "Information and Communication Technologies (ICTs), inter-disciplinary programmes",
          "Information and Communication Technologies (ICTs), not elsewhere classified",
          "Information and Communication Technologies (ICTs), not further defined",
          "Inter-disciplinary programmes and qualifications involving agriculture, forestry, fisheries and veterinary",
          "Inter-disciplinary programmes and qualifications involving business, administration and law",
          "Inter-disciplinary programmes and qualifications involving education",
          "Inter-disciplinary programmes and qualifications involving engineering, manufacturing and construction",
          "Inter-disciplinary programmes and qualifications involving natural sciences, mathematics and statistics",
          "Journalism and information",
          "Journalism and information, not elsewhere classified",
          "Journalism and information, not further defined",
          "Journalism and reporting",
          "Language acquisition",
          "Languages",
          "Languages, not elsewhere classified",
          "Languages, not further defined",
          "Law",
          "Law, not elsewhere classified",
          "Library, information and archival studies",
          "Literature and linguistics",
          "Management and administration",
          "Manufacturing and processing",
          "Manufacturing and processing, not elsewhere classified",
          "Manufacturing and processing, not further defined",
          "Marketing and advertising",
          "Materials (glass, paper, plastic and wood)",
          "Mathematics",
          "Mathematics and statistics",
          "Mathematics and statistics, not elsewhere classified",
          "Mathematics and statistics, not further defined",
          "Mechanics and metal trades",
          "Medical diagnostic and treatment technology",
          "Medicine",
          "Military and defence",
          "Mining and extraction",
          "Motor vehicles, ships and aircraft",
          "Music and performing arts",
          "Natural environments and wildlife",
          "Natural sciences, mathematics and statistics",
          "Natural sciences, mathematics and statistics not elsewhere classified",
          "Nursing and midwifery",
          "Occupational health and safety",
          "Personal services",
          "Personal services, not elsewhere classified",
          "Personal services, not further defined",
          "Pharmacy",
          "Philosophy and ethics",
          "Physical sciences",
          "Physical sciences, not elsewhere classified",
          "Physical sciences, not further defined",
          "Physics",
          "Political sciences and civics",
          "Protection of persons and property",
          "Psychology",
          "Religion and theology",
          "Secretarial and office work",
          "Security services",
          "Security services, not elsewhere classified",
          "Security services, not further defined",
          "Services",
          "Services, inter-disciplinary programmes",
          "Social and behavioural sciences",
          "Social and behavioural sciences, not elsewhere classified",
          "Social and behavioural sciences, not further defined",
          "Social sciences, journalism and information",
          "Social sciences, journalism and information, inter-disciplinary programmes",
          "Social work and counselling",
          "Sociology and cultural studies",
          "Software and applications development and analysis",
          "Sports",
          "Statistics",
          "Teacher training with subject specialization",
          "Teacher training without subject specialization",
          "Textiles (clothes, footwear and leather)",
          "Therapy and rehabilitation",
          "Traditional and complementary medicine and therapy",
          "Training for pre-school teachers",
          "Transport services",
          "Transport services, not elsewhere classified",
          "Travel, tourism and leisure",
          "Unknown",
          "Veterinary",
          "Veterinary, not elsewhere classified",
          "Welfare",
          "Welfare, not elsewhere classified",
          "Welfare, not further defined",
          "Wholesale and retail sales",
          "Work skills"
         ],
         "xaxis": "x",
         "y": [
          9357,
          16860,
          13026,
          489,
          2999,
          17280,
          8218,
          3987,
          18705,
          42763,
          9273,
          2830,
          6008,
          5810,
          24385,
          25353,
          7466,
          2709,
          5255,
          12860,
          22181,
          34383,
          54353,
          18727,
          226366,
          13667,
          1887,
          7572,
          11449,
          24328,
          13734,
          148,
          11595,
          5824,
          5246,
          5892,
          778,
          16208,
          81263,
          159378,
          24866,
          7576,
          49451,
          27514,
          33782,
          11102,
          14442,
          75754,
          14508,
          1452,
          2472,
          1139,
          3748,
          5704,
          12492,
          25151,
          12523,
          18845,
          576,
          184,
          21924,
          5625,
          556,
          16908,
          8102,
          11134,
          2174,
          7555,
          3603,
          11301,
          28646,
          7336,
          90914,
          3804,
          4485,
          14486,
          458,
          154,
          298,
          27983,
          5143,
          6962,
          36187,
          3909,
          5277,
          4489,
          5720,
          1447,
          3076,
          2243,
          15540,
          9317,
          47317,
          39808,
          10563,
          106115,
          94262,
          2629,
          2411,
          51965,
          73349,
          4826,
          1833,
          4686,
          31451,
          8146,
          12960,
          802,
          623,
          2536,
          42389,
          6340,
          61347,
          1701,
          1319,
          28584,
          31981,
          2346,
          1696,
          198,
          33211,
          912,
          9740,
          798,
          2688,
          16951,
          10509,
          736,
          864,
          1836,
          13333,
          69138,
          1079,
          35747,
          7056,
          11515,
          1216,
          582,
          1445,
          5675,
          1041,
          3447,
          3767,
          17027,
          2489,
          4434,
          18497,
          20864,
          9404,
          34940,
          2013,
          42803,
          19757,
          6532,
          16251,
          476,
          12194,
          13351,
          2637,
          58244,
          1308153,
          13509,
          717,
          2427,
          685,
          2186,
          18294,
          3398
         ],
         "yaxis": "y"
        }
       ],
       "layout": {
        "barmode": "relative",
        "legend": {
         "tracegroupgap": 0
        },
        "template": {
         "data": {
          "bar": [
           {
            "error_x": {
             "color": "#2a3f5f"
            },
            "error_y": {
             "color": "#2a3f5f"
            },
            "marker": {
             "line": {
              "color": "#E5ECF6",
              "width": 0.5
             },
             "pattern": {
              "fillmode": "overlay",
              "size": 10,
              "solidity": 0.2
             }
            },
            "type": "bar"
           }
          ],
          "barpolar": [
           {
            "marker": {
             "line": {
              "color": "#E5ECF6",
              "width": 0.5
             },
             "pattern": {
              "fillmode": "overlay",
              "size": 10,
              "solidity": 0.2
             }
            },
            "type": "barpolar"
           }
          ],
          "carpet": [
           {
            "aaxis": {
             "endlinecolor": "#2a3f5f",
             "gridcolor": "white",
             "linecolor": "white",
             "minorgridcolor": "white",
             "startlinecolor": "#2a3f5f"
            },
            "baxis": {
             "endlinecolor": "#2a3f5f",
             "gridcolor": "white",
             "linecolor": "white",
             "minorgridcolor": "white",
             "startlinecolor": "#2a3f5f"
            },
            "type": "carpet"
           }
          ],
          "choropleth": [
           {
            "colorbar": {
             "outlinewidth": 0,
             "ticks": ""
            },
            "type": "choropleth"
           }
          ],
          "contour": [
           {
            "colorbar": {
             "outlinewidth": 0,
             "ticks": ""
            },
            "colorscale": [
             [
              0,
              "#0d0887"
             ],
             [
              0.1111111111111111,
              "#46039f"
             ],
             [
              0.2222222222222222,
              "#7201a8"
             ],
             [
              0.3333333333333333,
              "#9c179e"
             ],
             [
              0.4444444444444444,
              "#bd3786"
             ],
             [
              0.5555555555555556,
              "#d8576b"
             ],
             [
              0.6666666666666666,
              "#ed7953"
             ],
             [
              0.7777777777777778,
              "#fb9f3a"
             ],
             [
              0.8888888888888888,
              "#fdca26"
             ],
             [
              1,
              "#f0f921"
             ]
            ],
            "type": "contour"
           }
          ],
          "contourcarpet": [
           {
            "colorbar": {
             "outlinewidth": 0,
             "ticks": ""
            },
            "type": "contourcarpet"
           }
          ],
          "heatmap": [
           {
            "colorbar": {
             "outlinewidth": 0,
             "ticks": ""
            },
            "colorscale": [
             [
              0,
              "#0d0887"
             ],
             [
              0.1111111111111111,
              "#46039f"
             ],
             [
              0.2222222222222222,
              "#7201a8"
             ],
             [
              0.3333333333333333,
              "#9c179e"
             ],
             [
              0.4444444444444444,
              "#bd3786"
             ],
             [
              0.5555555555555556,
              "#d8576b"
             ],
             [
              0.6666666666666666,
              "#ed7953"
             ],
             [
              0.7777777777777778,
              "#fb9f3a"
             ],
             [
              0.8888888888888888,
              "#fdca26"
             ],
             [
              1,
              "#f0f921"
             ]
            ],
            "type": "heatmap"
           }
          ],
          "heatmapgl": [
           {
            "colorbar": {
             "outlinewidth": 0,
             "ticks": ""
            },
            "colorscale": [
             [
              0,
              "#0d0887"
             ],
             [
              0.1111111111111111,
              "#46039f"
             ],
             [
              0.2222222222222222,
              "#7201a8"
             ],
             [
              0.3333333333333333,
              "#9c179e"
             ],
             [
              0.4444444444444444,
              "#bd3786"
             ],
             [
              0.5555555555555556,
              "#d8576b"
             ],
             [
              0.6666666666666666,
              "#ed7953"
             ],
             [
              0.7777777777777778,
              "#fb9f3a"
             ],
             [
              0.8888888888888888,
              "#fdca26"
             ],
             [
              1,
              "#f0f921"
             ]
            ],
            "type": "heatmapgl"
           }
          ],
          "histogram": [
           {
            "marker": {
             "pattern": {
              "fillmode": "overlay",
              "size": 10,
              "solidity": 0.2
             }
            },
            "type": "histogram"
           }
          ],
          "histogram2d": [
           {
            "colorbar": {
             "outlinewidth": 0,
             "ticks": ""
            },
            "colorscale": [
             [
              0,
              "#0d0887"
             ],
             [
              0.1111111111111111,
              "#46039f"
             ],
             [
              0.2222222222222222,
              "#7201a8"
             ],
             [
              0.3333333333333333,
              "#9c179e"
             ],
             [
              0.4444444444444444,
              "#bd3786"
             ],
             [
              0.5555555555555556,
              "#d8576b"
             ],
             [
              0.6666666666666666,
              "#ed7953"
             ],
             [
              0.7777777777777778,
              "#fb9f3a"
             ],
             [
              0.8888888888888888,
              "#fdca26"
             ],
             [
              1,
              "#f0f921"
             ]
            ],
            "type": "histogram2d"
           }
          ],
          "histogram2dcontour": [
           {
            "colorbar": {
             "outlinewidth": 0,
             "ticks": ""
            },
            "colorscale": [
             [
              0,
              "#0d0887"
             ],
             [
              0.1111111111111111,
              "#46039f"
             ],
             [
              0.2222222222222222,
              "#7201a8"
             ],
             [
              0.3333333333333333,
              "#9c179e"
             ],
             [
              0.4444444444444444,
              "#bd3786"
             ],
             [
              0.5555555555555556,
              "#d8576b"
             ],
             [
              0.6666666666666666,
              "#ed7953"
             ],
             [
              0.7777777777777778,
              "#fb9f3a"
             ],
             [
              0.8888888888888888,
              "#fdca26"
             ],
             [
              1,
              "#f0f921"
             ]
            ],
            "type": "histogram2dcontour"
           }
          ],
          "mesh3d": [
           {
            "colorbar": {
             "outlinewidth": 0,
             "ticks": ""
            },
            "type": "mesh3d"
           }
          ],
          "parcoords": [
           {
            "line": {
             "colorbar": {
              "outlinewidth": 0,
              "ticks": ""
             }
            },
            "type": "parcoords"
           }
          ],
          "pie": [
           {
            "automargin": true,
            "type": "pie"
           }
          ],
          "scatter": [
           {
            "fillpattern": {
             "fillmode": "overlay",
             "size": 10,
             "solidity": 0.2
            },
            "type": "scatter"
           }
          ],
          "scatter3d": [
           {
            "line": {
             "colorbar": {
              "outlinewidth": 0,
              "ticks": ""
             }
            },
            "marker": {
             "colorbar": {
              "outlinewidth": 0,
              "ticks": ""
             }
            },
            "type": "scatter3d"
           }
          ],
          "scattercarpet": [
           {
            "marker": {
             "colorbar": {
              "outlinewidth": 0,
              "ticks": ""
             }
            },
            "type": "scattercarpet"
           }
          ],
          "scattergeo": [
           {
            "marker": {
             "colorbar": {
              "outlinewidth": 0,
              "ticks": ""
             }
            },
            "type": "scattergeo"
           }
          ],
          "scattergl": [
           {
            "marker": {
             "colorbar": {
              "outlinewidth": 0,
              "ticks": ""
             }
            },
            "type": "scattergl"
           }
          ],
          "scattermapbox": [
           {
            "marker": {
             "colorbar": {
              "outlinewidth": 0,
              "ticks": ""
             }
            },
            "type": "scattermapbox"
           }
          ],
          "scatterpolar": [
           {
            "marker": {
             "colorbar": {
              "outlinewidth": 0,
              "ticks": ""
             }
            },
            "type": "scatterpolar"
           }
          ],
          "scatterpolargl": [
           {
            "marker": {
             "colorbar": {
              "outlinewidth": 0,
              "ticks": ""
             }
            },
            "type": "scatterpolargl"
           }
          ],
          "scatterternary": [
           {
            "marker": {
             "colorbar": {
              "outlinewidth": 0,
              "ticks": ""
             }
            },
            "type": "scatterternary"
           }
          ],
          "surface": [
           {
            "colorbar": {
             "outlinewidth": 0,
             "ticks": ""
            },
            "colorscale": [
             [
              0,
              "#0d0887"
             ],
             [
              0.1111111111111111,
              "#46039f"
             ],
             [
              0.2222222222222222,
              "#7201a8"
             ],
             [
              0.3333333333333333,
              "#9c179e"
             ],
             [
              0.4444444444444444,
              "#bd3786"
             ],
             [
              0.5555555555555556,
              "#d8576b"
             ],
             [
              0.6666666666666666,
              "#ed7953"
             ],
             [
              0.7777777777777778,
              "#fb9f3a"
             ],
             [
              0.8888888888888888,
              "#fdca26"
             ],
             [
              1,
              "#f0f921"
             ]
            ],
            "type": "surface"
           }
          ],
          "table": [
           {
            "cells": {
             "fill": {
              "color": "#EBF0F8"
             },
             "line": {
              "color": "white"
             }
            },
            "header": {
             "fill": {
              "color": "#C8D4E3"
             },
             "line": {
              "color": "white"
             }
            },
            "type": "table"
           }
          ]
         },
         "layout": {
          "annotationdefaults": {
           "arrowcolor": "#2a3f5f",
           "arrowhead": 0,
           "arrowwidth": 1
          },
          "autotypenumbers": "strict",
          "coloraxis": {
           "colorbar": {
            "outlinewidth": 0,
            "ticks": ""
           }
          },
          "colorscale": {
           "diverging": [
            [
             0,
             "#8e0152"
            ],
            [
             0.1,
             "#c51b7d"
            ],
            [
             0.2,
             "#de77ae"
            ],
            [
             0.3,
             "#f1b6da"
            ],
            [
             0.4,
             "#fde0ef"
            ],
            [
             0.5,
             "#f7f7f7"
            ],
            [
             0.6,
             "#e6f5d0"
            ],
            [
             0.7,
             "#b8e186"
            ],
            [
             0.8,
             "#7fbc41"
            ],
            [
             0.9,
             "#4d9221"
            ],
            [
             1,
             "#276419"
            ]
           ],
           "sequential": [
            [
             0,
             "#0d0887"
            ],
            [
             0.1111111111111111,
             "#46039f"
            ],
            [
             0.2222222222222222,
             "#7201a8"
            ],
            [
             0.3333333333333333,
             "#9c179e"
            ],
            [
             0.4444444444444444,
             "#bd3786"
            ],
            [
             0.5555555555555556,
             "#d8576b"
            ],
            [
             0.6666666666666666,
             "#ed7953"
            ],
            [
             0.7777777777777778,
             "#fb9f3a"
            ],
            [
             0.8888888888888888,
             "#fdca26"
            ],
            [
             1,
             "#f0f921"
            ]
           ],
           "sequentialminus": [
            [
             0,
             "#0d0887"
            ],
            [
             0.1111111111111111,
             "#46039f"
            ],
            [
             0.2222222222222222,
             "#7201a8"
            ],
            [
             0.3333333333333333,
             "#9c179e"
            ],
            [
             0.4444444444444444,
             "#bd3786"
            ],
            [
             0.5555555555555556,
             "#d8576b"
            ],
            [
             0.6666666666666666,
             "#ed7953"
            ],
            [
             0.7777777777777778,
             "#fb9f3a"
            ],
            [
             0.8888888888888888,
             "#fdca26"
            ],
            [
             1,
             "#f0f921"
            ]
           ]
          },
          "colorway": [
           "#636efa",
           "#EF553B",
           "#00cc96",
           "#ab63fa",
           "#FFA15A",
           "#19d3f3",
           "#FF6692",
           "#B6E880",
           "#FF97FF",
           "#FECB52"
          ],
          "font": {
           "color": "#2a3f5f"
          },
          "geo": {
           "bgcolor": "white",
           "lakecolor": "white",
           "landcolor": "#E5ECF6",
           "showlakes": true,
           "showland": true,
           "subunitcolor": "white"
          },
          "hoverlabel": {
           "align": "left"
          },
          "hovermode": "closest",
          "mapbox": {
           "style": "light"
          },
          "paper_bgcolor": "white",
          "plot_bgcolor": "#E5ECF6",
          "polar": {
           "angularaxis": {
            "gridcolor": "white",
            "linecolor": "white",
            "ticks": ""
           },
           "bgcolor": "#E5ECF6",
           "radialaxis": {
            "gridcolor": "white",
            "linecolor": "white",
            "ticks": ""
           }
          },
          "scene": {
           "xaxis": {
            "backgroundcolor": "#E5ECF6",
            "gridcolor": "white",
            "gridwidth": 2,
            "linecolor": "white",
            "showbackground": true,
            "ticks": "",
            "zerolinecolor": "white"
           },
           "yaxis": {
            "backgroundcolor": "#E5ECF6",
            "gridcolor": "white",
            "gridwidth": 2,
            "linecolor": "white",
            "showbackground": true,
            "ticks": "",
            "zerolinecolor": "white"
           },
           "zaxis": {
            "backgroundcolor": "#E5ECF6",
            "gridcolor": "white",
            "gridwidth": 2,
            "linecolor": "white",
            "showbackground": true,
            "ticks": "",
            "zerolinecolor": "white"
           }
          },
          "shapedefaults": {
           "line": {
            "color": "#2a3f5f"
           }
          },
          "ternary": {
           "aaxis": {
            "gridcolor": "white",
            "linecolor": "white",
            "ticks": ""
           },
           "baxis": {
            "gridcolor": "white",
            "linecolor": "white",
            "ticks": ""
           },
           "bgcolor": "#E5ECF6",
           "caxis": {
            "gridcolor": "white",
            "linecolor": "white",
            "ticks": ""
           }
          },
          "title": {
           "x": 0.05
          },
          "xaxis": {
           "automargin": true,
           "gridcolor": "white",
           "linecolor": "white",
           "ticks": "",
           "title": {
            "standoff": 15
           },
           "zerolinecolor": "white",
           "zerolinewidth": 2
          },
          "yaxis": {
           "automargin": true,
           "gridcolor": "white",
           "linecolor": "white",
           "ticks": "",
           "title": {
            "standoff": 15
           },
           "zerolinecolor": "white",
           "zerolinewidth": 2
          }
         }
        },
        "title": {
         "text": "Histogram of Field of Education"
        },
        "xaxis": {
         "anchor": "y",
         "categoryorder": "total descending",
         "domain": [
          0,
          1
         ],
         "tickangle": 45,
         "title": {
          "text": "Field of Education"
         }
        },
        "yaxis": {
         "anchor": "x",
         "domain": [
          0,
          1
         ],
         "title": {
          "text": "Count"
         }
        }
       }
      },
      "text/html": [
       "<div>                            <div id=\"5c646f89-bb2f-4001-9636-8a7fbd56a8e2\" class=\"plotly-graph-div\" style=\"height:525px; width:100%;\"></div>            <script type=\"text/javascript\">                require([\"plotly\"], function(Plotly) {                    window.PLOTLYENV=window.PLOTLYENV || {};                                    if (document.getElementById(\"5c646f89-bb2f-4001-9636-8a7fbd56a8e2\")) {                    Plotly.newPlot(                        \"5c646f89-bb2f-4001-9636-8a7fbd56a8e2\",                        [{\"alignmentgroup\":\"True\",\"hovertemplate\":\"Field of Education=%{x}<br>Count=%{y}<extra></extra>\",\"legendgroup\":\"\",\"marker\":{\"color\":\"#636efa\",\"pattern\":{\"shape\":\"\"}},\"name\":\"\",\"offsetgroup\":\"\",\"orientation\":\"v\",\"showlegend\":false,\"textposition\":\"auto\",\"x\":[\"Accounting and taxation\",\"Agriculture\",\"Agriculture, forestry, fisheries and veterinary\",\"Agriculture, forestry, fisheries and veterinary not elsewhere classified\",\"Agriculture, not elsewhere classified\",\"Agriculture, not further defined\",\"Architecture and construction\",\"Architecture and construction, not elsewhere classified\",\"Architecture and construction, not further defined\",\"Architecture and town planning\",\"Arts\",\"Arts and humanities\",\"Arts and humanities, inter-disciplinary programmes\",\"Arts, not elsewhere classified\",\"Arts, not further defined\",\"Audio-visual techniques and media production\",\"Biochemistry\",\"Biological and related sciences\",\"Biological and related sciences, not elsewhere classifed\",\"Biological and related sciences, not further defined\",\"Biology\",\"Building and civil engineering\",\"Business and administration\",\"Business and administration, not elsewhere classified\",\"Business and administration, not further defined\",\"Business, administration and law\",\"Business, administration and law not elsewhere classified\",\"Care of the elderly and of disabled adults\",\"Chemical engineering and processes\",\"Chemistry\",\"Child care and youth services\",\"Community sanitation\",\"Computer use\",\"Crop and livestock production\",\"Database and network design and administration\",\"Dental studies\",\"Domestic services\",\"Earth sciences\",\"Economics\",\"Education\",\"Education science\",\"Education, not elsewhere classified\",\"Education, not further defined\",\"Electricity and energy\",\"Electronics and automation\",\"Engineering and engineering trades\",\"Engineering and engineering trades, not elsewhere classified\",\"Engineering and engineering trades, not further defined\",\"Engineering, manufacturing and construction\",\"Engineering, manufacturing and construction not elsewhere classified\",\"Environment\",\"Environment, not elsewhere classified\",\"Environment, not further defined\",\"Environmental protection technology\",\"Environmental sciences\",\"Fashion, interior and industrial design\",\"Finance, banking and insurance\",\"Fine arts\",\"Fisheries\",\"Fisheries, not elsewhere classified\",\"Food processing\",\"Forestry\",\"Forestry, not elsewhere classified\",\"Hair and beauty services\",\"Handicrafts\",\"Health\",\"Health and Welfare, inter-disciplinary programmes\",\"Health and welfare\",\"Health, not elsewhere classified\",\"Health, not further defined\",\"History and archaeology\",\"Horticulture\",\"Hotel, restaurants and catering\",\"Humanities (except languages)\",\"Humanities (except languages), not elsewhere classified\",\"Humanities (except languages), not further defined\",\"Hygiene and occupational health services\",\"Hygiene and occupational health services, not elsewhere classified\",\"Hygiene and occupational health services, not further defined\",\"Information and Communication Technologies (ICTs)\",\"Information and Communication Technologies (ICTs), inter-disciplinary programmes\",\"Information and Communication Technologies (ICTs), not elsewhere classified\",\"Information and Communication Technologies (ICTs), not further defined\",\"Inter-disciplinary programmes and qualifications involving agriculture, forestry, fisheries and veterinary\",\"Inter-disciplinary programmes and qualifications involving business, administration and law\",\"Inter-disciplinary programmes and qualifications involving education\",\"Inter-disciplinary programmes and qualifications involving engineering, manufacturing and construction\",\"Inter-disciplinary programmes and qualifications involving natural sciences, mathematics and statistics\",\"Journalism and information\",\"Journalism and information, not elsewhere classified\",\"Journalism and information, not further defined\",\"Journalism and reporting\",\"Language acquisition\",\"Languages\",\"Languages, not elsewhere classified\",\"Languages, not further defined\",\"Law\",\"Law, not elsewhere classified\",\"Library, information and archival studies\",\"Literature and linguistics\",\"Management and administration\",\"Manufacturing and processing\",\"Manufacturing and processing, not elsewhere classified\",\"Manufacturing and processing, not further defined\",\"Marketing and advertising\",\"Materials (glass, paper, plastic and wood)\",\"Mathematics\",\"Mathematics and statistics\",\"Mathematics and statistics, not elsewhere classified\",\"Mathematics and statistics, not further defined\",\"Mechanics and metal trades\",\"Medical diagnostic and treatment technology\",\"Medicine\",\"Military and defence\",\"Mining and extraction\",\"Motor vehicles, ships and aircraft\",\"Music and performing arts\",\"Natural environments and wildlife\",\"Natural sciences, mathematics and statistics\",\"Natural sciences, mathematics and statistics not elsewhere classified\",\"Nursing and midwifery\",\"Occupational health and safety\",\"Personal services\",\"Personal services, not elsewhere classified\",\"Personal services, not further defined\",\"Pharmacy\",\"Philosophy and ethics\",\"Physical sciences\",\"Physical sciences, not elsewhere classified\",\"Physical sciences, not further defined\",\"Physics\",\"Political sciences and civics\",\"Protection of persons and property\",\"Psychology\",\"Religion and theology\",\"Secretarial and office work\",\"Security services\",\"Security services, not elsewhere classified\",\"Security services, not further defined\",\"Services\",\"Services, inter-disciplinary programmes\",\"Social and behavioural sciences\",\"Social and behavioural sciences, not elsewhere classified\",\"Social and behavioural sciences, not further defined\",\"Social sciences, journalism and information\",\"Social sciences, journalism and information, inter-disciplinary programmes\",\"Social work and counselling\",\"Sociology and cultural studies\",\"Software and applications development and analysis\",\"Sports\",\"Statistics\",\"Teacher training with subject specialization\",\"Teacher training without subject specialization\",\"Textiles (clothes, footwear and leather)\",\"Therapy and rehabilitation\",\"Traditional and complementary medicine and therapy\",\"Training for pre-school teachers\",\"Transport services\",\"Transport services, not elsewhere classified\",\"Travel, tourism and leisure\",\"Unknown\",\"Veterinary\",\"Veterinary, not elsewhere classified\",\"Welfare\",\"Welfare, not elsewhere classified\",\"Welfare, not further defined\",\"Wholesale and retail sales\",\"Work skills\"],\"xaxis\":\"x\",\"y\":[9357,16860,13026,489,2999,17280,8218,3987,18705,42763,9273,2830,6008,5810,24385,25353,7466,2709,5255,12860,22181,34383,54353,18727,226366,13667,1887,7572,11449,24328,13734,148,11595,5824,5246,5892,778,16208,81263,159378,24866,7576,49451,27514,33782,11102,14442,75754,14508,1452,2472,1139,3748,5704,12492,25151,12523,18845,576,184,21924,5625,556,16908,8102,11134,2174,7555,3603,11301,28646,7336,90914,3804,4485,14486,458,154,298,27983,5143,6962,36187,3909,5277,4489,5720,1447,3076,2243,15540,9317,47317,39808,10563,106115,94262,2629,2411,51965,73349,4826,1833,4686,31451,8146,12960,802,623,2536,42389,6340,61347,1701,1319,28584,31981,2346,1696,198,33211,912,9740,798,2688,16951,10509,736,864,1836,13333,69138,1079,35747,7056,11515,1216,582,1445,5675,1041,3447,3767,17027,2489,4434,18497,20864,9404,34940,2013,42803,19757,6532,16251,476,12194,13351,2637,58244,1308153,13509,717,2427,685,2186,18294,3398],\"yaxis\":\"y\",\"type\":\"bar\"}],                        {\"template\":{\"data\":{\"histogram2dcontour\":[{\"type\":\"histogram2dcontour\",\"colorbar\":{\"outlinewidth\":0,\"ticks\":\"\"},\"colorscale\":[[0.0,\"#0d0887\"],[0.1111111111111111,\"#46039f\"],[0.2222222222222222,\"#7201a8\"],[0.3333333333333333,\"#9c179e\"],[0.4444444444444444,\"#bd3786\"],[0.5555555555555556,\"#d8576b\"],[0.6666666666666666,\"#ed7953\"],[0.7777777777777778,\"#fb9f3a\"],[0.8888888888888888,\"#fdca26\"],[1.0,\"#f0f921\"]]}],\"choropleth\":[{\"type\":\"choropleth\",\"colorbar\":{\"outlinewidth\":0,\"ticks\":\"\"}}],\"histogram2d\":[{\"type\":\"histogram2d\",\"colorbar\":{\"outlinewidth\":0,\"ticks\":\"\"},\"colorscale\":[[0.0,\"#0d0887\"],[0.1111111111111111,\"#46039f\"],[0.2222222222222222,\"#7201a8\"],[0.3333333333333333,\"#9c179e\"],[0.4444444444444444,\"#bd3786\"],[0.5555555555555556,\"#d8576b\"],[0.6666666666666666,\"#ed7953\"],[0.7777777777777778,\"#fb9f3a\"],[0.8888888888888888,\"#fdca26\"],[1.0,\"#f0f921\"]]}],\"heatmap\":[{\"type\":\"heatmap\",\"colorbar\":{\"outlinewidth\":0,\"ticks\":\"\"},\"colorscale\":[[0.0,\"#0d0887\"],[0.1111111111111111,\"#46039f\"],[0.2222222222222222,\"#7201a8\"],[0.3333333333333333,\"#9c179e\"],[0.4444444444444444,\"#bd3786\"],[0.5555555555555556,\"#d8576b\"],[0.6666666666666666,\"#ed7953\"],[0.7777777777777778,\"#fb9f3a\"],[0.8888888888888888,\"#fdca26\"],[1.0,\"#f0f921\"]]}],\"heatmapgl\":[{\"type\":\"heatmapgl\",\"colorbar\":{\"outlinewidth\":0,\"ticks\":\"\"},\"colorscale\":[[0.0,\"#0d0887\"],[0.1111111111111111,\"#46039f\"],[0.2222222222222222,\"#7201a8\"],[0.3333333333333333,\"#9c179e\"],[0.4444444444444444,\"#bd3786\"],[0.5555555555555556,\"#d8576b\"],[0.6666666666666666,\"#ed7953\"],[0.7777777777777778,\"#fb9f3a\"],[0.8888888888888888,\"#fdca26\"],[1.0,\"#f0f921\"]]}],\"contourcarpet\":[{\"type\":\"contourcarpet\",\"colorbar\":{\"outlinewidth\":0,\"ticks\":\"\"}}],\"contour\":[{\"type\":\"contour\",\"colorbar\":{\"outlinewidth\":0,\"ticks\":\"\"},\"colorscale\":[[0.0,\"#0d0887\"],[0.1111111111111111,\"#46039f\"],[0.2222222222222222,\"#7201a8\"],[0.3333333333333333,\"#9c179e\"],[0.4444444444444444,\"#bd3786\"],[0.5555555555555556,\"#d8576b\"],[0.6666666666666666,\"#ed7953\"],[0.7777777777777778,\"#fb9f3a\"],[0.8888888888888888,\"#fdca26\"],[1.0,\"#f0f921\"]]}],\"surface\":[{\"type\":\"surface\",\"colorbar\":{\"outlinewidth\":0,\"ticks\":\"\"},\"colorscale\":[[0.0,\"#0d0887\"],[0.1111111111111111,\"#46039f\"],[0.2222222222222222,\"#7201a8\"],[0.3333333333333333,\"#9c179e\"],[0.4444444444444444,\"#bd3786\"],[0.5555555555555556,\"#d8576b\"],[0.6666666666666666,\"#ed7953\"],[0.7777777777777778,\"#fb9f3a\"],[0.8888888888888888,\"#fdca26\"],[1.0,\"#f0f921\"]]}],\"mesh3d\":[{\"type\":\"mesh3d\",\"colorbar\":{\"outlinewidth\":0,\"ticks\":\"\"}}],\"scatter\":[{\"fillpattern\":{\"fillmode\":\"overlay\",\"size\":10,\"solidity\":0.2},\"type\":\"scatter\"}],\"parcoords\":[{\"type\":\"parcoords\",\"line\":{\"colorbar\":{\"outlinewidth\":0,\"ticks\":\"\"}}}],\"scatterpolargl\":[{\"type\":\"scatterpolargl\",\"marker\":{\"colorbar\":{\"outlinewidth\":0,\"ticks\":\"\"}}}],\"bar\":[{\"error_x\":{\"color\":\"#2a3f5f\"},\"error_y\":{\"color\":\"#2a3f5f\"},\"marker\":{\"line\":{\"color\":\"#E5ECF6\",\"width\":0.5},\"pattern\":{\"fillmode\":\"overlay\",\"size\":10,\"solidity\":0.2}},\"type\":\"bar\"}],\"scattergeo\":[{\"type\":\"scattergeo\",\"marker\":{\"colorbar\":{\"outlinewidth\":0,\"ticks\":\"\"}}}],\"scatterpolar\":[{\"type\":\"scatterpolar\",\"marker\":{\"colorbar\":{\"outlinewidth\":0,\"ticks\":\"\"}}}],\"histogram\":[{\"marker\":{\"pattern\":{\"fillmode\":\"overlay\",\"size\":10,\"solidity\":0.2}},\"type\":\"histogram\"}],\"scattergl\":[{\"type\":\"scattergl\",\"marker\":{\"colorbar\":{\"outlinewidth\":0,\"ticks\":\"\"}}}],\"scatter3d\":[{\"type\":\"scatter3d\",\"line\":{\"colorbar\":{\"outlinewidth\":0,\"ticks\":\"\"}},\"marker\":{\"colorbar\":{\"outlinewidth\":0,\"ticks\":\"\"}}}],\"scattermapbox\":[{\"type\":\"scattermapbox\",\"marker\":{\"colorbar\":{\"outlinewidth\":0,\"ticks\":\"\"}}}],\"scatterternary\":[{\"type\":\"scatterternary\",\"marker\":{\"colorbar\":{\"outlinewidth\":0,\"ticks\":\"\"}}}],\"scattercarpet\":[{\"type\":\"scattercarpet\",\"marker\":{\"colorbar\":{\"outlinewidth\":0,\"ticks\":\"\"}}}],\"carpet\":[{\"aaxis\":{\"endlinecolor\":\"#2a3f5f\",\"gridcolor\":\"white\",\"linecolor\":\"white\",\"minorgridcolor\":\"white\",\"startlinecolor\":\"#2a3f5f\"},\"baxis\":{\"endlinecolor\":\"#2a3f5f\",\"gridcolor\":\"white\",\"linecolor\":\"white\",\"minorgridcolor\":\"white\",\"startlinecolor\":\"#2a3f5f\"},\"type\":\"carpet\"}],\"table\":[{\"cells\":{\"fill\":{\"color\":\"#EBF0F8\"},\"line\":{\"color\":\"white\"}},\"header\":{\"fill\":{\"color\":\"#C8D4E3\"},\"line\":{\"color\":\"white\"}},\"type\":\"table\"}],\"barpolar\":[{\"marker\":{\"line\":{\"color\":\"#E5ECF6\",\"width\":0.5},\"pattern\":{\"fillmode\":\"overlay\",\"size\":10,\"solidity\":0.2}},\"type\":\"barpolar\"}],\"pie\":[{\"automargin\":true,\"type\":\"pie\"}]},\"layout\":{\"autotypenumbers\":\"strict\",\"colorway\":[\"#636efa\",\"#EF553B\",\"#00cc96\",\"#ab63fa\",\"#FFA15A\",\"#19d3f3\",\"#FF6692\",\"#B6E880\",\"#FF97FF\",\"#FECB52\"],\"font\":{\"color\":\"#2a3f5f\"},\"hovermode\":\"closest\",\"hoverlabel\":{\"align\":\"left\"},\"paper_bgcolor\":\"white\",\"plot_bgcolor\":\"#E5ECF6\",\"polar\":{\"bgcolor\":\"#E5ECF6\",\"angularaxis\":{\"gridcolor\":\"white\",\"linecolor\":\"white\",\"ticks\":\"\"},\"radialaxis\":{\"gridcolor\":\"white\",\"linecolor\":\"white\",\"ticks\":\"\"}},\"ternary\":{\"bgcolor\":\"#E5ECF6\",\"aaxis\":{\"gridcolor\":\"white\",\"linecolor\":\"white\",\"ticks\":\"\"},\"baxis\":{\"gridcolor\":\"white\",\"linecolor\":\"white\",\"ticks\":\"\"},\"caxis\":{\"gridcolor\":\"white\",\"linecolor\":\"white\",\"ticks\":\"\"}},\"coloraxis\":{\"colorbar\":{\"outlinewidth\":0,\"ticks\":\"\"}},\"colorscale\":{\"sequential\":[[0.0,\"#0d0887\"],[0.1111111111111111,\"#46039f\"],[0.2222222222222222,\"#7201a8\"],[0.3333333333333333,\"#9c179e\"],[0.4444444444444444,\"#bd3786\"],[0.5555555555555556,\"#d8576b\"],[0.6666666666666666,\"#ed7953\"],[0.7777777777777778,\"#fb9f3a\"],[0.8888888888888888,\"#fdca26\"],[1.0,\"#f0f921\"]],\"sequentialminus\":[[0.0,\"#0d0887\"],[0.1111111111111111,\"#46039f\"],[0.2222222222222222,\"#7201a8\"],[0.3333333333333333,\"#9c179e\"],[0.4444444444444444,\"#bd3786\"],[0.5555555555555556,\"#d8576b\"],[0.6666666666666666,\"#ed7953\"],[0.7777777777777778,\"#fb9f3a\"],[0.8888888888888888,\"#fdca26\"],[1.0,\"#f0f921\"]],\"diverging\":[[0,\"#8e0152\"],[0.1,\"#c51b7d\"],[0.2,\"#de77ae\"],[0.3,\"#f1b6da\"],[0.4,\"#fde0ef\"],[0.5,\"#f7f7f7\"],[0.6,\"#e6f5d0\"],[0.7,\"#b8e186\"],[0.8,\"#7fbc41\"],[0.9,\"#4d9221\"],[1,\"#276419\"]]},\"xaxis\":{\"gridcolor\":\"white\",\"linecolor\":\"white\",\"ticks\":\"\",\"title\":{\"standoff\":15},\"zerolinecolor\":\"white\",\"automargin\":true,\"zerolinewidth\":2},\"yaxis\":{\"gridcolor\":\"white\",\"linecolor\":\"white\",\"ticks\":\"\",\"title\":{\"standoff\":15},\"zerolinecolor\":\"white\",\"automargin\":true,\"zerolinewidth\":2},\"scene\":{\"xaxis\":{\"backgroundcolor\":\"#E5ECF6\",\"gridcolor\":\"white\",\"linecolor\":\"white\",\"showbackground\":true,\"ticks\":\"\",\"zerolinecolor\":\"white\",\"gridwidth\":2},\"yaxis\":{\"backgroundcolor\":\"#E5ECF6\",\"gridcolor\":\"white\",\"linecolor\":\"white\",\"showbackground\":true,\"ticks\":\"\",\"zerolinecolor\":\"white\",\"gridwidth\":2},\"zaxis\":{\"backgroundcolor\":\"#E5ECF6\",\"gridcolor\":\"white\",\"linecolor\":\"white\",\"showbackground\":true,\"ticks\":\"\",\"zerolinecolor\":\"white\",\"gridwidth\":2}},\"shapedefaults\":{\"line\":{\"color\":\"#2a3f5f\"}},\"annotationdefaults\":{\"arrowcolor\":\"#2a3f5f\",\"arrowhead\":0,\"arrowwidth\":1},\"geo\":{\"bgcolor\":\"white\",\"landcolor\":\"#E5ECF6\",\"subunitcolor\":\"white\",\"showland\":true,\"showlakes\":true,\"lakecolor\":\"white\"},\"title\":{\"x\":0.05},\"mapbox\":{\"style\":\"light\"}}},\"xaxis\":{\"anchor\":\"y\",\"domain\":[0.0,1.0],\"title\":{\"text\":\"Field of Education\"},\"categoryorder\":\"total descending\",\"tickangle\":45},\"yaxis\":{\"anchor\":\"x\",\"domain\":[0.0,1.0],\"title\":{\"text\":\"Count\"}},\"legend\":{\"tracegroupgap\":0},\"title\":{\"text\":\"Histogram of Field of Education\"},\"barmode\":\"relative\"},                        {\"responsive\": true}                    ).then(function(){\n",
       "                            \n",
       "var gd = document.getElementById('5c646f89-bb2f-4001-9636-8a7fbd56a8e2');\n",
       "var x = new MutationObserver(function (mutations, observer) {{\n",
       "        var display = window.getComputedStyle(gd).display;\n",
       "        if (!display || display === 'none') {{\n",
       "            console.log([gd, 'removed!']);\n",
       "            Plotly.purge(gd);\n",
       "            observer.disconnect();\n",
       "        }}\n",
       "}});\n",
       "\n",
       "// Listen for the removal of the full notebook cells\n",
       "var notebookContainer = gd.closest('#notebook-container');\n",
       "if (notebookContainer) {{\n",
       "    x.observe(notebookContainer, {childList: true});\n",
       "}}\n",
       "\n",
       "// Listen for the clearing of the current output cell\n",
       "var outputEl = gd.closest('.output');\n",
       "if (outputEl) {{\n",
       "    x.observe(outputEl, {childList: true});\n",
       "}}\n",
       "\n",
       "                        })                };                });            </script>        </div>"
      ]
     },
     "metadata": {},
     "output_type": "display_data"
    }
   ],
   "source": [
    "plot_hist(data, 'Field of Education')"
   ]
  },
  {
   "cell_type": "markdown",
   "id": "315932de",
   "metadata": {},
   "source": [
    "In which month did the participants start their project:"
   ]
  },
  {
   "cell_type": "code",
   "execution_count": 7,
   "id": "5e6ac1f3",
   "metadata": {},
   "outputs": [
    {
     "data": {
      "application/vnd.plotly.v1+json": {
       "config": {
        "plotlyServerURL": "https://plotly.com"
       },
       "data": [
        {
         "alignmentgroup": "True",
         "hovertemplate": "Mobility Start Month=%{x}<br>Count=%{y}<extra></extra>",
         "legendgroup": "",
         "marker": {
          "color": "#636efa",
          "pattern": {
           "shape": ""
          }
         },
         "name": "",
         "offsetgroup": "",
         "orientation": "v",
         "showlegend": false,
         "textposition": "auto",
         "type": "bar",
         "x": [
          "2014-05-01T00:00:00",
          "2014-06-01T00:00:00",
          "2014-07-01T00:00:00",
          "2014-08-01T00:00:00",
          "2014-09-01T00:00:00",
          "2014-10-01T00:00:00",
          "2014-11-01T00:00:00",
          "2014-12-01T00:00:00",
          "2015-01-01T00:00:00",
          "2015-02-01T00:00:00",
          "2015-03-01T00:00:00",
          "2015-04-01T00:00:00",
          "2015-05-01T00:00:00",
          "2015-06-01T00:00:00",
          "2015-07-01T00:00:00",
          "2015-08-01T00:00:00",
          "2015-09-01T00:00:00",
          "2015-10-01T00:00:00",
          "2015-11-01T00:00:00",
          "2015-12-01T00:00:00",
          "2016-01-01T00:00:00",
          "2016-02-01T00:00:00",
          "2016-03-01T00:00:00",
          "2016-04-01T00:00:00",
          "2016-05-01T00:00:00",
          "2016-06-01T00:00:00",
          "2016-07-01T00:00:00",
          "2016-08-01T00:00:00",
          "2016-09-01T00:00:00",
          "2016-10-01T00:00:00",
          "2016-11-01T00:00:00",
          "2016-12-01T00:00:00",
          "2017-01-01T00:00:00",
          "2017-02-01T00:00:00",
          "2017-03-01T00:00:00",
          "2017-04-01T00:00:00",
          "2017-05-01T00:00:00",
          "2017-06-01T00:00:00",
          "2017-07-01T00:00:00",
          "2017-08-01T00:00:00",
          "2017-09-01T00:00:00",
          "2017-10-01T00:00:00",
          "2017-11-01T00:00:00",
          "2017-12-01T00:00:00",
          "2018-01-01T00:00:00",
          "2018-02-01T00:00:00",
          "2018-03-01T00:00:00",
          "2018-04-01T00:00:00",
          "2018-05-01T00:00:00",
          "2018-06-01T00:00:00",
          "2018-07-01T00:00:00",
          "2018-08-01T00:00:00",
          "2018-09-01T00:00:00",
          "2018-10-01T00:00:00",
          "2018-11-01T00:00:00",
          "2018-12-01T00:00:00",
          "2019-01-01T00:00:00",
          "2019-02-01T00:00:00",
          "2019-03-01T00:00:00",
          "2019-04-01T00:00:00",
          "2019-05-01T00:00:00",
          "2019-06-01T00:00:00",
          "2019-07-01T00:00:00",
          "2019-08-01T00:00:00",
          "2019-09-01T00:00:00",
          "2019-10-01T00:00:00",
          "2019-11-01T00:00:00",
          "2019-12-01T00:00:00"
         ],
         "xaxis": "x",
         "y": [
          1,
          3963,
          12751,
          38494,
          133970,
          45064,
          22456,
          10231,
          42289,
          57960,
          52820,
          47290,
          48239,
          46793,
          48542,
          68829,
          152324,
          64493,
          33868,
          12353,
          47985,
          75743,
          52814,
          63737,
          55421,
          45355,
          49061,
          65068,
          160963,
          70019,
          37404,
          14713,
          55534,
          73332,
          66893,
          60183,
          64831,
          49209,
          52333,
          64622,
          168694,
          74455,
          38698,
          15012,
          57886,
          80670,
          67374,
          76700,
          63225,
          55510,
          56126,
          61756,
          176685,
          82212,
          44924,
          17866,
          61774,
          83193,
          80958,
          76317,
          74504,
          59865,
          58534,
          63509,
          184886,
          82020,
          49523,
          18574
         ],
         "yaxis": "y"
        }
       ],
       "layout": {
        "barmode": "relative",
        "legend": {
         "tracegroupgap": 0
        },
        "template": {
         "data": {
          "bar": [
           {
            "error_x": {
             "color": "#2a3f5f"
            },
            "error_y": {
             "color": "#2a3f5f"
            },
            "marker": {
             "line": {
              "color": "#E5ECF6",
              "width": 0.5
             },
             "pattern": {
              "fillmode": "overlay",
              "size": 10,
              "solidity": 0.2
             }
            },
            "type": "bar"
           }
          ],
          "barpolar": [
           {
            "marker": {
             "line": {
              "color": "#E5ECF6",
              "width": 0.5
             },
             "pattern": {
              "fillmode": "overlay",
              "size": 10,
              "solidity": 0.2
             }
            },
            "type": "barpolar"
           }
          ],
          "carpet": [
           {
            "aaxis": {
             "endlinecolor": "#2a3f5f",
             "gridcolor": "white",
             "linecolor": "white",
             "minorgridcolor": "white",
             "startlinecolor": "#2a3f5f"
            },
            "baxis": {
             "endlinecolor": "#2a3f5f",
             "gridcolor": "white",
             "linecolor": "white",
             "minorgridcolor": "white",
             "startlinecolor": "#2a3f5f"
            },
            "type": "carpet"
           }
          ],
          "choropleth": [
           {
            "colorbar": {
             "outlinewidth": 0,
             "ticks": ""
            },
            "type": "choropleth"
           }
          ],
          "contour": [
           {
            "colorbar": {
             "outlinewidth": 0,
             "ticks": ""
            },
            "colorscale": [
             [
              0,
              "#0d0887"
             ],
             [
              0.1111111111111111,
              "#46039f"
             ],
             [
              0.2222222222222222,
              "#7201a8"
             ],
             [
              0.3333333333333333,
              "#9c179e"
             ],
             [
              0.4444444444444444,
              "#bd3786"
             ],
             [
              0.5555555555555556,
              "#d8576b"
             ],
             [
              0.6666666666666666,
              "#ed7953"
             ],
             [
              0.7777777777777778,
              "#fb9f3a"
             ],
             [
              0.8888888888888888,
              "#fdca26"
             ],
             [
              1,
              "#f0f921"
             ]
            ],
            "type": "contour"
           }
          ],
          "contourcarpet": [
           {
            "colorbar": {
             "outlinewidth": 0,
             "ticks": ""
            },
            "type": "contourcarpet"
           }
          ],
          "heatmap": [
           {
            "colorbar": {
             "outlinewidth": 0,
             "ticks": ""
            },
            "colorscale": [
             [
              0,
              "#0d0887"
             ],
             [
              0.1111111111111111,
              "#46039f"
             ],
             [
              0.2222222222222222,
              "#7201a8"
             ],
             [
              0.3333333333333333,
              "#9c179e"
             ],
             [
              0.4444444444444444,
              "#bd3786"
             ],
             [
              0.5555555555555556,
              "#d8576b"
             ],
             [
              0.6666666666666666,
              "#ed7953"
             ],
             [
              0.7777777777777778,
              "#fb9f3a"
             ],
             [
              0.8888888888888888,
              "#fdca26"
             ],
             [
              1,
              "#f0f921"
             ]
            ],
            "type": "heatmap"
           }
          ],
          "heatmapgl": [
           {
            "colorbar": {
             "outlinewidth": 0,
             "ticks": ""
            },
            "colorscale": [
             [
              0,
              "#0d0887"
             ],
             [
              0.1111111111111111,
              "#46039f"
             ],
             [
              0.2222222222222222,
              "#7201a8"
             ],
             [
              0.3333333333333333,
              "#9c179e"
             ],
             [
              0.4444444444444444,
              "#bd3786"
             ],
             [
              0.5555555555555556,
              "#d8576b"
             ],
             [
              0.6666666666666666,
              "#ed7953"
             ],
             [
              0.7777777777777778,
              "#fb9f3a"
             ],
             [
              0.8888888888888888,
              "#fdca26"
             ],
             [
              1,
              "#f0f921"
             ]
            ],
            "type": "heatmapgl"
           }
          ],
          "histogram": [
           {
            "marker": {
             "pattern": {
              "fillmode": "overlay",
              "size": 10,
              "solidity": 0.2
             }
            },
            "type": "histogram"
           }
          ],
          "histogram2d": [
           {
            "colorbar": {
             "outlinewidth": 0,
             "ticks": ""
            },
            "colorscale": [
             [
              0,
              "#0d0887"
             ],
             [
              0.1111111111111111,
              "#46039f"
             ],
             [
              0.2222222222222222,
              "#7201a8"
             ],
             [
              0.3333333333333333,
              "#9c179e"
             ],
             [
              0.4444444444444444,
              "#bd3786"
             ],
             [
              0.5555555555555556,
              "#d8576b"
             ],
             [
              0.6666666666666666,
              "#ed7953"
             ],
             [
              0.7777777777777778,
              "#fb9f3a"
             ],
             [
              0.8888888888888888,
              "#fdca26"
             ],
             [
              1,
              "#f0f921"
             ]
            ],
            "type": "histogram2d"
           }
          ],
          "histogram2dcontour": [
           {
            "colorbar": {
             "outlinewidth": 0,
             "ticks": ""
            },
            "colorscale": [
             [
              0,
              "#0d0887"
             ],
             [
              0.1111111111111111,
              "#46039f"
             ],
             [
              0.2222222222222222,
              "#7201a8"
             ],
             [
              0.3333333333333333,
              "#9c179e"
             ],
             [
              0.4444444444444444,
              "#bd3786"
             ],
             [
              0.5555555555555556,
              "#d8576b"
             ],
             [
              0.6666666666666666,
              "#ed7953"
             ],
             [
              0.7777777777777778,
              "#fb9f3a"
             ],
             [
              0.8888888888888888,
              "#fdca26"
             ],
             [
              1,
              "#f0f921"
             ]
            ],
            "type": "histogram2dcontour"
           }
          ],
          "mesh3d": [
           {
            "colorbar": {
             "outlinewidth": 0,
             "ticks": ""
            },
            "type": "mesh3d"
           }
          ],
          "parcoords": [
           {
            "line": {
             "colorbar": {
              "outlinewidth": 0,
              "ticks": ""
             }
            },
            "type": "parcoords"
           }
          ],
          "pie": [
           {
            "automargin": true,
            "type": "pie"
           }
          ],
          "scatter": [
           {
            "fillpattern": {
             "fillmode": "overlay",
             "size": 10,
             "solidity": 0.2
            },
            "type": "scatter"
           }
          ],
          "scatter3d": [
           {
            "line": {
             "colorbar": {
              "outlinewidth": 0,
              "ticks": ""
             }
            },
            "marker": {
             "colorbar": {
              "outlinewidth": 0,
              "ticks": ""
             }
            },
            "type": "scatter3d"
           }
          ],
          "scattercarpet": [
           {
            "marker": {
             "colorbar": {
              "outlinewidth": 0,
              "ticks": ""
             }
            },
            "type": "scattercarpet"
           }
          ],
          "scattergeo": [
           {
            "marker": {
             "colorbar": {
              "outlinewidth": 0,
              "ticks": ""
             }
            },
            "type": "scattergeo"
           }
          ],
          "scattergl": [
           {
            "marker": {
             "colorbar": {
              "outlinewidth": 0,
              "ticks": ""
             }
            },
            "type": "scattergl"
           }
          ],
          "scattermapbox": [
           {
            "marker": {
             "colorbar": {
              "outlinewidth": 0,
              "ticks": ""
             }
            },
            "type": "scattermapbox"
           }
          ],
          "scatterpolar": [
           {
            "marker": {
             "colorbar": {
              "outlinewidth": 0,
              "ticks": ""
             }
            },
            "type": "scatterpolar"
           }
          ],
          "scatterpolargl": [
           {
            "marker": {
             "colorbar": {
              "outlinewidth": 0,
              "ticks": ""
             }
            },
            "type": "scatterpolargl"
           }
          ],
          "scatterternary": [
           {
            "marker": {
             "colorbar": {
              "outlinewidth": 0,
              "ticks": ""
             }
            },
            "type": "scatterternary"
           }
          ],
          "surface": [
           {
            "colorbar": {
             "outlinewidth": 0,
             "ticks": ""
            },
            "colorscale": [
             [
              0,
              "#0d0887"
             ],
             [
              0.1111111111111111,
              "#46039f"
             ],
             [
              0.2222222222222222,
              "#7201a8"
             ],
             [
              0.3333333333333333,
              "#9c179e"
             ],
             [
              0.4444444444444444,
              "#bd3786"
             ],
             [
              0.5555555555555556,
              "#d8576b"
             ],
             [
              0.6666666666666666,
              "#ed7953"
             ],
             [
              0.7777777777777778,
              "#fb9f3a"
             ],
             [
              0.8888888888888888,
              "#fdca26"
             ],
             [
              1,
              "#f0f921"
             ]
            ],
            "type": "surface"
           }
          ],
          "table": [
           {
            "cells": {
             "fill": {
              "color": "#EBF0F8"
             },
             "line": {
              "color": "white"
             }
            },
            "header": {
             "fill": {
              "color": "#C8D4E3"
             },
             "line": {
              "color": "white"
             }
            },
            "type": "table"
           }
          ]
         },
         "layout": {
          "annotationdefaults": {
           "arrowcolor": "#2a3f5f",
           "arrowhead": 0,
           "arrowwidth": 1
          },
          "autotypenumbers": "strict",
          "coloraxis": {
           "colorbar": {
            "outlinewidth": 0,
            "ticks": ""
           }
          },
          "colorscale": {
           "diverging": [
            [
             0,
             "#8e0152"
            ],
            [
             0.1,
             "#c51b7d"
            ],
            [
             0.2,
             "#de77ae"
            ],
            [
             0.3,
             "#f1b6da"
            ],
            [
             0.4,
             "#fde0ef"
            ],
            [
             0.5,
             "#f7f7f7"
            ],
            [
             0.6,
             "#e6f5d0"
            ],
            [
             0.7,
             "#b8e186"
            ],
            [
             0.8,
             "#7fbc41"
            ],
            [
             0.9,
             "#4d9221"
            ],
            [
             1,
             "#276419"
            ]
           ],
           "sequential": [
            [
             0,
             "#0d0887"
            ],
            [
             0.1111111111111111,
             "#46039f"
            ],
            [
             0.2222222222222222,
             "#7201a8"
            ],
            [
             0.3333333333333333,
             "#9c179e"
            ],
            [
             0.4444444444444444,
             "#bd3786"
            ],
            [
             0.5555555555555556,
             "#d8576b"
            ],
            [
             0.6666666666666666,
             "#ed7953"
            ],
            [
             0.7777777777777778,
             "#fb9f3a"
            ],
            [
             0.8888888888888888,
             "#fdca26"
            ],
            [
             1,
             "#f0f921"
            ]
           ],
           "sequentialminus": [
            [
             0,
             "#0d0887"
            ],
            [
             0.1111111111111111,
             "#46039f"
            ],
            [
             0.2222222222222222,
             "#7201a8"
            ],
            [
             0.3333333333333333,
             "#9c179e"
            ],
            [
             0.4444444444444444,
             "#bd3786"
            ],
            [
             0.5555555555555556,
             "#d8576b"
            ],
            [
             0.6666666666666666,
             "#ed7953"
            ],
            [
             0.7777777777777778,
             "#fb9f3a"
            ],
            [
             0.8888888888888888,
             "#fdca26"
            ],
            [
             1,
             "#f0f921"
            ]
           ]
          },
          "colorway": [
           "#636efa",
           "#EF553B",
           "#00cc96",
           "#ab63fa",
           "#FFA15A",
           "#19d3f3",
           "#FF6692",
           "#B6E880",
           "#FF97FF",
           "#FECB52"
          ],
          "font": {
           "color": "#2a3f5f"
          },
          "geo": {
           "bgcolor": "white",
           "lakecolor": "white",
           "landcolor": "#E5ECF6",
           "showlakes": true,
           "showland": true,
           "subunitcolor": "white"
          },
          "hoverlabel": {
           "align": "left"
          },
          "hovermode": "closest",
          "mapbox": {
           "style": "light"
          },
          "paper_bgcolor": "white",
          "plot_bgcolor": "#E5ECF6",
          "polar": {
           "angularaxis": {
            "gridcolor": "white",
            "linecolor": "white",
            "ticks": ""
           },
           "bgcolor": "#E5ECF6",
           "radialaxis": {
            "gridcolor": "white",
            "linecolor": "white",
            "ticks": ""
           }
          },
          "scene": {
           "xaxis": {
            "backgroundcolor": "#E5ECF6",
            "gridcolor": "white",
            "gridwidth": 2,
            "linecolor": "white",
            "showbackground": true,
            "ticks": "",
            "zerolinecolor": "white"
           },
           "yaxis": {
            "backgroundcolor": "#E5ECF6",
            "gridcolor": "white",
            "gridwidth": 2,
            "linecolor": "white",
            "showbackground": true,
            "ticks": "",
            "zerolinecolor": "white"
           },
           "zaxis": {
            "backgroundcolor": "#E5ECF6",
            "gridcolor": "white",
            "gridwidth": 2,
            "linecolor": "white",
            "showbackground": true,
            "ticks": "",
            "zerolinecolor": "white"
           }
          },
          "shapedefaults": {
           "line": {
            "color": "#2a3f5f"
           }
          },
          "ternary": {
           "aaxis": {
            "gridcolor": "white",
            "linecolor": "white",
            "ticks": ""
           },
           "baxis": {
            "gridcolor": "white",
            "linecolor": "white",
            "ticks": ""
           },
           "bgcolor": "#E5ECF6",
           "caxis": {
            "gridcolor": "white",
            "linecolor": "white",
            "ticks": ""
           }
          },
          "title": {
           "x": 0.05
          },
          "xaxis": {
           "automargin": true,
           "gridcolor": "white",
           "linecolor": "white",
           "ticks": "",
           "title": {
            "standoff": 15
           },
           "zerolinecolor": "white",
           "zerolinewidth": 2
          },
          "yaxis": {
           "automargin": true,
           "gridcolor": "white",
           "linecolor": "white",
           "ticks": "",
           "title": {
            "standoff": 15
           },
           "zerolinecolor": "white",
           "zerolinewidth": 2
          }
         }
        },
        "title": {
         "text": "Histogram of Mobility Start Month"
        },
        "xaxis": {
         "anchor": "y",
         "categoryorder": "total descending",
         "domain": [
          0,
          1
         ],
         "tickangle": 45,
         "title": {
          "text": "Mobility Start Month"
         }
        },
        "yaxis": {
         "anchor": "x",
         "domain": [
          0,
          1
         ],
         "title": {
          "text": "Count"
         }
        }
       }
      },
      "text/html": [
       "<div>                            <div id=\"0fe7afcc-1643-4312-9107-3f34d873a898\" class=\"plotly-graph-div\" style=\"height:525px; width:100%;\"></div>            <script type=\"text/javascript\">                require([\"plotly\"], function(Plotly) {                    window.PLOTLYENV=window.PLOTLYENV || {};                                    if (document.getElementById(\"0fe7afcc-1643-4312-9107-3f34d873a898\")) {                    Plotly.newPlot(                        \"0fe7afcc-1643-4312-9107-3f34d873a898\",                        [{\"alignmentgroup\":\"True\",\"hovertemplate\":\"Mobility Start Month=%{x}<br>Count=%{y}<extra></extra>\",\"legendgroup\":\"\",\"marker\":{\"color\":\"#636efa\",\"pattern\":{\"shape\":\"\"}},\"name\":\"\",\"offsetgroup\":\"\",\"orientation\":\"v\",\"showlegend\":false,\"textposition\":\"auto\",\"x\":[\"2014-05-01T00:00:00\",\"2014-06-01T00:00:00\",\"2014-07-01T00:00:00\",\"2014-08-01T00:00:00\",\"2014-09-01T00:00:00\",\"2014-10-01T00:00:00\",\"2014-11-01T00:00:00\",\"2014-12-01T00:00:00\",\"2015-01-01T00:00:00\",\"2015-02-01T00:00:00\",\"2015-03-01T00:00:00\",\"2015-04-01T00:00:00\",\"2015-05-01T00:00:00\",\"2015-06-01T00:00:00\",\"2015-07-01T00:00:00\",\"2015-08-01T00:00:00\",\"2015-09-01T00:00:00\",\"2015-10-01T00:00:00\",\"2015-11-01T00:00:00\",\"2015-12-01T00:00:00\",\"2016-01-01T00:00:00\",\"2016-02-01T00:00:00\",\"2016-03-01T00:00:00\",\"2016-04-01T00:00:00\",\"2016-05-01T00:00:00\",\"2016-06-01T00:00:00\",\"2016-07-01T00:00:00\",\"2016-08-01T00:00:00\",\"2016-09-01T00:00:00\",\"2016-10-01T00:00:00\",\"2016-11-01T00:00:00\",\"2016-12-01T00:00:00\",\"2017-01-01T00:00:00\",\"2017-02-01T00:00:00\",\"2017-03-01T00:00:00\",\"2017-04-01T00:00:00\",\"2017-05-01T00:00:00\",\"2017-06-01T00:00:00\",\"2017-07-01T00:00:00\",\"2017-08-01T00:00:00\",\"2017-09-01T00:00:00\",\"2017-10-01T00:00:00\",\"2017-11-01T00:00:00\",\"2017-12-01T00:00:00\",\"2018-01-01T00:00:00\",\"2018-02-01T00:00:00\",\"2018-03-01T00:00:00\",\"2018-04-01T00:00:00\",\"2018-05-01T00:00:00\",\"2018-06-01T00:00:00\",\"2018-07-01T00:00:00\",\"2018-08-01T00:00:00\",\"2018-09-01T00:00:00\",\"2018-10-01T00:00:00\",\"2018-11-01T00:00:00\",\"2018-12-01T00:00:00\",\"2019-01-01T00:00:00\",\"2019-02-01T00:00:00\",\"2019-03-01T00:00:00\",\"2019-04-01T00:00:00\",\"2019-05-01T00:00:00\",\"2019-06-01T00:00:00\",\"2019-07-01T00:00:00\",\"2019-08-01T00:00:00\",\"2019-09-01T00:00:00\",\"2019-10-01T00:00:00\",\"2019-11-01T00:00:00\",\"2019-12-01T00:00:00\"],\"xaxis\":\"x\",\"y\":[1,3963,12751,38494,133970,45064,22456,10231,42289,57960,52820,47290,48239,46793,48542,68829,152324,64493,33868,12353,47985,75743,52814,63737,55421,45355,49061,65068,160963,70019,37404,14713,55534,73332,66893,60183,64831,49209,52333,64622,168694,74455,38698,15012,57886,80670,67374,76700,63225,55510,56126,61756,176685,82212,44924,17866,61774,83193,80958,76317,74504,59865,58534,63509,184886,82020,49523,18574],\"yaxis\":\"y\",\"type\":\"bar\"}],                        {\"template\":{\"data\":{\"histogram2dcontour\":[{\"type\":\"histogram2dcontour\",\"colorbar\":{\"outlinewidth\":0,\"ticks\":\"\"},\"colorscale\":[[0.0,\"#0d0887\"],[0.1111111111111111,\"#46039f\"],[0.2222222222222222,\"#7201a8\"],[0.3333333333333333,\"#9c179e\"],[0.4444444444444444,\"#bd3786\"],[0.5555555555555556,\"#d8576b\"],[0.6666666666666666,\"#ed7953\"],[0.7777777777777778,\"#fb9f3a\"],[0.8888888888888888,\"#fdca26\"],[1.0,\"#f0f921\"]]}],\"choropleth\":[{\"type\":\"choropleth\",\"colorbar\":{\"outlinewidth\":0,\"ticks\":\"\"}}],\"histogram2d\":[{\"type\":\"histogram2d\",\"colorbar\":{\"outlinewidth\":0,\"ticks\":\"\"},\"colorscale\":[[0.0,\"#0d0887\"],[0.1111111111111111,\"#46039f\"],[0.2222222222222222,\"#7201a8\"],[0.3333333333333333,\"#9c179e\"],[0.4444444444444444,\"#bd3786\"],[0.5555555555555556,\"#d8576b\"],[0.6666666666666666,\"#ed7953\"],[0.7777777777777778,\"#fb9f3a\"],[0.8888888888888888,\"#fdca26\"],[1.0,\"#f0f921\"]]}],\"heatmap\":[{\"type\":\"heatmap\",\"colorbar\":{\"outlinewidth\":0,\"ticks\":\"\"},\"colorscale\":[[0.0,\"#0d0887\"],[0.1111111111111111,\"#46039f\"],[0.2222222222222222,\"#7201a8\"],[0.3333333333333333,\"#9c179e\"],[0.4444444444444444,\"#bd3786\"],[0.5555555555555556,\"#d8576b\"],[0.6666666666666666,\"#ed7953\"],[0.7777777777777778,\"#fb9f3a\"],[0.8888888888888888,\"#fdca26\"],[1.0,\"#f0f921\"]]}],\"heatmapgl\":[{\"type\":\"heatmapgl\",\"colorbar\":{\"outlinewidth\":0,\"ticks\":\"\"},\"colorscale\":[[0.0,\"#0d0887\"],[0.1111111111111111,\"#46039f\"],[0.2222222222222222,\"#7201a8\"],[0.3333333333333333,\"#9c179e\"],[0.4444444444444444,\"#bd3786\"],[0.5555555555555556,\"#d8576b\"],[0.6666666666666666,\"#ed7953\"],[0.7777777777777778,\"#fb9f3a\"],[0.8888888888888888,\"#fdca26\"],[1.0,\"#f0f921\"]]}],\"contourcarpet\":[{\"type\":\"contourcarpet\",\"colorbar\":{\"outlinewidth\":0,\"ticks\":\"\"}}],\"contour\":[{\"type\":\"contour\",\"colorbar\":{\"outlinewidth\":0,\"ticks\":\"\"},\"colorscale\":[[0.0,\"#0d0887\"],[0.1111111111111111,\"#46039f\"],[0.2222222222222222,\"#7201a8\"],[0.3333333333333333,\"#9c179e\"],[0.4444444444444444,\"#bd3786\"],[0.5555555555555556,\"#d8576b\"],[0.6666666666666666,\"#ed7953\"],[0.7777777777777778,\"#fb9f3a\"],[0.8888888888888888,\"#fdca26\"],[1.0,\"#f0f921\"]]}],\"surface\":[{\"type\":\"surface\",\"colorbar\":{\"outlinewidth\":0,\"ticks\":\"\"},\"colorscale\":[[0.0,\"#0d0887\"],[0.1111111111111111,\"#46039f\"],[0.2222222222222222,\"#7201a8\"],[0.3333333333333333,\"#9c179e\"],[0.4444444444444444,\"#bd3786\"],[0.5555555555555556,\"#d8576b\"],[0.6666666666666666,\"#ed7953\"],[0.7777777777777778,\"#fb9f3a\"],[0.8888888888888888,\"#fdca26\"],[1.0,\"#f0f921\"]]}],\"mesh3d\":[{\"type\":\"mesh3d\",\"colorbar\":{\"outlinewidth\":0,\"ticks\":\"\"}}],\"scatter\":[{\"fillpattern\":{\"fillmode\":\"overlay\",\"size\":10,\"solidity\":0.2},\"type\":\"scatter\"}],\"parcoords\":[{\"type\":\"parcoords\",\"line\":{\"colorbar\":{\"outlinewidth\":0,\"ticks\":\"\"}}}],\"scatterpolargl\":[{\"type\":\"scatterpolargl\",\"marker\":{\"colorbar\":{\"outlinewidth\":0,\"ticks\":\"\"}}}],\"bar\":[{\"error_x\":{\"color\":\"#2a3f5f\"},\"error_y\":{\"color\":\"#2a3f5f\"},\"marker\":{\"line\":{\"color\":\"#E5ECF6\",\"width\":0.5},\"pattern\":{\"fillmode\":\"overlay\",\"size\":10,\"solidity\":0.2}},\"type\":\"bar\"}],\"scattergeo\":[{\"type\":\"scattergeo\",\"marker\":{\"colorbar\":{\"outlinewidth\":0,\"ticks\":\"\"}}}],\"scatterpolar\":[{\"type\":\"scatterpolar\",\"marker\":{\"colorbar\":{\"outlinewidth\":0,\"ticks\":\"\"}}}],\"histogram\":[{\"marker\":{\"pattern\":{\"fillmode\":\"overlay\",\"size\":10,\"solidity\":0.2}},\"type\":\"histogram\"}],\"scattergl\":[{\"type\":\"scattergl\",\"marker\":{\"colorbar\":{\"outlinewidth\":0,\"ticks\":\"\"}}}],\"scatter3d\":[{\"type\":\"scatter3d\",\"line\":{\"colorbar\":{\"outlinewidth\":0,\"ticks\":\"\"}},\"marker\":{\"colorbar\":{\"outlinewidth\":0,\"ticks\":\"\"}}}],\"scattermapbox\":[{\"type\":\"scattermapbox\",\"marker\":{\"colorbar\":{\"outlinewidth\":0,\"ticks\":\"\"}}}],\"scatterternary\":[{\"type\":\"scatterternary\",\"marker\":{\"colorbar\":{\"outlinewidth\":0,\"ticks\":\"\"}}}],\"scattercarpet\":[{\"type\":\"scattercarpet\",\"marker\":{\"colorbar\":{\"outlinewidth\":0,\"ticks\":\"\"}}}],\"carpet\":[{\"aaxis\":{\"endlinecolor\":\"#2a3f5f\",\"gridcolor\":\"white\",\"linecolor\":\"white\",\"minorgridcolor\":\"white\",\"startlinecolor\":\"#2a3f5f\"},\"baxis\":{\"endlinecolor\":\"#2a3f5f\",\"gridcolor\":\"white\",\"linecolor\":\"white\",\"minorgridcolor\":\"white\",\"startlinecolor\":\"#2a3f5f\"},\"type\":\"carpet\"}],\"table\":[{\"cells\":{\"fill\":{\"color\":\"#EBF0F8\"},\"line\":{\"color\":\"white\"}},\"header\":{\"fill\":{\"color\":\"#C8D4E3\"},\"line\":{\"color\":\"white\"}},\"type\":\"table\"}],\"barpolar\":[{\"marker\":{\"line\":{\"color\":\"#E5ECF6\",\"width\":0.5},\"pattern\":{\"fillmode\":\"overlay\",\"size\":10,\"solidity\":0.2}},\"type\":\"barpolar\"}],\"pie\":[{\"automargin\":true,\"type\":\"pie\"}]},\"layout\":{\"autotypenumbers\":\"strict\",\"colorway\":[\"#636efa\",\"#EF553B\",\"#00cc96\",\"#ab63fa\",\"#FFA15A\",\"#19d3f3\",\"#FF6692\",\"#B6E880\",\"#FF97FF\",\"#FECB52\"],\"font\":{\"color\":\"#2a3f5f\"},\"hovermode\":\"closest\",\"hoverlabel\":{\"align\":\"left\"},\"paper_bgcolor\":\"white\",\"plot_bgcolor\":\"#E5ECF6\",\"polar\":{\"bgcolor\":\"#E5ECF6\",\"angularaxis\":{\"gridcolor\":\"white\",\"linecolor\":\"white\",\"ticks\":\"\"},\"radialaxis\":{\"gridcolor\":\"white\",\"linecolor\":\"white\",\"ticks\":\"\"}},\"ternary\":{\"bgcolor\":\"#E5ECF6\",\"aaxis\":{\"gridcolor\":\"white\",\"linecolor\":\"white\",\"ticks\":\"\"},\"baxis\":{\"gridcolor\":\"white\",\"linecolor\":\"white\",\"ticks\":\"\"},\"caxis\":{\"gridcolor\":\"white\",\"linecolor\":\"white\",\"ticks\":\"\"}},\"coloraxis\":{\"colorbar\":{\"outlinewidth\":0,\"ticks\":\"\"}},\"colorscale\":{\"sequential\":[[0.0,\"#0d0887\"],[0.1111111111111111,\"#46039f\"],[0.2222222222222222,\"#7201a8\"],[0.3333333333333333,\"#9c179e\"],[0.4444444444444444,\"#bd3786\"],[0.5555555555555556,\"#d8576b\"],[0.6666666666666666,\"#ed7953\"],[0.7777777777777778,\"#fb9f3a\"],[0.8888888888888888,\"#fdca26\"],[1.0,\"#f0f921\"]],\"sequentialminus\":[[0.0,\"#0d0887\"],[0.1111111111111111,\"#46039f\"],[0.2222222222222222,\"#7201a8\"],[0.3333333333333333,\"#9c179e\"],[0.4444444444444444,\"#bd3786\"],[0.5555555555555556,\"#d8576b\"],[0.6666666666666666,\"#ed7953\"],[0.7777777777777778,\"#fb9f3a\"],[0.8888888888888888,\"#fdca26\"],[1.0,\"#f0f921\"]],\"diverging\":[[0,\"#8e0152\"],[0.1,\"#c51b7d\"],[0.2,\"#de77ae\"],[0.3,\"#f1b6da\"],[0.4,\"#fde0ef\"],[0.5,\"#f7f7f7\"],[0.6,\"#e6f5d0\"],[0.7,\"#b8e186\"],[0.8,\"#7fbc41\"],[0.9,\"#4d9221\"],[1,\"#276419\"]]},\"xaxis\":{\"gridcolor\":\"white\",\"linecolor\":\"white\",\"ticks\":\"\",\"title\":{\"standoff\":15},\"zerolinecolor\":\"white\",\"automargin\":true,\"zerolinewidth\":2},\"yaxis\":{\"gridcolor\":\"white\",\"linecolor\":\"white\",\"ticks\":\"\",\"title\":{\"standoff\":15},\"zerolinecolor\":\"white\",\"automargin\":true,\"zerolinewidth\":2},\"scene\":{\"xaxis\":{\"backgroundcolor\":\"#E5ECF6\",\"gridcolor\":\"white\",\"linecolor\":\"white\",\"showbackground\":true,\"ticks\":\"\",\"zerolinecolor\":\"white\",\"gridwidth\":2},\"yaxis\":{\"backgroundcolor\":\"#E5ECF6\",\"gridcolor\":\"white\",\"linecolor\":\"white\",\"showbackground\":true,\"ticks\":\"\",\"zerolinecolor\":\"white\",\"gridwidth\":2},\"zaxis\":{\"backgroundcolor\":\"#E5ECF6\",\"gridcolor\":\"white\",\"linecolor\":\"white\",\"showbackground\":true,\"ticks\":\"\",\"zerolinecolor\":\"white\",\"gridwidth\":2}},\"shapedefaults\":{\"line\":{\"color\":\"#2a3f5f\"}},\"annotationdefaults\":{\"arrowcolor\":\"#2a3f5f\",\"arrowhead\":0,\"arrowwidth\":1},\"geo\":{\"bgcolor\":\"white\",\"landcolor\":\"#E5ECF6\",\"subunitcolor\":\"white\",\"showland\":true,\"showlakes\":true,\"lakecolor\":\"white\"},\"title\":{\"x\":0.05},\"mapbox\":{\"style\":\"light\"}}},\"xaxis\":{\"anchor\":\"y\",\"domain\":[0.0,1.0],\"title\":{\"text\":\"Mobility Start Month\"},\"categoryorder\":\"total descending\",\"tickangle\":45},\"yaxis\":{\"anchor\":\"x\",\"domain\":[0.0,1.0],\"title\":{\"text\":\"Count\"}},\"legend\":{\"tracegroupgap\":0},\"title\":{\"text\":\"Histogram of Mobility Start Month\"},\"barmode\":\"relative\"},                        {\"responsive\": true}                    ).then(function(){\n",
       "                            \n",
       "var gd = document.getElementById('0fe7afcc-1643-4312-9107-3f34d873a898');\n",
       "var x = new MutationObserver(function (mutations, observer) {{\n",
       "        var display = window.getComputedStyle(gd).display;\n",
       "        if (!display || display === 'none') {{\n",
       "            console.log([gd, 'removed!']);\n",
       "            Plotly.purge(gd);\n",
       "            observer.disconnect();\n",
       "        }}\n",
       "}});\n",
       "\n",
       "// Listen for the removal of the full notebook cells\n",
       "var notebookContainer = gd.closest('#notebook-container');\n",
       "if (notebookContainer) {{\n",
       "    x.observe(notebookContainer, {childList: true});\n",
       "}}\n",
       "\n",
       "// Listen for the clearing of the current output cell\n",
       "var outputEl = gd.closest('.output');\n",
       "if (outputEl) {{\n",
       "    x.observe(outputEl, {childList: true});\n",
       "}}\n",
       "\n",
       "                        })                };                });            </script>        </div>"
      ]
     },
     "metadata": {},
     "output_type": "display_data"
    }
   ],
   "source": [
    "plot_hist(data,'Mobility Start Month')\n"
   ]
  },
  {
   "cell_type": "markdown",
   "id": "57245307",
   "metadata": {},
   "source": [
    "How many participants with special needs:"
   ]
  },
  {
   "cell_type": "code",
   "execution_count": 8,
   "id": "a643eb3a",
   "metadata": {},
   "outputs": [
    {
     "name": "stdout",
     "output_type": "stream",
     "text": [
      "29969\n",
      "0.007136495689860457\n"
     ]
    }
   ],
   "source": [
    "print(data['Special Needs'].sum())\n",
    "print(data['Special Needs'].sum() / data.shape[0])\n"
   ]
  },
  {
   "cell_type": "markdown",
   "id": "4f9e1783",
   "metadata": {},
   "source": [
    "And with fewer opportunities:"
   ]
  },
  {
   "cell_type": "code",
   "execution_count": 9,
   "id": "5e103e00",
   "metadata": {},
   "outputs": [
    {
     "name": "stdout",
     "output_type": "stream",
     "text": [
      "316749\n",
      "0.07542720388626947\n"
     ]
    }
   ],
   "source": [
    "print(data['Fewer Opportunities'].sum())\n",
    "print(data['Fewer Opportunities'].sum() / data.shape[0])\n"
   ]
  },
  {
   "cell_type": "markdown",
   "id": "3d5f3016",
   "metadata": {},
   "source": [
    "Now to the more complicated plot. I wanted to show the movement from one country to the others. For that I first filtered the data to only have the necessatry information."
   ]
  },
  {
   "cell_type": "code",
   "execution_count": 10,
   "id": "f7f1028f",
   "metadata": {},
   "outputs": [],
   "source": [
    "sending_country = 'Germany'  # Replace with the country you want to focus on\n",
    "filtered_df = data[data['Sending Country'] == sending_country][['Sending Country', 'Receiving Country']]\n",
    "\n",
    "geolocator = Nominatim(user_agent=\"erasmus_app\", timeout=10) "
   ]
  },
  {
   "cell_type": "markdown",
   "id": "1aa8cb87",
   "metadata": {},
   "source": [
    "I created a function to get the latitude and longitude"
   ]
  },
  {
   "cell_type": "code",
   "execution_count": 11,
   "id": "08ea0c6a",
   "metadata": {},
   "outputs": [],
   "source": [
    "def get_latitude_longitude(country):\n",
    "    manual_mapping = {\n",
    "        'Georgia': (42.3154, 43.3569),\n",
    "        'Palestine': (31.9466, 35.2731)\n",
    "    }\n",
    "\n",
    "    if country in manual_mapping:\n",
    "        return manual_mapping[country]\n",
    "\n",
    "    location = geolocator.geocode(country)\n",
    "\n",
    "    if location is not None:\n",
    "        return location.latitude, location.longitude\n",
    "    else:\n",
    "        print(f\"Failed to find coordinates for {country}\")\n",
    "        return None, None\n",
    "sending_lat, sending_lon = get_latitude_longitude(sending_country)\n"
   ]
  },
  {
   "cell_type": "markdown",
   "id": "f6603049",
   "metadata": {},
   "source": [
    "Than I grouped by receiving country and count the number of students"
   ]
  },
  {
   "cell_type": "code",
   "execution_count": 12,
   "id": "48232d46",
   "metadata": {},
   "outputs": [
    {
     "name": "stdout",
     "output_type": "stream",
     "text": [
      "Failed to find coordinates for Taiwan, Province of China\n"
     ]
    }
   ],
   "source": [
    "country_counts = filtered_df.groupby('Receiving Country').size().reset_index(name='Number of Students')\n",
    "country_counts['Receiving Latitude'], country_counts['Receiving Longitude'] = zip(*country_counts['Receiving Country'].apply(get_latitude_longitude))\n",
    "country_counts.dropna(subset=['Receiving Latitude', 'Receiving Longitude'], inplace=True)\n"
   ]
  },
  {
   "cell_type": "markdown",
   "id": "88038b82",
   "metadata": {},
   "source": [
    "For the plot I create a subplot with a world map in the background and added a choropleth map for the receiving countries with custom hovertemplate"
   ]
  },
  {
   "cell_type": "code",
   "execution_count": 13,
   "id": "c46a5eb9",
   "metadata": {},
   "outputs": [
    {
     "data": {
      "application/vnd.plotly.v1+json": {
       "config": {
        "plotlyServerURL": "https://plotly.com"
       },
       "data": [
        {
         "autocolorscale": false,
         "colorbar": {
          "tickprefix": "",
          "title": {
           "text": "Number of Students"
          }
         },
         "colorscale": [
          [
           0,
           "#440154"
          ],
          [
           0.1111111111111111,
           "#482878"
          ],
          [
           0.2222222222222222,
           "#3e4989"
          ],
          [
           0.3333333333333333,
           "#31688e"
          ],
          [
           0.4444444444444444,
           "#26828e"
          ],
          [
           0.5555555555555556,
           "#1f9e89"
          ],
          [
           0.6666666666666666,
           "#35b779"
          ],
          [
           0.7777777777777778,
           "#6ece58"
          ],
          [
           0.8888888888888888,
           "#b5de2b"
          ],
          [
           1,
           "#fde725"
          ]
         ],
         "hovertemplate": "%{text}<br>Number of Students: %{z}",
         "locationmode": "country names",
         "locations": [
          "Albania",
          "Algeria",
          "Angola",
          "Argentina",
          "Armenia",
          "Australia",
          "Austria",
          "Azerbaijan",
          "Belarus",
          "Belgium",
          "Benin",
          "Bhutan",
          "Bolivia, Plurinational State of",
          "Bosnia and Herzegovina",
          "Brazil",
          "Bulgaria",
          "Cambodia",
          "Cameroon",
          "Canada",
          "Chad",
          "Chile",
          "China",
          "Colombia",
          "Costa Rica",
          "Croatia",
          "Cuba",
          "Cyprus",
          "Czechia",
          "Côte d'Ivoire",
          "Denmark",
          "Ecuador",
          "Egypt",
          "Estonia",
          "Ethiopia",
          "Fiji",
          "Finland",
          "France",
          "Gabon",
          "Georgia",
          "Germany",
          "Ghana",
          "Greece",
          "Guatemala",
          "Hong Kong",
          "Hungary",
          "Iceland",
          "India",
          "Indonesia",
          "Iran, Islamic Republic of",
          "Iraq",
          "Ireland",
          "Israel",
          "Italy",
          "Japan",
          "Jordan",
          "Kazakhstan",
          "Kenya",
          "Korea, Democratic People's Republic of",
          "Korea, Republic of",
          "Kosovo",
          "Kyrgyzstan",
          "Lao People's Democratic Republic",
          "Latvia",
          "Lebanon",
          "Liechtenstein",
          "Lithuania",
          "Luxembourg",
          "Madagascar",
          "Malaysia",
          "Mali",
          "Malta",
          "Mexico",
          "Moldova, Republic of",
          "Montenegro",
          "Morocco",
          "Mozambique",
          "Myanmar",
          "Nepal",
          "Netherlands",
          "New Zealand",
          "Nicaragua",
          "Niger",
          "Nigeria",
          "North Macedonia",
          "Norway",
          "Pakistan",
          "Palestine, State of",
          "Paraguay",
          "Peru",
          "Philippines",
          "Poland",
          "Portugal",
          "Romania",
          "Russian Federation",
          "Rwanda",
          "Senegal",
          "Serbia",
          "Slovakia",
          "Slovenia",
          "South Africa",
          "Spain",
          "Sudan",
          "Sweden",
          "Tajikistan",
          "Tanzania, United Republic of",
          "Thailand",
          "Tunisia",
          "Turkey",
          "Turkmenistan",
          "Uganda",
          "Ukraine",
          "United Kingdom",
          "United States",
          "Uzbekistan",
          "Viet Nam"
         ],
         "marker": {
          "line": {
           "color": "darkgray",
           "width": 0.5
          }
         },
         "reversescale": false,
         "text": [
          "Albania",
          "Algeria",
          "Angola",
          "Argentina",
          "Armenia",
          "Australia",
          "Austria",
          "Azerbaijan",
          "Belarus",
          "Belgium",
          "Benin",
          "Bhutan",
          "Bolivia, Plurinational State of",
          "Bosnia and Herzegovina",
          "Brazil",
          "Bulgaria",
          "Cambodia",
          "Cameroon",
          "Canada",
          "Chad",
          "Chile",
          "China",
          "Colombia",
          "Costa Rica",
          "Croatia",
          "Cuba",
          "Cyprus",
          "Czechia",
          "Côte d'Ivoire",
          "Denmark",
          "Ecuador",
          "Egypt",
          "Estonia",
          "Ethiopia",
          "Fiji",
          "Finland",
          "France",
          "Gabon",
          "Georgia",
          "Germany",
          "Ghana",
          "Greece",
          "Guatemala",
          "Hong Kong",
          "Hungary",
          "Iceland",
          "India",
          "Indonesia",
          "Iran, Islamic Republic of",
          "Iraq",
          "Ireland",
          "Israel",
          "Italy",
          "Japan",
          "Jordan",
          "Kazakhstan",
          "Kenya",
          "Korea, Democratic People's Republic of",
          "Korea, Republic of",
          "Kosovo",
          "Kyrgyzstan",
          "Lao People's Democratic Republic",
          "Latvia",
          "Lebanon",
          "Liechtenstein",
          "Lithuania",
          "Luxembourg",
          "Madagascar",
          "Malaysia",
          "Mali",
          "Malta",
          "Mexico",
          "Moldova, Republic of",
          "Montenegro",
          "Morocco",
          "Mozambique",
          "Myanmar",
          "Nepal",
          "Netherlands",
          "New Zealand",
          "Nicaragua",
          "Niger",
          "Nigeria",
          "North Macedonia",
          "Norway",
          "Pakistan",
          "Palestine, State of",
          "Paraguay",
          "Peru",
          "Philippines",
          "Poland",
          "Portugal",
          "Romania",
          "Russian Federation",
          "Rwanda",
          "Senegal",
          "Serbia",
          "Slovakia",
          "Slovenia",
          "South Africa",
          "Spain",
          "Sudan",
          "Sweden",
          "Tajikistan",
          "Tanzania, United Republic of",
          "Thailand",
          "Tunisia",
          "Turkey",
          "Turkmenistan",
          "Uganda",
          "Ukraine",
          "United Kingdom",
          "United States",
          "Uzbekistan",
          "Viet Nam"
         ],
         "type": "choropleth",
         "z": [
          162,
          22,
          3,
          17,
          441,
          103,
          18092,
          93,
          292,
          7781,
          5,
          2,
          11,
          557,
          20,
          1418,
          14,
          18,
          96,
          5,
          40,
          91,
          25,
          5,
          2257,
          9,
          1332,
          8088,
          4,
          8960,
          6,
          202,
          3935,
          49,
          2,
          18600,
          43116,
          10,
          732,
          51503,
          22,
          5673,
          1,
          8,
          7854,
          2496,
          55,
          45,
          19,
          11,
          19936,
          861,
          26810,
          112,
          198,
          32,
          21,
          3,
          55,
          135,
          48,
          5,
          3057,
          98,
          168,
          2675,
          1338,
          2,
          21,
          9,
          7616,
          27,
          113,
          134,
          207,
          2,
          25,
          8,
          15101,
          12,
          2,
          2,
          6,
          427,
          12505,
          4,
          203,
          8,
          2,
          5,
          14439,
          9675,
          3825,
          971,
          2,
          2,
          833,
          1668,
          2339,
          74,
          58907,
          3,
          19634,
          2,
          13,
          73,
          98,
          11952,
          4,
          3,
          684,
          68910,
          147,
          46,
          100
         ]
        }
       ],
       "layout": {
        "geo": {
         "domain": {
          "x": [
           0,
           1
          ],
          "y": [
           0,
           1
          ]
         }
        },
        "template": {
         "data": {
          "bar": [
           {
            "error_x": {
             "color": "#2a3f5f"
            },
            "error_y": {
             "color": "#2a3f5f"
            },
            "marker": {
             "line": {
              "color": "#E5ECF6",
              "width": 0.5
             },
             "pattern": {
              "fillmode": "overlay",
              "size": 10,
              "solidity": 0.2
             }
            },
            "type": "bar"
           }
          ],
          "barpolar": [
           {
            "marker": {
             "line": {
              "color": "#E5ECF6",
              "width": 0.5
             },
             "pattern": {
              "fillmode": "overlay",
              "size": 10,
              "solidity": 0.2
             }
            },
            "type": "barpolar"
           }
          ],
          "carpet": [
           {
            "aaxis": {
             "endlinecolor": "#2a3f5f",
             "gridcolor": "white",
             "linecolor": "white",
             "minorgridcolor": "white",
             "startlinecolor": "#2a3f5f"
            },
            "baxis": {
             "endlinecolor": "#2a3f5f",
             "gridcolor": "white",
             "linecolor": "white",
             "minorgridcolor": "white",
             "startlinecolor": "#2a3f5f"
            },
            "type": "carpet"
           }
          ],
          "choropleth": [
           {
            "colorbar": {
             "outlinewidth": 0,
             "ticks": ""
            },
            "type": "choropleth"
           }
          ],
          "contour": [
           {
            "colorbar": {
             "outlinewidth": 0,
             "ticks": ""
            },
            "colorscale": [
             [
              0,
              "#0d0887"
             ],
             [
              0.1111111111111111,
              "#46039f"
             ],
             [
              0.2222222222222222,
              "#7201a8"
             ],
             [
              0.3333333333333333,
              "#9c179e"
             ],
             [
              0.4444444444444444,
              "#bd3786"
             ],
             [
              0.5555555555555556,
              "#d8576b"
             ],
             [
              0.6666666666666666,
              "#ed7953"
             ],
             [
              0.7777777777777778,
              "#fb9f3a"
             ],
             [
              0.8888888888888888,
              "#fdca26"
             ],
             [
              1,
              "#f0f921"
             ]
            ],
            "type": "contour"
           }
          ],
          "contourcarpet": [
           {
            "colorbar": {
             "outlinewidth": 0,
             "ticks": ""
            },
            "type": "contourcarpet"
           }
          ],
          "heatmap": [
           {
            "colorbar": {
             "outlinewidth": 0,
             "ticks": ""
            },
            "colorscale": [
             [
              0,
              "#0d0887"
             ],
             [
              0.1111111111111111,
              "#46039f"
             ],
             [
              0.2222222222222222,
              "#7201a8"
             ],
             [
              0.3333333333333333,
              "#9c179e"
             ],
             [
              0.4444444444444444,
              "#bd3786"
             ],
             [
              0.5555555555555556,
              "#d8576b"
             ],
             [
              0.6666666666666666,
              "#ed7953"
             ],
             [
              0.7777777777777778,
              "#fb9f3a"
             ],
             [
              0.8888888888888888,
              "#fdca26"
             ],
             [
              1,
              "#f0f921"
             ]
            ],
            "type": "heatmap"
           }
          ],
          "heatmapgl": [
           {
            "colorbar": {
             "outlinewidth": 0,
             "ticks": ""
            },
            "colorscale": [
             [
              0,
              "#0d0887"
             ],
             [
              0.1111111111111111,
              "#46039f"
             ],
             [
              0.2222222222222222,
              "#7201a8"
             ],
             [
              0.3333333333333333,
              "#9c179e"
             ],
             [
              0.4444444444444444,
              "#bd3786"
             ],
             [
              0.5555555555555556,
              "#d8576b"
             ],
             [
              0.6666666666666666,
              "#ed7953"
             ],
             [
              0.7777777777777778,
              "#fb9f3a"
             ],
             [
              0.8888888888888888,
              "#fdca26"
             ],
             [
              1,
              "#f0f921"
             ]
            ],
            "type": "heatmapgl"
           }
          ],
          "histogram": [
           {
            "marker": {
             "pattern": {
              "fillmode": "overlay",
              "size": 10,
              "solidity": 0.2
             }
            },
            "type": "histogram"
           }
          ],
          "histogram2d": [
           {
            "colorbar": {
             "outlinewidth": 0,
             "ticks": ""
            },
            "colorscale": [
             [
              0,
              "#0d0887"
             ],
             [
              0.1111111111111111,
              "#46039f"
             ],
             [
              0.2222222222222222,
              "#7201a8"
             ],
             [
              0.3333333333333333,
              "#9c179e"
             ],
             [
              0.4444444444444444,
              "#bd3786"
             ],
             [
              0.5555555555555556,
              "#d8576b"
             ],
             [
              0.6666666666666666,
              "#ed7953"
             ],
             [
              0.7777777777777778,
              "#fb9f3a"
             ],
             [
              0.8888888888888888,
              "#fdca26"
             ],
             [
              1,
              "#f0f921"
             ]
            ],
            "type": "histogram2d"
           }
          ],
          "histogram2dcontour": [
           {
            "colorbar": {
             "outlinewidth": 0,
             "ticks": ""
            },
            "colorscale": [
             [
              0,
              "#0d0887"
             ],
             [
              0.1111111111111111,
              "#46039f"
             ],
             [
              0.2222222222222222,
              "#7201a8"
             ],
             [
              0.3333333333333333,
              "#9c179e"
             ],
             [
              0.4444444444444444,
              "#bd3786"
             ],
             [
              0.5555555555555556,
              "#d8576b"
             ],
             [
              0.6666666666666666,
              "#ed7953"
             ],
             [
              0.7777777777777778,
              "#fb9f3a"
             ],
             [
              0.8888888888888888,
              "#fdca26"
             ],
             [
              1,
              "#f0f921"
             ]
            ],
            "type": "histogram2dcontour"
           }
          ],
          "mesh3d": [
           {
            "colorbar": {
             "outlinewidth": 0,
             "ticks": ""
            },
            "type": "mesh3d"
           }
          ],
          "parcoords": [
           {
            "line": {
             "colorbar": {
              "outlinewidth": 0,
              "ticks": ""
             }
            },
            "type": "parcoords"
           }
          ],
          "pie": [
           {
            "automargin": true,
            "type": "pie"
           }
          ],
          "scatter": [
           {
            "fillpattern": {
             "fillmode": "overlay",
             "size": 10,
             "solidity": 0.2
            },
            "type": "scatter"
           }
          ],
          "scatter3d": [
           {
            "line": {
             "colorbar": {
              "outlinewidth": 0,
              "ticks": ""
             }
            },
            "marker": {
             "colorbar": {
              "outlinewidth": 0,
              "ticks": ""
             }
            },
            "type": "scatter3d"
           }
          ],
          "scattercarpet": [
           {
            "marker": {
             "colorbar": {
              "outlinewidth": 0,
              "ticks": ""
             }
            },
            "type": "scattercarpet"
           }
          ],
          "scattergeo": [
           {
            "marker": {
             "colorbar": {
              "outlinewidth": 0,
              "ticks": ""
             }
            },
            "type": "scattergeo"
           }
          ],
          "scattergl": [
           {
            "marker": {
             "colorbar": {
              "outlinewidth": 0,
              "ticks": ""
             }
            },
            "type": "scattergl"
           }
          ],
          "scattermapbox": [
           {
            "marker": {
             "colorbar": {
              "outlinewidth": 0,
              "ticks": ""
             }
            },
            "type": "scattermapbox"
           }
          ],
          "scatterpolar": [
           {
            "marker": {
             "colorbar": {
              "outlinewidth": 0,
              "ticks": ""
             }
            },
            "type": "scatterpolar"
           }
          ],
          "scatterpolargl": [
           {
            "marker": {
             "colorbar": {
              "outlinewidth": 0,
              "ticks": ""
             }
            },
            "type": "scatterpolargl"
           }
          ],
          "scatterternary": [
           {
            "marker": {
             "colorbar": {
              "outlinewidth": 0,
              "ticks": ""
             }
            },
            "type": "scatterternary"
           }
          ],
          "surface": [
           {
            "colorbar": {
             "outlinewidth": 0,
             "ticks": ""
            },
            "colorscale": [
             [
              0,
              "#0d0887"
             ],
             [
              0.1111111111111111,
              "#46039f"
             ],
             [
              0.2222222222222222,
              "#7201a8"
             ],
             [
              0.3333333333333333,
              "#9c179e"
             ],
             [
              0.4444444444444444,
              "#bd3786"
             ],
             [
              0.5555555555555556,
              "#d8576b"
             ],
             [
              0.6666666666666666,
              "#ed7953"
             ],
             [
              0.7777777777777778,
              "#fb9f3a"
             ],
             [
              0.8888888888888888,
              "#fdca26"
             ],
             [
              1,
              "#f0f921"
             ]
            ],
            "type": "surface"
           }
          ],
          "table": [
           {
            "cells": {
             "fill": {
              "color": "#EBF0F8"
             },
             "line": {
              "color": "white"
             }
            },
            "header": {
             "fill": {
              "color": "#C8D4E3"
             },
             "line": {
              "color": "white"
             }
            },
            "type": "table"
           }
          ]
         },
         "layout": {
          "annotationdefaults": {
           "arrowcolor": "#2a3f5f",
           "arrowhead": 0,
           "arrowwidth": 1
          },
          "autotypenumbers": "strict",
          "coloraxis": {
           "colorbar": {
            "outlinewidth": 0,
            "ticks": ""
           }
          },
          "colorscale": {
           "diverging": [
            [
             0,
             "#8e0152"
            ],
            [
             0.1,
             "#c51b7d"
            ],
            [
             0.2,
             "#de77ae"
            ],
            [
             0.3,
             "#f1b6da"
            ],
            [
             0.4,
             "#fde0ef"
            ],
            [
             0.5,
             "#f7f7f7"
            ],
            [
             0.6,
             "#e6f5d0"
            ],
            [
             0.7,
             "#b8e186"
            ],
            [
             0.8,
             "#7fbc41"
            ],
            [
             0.9,
             "#4d9221"
            ],
            [
             1,
             "#276419"
            ]
           ],
           "sequential": [
            [
             0,
             "#0d0887"
            ],
            [
             0.1111111111111111,
             "#46039f"
            ],
            [
             0.2222222222222222,
             "#7201a8"
            ],
            [
             0.3333333333333333,
             "#9c179e"
            ],
            [
             0.4444444444444444,
             "#bd3786"
            ],
            [
             0.5555555555555556,
             "#d8576b"
            ],
            [
             0.6666666666666666,
             "#ed7953"
            ],
            [
             0.7777777777777778,
             "#fb9f3a"
            ],
            [
             0.8888888888888888,
             "#fdca26"
            ],
            [
             1,
             "#f0f921"
            ]
           ],
           "sequentialminus": [
            [
             0,
             "#0d0887"
            ],
            [
             0.1111111111111111,
             "#46039f"
            ],
            [
             0.2222222222222222,
             "#7201a8"
            ],
            [
             0.3333333333333333,
             "#9c179e"
            ],
            [
             0.4444444444444444,
             "#bd3786"
            ],
            [
             0.5555555555555556,
             "#d8576b"
            ],
            [
             0.6666666666666666,
             "#ed7953"
            ],
            [
             0.7777777777777778,
             "#fb9f3a"
            ],
            [
             0.8888888888888888,
             "#fdca26"
            ],
            [
             1,
             "#f0f921"
            ]
           ]
          },
          "colorway": [
           "#636efa",
           "#EF553B",
           "#00cc96",
           "#ab63fa",
           "#FFA15A",
           "#19d3f3",
           "#FF6692",
           "#B6E880",
           "#FF97FF",
           "#FECB52"
          ],
          "font": {
           "color": "#2a3f5f"
          },
          "geo": {
           "bgcolor": "white",
           "lakecolor": "white",
           "landcolor": "#E5ECF6",
           "showlakes": true,
           "showland": true,
           "subunitcolor": "white"
          },
          "hoverlabel": {
           "align": "left"
          },
          "hovermode": "closest",
          "mapbox": {
           "style": "light"
          },
          "paper_bgcolor": "white",
          "plot_bgcolor": "#E5ECF6",
          "polar": {
           "angularaxis": {
            "gridcolor": "white",
            "linecolor": "white",
            "ticks": ""
           },
           "bgcolor": "#E5ECF6",
           "radialaxis": {
            "gridcolor": "white",
            "linecolor": "white",
            "ticks": ""
           }
          },
          "scene": {
           "xaxis": {
            "backgroundcolor": "#E5ECF6",
            "gridcolor": "white",
            "gridwidth": 2,
            "linecolor": "white",
            "showbackground": true,
            "ticks": "",
            "zerolinecolor": "white"
           },
           "yaxis": {
            "backgroundcolor": "#E5ECF6",
            "gridcolor": "white",
            "gridwidth": 2,
            "linecolor": "white",
            "showbackground": true,
            "ticks": "",
            "zerolinecolor": "white"
           },
           "zaxis": {
            "backgroundcolor": "#E5ECF6",
            "gridcolor": "white",
            "gridwidth": 2,
            "linecolor": "white",
            "showbackground": true,
            "ticks": "",
            "zerolinecolor": "white"
           }
          },
          "shapedefaults": {
           "line": {
            "color": "#2a3f5f"
           }
          },
          "ternary": {
           "aaxis": {
            "gridcolor": "white",
            "linecolor": "white",
            "ticks": ""
           },
           "baxis": {
            "gridcolor": "white",
            "linecolor": "white",
            "ticks": ""
           },
           "bgcolor": "#E5ECF6",
           "caxis": {
            "gridcolor": "white",
            "linecolor": "white",
            "ticks": ""
           }
          },
          "title": {
           "x": 0.05
          },
          "xaxis": {
           "automargin": true,
           "gridcolor": "white",
           "linecolor": "white",
           "ticks": "",
           "title": {
            "standoff": 15
           },
           "zerolinecolor": "white",
           "zerolinewidth": 2
          },
          "yaxis": {
           "automargin": true,
           "gridcolor": "white",
           "linecolor": "white",
           "ticks": "",
           "title": {
            "standoff": 15
           },
           "zerolinecolor": "white",
           "zerolinewidth": 2
          }
         }
        }
       }
      },
      "text/html": [
       "<div>                            <div id=\"4ff8c687-1bc9-4070-b670-8a024ddd1b77\" class=\"plotly-graph-div\" style=\"height:525px; width:100%;\"></div>            <script type=\"text/javascript\">                require([\"plotly\"], function(Plotly) {                    window.PLOTLYENV=window.PLOTLYENV || {};                                    if (document.getElementById(\"4ff8c687-1bc9-4070-b670-8a024ddd1b77\")) {                    Plotly.newPlot(                        \"4ff8c687-1bc9-4070-b670-8a024ddd1b77\",                        [{\"autocolorscale\":false,\"colorbar\":{\"tickprefix\":\"\",\"title\":{\"text\":\"Number of Students\"}},\"colorscale\":[[0.0,\"#440154\"],[0.1111111111111111,\"#482878\"],[0.2222222222222222,\"#3e4989\"],[0.3333333333333333,\"#31688e\"],[0.4444444444444444,\"#26828e\"],[0.5555555555555556,\"#1f9e89\"],[0.6666666666666666,\"#35b779\"],[0.7777777777777778,\"#6ece58\"],[0.8888888888888888,\"#b5de2b\"],[1.0,\"#fde725\"]],\"hovertemplate\":\"%{text}<br>Number of Students: %{z}\",\"locationmode\":\"country names\",\"locations\":[\"Albania\",\"Algeria\",\"Angola\",\"Argentina\",\"Armenia\",\"Australia\",\"Austria\",\"Azerbaijan\",\"Belarus\",\"Belgium\",\"Benin\",\"Bhutan\",\"Bolivia, Plurinational State of\",\"Bosnia and Herzegovina\",\"Brazil\",\"Bulgaria\",\"Cambodia\",\"Cameroon\",\"Canada\",\"Chad\",\"Chile\",\"China\",\"Colombia\",\"Costa Rica\",\"Croatia\",\"Cuba\",\"Cyprus\",\"Czechia\",\"C\\u00f4te d'Ivoire\",\"Denmark\",\"Ecuador\",\"Egypt\",\"Estonia\",\"Ethiopia\",\"Fiji\",\"Finland\",\"France\",\"Gabon\",\"Georgia\",\"Germany\",\"Ghana\",\"Greece\",\"Guatemala\",\"Hong Kong\",\"Hungary\",\"Iceland\",\"India\",\"Indonesia\",\"Iran, Islamic Republic of\",\"Iraq\",\"Ireland\",\"Israel\",\"Italy\",\"Japan\",\"Jordan\",\"Kazakhstan\",\"Kenya\",\"Korea, Democratic People's Republic of\",\"Korea, Republic of\",\"Kosovo\",\"Kyrgyzstan\",\"Lao People's Democratic Republic\",\"Latvia\",\"Lebanon\",\"Liechtenstein\",\"Lithuania\",\"Luxembourg\",\"Madagascar\",\"Malaysia\",\"Mali\",\"Malta\",\"Mexico\",\"Moldova, Republic of\",\"Montenegro\",\"Morocco\",\"Mozambique\",\"Myanmar\",\"Nepal\",\"Netherlands\",\"New Zealand\",\"Nicaragua\",\"Niger\",\"Nigeria\",\"North Macedonia\",\"Norway\",\"Pakistan\",\"Palestine, State of\",\"Paraguay\",\"Peru\",\"Philippines\",\"Poland\",\"Portugal\",\"Romania\",\"Russian Federation\",\"Rwanda\",\"Senegal\",\"Serbia\",\"Slovakia\",\"Slovenia\",\"South Africa\",\"Spain\",\"Sudan\",\"Sweden\",\"Tajikistan\",\"Tanzania, United Republic of\",\"Thailand\",\"Tunisia\",\"Turkey\",\"Turkmenistan\",\"Uganda\",\"Ukraine\",\"United Kingdom\",\"United States\",\"Uzbekistan\",\"Viet Nam\"],\"marker\":{\"line\":{\"color\":\"darkgray\",\"width\":0.5}},\"reversescale\":false,\"text\":[\"Albania\",\"Algeria\",\"Angola\",\"Argentina\",\"Armenia\",\"Australia\",\"Austria\",\"Azerbaijan\",\"Belarus\",\"Belgium\",\"Benin\",\"Bhutan\",\"Bolivia, Plurinational State of\",\"Bosnia and Herzegovina\",\"Brazil\",\"Bulgaria\",\"Cambodia\",\"Cameroon\",\"Canada\",\"Chad\",\"Chile\",\"China\",\"Colombia\",\"Costa Rica\",\"Croatia\",\"Cuba\",\"Cyprus\",\"Czechia\",\"C\\u00f4te d'Ivoire\",\"Denmark\",\"Ecuador\",\"Egypt\",\"Estonia\",\"Ethiopia\",\"Fiji\",\"Finland\",\"France\",\"Gabon\",\"Georgia\",\"Germany\",\"Ghana\",\"Greece\",\"Guatemala\",\"Hong Kong\",\"Hungary\",\"Iceland\",\"India\",\"Indonesia\",\"Iran, Islamic Republic of\",\"Iraq\",\"Ireland\",\"Israel\",\"Italy\",\"Japan\",\"Jordan\",\"Kazakhstan\",\"Kenya\",\"Korea, Democratic People's Republic of\",\"Korea, Republic of\",\"Kosovo\",\"Kyrgyzstan\",\"Lao People's Democratic Republic\",\"Latvia\",\"Lebanon\",\"Liechtenstein\",\"Lithuania\",\"Luxembourg\",\"Madagascar\",\"Malaysia\",\"Mali\",\"Malta\",\"Mexico\",\"Moldova, Republic of\",\"Montenegro\",\"Morocco\",\"Mozambique\",\"Myanmar\",\"Nepal\",\"Netherlands\",\"New Zealand\",\"Nicaragua\",\"Niger\",\"Nigeria\",\"North Macedonia\",\"Norway\",\"Pakistan\",\"Palestine, State of\",\"Paraguay\",\"Peru\",\"Philippines\",\"Poland\",\"Portugal\",\"Romania\",\"Russian Federation\",\"Rwanda\",\"Senegal\",\"Serbia\",\"Slovakia\",\"Slovenia\",\"South Africa\",\"Spain\",\"Sudan\",\"Sweden\",\"Tajikistan\",\"Tanzania, United Republic of\",\"Thailand\",\"Tunisia\",\"Turkey\",\"Turkmenistan\",\"Uganda\",\"Ukraine\",\"United Kingdom\",\"United States\",\"Uzbekistan\",\"Viet Nam\"],\"z\":[162,22,3,17,441,103,18092,93,292,7781,5,2,11,557,20,1418,14,18,96,5,40,91,25,5,2257,9,1332,8088,4,8960,6,202,3935,49,2,18600,43116,10,732,51503,22,5673,1,8,7854,2496,55,45,19,11,19936,861,26810,112,198,32,21,3,55,135,48,5,3057,98,168,2675,1338,2,21,9,7616,27,113,134,207,2,25,8,15101,12,2,2,6,427,12505,4,203,8,2,5,14439,9675,3825,971,2,2,833,1668,2339,74,58907,3,19634,2,13,73,98,11952,4,3,684,68910,147,46,100],\"type\":\"choropleth\"}],                        {\"template\":{\"data\":{\"histogram2dcontour\":[{\"type\":\"histogram2dcontour\",\"colorbar\":{\"outlinewidth\":0,\"ticks\":\"\"},\"colorscale\":[[0.0,\"#0d0887\"],[0.1111111111111111,\"#46039f\"],[0.2222222222222222,\"#7201a8\"],[0.3333333333333333,\"#9c179e\"],[0.4444444444444444,\"#bd3786\"],[0.5555555555555556,\"#d8576b\"],[0.6666666666666666,\"#ed7953\"],[0.7777777777777778,\"#fb9f3a\"],[0.8888888888888888,\"#fdca26\"],[1.0,\"#f0f921\"]]}],\"choropleth\":[{\"type\":\"choropleth\",\"colorbar\":{\"outlinewidth\":0,\"ticks\":\"\"}}],\"histogram2d\":[{\"type\":\"histogram2d\",\"colorbar\":{\"outlinewidth\":0,\"ticks\":\"\"},\"colorscale\":[[0.0,\"#0d0887\"],[0.1111111111111111,\"#46039f\"],[0.2222222222222222,\"#7201a8\"],[0.3333333333333333,\"#9c179e\"],[0.4444444444444444,\"#bd3786\"],[0.5555555555555556,\"#d8576b\"],[0.6666666666666666,\"#ed7953\"],[0.7777777777777778,\"#fb9f3a\"],[0.8888888888888888,\"#fdca26\"],[1.0,\"#f0f921\"]]}],\"heatmap\":[{\"type\":\"heatmap\",\"colorbar\":{\"outlinewidth\":0,\"ticks\":\"\"},\"colorscale\":[[0.0,\"#0d0887\"],[0.1111111111111111,\"#46039f\"],[0.2222222222222222,\"#7201a8\"],[0.3333333333333333,\"#9c179e\"],[0.4444444444444444,\"#bd3786\"],[0.5555555555555556,\"#d8576b\"],[0.6666666666666666,\"#ed7953\"],[0.7777777777777778,\"#fb9f3a\"],[0.8888888888888888,\"#fdca26\"],[1.0,\"#f0f921\"]]}],\"heatmapgl\":[{\"type\":\"heatmapgl\",\"colorbar\":{\"outlinewidth\":0,\"ticks\":\"\"},\"colorscale\":[[0.0,\"#0d0887\"],[0.1111111111111111,\"#46039f\"],[0.2222222222222222,\"#7201a8\"],[0.3333333333333333,\"#9c179e\"],[0.4444444444444444,\"#bd3786\"],[0.5555555555555556,\"#d8576b\"],[0.6666666666666666,\"#ed7953\"],[0.7777777777777778,\"#fb9f3a\"],[0.8888888888888888,\"#fdca26\"],[1.0,\"#f0f921\"]]}],\"contourcarpet\":[{\"type\":\"contourcarpet\",\"colorbar\":{\"outlinewidth\":0,\"ticks\":\"\"}}],\"contour\":[{\"type\":\"contour\",\"colorbar\":{\"outlinewidth\":0,\"ticks\":\"\"},\"colorscale\":[[0.0,\"#0d0887\"],[0.1111111111111111,\"#46039f\"],[0.2222222222222222,\"#7201a8\"],[0.3333333333333333,\"#9c179e\"],[0.4444444444444444,\"#bd3786\"],[0.5555555555555556,\"#d8576b\"],[0.6666666666666666,\"#ed7953\"],[0.7777777777777778,\"#fb9f3a\"],[0.8888888888888888,\"#fdca26\"],[1.0,\"#f0f921\"]]}],\"surface\":[{\"type\":\"surface\",\"colorbar\":{\"outlinewidth\":0,\"ticks\":\"\"},\"colorscale\":[[0.0,\"#0d0887\"],[0.1111111111111111,\"#46039f\"],[0.2222222222222222,\"#7201a8\"],[0.3333333333333333,\"#9c179e\"],[0.4444444444444444,\"#bd3786\"],[0.5555555555555556,\"#d8576b\"],[0.6666666666666666,\"#ed7953\"],[0.7777777777777778,\"#fb9f3a\"],[0.8888888888888888,\"#fdca26\"],[1.0,\"#f0f921\"]]}],\"mesh3d\":[{\"type\":\"mesh3d\",\"colorbar\":{\"outlinewidth\":0,\"ticks\":\"\"}}],\"scatter\":[{\"fillpattern\":{\"fillmode\":\"overlay\",\"size\":10,\"solidity\":0.2},\"type\":\"scatter\"}],\"parcoords\":[{\"type\":\"parcoords\",\"line\":{\"colorbar\":{\"outlinewidth\":0,\"ticks\":\"\"}}}],\"scatterpolargl\":[{\"type\":\"scatterpolargl\",\"marker\":{\"colorbar\":{\"outlinewidth\":0,\"ticks\":\"\"}}}],\"bar\":[{\"error_x\":{\"color\":\"#2a3f5f\"},\"error_y\":{\"color\":\"#2a3f5f\"},\"marker\":{\"line\":{\"color\":\"#E5ECF6\",\"width\":0.5},\"pattern\":{\"fillmode\":\"overlay\",\"size\":10,\"solidity\":0.2}},\"type\":\"bar\"}],\"scattergeo\":[{\"type\":\"scattergeo\",\"marker\":{\"colorbar\":{\"outlinewidth\":0,\"ticks\":\"\"}}}],\"scatterpolar\":[{\"type\":\"scatterpolar\",\"marker\":{\"colorbar\":{\"outlinewidth\":0,\"ticks\":\"\"}}}],\"histogram\":[{\"marker\":{\"pattern\":{\"fillmode\":\"overlay\",\"size\":10,\"solidity\":0.2}},\"type\":\"histogram\"}],\"scattergl\":[{\"type\":\"scattergl\",\"marker\":{\"colorbar\":{\"outlinewidth\":0,\"ticks\":\"\"}}}],\"scatter3d\":[{\"type\":\"scatter3d\",\"line\":{\"colorbar\":{\"outlinewidth\":0,\"ticks\":\"\"}},\"marker\":{\"colorbar\":{\"outlinewidth\":0,\"ticks\":\"\"}}}],\"scattermapbox\":[{\"type\":\"scattermapbox\",\"marker\":{\"colorbar\":{\"outlinewidth\":0,\"ticks\":\"\"}}}],\"scatterternary\":[{\"type\":\"scatterternary\",\"marker\":{\"colorbar\":{\"outlinewidth\":0,\"ticks\":\"\"}}}],\"scattercarpet\":[{\"type\":\"scattercarpet\",\"marker\":{\"colorbar\":{\"outlinewidth\":0,\"ticks\":\"\"}}}],\"carpet\":[{\"aaxis\":{\"endlinecolor\":\"#2a3f5f\",\"gridcolor\":\"white\",\"linecolor\":\"white\",\"minorgridcolor\":\"white\",\"startlinecolor\":\"#2a3f5f\"},\"baxis\":{\"endlinecolor\":\"#2a3f5f\",\"gridcolor\":\"white\",\"linecolor\":\"white\",\"minorgridcolor\":\"white\",\"startlinecolor\":\"#2a3f5f\"},\"type\":\"carpet\"}],\"table\":[{\"cells\":{\"fill\":{\"color\":\"#EBF0F8\"},\"line\":{\"color\":\"white\"}},\"header\":{\"fill\":{\"color\":\"#C8D4E3\"},\"line\":{\"color\":\"white\"}},\"type\":\"table\"}],\"barpolar\":[{\"marker\":{\"line\":{\"color\":\"#E5ECF6\",\"width\":0.5},\"pattern\":{\"fillmode\":\"overlay\",\"size\":10,\"solidity\":0.2}},\"type\":\"barpolar\"}],\"pie\":[{\"automargin\":true,\"type\":\"pie\"}]},\"layout\":{\"autotypenumbers\":\"strict\",\"colorway\":[\"#636efa\",\"#EF553B\",\"#00cc96\",\"#ab63fa\",\"#FFA15A\",\"#19d3f3\",\"#FF6692\",\"#B6E880\",\"#FF97FF\",\"#FECB52\"],\"font\":{\"color\":\"#2a3f5f\"},\"hovermode\":\"closest\",\"hoverlabel\":{\"align\":\"left\"},\"paper_bgcolor\":\"white\",\"plot_bgcolor\":\"#E5ECF6\",\"polar\":{\"bgcolor\":\"#E5ECF6\",\"angularaxis\":{\"gridcolor\":\"white\",\"linecolor\":\"white\",\"ticks\":\"\"},\"radialaxis\":{\"gridcolor\":\"white\",\"linecolor\":\"white\",\"ticks\":\"\"}},\"ternary\":{\"bgcolor\":\"#E5ECF6\",\"aaxis\":{\"gridcolor\":\"white\",\"linecolor\":\"white\",\"ticks\":\"\"},\"baxis\":{\"gridcolor\":\"white\",\"linecolor\":\"white\",\"ticks\":\"\"},\"caxis\":{\"gridcolor\":\"white\",\"linecolor\":\"white\",\"ticks\":\"\"}},\"coloraxis\":{\"colorbar\":{\"outlinewidth\":0,\"ticks\":\"\"}},\"colorscale\":{\"sequential\":[[0.0,\"#0d0887\"],[0.1111111111111111,\"#46039f\"],[0.2222222222222222,\"#7201a8\"],[0.3333333333333333,\"#9c179e\"],[0.4444444444444444,\"#bd3786\"],[0.5555555555555556,\"#d8576b\"],[0.6666666666666666,\"#ed7953\"],[0.7777777777777778,\"#fb9f3a\"],[0.8888888888888888,\"#fdca26\"],[1.0,\"#f0f921\"]],\"sequentialminus\":[[0.0,\"#0d0887\"],[0.1111111111111111,\"#46039f\"],[0.2222222222222222,\"#7201a8\"],[0.3333333333333333,\"#9c179e\"],[0.4444444444444444,\"#bd3786\"],[0.5555555555555556,\"#d8576b\"],[0.6666666666666666,\"#ed7953\"],[0.7777777777777778,\"#fb9f3a\"],[0.8888888888888888,\"#fdca26\"],[1.0,\"#f0f921\"]],\"diverging\":[[0,\"#8e0152\"],[0.1,\"#c51b7d\"],[0.2,\"#de77ae\"],[0.3,\"#f1b6da\"],[0.4,\"#fde0ef\"],[0.5,\"#f7f7f7\"],[0.6,\"#e6f5d0\"],[0.7,\"#b8e186\"],[0.8,\"#7fbc41\"],[0.9,\"#4d9221\"],[1,\"#276419\"]]},\"xaxis\":{\"gridcolor\":\"white\",\"linecolor\":\"white\",\"ticks\":\"\",\"title\":{\"standoff\":15},\"zerolinecolor\":\"white\",\"automargin\":true,\"zerolinewidth\":2},\"yaxis\":{\"gridcolor\":\"white\",\"linecolor\":\"white\",\"ticks\":\"\",\"title\":{\"standoff\":15},\"zerolinecolor\":\"white\",\"automargin\":true,\"zerolinewidth\":2},\"scene\":{\"xaxis\":{\"backgroundcolor\":\"#E5ECF6\",\"gridcolor\":\"white\",\"linecolor\":\"white\",\"showbackground\":true,\"ticks\":\"\",\"zerolinecolor\":\"white\",\"gridwidth\":2},\"yaxis\":{\"backgroundcolor\":\"#E5ECF6\",\"gridcolor\":\"white\",\"linecolor\":\"white\",\"showbackground\":true,\"ticks\":\"\",\"zerolinecolor\":\"white\",\"gridwidth\":2},\"zaxis\":{\"backgroundcolor\":\"#E5ECF6\",\"gridcolor\":\"white\",\"linecolor\":\"white\",\"showbackground\":true,\"ticks\":\"\",\"zerolinecolor\":\"white\",\"gridwidth\":2}},\"shapedefaults\":{\"line\":{\"color\":\"#2a3f5f\"}},\"annotationdefaults\":{\"arrowcolor\":\"#2a3f5f\",\"arrowhead\":0,\"arrowwidth\":1},\"geo\":{\"bgcolor\":\"white\",\"landcolor\":\"#E5ECF6\",\"subunitcolor\":\"white\",\"showland\":true,\"showlakes\":true,\"lakecolor\":\"white\"},\"title\":{\"x\":0.05},\"mapbox\":{\"style\":\"light\"}}},\"geo\":{\"domain\":{\"x\":[0.0,1.0],\"y\":[0.0,1.0]}}},                        {\"responsive\": true}                    ).then(function(){\n",
       "                            \n",
       "var gd = document.getElementById('4ff8c687-1bc9-4070-b670-8a024ddd1b77');\n",
       "var x = new MutationObserver(function (mutations, observer) {{\n",
       "        var display = window.getComputedStyle(gd).display;\n",
       "        if (!display || display === 'none') {{\n",
       "            console.log([gd, 'removed!']);\n",
       "            Plotly.purge(gd);\n",
       "            observer.disconnect();\n",
       "        }}\n",
       "}});\n",
       "\n",
       "// Listen for the removal of the full notebook cells\n",
       "var notebookContainer = gd.closest('#notebook-container');\n",
       "if (notebookContainer) {{\n",
       "    x.observe(notebookContainer, {childList: true});\n",
       "}}\n",
       "\n",
       "// Listen for the clearing of the current output cell\n",
       "var outputEl = gd.closest('.output');\n",
       "if (outputEl) {{\n",
       "    x.observe(outputEl, {childList: true});\n",
       "}}\n",
       "\n",
       "                        })                };                });            </script>        </div>"
      ]
     },
     "metadata": {},
     "output_type": "display_data"
    }
   ],
   "source": [
    "fig = sp.make_subplots(rows=1, cols=1, specs=[[{\"type\": \"scattergeo\"}]])\n",
    "\n",
    "fig.add_trace(go.Choropleth(\n",
    "    locations=country_counts['Receiving Country'],\n",
    "    z=country_counts['Number of Students'],\n",
    "    text=country_counts['Receiving Country'],\n",
    "    hovertemplate='%{text}<br>Number of Students: %{z}',\n",
    "    colorscale='Viridis',\n",
    "    autocolorscale=False,\n",
    "    reversescale=False,\n",
    "    marker_line_color='darkgray',\n",
    "    marker_line_width=0.5,\n",
    "    colorbar_tickprefix='',\n",
    "    colorbar_title='Number of Students',\n",
    "    locationmode=\"country names\",\n",
    "))"
   ]
  },
  {
   "cell_type": "markdown",
   "id": "8756c024",
   "metadata": {},
   "source": [
    "I wanted to show the movement with arrors"
   ]
  },
  {
   "cell_type": "code",
   "execution_count": 14,
   "id": "bb438bcf",
   "metadata": {},
   "outputs": [
    {
     "data": {
      "application/vnd.plotly.v1+json": {
       "config": {
        "plotlyServerURL": "https://plotly.com"
       },
       "data": [
        {
         "autocolorscale": false,
         "colorbar": {
          "tickprefix": "",
          "title": {
           "text": "Number of Students"
          }
         },
         "colorscale": [
          [
           0,
           "#440154"
          ],
          [
           0.1111111111111111,
           "#482878"
          ],
          [
           0.2222222222222222,
           "#3e4989"
          ],
          [
           0.3333333333333333,
           "#31688e"
          ],
          [
           0.4444444444444444,
           "#26828e"
          ],
          [
           0.5555555555555556,
           "#1f9e89"
          ],
          [
           0.6666666666666666,
           "#35b779"
          ],
          [
           0.7777777777777778,
           "#6ece58"
          ],
          [
           0.8888888888888888,
           "#b5de2b"
          ],
          [
           1,
           "#fde725"
          ]
         ],
         "hovertemplate": "%{text}<br>Number of Students: %{z}",
         "locationmode": "country names",
         "locations": [
          "Albania",
          "Algeria",
          "Angola",
          "Argentina",
          "Armenia",
          "Australia",
          "Austria",
          "Azerbaijan",
          "Belarus",
          "Belgium",
          "Benin",
          "Bhutan",
          "Bolivia, Plurinational State of",
          "Bosnia and Herzegovina",
          "Brazil",
          "Bulgaria",
          "Cambodia",
          "Cameroon",
          "Canada",
          "Chad",
          "Chile",
          "China",
          "Colombia",
          "Costa Rica",
          "Croatia",
          "Cuba",
          "Cyprus",
          "Czechia",
          "Côte d'Ivoire",
          "Denmark",
          "Ecuador",
          "Egypt",
          "Estonia",
          "Ethiopia",
          "Fiji",
          "Finland",
          "France",
          "Gabon",
          "Georgia",
          "Germany",
          "Ghana",
          "Greece",
          "Guatemala",
          "Hong Kong",
          "Hungary",
          "Iceland",
          "India",
          "Indonesia",
          "Iran, Islamic Republic of",
          "Iraq",
          "Ireland",
          "Israel",
          "Italy",
          "Japan",
          "Jordan",
          "Kazakhstan",
          "Kenya",
          "Korea, Democratic People's Republic of",
          "Korea, Republic of",
          "Kosovo",
          "Kyrgyzstan",
          "Lao People's Democratic Republic",
          "Latvia",
          "Lebanon",
          "Liechtenstein",
          "Lithuania",
          "Luxembourg",
          "Madagascar",
          "Malaysia",
          "Mali",
          "Malta",
          "Mexico",
          "Moldova, Republic of",
          "Montenegro",
          "Morocco",
          "Mozambique",
          "Myanmar",
          "Nepal",
          "Netherlands",
          "New Zealand",
          "Nicaragua",
          "Niger",
          "Nigeria",
          "North Macedonia",
          "Norway",
          "Pakistan",
          "Palestine, State of",
          "Paraguay",
          "Peru",
          "Philippines",
          "Poland",
          "Portugal",
          "Romania",
          "Russian Federation",
          "Rwanda",
          "Senegal",
          "Serbia",
          "Slovakia",
          "Slovenia",
          "South Africa",
          "Spain",
          "Sudan",
          "Sweden",
          "Tajikistan",
          "Tanzania, United Republic of",
          "Thailand",
          "Tunisia",
          "Turkey",
          "Turkmenistan",
          "Uganda",
          "Ukraine",
          "United Kingdom",
          "United States",
          "Uzbekistan",
          "Viet Nam"
         ],
         "marker": {
          "line": {
           "color": "darkgray",
           "width": 0.5
          }
         },
         "reversescale": false,
         "text": [
          "Albania",
          "Algeria",
          "Angola",
          "Argentina",
          "Armenia",
          "Australia",
          "Austria",
          "Azerbaijan",
          "Belarus",
          "Belgium",
          "Benin",
          "Bhutan",
          "Bolivia, Plurinational State of",
          "Bosnia and Herzegovina",
          "Brazil",
          "Bulgaria",
          "Cambodia",
          "Cameroon",
          "Canada",
          "Chad",
          "Chile",
          "China",
          "Colombia",
          "Costa Rica",
          "Croatia",
          "Cuba",
          "Cyprus",
          "Czechia",
          "Côte d'Ivoire",
          "Denmark",
          "Ecuador",
          "Egypt",
          "Estonia",
          "Ethiopia",
          "Fiji",
          "Finland",
          "France",
          "Gabon",
          "Georgia",
          "Germany",
          "Ghana",
          "Greece",
          "Guatemala",
          "Hong Kong",
          "Hungary",
          "Iceland",
          "India",
          "Indonesia",
          "Iran, Islamic Republic of",
          "Iraq",
          "Ireland",
          "Israel",
          "Italy",
          "Japan",
          "Jordan",
          "Kazakhstan",
          "Kenya",
          "Korea, Democratic People's Republic of",
          "Korea, Republic of",
          "Kosovo",
          "Kyrgyzstan",
          "Lao People's Democratic Republic",
          "Latvia",
          "Lebanon",
          "Liechtenstein",
          "Lithuania",
          "Luxembourg",
          "Madagascar",
          "Malaysia",
          "Mali",
          "Malta",
          "Mexico",
          "Moldova, Republic of",
          "Montenegro",
          "Morocco",
          "Mozambique",
          "Myanmar",
          "Nepal",
          "Netherlands",
          "New Zealand",
          "Nicaragua",
          "Niger",
          "Nigeria",
          "North Macedonia",
          "Norway",
          "Pakistan",
          "Palestine, State of",
          "Paraguay",
          "Peru",
          "Philippines",
          "Poland",
          "Portugal",
          "Romania",
          "Russian Federation",
          "Rwanda",
          "Senegal",
          "Serbia",
          "Slovakia",
          "Slovenia",
          "South Africa",
          "Spain",
          "Sudan",
          "Sweden",
          "Tajikistan",
          "Tanzania, United Republic of",
          "Thailand",
          "Tunisia",
          "Turkey",
          "Turkmenistan",
          "Uganda",
          "Ukraine",
          "United Kingdom",
          "United States",
          "Uzbekistan",
          "Viet Nam"
         ],
         "type": "choropleth",
         "z": [
          162,
          22,
          3,
          17,
          441,
          103,
          18092,
          93,
          292,
          7781,
          5,
          2,
          11,
          557,
          20,
          1418,
          14,
          18,
          96,
          5,
          40,
          91,
          25,
          5,
          2257,
          9,
          1332,
          8088,
          4,
          8960,
          6,
          202,
          3935,
          49,
          2,
          18600,
          43116,
          10,
          732,
          51503,
          22,
          5673,
          1,
          8,
          7854,
          2496,
          55,
          45,
          19,
          11,
          19936,
          861,
          26810,
          112,
          198,
          32,
          21,
          3,
          55,
          135,
          48,
          5,
          3057,
          98,
          168,
          2675,
          1338,
          2,
          21,
          9,
          7616,
          27,
          113,
          134,
          207,
          2,
          25,
          8,
          15101,
          12,
          2,
          2,
          6,
          427,
          12505,
          4,
          203,
          8,
          2,
          5,
          14439,
          9675,
          3825,
          971,
          2,
          2,
          833,
          1668,
          2339,
          74,
          58907,
          3,
          19634,
          2,
          13,
          73,
          98,
          11952,
          4,
          3,
          684,
          68910,
          147,
          46,
          100
         ]
        },
        {
         "hoverinfo": "none",
         "lat": [
          51.1638175,
          41.000028
         ],
         "line": {
          "color": "red",
          "width": 1.5
         },
         "lon": [
          10.4478313,
          19.9999619
         ],
         "mode": "lines",
         "opacity": 0.8,
         "showlegend": false,
         "type": "scattergeo"
        },
        {
         "hoverinfo": "none",
         "lat": [
          51.1638175,
          28.0000272
         ],
         "line": {
          "color": "red",
          "width": 1.5
         },
         "lon": [
          10.4478313,
          2.9999825
         ],
         "mode": "lines",
         "opacity": 0.8,
         "showlegend": false,
         "type": "scattergeo"
        },
        {
         "hoverinfo": "none",
         "lat": [
          51.1638175,
          -11.8775768
         ],
         "line": {
          "color": "red",
          "width": 1.5
         },
         "lon": [
          10.4478313,
          17.5691241
         ],
         "mode": "lines",
         "opacity": 0.8,
         "showlegend": false,
         "type": "scattergeo"
        },
        {
         "hoverinfo": "none",
         "lat": [
          51.1638175,
          -34.9964963
         ],
         "line": {
          "color": "red",
          "width": 1.5
         },
         "lon": [
          10.4478313,
          -64.9672817
         ],
         "mode": "lines",
         "opacity": 0.8,
         "showlegend": false,
         "type": "scattergeo"
        },
        {
         "hoverinfo": "none",
         "lat": [
          51.1638175,
          40.7696272
         ],
         "line": {
          "color": "red",
          "width": 1.5
         },
         "lon": [
          10.4478313,
          44.6736646
         ],
         "mode": "lines",
         "opacity": 0.8,
         "showlegend": false,
         "type": "scattergeo"
        },
        {
         "hoverinfo": "none",
         "lat": [
          51.1638175,
          -24.7761086
         ],
         "line": {
          "color": "red",
          "width": 1.5
         },
         "lon": [
          10.4478313,
          134.755
         ],
         "mode": "lines",
         "opacity": 0.8,
         "showlegend": false,
         "type": "scattergeo"
        },
        {
         "hoverinfo": "none",
         "lat": [
          51.1638175,
          47.59397
         ],
         "line": {
          "color": "red",
          "width": 1.5
         },
         "lon": [
          10.4478313,
          14.12456
         ],
         "mode": "lines",
         "opacity": 0.8,
         "showlegend": false,
         "type": "scattergeo"
        },
        {
         "hoverinfo": "none",
         "lat": [
          51.1638175,
          40.3936294
         ],
         "line": {
          "color": "red",
          "width": 1.5
         },
         "lon": [
          10.4478313,
          47.7872508
         ],
         "mode": "lines",
         "opacity": 0.8,
         "showlegend": false,
         "type": "scattergeo"
        },
        {
         "hoverinfo": "none",
         "lat": [
          51.1638175,
          53.4250605
         ],
         "line": {
          "color": "red",
          "width": 1.5
         },
         "lon": [
          10.4478313,
          27.6971358
         ],
         "mode": "lines",
         "opacity": 0.8,
         "showlegend": false,
         "type": "scattergeo"
        },
        {
         "hoverinfo": "none",
         "lat": [
          51.1638175,
          50.6402809
         ],
         "line": {
          "color": "red",
          "width": 1.5
         },
         "lon": [
          10.4478313,
          4.6667145
         ],
         "mode": "lines",
         "opacity": 0.8,
         "showlegend": false,
         "type": "scattergeo"
        },
        {
         "hoverinfo": "none",
         "lat": [
          51.1638175,
          9.5293472
         ],
         "line": {
          "color": "red",
          "width": 1.5
         },
         "lon": [
          10.4478313,
          2.2584408
         ],
         "mode": "lines",
         "opacity": 0.8,
         "showlegend": false,
         "type": "scattergeo"
        },
        {
         "hoverinfo": "none",
         "lat": [
          51.1638175,
          27.549511
         ],
         "line": {
          "color": "red",
          "width": 1.5
         },
         "lon": [
          10.4478313,
          90.5119273
         ],
         "mode": "lines",
         "opacity": 0.8,
         "showlegend": false,
         "type": "scattergeo"
        },
        {
         "hoverinfo": "none",
         "lat": [
          51.1638175,
          -17.0568696
         ],
         "line": {
          "color": "red",
          "width": 1.5
         },
         "lon": [
          10.4478313,
          -64.9912286
         ],
         "mode": "lines",
         "opacity": 0.8,
         "showlegend": false,
         "type": "scattergeo"
        },
        {
         "hoverinfo": "none",
         "lat": [
          51.1638175,
          44.3053476
         ],
         "line": {
          "color": "red",
          "width": 1.5
         },
         "lon": [
          10.4478313,
          17.5961467
         ],
         "mode": "lines",
         "opacity": 0.8,
         "showlegend": false,
         "type": "scattergeo"
        },
        {
         "hoverinfo": "none",
         "lat": [
          51.1638175,
          -10.3333333
         ],
         "line": {
          "color": "red",
          "width": 1.5
         },
         "lon": [
          10.4478313,
          -53.2
         ],
         "mode": "lines",
         "opacity": 0.8,
         "showlegend": false,
         "type": "scattergeo"
        },
        {
         "hoverinfo": "none",
         "lat": [
          51.1638175,
          42.6073975
         ],
         "line": {
          "color": "red",
          "width": 1.5
         },
         "lon": [
          10.4478313,
          25.4856617
         ],
         "mode": "lines",
         "opacity": 0.8,
         "showlegend": false,
         "type": "scattergeo"
        },
        {
         "hoverinfo": "none",
         "lat": [
          51.1638175,
          12.5433216
         ],
         "line": {
          "color": "red",
          "width": 1.5
         },
         "lon": [
          10.4478313,
          104.8144914
         ],
         "mode": "lines",
         "opacity": 0.8,
         "showlegend": false,
         "type": "scattergeo"
        },
        {
         "hoverinfo": "none",
         "lat": [
          51.1638175,
          4.6125522
         ],
         "line": {
          "color": "red",
          "width": 1.5
         },
         "lon": [
          10.4478313,
          13.1535811
         ],
         "mode": "lines",
         "opacity": 0.8,
         "showlegend": false,
         "type": "scattergeo"
        },
        {
         "hoverinfo": "none",
         "lat": [
          51.1638175,
          61.0666922
         ],
         "line": {
          "color": "red",
          "width": 1.5
         },
         "lon": [
          10.4478313,
          -107.991707
         ],
         "mode": "lines",
         "opacity": 0.8,
         "showlegend": false,
         "type": "scattergeo"
        },
        {
         "hoverinfo": "none",
         "lat": [
          51.1638175,
          15.6134137
         ],
         "line": {
          "color": "red",
          "width": 1.5
         },
         "lon": [
          10.4478313,
          19.0156172
         ],
         "mode": "lines",
         "opacity": 0.8,
         "showlegend": false,
         "type": "scattergeo"
        },
        {
         "hoverinfo": "none",
         "lat": [
          51.1638175,
          -31.7613365
         ],
         "line": {
          "color": "red",
          "width": 1.5
         },
         "lon": [
          10.4478313,
          -71.3187697
         ],
         "mode": "lines",
         "opacity": 0.8,
         "showlegend": false,
         "type": "scattergeo"
        },
        {
         "hoverinfo": "none",
         "lat": [
          51.1638175,
          35.000074
         ],
         "line": {
          "color": "red",
          "width": 1.5
         },
         "lon": [
          10.4478313,
          104.999927
         ],
         "mode": "lines",
         "opacity": 0.8,
         "showlegend": false,
         "type": "scattergeo"
        },
        {
         "hoverinfo": "none",
         "lat": [
          51.1638175,
          4.099917
         ],
         "line": {
          "color": "red",
          "width": 1.5
         },
         "lon": [
          10.4478313,
          -72.9088133
         ],
         "mode": "lines",
         "opacity": 0.8,
         "showlegend": false,
         "type": "scattergeo"
        },
        {
         "hoverinfo": "none",
         "lat": [
          51.1638175,
          10.2735633
         ],
         "line": {
          "color": "red",
          "width": 1.5
         },
         "lon": [
          10.4478313,
          -84.0739102
         ],
         "mode": "lines",
         "opacity": 0.8,
         "showlegend": false,
         "type": "scattergeo"
        },
        {
         "hoverinfo": "none",
         "lat": [
          51.1638175,
          45.3658443
         ],
         "line": {
          "color": "red",
          "width": 1.5
         },
         "lon": [
          10.4478313,
          15.6575209
         ],
         "mode": "lines",
         "opacity": 0.8,
         "showlegend": false,
         "type": "scattergeo"
        },
        {
         "hoverinfo": "none",
         "lat": [
          51.1638175,
          23.0131338
         ],
         "line": {
          "color": "red",
          "width": 1.5
         },
         "lon": [
          10.4478313,
          -80.8328748
         ],
         "mode": "lines",
         "opacity": 0.8,
         "showlegend": false,
         "type": "scattergeo"
        },
        {
         "hoverinfo": "none",
         "lat": [
          51.1638175,
          34.9823018
         ],
         "line": {
          "color": "red",
          "width": 1.5
         },
         "lon": [
          10.4478313,
          33.1451285
         ],
         "mode": "lines",
         "opacity": 0.8,
         "showlegend": false,
         "type": "scattergeo"
        },
        {
         "hoverinfo": "none",
         "lat": [
          51.1638175,
          49.7439047
         ],
         "line": {
          "color": "red",
          "width": 1.5
         },
         "lon": [
          10.4478313,
          15.3381061
         ],
         "mode": "lines",
         "opacity": 0.8,
         "showlegend": false,
         "type": "scattergeo"
        },
        {
         "hoverinfo": "none",
         "lat": [
          51.1638175,
          7.9897371
         ],
         "line": {
          "color": "red",
          "width": 1.5
         },
         "lon": [
          10.4478313,
          -5.5679458
         ],
         "mode": "lines",
         "opacity": 0.8,
         "showlegend": false,
         "type": "scattergeo"
        },
        {
         "hoverinfo": "none",
         "lat": [
          51.1638175,
          55.670249
         ],
         "line": {
          "color": "red",
          "width": 1.5
         },
         "lon": [
          10.4478313,
          10.3333283
         ],
         "mode": "lines",
         "opacity": 0.8,
         "showlegend": false,
         "type": "scattergeo"
        },
        {
         "hoverinfo": "none",
         "lat": [
          51.1638175,
          -1.3397668
         ],
         "line": {
          "color": "red",
          "width": 1.5
         },
         "lon": [
          10.4478313,
          -79.3666965
         ],
         "mode": "lines",
         "opacity": 0.8,
         "showlegend": false,
         "type": "scattergeo"
        },
        {
         "hoverinfo": "none",
         "lat": [
          51.1638175,
          26.2540493
         ],
         "line": {
          "color": "red",
          "width": 1.5
         },
         "lon": [
          10.4478313,
          29.2675469
         ],
         "mode": "lines",
         "opacity": 0.8,
         "showlegend": false,
         "type": "scattergeo"
        },
        {
         "hoverinfo": "none",
         "lat": [
          51.1638175,
          58.7523778
         ],
         "line": {
          "color": "red",
          "width": 1.5
         },
         "lon": [
          10.4478313,
          25.3319078
         ],
         "mode": "lines",
         "opacity": 0.8,
         "showlegend": false,
         "type": "scattergeo"
        },
        {
         "hoverinfo": "none",
         "lat": [
          51.1638175,
          10.2116702
         ],
         "line": {
          "color": "red",
          "width": 1.5
         },
         "lon": [
          10.4478313,
          38.6521203
         ],
         "mode": "lines",
         "opacity": 0.8,
         "showlegend": false,
         "type": "scattergeo"
        },
        {
         "hoverinfo": "none",
         "lat": [
          51.1638175,
          -18.1239696
         ],
         "line": {
          "color": "red",
          "width": 1.5
         },
         "lon": [
          10.4478313,
          179.0122737
         ],
         "mode": "lines",
         "opacity": 0.8,
         "showlegend": false,
         "type": "scattergeo"
        },
        {
         "hoverinfo": "none",
         "lat": [
          51.1638175,
          63.2467777
         ],
         "line": {
          "color": "red",
          "width": 1.5
         },
         "lon": [
          10.4478313,
          25.9209164
         ],
         "mode": "lines",
         "opacity": 0.8,
         "showlegend": false,
         "type": "scattergeo"
        },
        {
         "hoverinfo": "none",
         "lat": [
          51.1638175,
          46.603354
         ],
         "line": {
          "color": "red",
          "width": 1.5
         },
         "lon": [
          10.4478313,
          1.8883335
         ],
         "mode": "lines",
         "opacity": 0.8,
         "showlegend": false,
         "type": "scattergeo"
        },
        {
         "hoverinfo": "none",
         "lat": [
          51.1638175,
          -0.8999695
         ],
         "line": {
          "color": "red",
          "width": 1.5
         },
         "lon": [
          10.4478313,
          11.6899699
         ],
         "mode": "lines",
         "opacity": 0.8,
         "showlegend": false,
         "type": "scattergeo"
        },
        {
         "hoverinfo": "none",
         "lat": [
          51.1638175,
          42.3154
         ],
         "line": {
          "color": "red",
          "width": 1.5
         },
         "lon": [
          10.4478313,
          43.3569
         ],
         "mode": "lines",
         "opacity": 0.8,
         "showlegend": false,
         "type": "scattergeo"
        },
        {
         "hoverinfo": "none",
         "lat": [
          51.1638175,
          51.1638175
         ],
         "line": {
          "color": "red",
          "width": 1.5
         },
         "lon": [
          10.4478313,
          10.4478313
         ],
         "mode": "lines",
         "opacity": 0.8,
         "showlegend": false,
         "type": "scattergeo"
        },
        {
         "hoverinfo": "none",
         "lat": [
          51.1638175,
          8.0300284
         ],
         "line": {
          "color": "red",
          "width": 1.5
         },
         "lon": [
          10.4478313,
          -1.0800271
         ],
         "mode": "lines",
         "opacity": 0.8,
         "showlegend": false,
         "type": "scattergeo"
        },
        {
         "hoverinfo": "none",
         "lat": [
          51.1638175,
          38.9953683
         ],
         "line": {
          "color": "red",
          "width": 1.5
         },
         "lon": [
          10.4478313,
          21.9877132
         ],
         "mode": "lines",
         "opacity": 0.8,
         "showlegend": false,
         "type": "scattergeo"
        },
        {
         "hoverinfo": "none",
         "lat": [
          51.1638175,
          15.5855545
         ],
         "line": {
          "color": "red",
          "width": 1.5
         },
         "lon": [
          10.4478313,
          -90.345759
         ],
         "mode": "lines",
         "opacity": 0.8,
         "showlegend": false,
         "type": "scattergeo"
        },
        {
         "hoverinfo": "none",
         "lat": [
          51.1638175,
          22.2793278
         ],
         "line": {
          "color": "red",
          "width": 1.5
         },
         "lon": [
          10.4478313,
          114.1628131
         ],
         "mode": "lines",
         "opacity": 0.8,
         "showlegend": false,
         "type": "scattergeo"
        },
        {
         "hoverinfo": "none",
         "lat": [
          51.1638175,
          47.1817585
         ],
         "line": {
          "color": "red",
          "width": 1.5
         },
         "lon": [
          10.4478313,
          19.5060937
         ],
         "mode": "lines",
         "opacity": 0.8,
         "showlegend": false,
         "type": "scattergeo"
        },
        {
         "hoverinfo": "none",
         "lat": [
          51.1638175,
          64.9841821
         ],
         "line": {
          "color": "red",
          "width": 1.5
         },
         "lon": [
          10.4478313,
          -18.1059013
         ],
         "mode": "lines",
         "opacity": 0.8,
         "showlegend": false,
         "type": "scattergeo"
        },
        {
         "hoverinfo": "none",
         "lat": [
          51.1638175,
          22.3511148
         ],
         "line": {
          "color": "red",
          "width": 1.5
         },
         "lon": [
          10.4478313,
          78.6677428
         ],
         "mode": "lines",
         "opacity": 0.8,
         "showlegend": false,
         "type": "scattergeo"
        },
        {
         "hoverinfo": "none",
         "lat": [
          51.1638175,
          -2.4833826
         ],
         "line": {
          "color": "red",
          "width": 1.5
         },
         "lon": [
          10.4478313,
          117.8902853
         ],
         "mode": "lines",
         "opacity": 0.8,
         "showlegend": false,
         "type": "scattergeo"
        },
        {
         "hoverinfo": "none",
         "lat": [
          51.1638175,
          32.6475314
         ],
         "line": {
          "color": "red",
          "width": 1.5
         },
         "lon": [
          10.4478313,
          54.5643516
         ],
         "mode": "lines",
         "opacity": 0.8,
         "showlegend": false,
         "type": "scattergeo"
        },
        {
         "hoverinfo": "none",
         "lat": [
          51.1638175,
          33.0955793
         ],
         "line": {
          "color": "red",
          "width": 1.5
         },
         "lon": [
          10.4478313,
          44.1749775
         ],
         "mode": "lines",
         "opacity": 0.8,
         "showlegend": false,
         "type": "scattergeo"
        },
        {
         "hoverinfo": "none",
         "lat": [
          51.1638175,
          52.865196
         ],
         "line": {
          "color": "red",
          "width": 1.5
         },
         "lon": [
          10.4478313,
          -7.9794599
         ],
         "mode": "lines",
         "opacity": 0.8,
         "showlegend": false,
         "type": "scattergeo"
        },
        {
         "hoverinfo": "none",
         "lat": [
          51.1638175,
          30.8124247
         ],
         "line": {
          "color": "red",
          "width": 1.5
         },
         "lon": [
          10.4478313,
          34.8594762
         ],
         "mode": "lines",
         "opacity": 0.8,
         "showlegend": false,
         "type": "scattergeo"
        },
        {
         "hoverinfo": "none",
         "lat": [
          51.1638175,
          42.6384261
         ],
         "line": {
          "color": "red",
          "width": 1.5
         },
         "lon": [
          10.4478313,
          12.674297
         ],
         "mode": "lines",
         "opacity": 0.8,
         "showlegend": false,
         "type": "scattergeo"
        },
        {
         "hoverinfo": "none",
         "lat": [
          51.1638175,
          36.5748441
         ],
         "line": {
          "color": "red",
          "width": 1.5
         },
         "lon": [
          10.4478313,
          139.2394179
         ],
         "mode": "lines",
         "opacity": 0.8,
         "showlegend": false,
         "type": "scattergeo"
        },
        {
         "hoverinfo": "none",
         "lat": [
          51.1638175,
          31.1667049
         ],
         "line": {
          "color": "red",
          "width": 1.5
         },
         "lon": [
          10.4478313,
          36.941628
         ],
         "mode": "lines",
         "opacity": 0.8,
         "showlegend": false,
         "type": "scattergeo"
        },
        {
         "hoverinfo": "none",
         "lat": [
          51.1638175,
          48.1012954
         ],
         "line": {
          "color": "red",
          "width": 1.5
         },
         "lon": [
          10.4478313,
          66.7780818
         ],
         "mode": "lines",
         "opacity": 0.8,
         "showlegend": false,
         "type": "scattergeo"
        },
        {
         "hoverinfo": "none",
         "lat": [
          51.1638175,
          1.4419683
         ],
         "line": {
          "color": "red",
          "width": 1.5
         },
         "lon": [
          10.4478313,
          38.4313975
         ],
         "mode": "lines",
         "opacity": 0.8,
         "showlegend": false,
         "type": "scattergeo"
        },
        {
         "hoverinfo": "none",
         "lat": [
          51.1638175,
          38.233686649999996
         ],
         "line": {
          "color": "red",
          "width": 1.5
         },
         "lon": [
          10.4478313,
          127.00873073371443
         ],
         "mode": "lines",
         "opacity": 0.8,
         "showlegend": false,
         "type": "scattergeo"
        },
        {
         "hoverinfo": "none",
         "lat": [
          51.1638175,
          55.8215537
         ],
         "line": {
          "color": "red",
          "width": 1.5
         },
         "lon": [
          10.4478313,
          49.132971
         ],
         "mode": "lines",
         "opacity": 0.8,
         "showlegend": false,
         "type": "scattergeo"
        },
        {
         "hoverinfo": "none",
         "lat": [
          51.1638175,
          42.5869578
         ],
         "line": {
          "color": "red",
          "width": 1.5
         },
         "lon": [
          10.4478313,
          20.9021231
         ],
         "mode": "lines",
         "opacity": 0.8,
         "showlegend": false,
         "type": "scattergeo"
        },
        {
         "hoverinfo": "none",
         "lat": [
          51.1638175,
          41.5089324
         ],
         "line": {
          "color": "red",
          "width": 1.5
         },
         "lon": [
          10.4478313,
          74.724091
         ],
         "mode": "lines",
         "opacity": 0.8,
         "showlegend": false,
         "type": "scattergeo"
        },
        {
         "hoverinfo": "none",
         "lat": [
          51.1638175,
          20.0171109
         ],
         "line": {
          "color": "red",
          "width": 1.5
         },
         "lon": [
          10.4478313,
          103.378253
         ],
         "mode": "lines",
         "opacity": 0.8,
         "showlegend": false,
         "type": "scattergeo"
        },
        {
         "hoverinfo": "none",
         "lat": [
          51.1638175,
          56.8406494
         ],
         "line": {
          "color": "red",
          "width": 1.5
         },
         "lon": [
          10.4478313,
          24.7537645
         ],
         "mode": "lines",
         "opacity": 0.8,
         "showlegend": false,
         "type": "scattergeo"
        },
        {
         "hoverinfo": "none",
         "lat": [
          51.1638175,
          33.8750629
         ],
         "line": {
          "color": "red",
          "width": 1.5
         },
         "lon": [
          10.4478313,
          35.843409
         ],
         "mode": "lines",
         "opacity": 0.8,
         "showlegend": false,
         "type": "scattergeo"
        },
        {
         "hoverinfo": "none",
         "lat": [
          51.1638175,
          47.1416307
         ],
         "line": {
          "color": "red",
          "width": 1.5
         },
         "lon": [
          10.4478313,
          9.5531527
         ],
         "mode": "lines",
         "opacity": 0.8,
         "showlegend": false,
         "type": "scattergeo"
        },
        {
         "hoverinfo": "none",
         "lat": [
          51.1638175,
          55.3500003
         ],
         "line": {
          "color": "red",
          "width": 1.5
         },
         "lon": [
          10.4478313,
          23.7499997
         ],
         "mode": "lines",
         "opacity": 0.8,
         "showlegend": false,
         "type": "scattergeo"
        },
        {
         "hoverinfo": "none",
         "lat": [
          51.1638175,
          49.8158683
         ],
         "line": {
          "color": "red",
          "width": 1.5
         },
         "lon": [
          10.4478313,
          6.1296751
         ],
         "mode": "lines",
         "opacity": 0.8,
         "showlegend": false,
         "type": "scattergeo"
        },
        {
         "hoverinfo": "none",
         "lat": [
          51.1638175,
          -18.9249604
         ],
         "line": {
          "color": "red",
          "width": 1.5
         },
         "lon": [
          10.4478313,
          46.4416422
         ],
         "mode": "lines",
         "opacity": 0.8,
         "showlegend": false,
         "type": "scattergeo"
        },
        {
         "hoverinfo": "none",
         "lat": [
          51.1638175,
          4.5693754
         ],
         "line": {
          "color": "red",
          "width": 1.5
         },
         "lon": [
          10.4478313,
          102.2656823
         ],
         "mode": "lines",
         "opacity": 0.8,
         "showlegend": false,
         "type": "scattergeo"
        },
        {
         "hoverinfo": "none",
         "lat": [
          51.1638175,
          16.3700359
         ],
         "line": {
          "color": "red",
          "width": 1.5
         },
         "lon": [
          10.4478313,
          -2.2900239
         ],
         "mode": "lines",
         "opacity": 0.8,
         "showlegend": false,
         "type": "scattergeo"
        },
        {
         "hoverinfo": "none",
         "lat": [
          51.1638175,
          35.8885993
         ],
         "line": {
          "color": "red",
          "width": 1.5
         },
         "lon": [
          10.4478313,
          14.4476911
         ],
         "mode": "lines",
         "opacity": 0.8,
         "showlegend": false,
         "type": "scattergeo"
        },
        {
         "hoverinfo": "none",
         "lat": [
          51.1638175,
          23.6585116
         ],
         "line": {
          "color": "red",
          "width": 1.5
         },
         "lon": [
          10.4478313,
          -102.0077097
         ],
         "mode": "lines",
         "opacity": 0.8,
         "showlegend": false,
         "type": "scattergeo"
        },
        {
         "hoverinfo": "none",
         "lat": [
          51.1638175,
          46.6745434
         ],
         "line": {
          "color": "red",
          "width": 1.5
         },
         "lon": [
          10.4478313,
          29.7521996
         ],
         "mode": "lines",
         "opacity": 0.8,
         "showlegend": false,
         "type": "scattergeo"
        },
        {
         "hoverinfo": "none",
         "lat": [
          51.1638175,
          42.9868853
         ],
         "line": {
          "color": "red",
          "width": 1.5
         },
         "lon": [
          10.4478313,
          19.5180992
         ],
         "mode": "lines",
         "opacity": 0.8,
         "showlegend": false,
         "type": "scattergeo"
        },
        {
         "hoverinfo": "none",
         "lat": [
          51.1638175,
          31.1728205
         ],
         "line": {
          "color": "red",
          "width": 1.5
         },
         "lon": [
          10.4478313,
          -7.3362482
         ],
         "mode": "lines",
         "opacity": 0.8,
         "showlegend": false,
         "type": "scattergeo"
        },
        {
         "hoverinfo": "none",
         "lat": [
          51.1638175,
          -19.302233
         ],
         "line": {
          "color": "red",
          "width": 1.5
         },
         "lon": [
          10.4478313,
          34.9144977
         ],
         "mode": "lines",
         "opacity": 0.8,
         "showlegend": false,
         "type": "scattergeo"
        },
        {
         "hoverinfo": "none",
         "lat": [
          51.1638175,
          17.1750495
         ],
         "line": {
          "color": "red",
          "width": 1.5
         },
         "lon": [
          10.4478313,
          95.9999652
         ],
         "mode": "lines",
         "opacity": 0.8,
         "showlegend": false,
         "type": "scattergeo"
        },
        {
         "hoverinfo": "none",
         "lat": [
          51.1638175,
          28.1083929
         ],
         "line": {
          "color": "red",
          "width": 1.5
         },
         "lon": [
          10.4478313,
          84.0917139
         ],
         "mode": "lines",
         "opacity": 0.8,
         "showlegend": false,
         "type": "scattergeo"
        },
        {
         "hoverinfo": "none",
         "lat": [
          51.1638175,
          52.2434979
         ],
         "line": {
          "color": "red",
          "width": 1.5
         },
         "lon": [
          10.4478313,
          5.6343227
         ],
         "mode": "lines",
         "opacity": 0.8,
         "showlegend": false,
         "type": "scattergeo"
        },
        {
         "hoverinfo": "none",
         "lat": [
          51.1638175,
          -41.5000831
         ],
         "line": {
          "color": "red",
          "width": 1.5
         },
         "lon": [
          10.4478313,
          172.8344077
         ],
         "mode": "lines",
         "opacity": 0.8,
         "showlegend": false,
         "type": "scattergeo"
        },
        {
         "hoverinfo": "none",
         "lat": [
          51.1638175,
          12.6090157
         ],
         "line": {
          "color": "red",
          "width": 1.5
         },
         "lon": [
          10.4478313,
          -85.2936911
         ],
         "mode": "lines",
         "opacity": 0.8,
         "showlegend": false,
         "type": "scattergeo"
        },
        {
         "hoverinfo": "none",
         "lat": [
          51.1638175,
          17.7356214
         ],
         "line": {
          "color": "red",
          "width": 1.5
         },
         "lon": [
          10.4478313,
          9.3238432
         ],
         "mode": "lines",
         "opacity": 0.8,
         "showlegend": false,
         "type": "scattergeo"
        },
        {
         "hoverinfo": "none",
         "lat": [
          51.1638175,
          9.6000359
         ],
         "line": {
          "color": "red",
          "width": 1.5
         },
         "lon": [
          10.4478313,
          7.9999721
         ],
         "mode": "lines",
         "opacity": 0.8,
         "showlegend": false,
         "type": "scattergeo"
        },
        {
         "hoverinfo": "none",
         "lat": [
          51.1638175,
          41.6171214
         ],
         "line": {
          "color": "red",
          "width": 1.5
         },
         "lon": [
          10.4478313,
          21.7168387
         ],
         "mode": "lines",
         "opacity": 0.8,
         "showlegend": false,
         "type": "scattergeo"
        },
        {
         "hoverinfo": "none",
         "lat": [
          51.1638175,
          61.1529386
         ],
         "line": {
          "color": "red",
          "width": 1.5
         },
         "lon": [
          10.4478313,
          8.7876653
         ],
         "mode": "lines",
         "opacity": 0.8,
         "showlegend": false,
         "type": "scattergeo"
        },
        {
         "hoverinfo": "none",
         "lat": [
          51.1638175,
          30.3308401
         ],
         "line": {
          "color": "red",
          "width": 1.5
         },
         "lon": [
          10.4478313,
          71.247499
         ],
         "mode": "lines",
         "opacity": 0.8,
         "showlegend": false,
         "type": "scattergeo"
        },
        {
         "hoverinfo": "none",
         "lat": [
          51.1638175,
          42.2088336
         ],
         "line": {
          "color": "red",
          "width": 1.5
         },
         "lon": [
          10.4478313,
          -79.4683738
         ],
         "mode": "lines",
         "opacity": 0.8,
         "showlegend": false,
         "type": "scattergeo"
        },
        {
         "hoverinfo": "none",
         "lat": [
          51.1638175,
          -23.3165935
         ],
         "line": {
          "color": "red",
          "width": 1.5
         },
         "lon": [
          10.4478313,
          -58.1693445
         ],
         "mode": "lines",
         "opacity": 0.8,
         "showlegend": false,
         "type": "scattergeo"
        },
        {
         "hoverinfo": "none",
         "lat": [
          51.1638175,
          -6.8699697
         ],
         "line": {
          "color": "red",
          "width": 1.5
         },
         "lon": [
          10.4478313,
          -75.0458515
         ],
         "mode": "lines",
         "opacity": 0.8,
         "showlegend": false,
         "type": "scattergeo"
        },
        {
         "hoverinfo": "none",
         "lat": [
          51.1638175,
          12.7503486
         ],
         "line": {
          "color": "red",
          "width": 1.5
         },
         "lon": [
          10.4478313,
          122.7312101
         ],
         "mode": "lines",
         "opacity": 0.8,
         "showlegend": false,
         "type": "scattergeo"
        },
        {
         "hoverinfo": "none",
         "lat": [
          51.1638175,
          52.215933
         ],
         "line": {
          "color": "red",
          "width": 1.5
         },
         "lon": [
          10.4478313,
          19.134422
         ],
         "mode": "lines",
         "opacity": 0.8,
         "showlegend": false,
         "type": "scattergeo"
        },
        {
         "hoverinfo": "none",
         "lat": [
          51.1638175,
          39.6621648
         ],
         "line": {
          "color": "red",
          "width": 1.5
         },
         "lon": [
          10.4478313,
          -8.1353519
         ],
         "mode": "lines",
         "opacity": 0.8,
         "showlegend": false,
         "type": "scattergeo"
        },
        {
         "hoverinfo": "none",
         "lat": [
          51.1638175,
          45.9852129
         ],
         "line": {
          "color": "red",
          "width": 1.5
         },
         "lon": [
          10.4478313,
          24.6859225
         ],
         "mode": "lines",
         "opacity": 0.8,
         "showlegend": false,
         "type": "scattergeo"
        },
        {
         "hoverinfo": "none",
         "lat": [
          51.1638175,
          64.6863136
         ],
         "line": {
          "color": "red",
          "width": 1.5
         },
         "lon": [
          10.4478313,
          97.7453061
         ],
         "mode": "lines",
         "opacity": 0.8,
         "showlegend": false,
         "type": "scattergeo"
        },
        {
         "hoverinfo": "none",
         "lat": [
          51.1638175,
          -1.9646631
         ],
         "line": {
          "color": "red",
          "width": 1.5
         },
         "lon": [
          10.4478313,
          30.0644358
         ],
         "mode": "lines",
         "opacity": 0.8,
         "showlegend": false,
         "type": "scattergeo"
        },
        {
         "hoverinfo": "none",
         "lat": [
          51.1638175,
          14.4750607
         ],
         "line": {
          "color": "red",
          "width": 1.5
         },
         "lon": [
          10.4478313,
          -14.4529612
         ],
         "mode": "lines",
         "opacity": 0.8,
         "showlegend": false,
         "type": "scattergeo"
        },
        {
         "hoverinfo": "none",
         "lat": [
          51.1638175,
          44.1534121
         ],
         "line": {
          "color": "red",
          "width": 1.5
         },
         "lon": [
          10.4478313,
          20.55144
         ],
         "mode": "lines",
         "opacity": 0.8,
         "showlegend": false,
         "type": "scattergeo"
        },
        {
         "hoverinfo": "none",
         "lat": [
          51.1638175,
          48.7411522
         ],
         "line": {
          "color": "red",
          "width": 1.5
         },
         "lon": [
          10.4478313,
          19.4528646
         ],
         "mode": "lines",
         "opacity": 0.8,
         "showlegend": false,
         "type": "scattergeo"
        },
        {
         "hoverinfo": "none",
         "lat": [
          51.1638175,
          46.1199444
         ],
         "line": {
          "color": "red",
          "width": 1.5
         },
         "lon": [
          10.4478313,
          14.8153333
         ],
         "mode": "lines",
         "opacity": 0.8,
         "showlegend": false,
         "type": "scattergeo"
        },
        {
         "hoverinfo": "none",
         "lat": [
          51.1638175,
          -28.8166236
         ],
         "line": {
          "color": "red",
          "width": 1.5
         },
         "lon": [
          10.4478313,
          24.991639
         ],
         "mode": "lines",
         "opacity": 0.8,
         "showlegend": false,
         "type": "scattergeo"
        },
        {
         "hoverinfo": "none",
         "lat": [
          51.1638175,
          39.3260685
         ],
         "line": {
          "color": "red",
          "width": 1.5
         },
         "lon": [
          10.4478313,
          -4.8379791
         ],
         "mode": "lines",
         "opacity": 0.8,
         "showlegend": false,
         "type": "scattergeo"
        },
        {
         "hoverinfo": "none",
         "lat": [
          51.1638175,
          14.5844444
         ],
         "line": {
          "color": "red",
          "width": 1.5
         },
         "lon": [
          10.4478313,
          29.4917691
         ],
         "mode": "lines",
         "opacity": 0.8,
         "showlegend": false,
         "type": "scattergeo"
        },
        {
         "hoverinfo": "none",
         "lat": [
          51.1638175,
          59.6749712
         ],
         "line": {
          "color": "red",
          "width": 1.5
         },
         "lon": [
          10.4478313,
          14.5208584
         ],
         "mode": "lines",
         "opacity": 0.8,
         "showlegend": false,
         "type": "scattergeo"
        },
        {
         "hoverinfo": "none",
         "lat": [
          51.1638175,
          38.6281733
         ],
         "line": {
          "color": "red",
          "width": 1.5
         },
         "lon": [
          10.4478313,
          70.8156541
         ],
         "mode": "lines",
         "opacity": 0.8,
         "showlegend": false,
         "type": "scattergeo"
        },
        {
         "hoverinfo": "none",
         "lat": [
          51.1638175,
          -6.5247123
         ],
         "line": {
          "color": "red",
          "width": 1.5
         },
         "lon": [
          10.4478313,
          35.7878438
         ],
         "mode": "lines",
         "opacity": 0.8,
         "showlegend": false,
         "type": "scattergeo"
        },
        {
         "hoverinfo": "none",
         "lat": [
          51.1638175,
          14.8971921
         ],
         "line": {
          "color": "red",
          "width": 1.5
         },
         "lon": [
          10.4478313,
          100.83273
         ],
         "mode": "lines",
         "opacity": 0.8,
         "showlegend": false,
         "type": "scattergeo"
        },
        {
         "hoverinfo": "none",
         "lat": [
          51.1638175,
          33.8439408
         ],
         "line": {
          "color": "red",
          "width": 1.5
         },
         "lon": [
          10.4478313,
          9.400138
         ],
         "mode": "lines",
         "opacity": 0.8,
         "showlegend": false,
         "type": "scattergeo"
        },
        {
         "hoverinfo": "none",
         "lat": [
          51.1638175,
          38.9597594
         ],
         "line": {
          "color": "red",
          "width": 1.5
         },
         "lon": [
          10.4478313,
          34.9249653
         ],
         "mode": "lines",
         "opacity": 0.8,
         "showlegend": false,
         "type": "scattergeo"
        },
        {
         "hoverinfo": "none",
         "lat": [
          51.1638175,
          39.3763807
         ],
         "line": {
          "color": "red",
          "width": 1.5
         },
         "lon": [
          10.4478313,
          59.3924609
         ],
         "mode": "lines",
         "opacity": 0.8,
         "showlegend": false,
         "type": "scattergeo"
        },
        {
         "hoverinfo": "none",
         "lat": [
          51.1638175,
          1.5333554
         ],
         "line": {
          "color": "red",
          "width": 1.5
         },
         "lon": [
          10.4478313,
          32.2166578
         ],
         "mode": "lines",
         "opacity": 0.8,
         "showlegend": false,
         "type": "scattergeo"
        },
        {
         "hoverinfo": "none",
         "lat": [
          51.1638175,
          49.4871968
         ],
         "line": {
          "color": "red",
          "width": 1.5
         },
         "lon": [
          10.4478313,
          31.2718321
         ],
         "mode": "lines",
         "opacity": 0.8,
         "showlegend": false,
         "type": "scattergeo"
        },
        {
         "hoverinfo": "none",
         "lat": [
          51.1638175,
          54.7023545
         ],
         "line": {
          "color": "red",
          "width": 1.5
         },
         "lon": [
          10.4478313,
          -3.2765753
         ],
         "mode": "lines",
         "opacity": 0.8,
         "showlegend": false,
         "type": "scattergeo"
        },
        {
         "hoverinfo": "none",
         "lat": [
          51.1638175,
          39.7837304
         ],
         "line": {
          "color": "red",
          "width": 1.5
         },
         "lon": [
          10.4478313,
          -100.445882
         ],
         "mode": "lines",
         "opacity": 0.8,
         "showlegend": false,
         "type": "scattergeo"
        },
        {
         "hoverinfo": "none",
         "lat": [
          51.1638175,
          41.32373
         ],
         "line": {
          "color": "red",
          "width": 1.5
         },
         "lon": [
          10.4478313,
          63.9528098
         ],
         "mode": "lines",
         "opacity": 0.8,
         "showlegend": false,
         "type": "scattergeo"
        },
        {
         "hoverinfo": "none",
         "lat": [
          51.1638175,
          15.9266657
         ],
         "line": {
          "color": "red",
          "width": 1.5
         },
         "lon": [
          10.4478313,
          107.9650855
         ],
         "mode": "lines",
         "opacity": 0.8,
         "showlegend": false,
         "type": "scattergeo"
        }
       ],
       "layout": {
        "geo": {
         "countrycolor": "rgb(204, 204, 204)",
         "domain": {
          "x": [
           0,
           1
          ],
          "y": [
           0,
           1
          ]
         },
         "landcolor": "rgb(243, 243, 243)",
         "projection": {
          "type": "equirectangular"
         },
         "showcountries": true,
         "showland": true
        },
        "template": {
         "data": {
          "bar": [
           {
            "error_x": {
             "color": "#2a3f5f"
            },
            "error_y": {
             "color": "#2a3f5f"
            },
            "marker": {
             "line": {
              "color": "#E5ECF6",
              "width": 0.5
             },
             "pattern": {
              "fillmode": "overlay",
              "size": 10,
              "solidity": 0.2
             }
            },
            "type": "bar"
           }
          ],
          "barpolar": [
           {
            "marker": {
             "line": {
              "color": "#E5ECF6",
              "width": 0.5
             },
             "pattern": {
              "fillmode": "overlay",
              "size": 10,
              "solidity": 0.2
             }
            },
            "type": "barpolar"
           }
          ],
          "carpet": [
           {
            "aaxis": {
             "endlinecolor": "#2a3f5f",
             "gridcolor": "white",
             "linecolor": "white",
             "minorgridcolor": "white",
             "startlinecolor": "#2a3f5f"
            },
            "baxis": {
             "endlinecolor": "#2a3f5f",
             "gridcolor": "white",
             "linecolor": "white",
             "minorgridcolor": "white",
             "startlinecolor": "#2a3f5f"
            },
            "type": "carpet"
           }
          ],
          "choropleth": [
           {
            "colorbar": {
             "outlinewidth": 0,
             "ticks": ""
            },
            "type": "choropleth"
           }
          ],
          "contour": [
           {
            "colorbar": {
             "outlinewidth": 0,
             "ticks": ""
            },
            "colorscale": [
             [
              0,
              "#0d0887"
             ],
             [
              0.1111111111111111,
              "#46039f"
             ],
             [
              0.2222222222222222,
              "#7201a8"
             ],
             [
              0.3333333333333333,
              "#9c179e"
             ],
             [
              0.4444444444444444,
              "#bd3786"
             ],
             [
              0.5555555555555556,
              "#d8576b"
             ],
             [
              0.6666666666666666,
              "#ed7953"
             ],
             [
              0.7777777777777778,
              "#fb9f3a"
             ],
             [
              0.8888888888888888,
              "#fdca26"
             ],
             [
              1,
              "#f0f921"
             ]
            ],
            "type": "contour"
           }
          ],
          "contourcarpet": [
           {
            "colorbar": {
             "outlinewidth": 0,
             "ticks": ""
            },
            "type": "contourcarpet"
           }
          ],
          "heatmap": [
           {
            "colorbar": {
             "outlinewidth": 0,
             "ticks": ""
            },
            "colorscale": [
             [
              0,
              "#0d0887"
             ],
             [
              0.1111111111111111,
              "#46039f"
             ],
             [
              0.2222222222222222,
              "#7201a8"
             ],
             [
              0.3333333333333333,
              "#9c179e"
             ],
             [
              0.4444444444444444,
              "#bd3786"
             ],
             [
              0.5555555555555556,
              "#d8576b"
             ],
             [
              0.6666666666666666,
              "#ed7953"
             ],
             [
              0.7777777777777778,
              "#fb9f3a"
             ],
             [
              0.8888888888888888,
              "#fdca26"
             ],
             [
              1,
              "#f0f921"
             ]
            ],
            "type": "heatmap"
           }
          ],
          "heatmapgl": [
           {
            "colorbar": {
             "outlinewidth": 0,
             "ticks": ""
            },
            "colorscale": [
             [
              0,
              "#0d0887"
             ],
             [
              0.1111111111111111,
              "#46039f"
             ],
             [
              0.2222222222222222,
              "#7201a8"
             ],
             [
              0.3333333333333333,
              "#9c179e"
             ],
             [
              0.4444444444444444,
              "#bd3786"
             ],
             [
              0.5555555555555556,
              "#d8576b"
             ],
             [
              0.6666666666666666,
              "#ed7953"
             ],
             [
              0.7777777777777778,
              "#fb9f3a"
             ],
             [
              0.8888888888888888,
              "#fdca26"
             ],
             [
              1,
              "#f0f921"
             ]
            ],
            "type": "heatmapgl"
           }
          ],
          "histogram": [
           {
            "marker": {
             "pattern": {
              "fillmode": "overlay",
              "size": 10,
              "solidity": 0.2
             }
            },
            "type": "histogram"
           }
          ],
          "histogram2d": [
           {
            "colorbar": {
             "outlinewidth": 0,
             "ticks": ""
            },
            "colorscale": [
             [
              0,
              "#0d0887"
             ],
             [
              0.1111111111111111,
              "#46039f"
             ],
             [
              0.2222222222222222,
              "#7201a8"
             ],
             [
              0.3333333333333333,
              "#9c179e"
             ],
             [
              0.4444444444444444,
              "#bd3786"
             ],
             [
              0.5555555555555556,
              "#d8576b"
             ],
             [
              0.6666666666666666,
              "#ed7953"
             ],
             [
              0.7777777777777778,
              "#fb9f3a"
             ],
             [
              0.8888888888888888,
              "#fdca26"
             ],
             [
              1,
              "#f0f921"
             ]
            ],
            "type": "histogram2d"
           }
          ],
          "histogram2dcontour": [
           {
            "colorbar": {
             "outlinewidth": 0,
             "ticks": ""
            },
            "colorscale": [
             [
              0,
              "#0d0887"
             ],
             [
              0.1111111111111111,
              "#46039f"
             ],
             [
              0.2222222222222222,
              "#7201a8"
             ],
             [
              0.3333333333333333,
              "#9c179e"
             ],
             [
              0.4444444444444444,
              "#bd3786"
             ],
             [
              0.5555555555555556,
              "#d8576b"
             ],
             [
              0.6666666666666666,
              "#ed7953"
             ],
             [
              0.7777777777777778,
              "#fb9f3a"
             ],
             [
              0.8888888888888888,
              "#fdca26"
             ],
             [
              1,
              "#f0f921"
             ]
            ],
            "type": "histogram2dcontour"
           }
          ],
          "mesh3d": [
           {
            "colorbar": {
             "outlinewidth": 0,
             "ticks": ""
            },
            "type": "mesh3d"
           }
          ],
          "parcoords": [
           {
            "line": {
             "colorbar": {
              "outlinewidth": 0,
              "ticks": ""
             }
            },
            "type": "parcoords"
           }
          ],
          "pie": [
           {
            "automargin": true,
            "type": "pie"
           }
          ],
          "scatter": [
           {
            "fillpattern": {
             "fillmode": "overlay",
             "size": 10,
             "solidity": 0.2
            },
            "type": "scatter"
           }
          ],
          "scatter3d": [
           {
            "line": {
             "colorbar": {
              "outlinewidth": 0,
              "ticks": ""
             }
            },
            "marker": {
             "colorbar": {
              "outlinewidth": 0,
              "ticks": ""
             }
            },
            "type": "scatter3d"
           }
          ],
          "scattercarpet": [
           {
            "marker": {
             "colorbar": {
              "outlinewidth": 0,
              "ticks": ""
             }
            },
            "type": "scattercarpet"
           }
          ],
          "scattergeo": [
           {
            "marker": {
             "colorbar": {
              "outlinewidth": 0,
              "ticks": ""
             }
            },
            "type": "scattergeo"
           }
          ],
          "scattergl": [
           {
            "marker": {
             "colorbar": {
              "outlinewidth": 0,
              "ticks": ""
             }
            },
            "type": "scattergl"
           }
          ],
          "scattermapbox": [
           {
            "marker": {
             "colorbar": {
              "outlinewidth": 0,
              "ticks": ""
             }
            },
            "type": "scattermapbox"
           }
          ],
          "scatterpolar": [
           {
            "marker": {
             "colorbar": {
              "outlinewidth": 0,
              "ticks": ""
             }
            },
            "type": "scatterpolar"
           }
          ],
          "scatterpolargl": [
           {
            "marker": {
             "colorbar": {
              "outlinewidth": 0,
              "ticks": ""
             }
            },
            "type": "scatterpolargl"
           }
          ],
          "scatterternary": [
           {
            "marker": {
             "colorbar": {
              "outlinewidth": 0,
              "ticks": ""
             }
            },
            "type": "scatterternary"
           }
          ],
          "surface": [
           {
            "colorbar": {
             "outlinewidth": 0,
             "ticks": ""
            },
            "colorscale": [
             [
              0,
              "#0d0887"
             ],
             [
              0.1111111111111111,
              "#46039f"
             ],
             [
              0.2222222222222222,
              "#7201a8"
             ],
             [
              0.3333333333333333,
              "#9c179e"
             ],
             [
              0.4444444444444444,
              "#bd3786"
             ],
             [
              0.5555555555555556,
              "#d8576b"
             ],
             [
              0.6666666666666666,
              "#ed7953"
             ],
             [
              0.7777777777777778,
              "#fb9f3a"
             ],
             [
              0.8888888888888888,
              "#fdca26"
             ],
             [
              1,
              "#f0f921"
             ]
            ],
            "type": "surface"
           }
          ],
          "table": [
           {
            "cells": {
             "fill": {
              "color": "#EBF0F8"
             },
             "line": {
              "color": "white"
             }
            },
            "header": {
             "fill": {
              "color": "#C8D4E3"
             },
             "line": {
              "color": "white"
             }
            },
            "type": "table"
           }
          ]
         },
         "layout": {
          "annotationdefaults": {
           "arrowcolor": "#2a3f5f",
           "arrowhead": 0,
           "arrowwidth": 1
          },
          "autotypenumbers": "strict",
          "coloraxis": {
           "colorbar": {
            "outlinewidth": 0,
            "ticks": ""
           }
          },
          "colorscale": {
           "diverging": [
            [
             0,
             "#8e0152"
            ],
            [
             0.1,
             "#c51b7d"
            ],
            [
             0.2,
             "#de77ae"
            ],
            [
             0.3,
             "#f1b6da"
            ],
            [
             0.4,
             "#fde0ef"
            ],
            [
             0.5,
             "#f7f7f7"
            ],
            [
             0.6,
             "#e6f5d0"
            ],
            [
             0.7,
             "#b8e186"
            ],
            [
             0.8,
             "#7fbc41"
            ],
            [
             0.9,
             "#4d9221"
            ],
            [
             1,
             "#276419"
            ]
           ],
           "sequential": [
            [
             0,
             "#0d0887"
            ],
            [
             0.1111111111111111,
             "#46039f"
            ],
            [
             0.2222222222222222,
             "#7201a8"
            ],
            [
             0.3333333333333333,
             "#9c179e"
            ],
            [
             0.4444444444444444,
             "#bd3786"
            ],
            [
             0.5555555555555556,
             "#d8576b"
            ],
            [
             0.6666666666666666,
             "#ed7953"
            ],
            [
             0.7777777777777778,
             "#fb9f3a"
            ],
            [
             0.8888888888888888,
             "#fdca26"
            ],
            [
             1,
             "#f0f921"
            ]
           ],
           "sequentialminus": [
            [
             0,
             "#0d0887"
            ],
            [
             0.1111111111111111,
             "#46039f"
            ],
            [
             0.2222222222222222,
             "#7201a8"
            ],
            [
             0.3333333333333333,
             "#9c179e"
            ],
            [
             0.4444444444444444,
             "#bd3786"
            ],
            [
             0.5555555555555556,
             "#d8576b"
            ],
            [
             0.6666666666666666,
             "#ed7953"
            ],
            [
             0.7777777777777778,
             "#fb9f3a"
            ],
            [
             0.8888888888888888,
             "#fdca26"
            ],
            [
             1,
             "#f0f921"
            ]
           ]
          },
          "colorway": [
           "#636efa",
           "#EF553B",
           "#00cc96",
           "#ab63fa",
           "#FFA15A",
           "#19d3f3",
           "#FF6692",
           "#B6E880",
           "#FF97FF",
           "#FECB52"
          ],
          "font": {
           "color": "#2a3f5f"
          },
          "geo": {
           "bgcolor": "white",
           "lakecolor": "white",
           "landcolor": "#E5ECF6",
           "showlakes": true,
           "showland": true,
           "subunitcolor": "white"
          },
          "hoverlabel": {
           "align": "left"
          },
          "hovermode": "closest",
          "mapbox": {
           "style": "light"
          },
          "paper_bgcolor": "white",
          "plot_bgcolor": "#E5ECF6",
          "polar": {
           "angularaxis": {
            "gridcolor": "white",
            "linecolor": "white",
            "ticks": ""
           },
           "bgcolor": "#E5ECF6",
           "radialaxis": {
            "gridcolor": "white",
            "linecolor": "white",
            "ticks": ""
           }
          },
          "scene": {
           "xaxis": {
            "backgroundcolor": "#E5ECF6",
            "gridcolor": "white",
            "gridwidth": 2,
            "linecolor": "white",
            "showbackground": true,
            "ticks": "",
            "zerolinecolor": "white"
           },
           "yaxis": {
            "backgroundcolor": "#E5ECF6",
            "gridcolor": "white",
            "gridwidth": 2,
            "linecolor": "white",
            "showbackground": true,
            "ticks": "",
            "zerolinecolor": "white"
           },
           "zaxis": {
            "backgroundcolor": "#E5ECF6",
            "gridcolor": "white",
            "gridwidth": 2,
            "linecolor": "white",
            "showbackground": true,
            "ticks": "",
            "zerolinecolor": "white"
           }
          },
          "shapedefaults": {
           "line": {
            "color": "#2a3f5f"
           }
          },
          "ternary": {
           "aaxis": {
            "gridcolor": "white",
            "linecolor": "white",
            "ticks": ""
           },
           "baxis": {
            "gridcolor": "white",
            "linecolor": "white",
            "ticks": ""
           },
           "bgcolor": "#E5ECF6",
           "caxis": {
            "gridcolor": "white",
            "linecolor": "white",
            "ticks": ""
           }
          },
          "title": {
           "x": 0.05
          },
          "xaxis": {
           "automargin": true,
           "gridcolor": "white",
           "linecolor": "white",
           "ticks": "",
           "title": {
            "standoff": 15
           },
           "zerolinecolor": "white",
           "zerolinewidth": 2
          },
          "yaxis": {
           "automargin": true,
           "gridcolor": "white",
           "linecolor": "white",
           "ticks": "",
           "title": {
            "standoff": 15
           },
           "zerolinecolor": "white",
           "zerolinewidth": 2
          }
         }
        },
        "title": {
         "text": "Movement of Erasmus Students from Germany"
        }
       }
      },
      "text/html": [
       "<div>                            <div id=\"5a165552-c432-4a56-80d2-dae5fab10827\" class=\"plotly-graph-div\" style=\"height:525px; width:100%;\"></div>            <script type=\"text/javascript\">                require([\"plotly\"], function(Plotly) {                    window.PLOTLYENV=window.PLOTLYENV || {};                                    if (document.getElementById(\"5a165552-c432-4a56-80d2-dae5fab10827\")) {                    Plotly.newPlot(                        \"5a165552-c432-4a56-80d2-dae5fab10827\",                        [{\"autocolorscale\":false,\"colorbar\":{\"tickprefix\":\"\",\"title\":{\"text\":\"Number of Students\"}},\"colorscale\":[[0.0,\"#440154\"],[0.1111111111111111,\"#482878\"],[0.2222222222222222,\"#3e4989\"],[0.3333333333333333,\"#31688e\"],[0.4444444444444444,\"#26828e\"],[0.5555555555555556,\"#1f9e89\"],[0.6666666666666666,\"#35b779\"],[0.7777777777777778,\"#6ece58\"],[0.8888888888888888,\"#b5de2b\"],[1.0,\"#fde725\"]],\"hovertemplate\":\"%{text}<br>Number of Students: %{z}\",\"locationmode\":\"country names\",\"locations\":[\"Albania\",\"Algeria\",\"Angola\",\"Argentina\",\"Armenia\",\"Australia\",\"Austria\",\"Azerbaijan\",\"Belarus\",\"Belgium\",\"Benin\",\"Bhutan\",\"Bolivia, Plurinational State of\",\"Bosnia and Herzegovina\",\"Brazil\",\"Bulgaria\",\"Cambodia\",\"Cameroon\",\"Canada\",\"Chad\",\"Chile\",\"China\",\"Colombia\",\"Costa Rica\",\"Croatia\",\"Cuba\",\"Cyprus\",\"Czechia\",\"C\\u00f4te d'Ivoire\",\"Denmark\",\"Ecuador\",\"Egypt\",\"Estonia\",\"Ethiopia\",\"Fiji\",\"Finland\",\"France\",\"Gabon\",\"Georgia\",\"Germany\",\"Ghana\",\"Greece\",\"Guatemala\",\"Hong Kong\",\"Hungary\",\"Iceland\",\"India\",\"Indonesia\",\"Iran, Islamic Republic of\",\"Iraq\",\"Ireland\",\"Israel\",\"Italy\",\"Japan\",\"Jordan\",\"Kazakhstan\",\"Kenya\",\"Korea, Democratic People's Republic of\",\"Korea, Republic of\",\"Kosovo\",\"Kyrgyzstan\",\"Lao People's Democratic Republic\",\"Latvia\",\"Lebanon\",\"Liechtenstein\",\"Lithuania\",\"Luxembourg\",\"Madagascar\",\"Malaysia\",\"Mali\",\"Malta\",\"Mexico\",\"Moldova, Republic of\",\"Montenegro\",\"Morocco\",\"Mozambique\",\"Myanmar\",\"Nepal\",\"Netherlands\",\"New Zealand\",\"Nicaragua\",\"Niger\",\"Nigeria\",\"North Macedonia\",\"Norway\",\"Pakistan\",\"Palestine, State of\",\"Paraguay\",\"Peru\",\"Philippines\",\"Poland\",\"Portugal\",\"Romania\",\"Russian Federation\",\"Rwanda\",\"Senegal\",\"Serbia\",\"Slovakia\",\"Slovenia\",\"South Africa\",\"Spain\",\"Sudan\",\"Sweden\",\"Tajikistan\",\"Tanzania, United Republic of\",\"Thailand\",\"Tunisia\",\"Turkey\",\"Turkmenistan\",\"Uganda\",\"Ukraine\",\"United Kingdom\",\"United States\",\"Uzbekistan\",\"Viet Nam\"],\"marker\":{\"line\":{\"color\":\"darkgray\",\"width\":0.5}},\"reversescale\":false,\"text\":[\"Albania\",\"Algeria\",\"Angola\",\"Argentina\",\"Armenia\",\"Australia\",\"Austria\",\"Azerbaijan\",\"Belarus\",\"Belgium\",\"Benin\",\"Bhutan\",\"Bolivia, Plurinational State of\",\"Bosnia and Herzegovina\",\"Brazil\",\"Bulgaria\",\"Cambodia\",\"Cameroon\",\"Canada\",\"Chad\",\"Chile\",\"China\",\"Colombia\",\"Costa Rica\",\"Croatia\",\"Cuba\",\"Cyprus\",\"Czechia\",\"C\\u00f4te d'Ivoire\",\"Denmark\",\"Ecuador\",\"Egypt\",\"Estonia\",\"Ethiopia\",\"Fiji\",\"Finland\",\"France\",\"Gabon\",\"Georgia\",\"Germany\",\"Ghana\",\"Greece\",\"Guatemala\",\"Hong Kong\",\"Hungary\",\"Iceland\",\"India\",\"Indonesia\",\"Iran, Islamic Republic of\",\"Iraq\",\"Ireland\",\"Israel\",\"Italy\",\"Japan\",\"Jordan\",\"Kazakhstan\",\"Kenya\",\"Korea, Democratic People's Republic of\",\"Korea, Republic of\",\"Kosovo\",\"Kyrgyzstan\",\"Lao People's Democratic Republic\",\"Latvia\",\"Lebanon\",\"Liechtenstein\",\"Lithuania\",\"Luxembourg\",\"Madagascar\",\"Malaysia\",\"Mali\",\"Malta\",\"Mexico\",\"Moldova, Republic of\",\"Montenegro\",\"Morocco\",\"Mozambique\",\"Myanmar\",\"Nepal\",\"Netherlands\",\"New Zealand\",\"Nicaragua\",\"Niger\",\"Nigeria\",\"North Macedonia\",\"Norway\",\"Pakistan\",\"Palestine, State of\",\"Paraguay\",\"Peru\",\"Philippines\",\"Poland\",\"Portugal\",\"Romania\",\"Russian Federation\",\"Rwanda\",\"Senegal\",\"Serbia\",\"Slovakia\",\"Slovenia\",\"South Africa\",\"Spain\",\"Sudan\",\"Sweden\",\"Tajikistan\",\"Tanzania, United Republic of\",\"Thailand\",\"Tunisia\",\"Turkey\",\"Turkmenistan\",\"Uganda\",\"Ukraine\",\"United Kingdom\",\"United States\",\"Uzbekistan\",\"Viet Nam\"],\"z\":[162,22,3,17,441,103,18092,93,292,7781,5,2,11,557,20,1418,14,18,96,5,40,91,25,5,2257,9,1332,8088,4,8960,6,202,3935,49,2,18600,43116,10,732,51503,22,5673,1,8,7854,2496,55,45,19,11,19936,861,26810,112,198,32,21,3,55,135,48,5,3057,98,168,2675,1338,2,21,9,7616,27,113,134,207,2,25,8,15101,12,2,2,6,427,12505,4,203,8,2,5,14439,9675,3825,971,2,2,833,1668,2339,74,58907,3,19634,2,13,73,98,11952,4,3,684,68910,147,46,100],\"type\":\"choropleth\"},{\"hoverinfo\":\"none\",\"lat\":[51.1638175,41.000028],\"line\":{\"color\":\"red\",\"width\":1.5},\"lon\":[10.4478313,19.9999619],\"mode\":\"lines\",\"opacity\":0.8,\"showlegend\":false,\"type\":\"scattergeo\"},{\"hoverinfo\":\"none\",\"lat\":[51.1638175,28.0000272],\"line\":{\"color\":\"red\",\"width\":1.5},\"lon\":[10.4478313,2.9999825],\"mode\":\"lines\",\"opacity\":0.8,\"showlegend\":false,\"type\":\"scattergeo\"},{\"hoverinfo\":\"none\",\"lat\":[51.1638175,-11.8775768],\"line\":{\"color\":\"red\",\"width\":1.5},\"lon\":[10.4478313,17.5691241],\"mode\":\"lines\",\"opacity\":0.8,\"showlegend\":false,\"type\":\"scattergeo\"},{\"hoverinfo\":\"none\",\"lat\":[51.1638175,-34.9964963],\"line\":{\"color\":\"red\",\"width\":1.5},\"lon\":[10.4478313,-64.9672817],\"mode\":\"lines\",\"opacity\":0.8,\"showlegend\":false,\"type\":\"scattergeo\"},{\"hoverinfo\":\"none\",\"lat\":[51.1638175,40.7696272],\"line\":{\"color\":\"red\",\"width\":1.5},\"lon\":[10.4478313,44.6736646],\"mode\":\"lines\",\"opacity\":0.8,\"showlegend\":false,\"type\":\"scattergeo\"},{\"hoverinfo\":\"none\",\"lat\":[51.1638175,-24.7761086],\"line\":{\"color\":\"red\",\"width\":1.5},\"lon\":[10.4478313,134.755],\"mode\":\"lines\",\"opacity\":0.8,\"showlegend\":false,\"type\":\"scattergeo\"},{\"hoverinfo\":\"none\",\"lat\":[51.1638175,47.59397],\"line\":{\"color\":\"red\",\"width\":1.5},\"lon\":[10.4478313,14.12456],\"mode\":\"lines\",\"opacity\":0.8,\"showlegend\":false,\"type\":\"scattergeo\"},{\"hoverinfo\":\"none\",\"lat\":[51.1638175,40.3936294],\"line\":{\"color\":\"red\",\"width\":1.5},\"lon\":[10.4478313,47.7872508],\"mode\":\"lines\",\"opacity\":0.8,\"showlegend\":false,\"type\":\"scattergeo\"},{\"hoverinfo\":\"none\",\"lat\":[51.1638175,53.4250605],\"line\":{\"color\":\"red\",\"width\":1.5},\"lon\":[10.4478313,27.6971358],\"mode\":\"lines\",\"opacity\":0.8,\"showlegend\":false,\"type\":\"scattergeo\"},{\"hoverinfo\":\"none\",\"lat\":[51.1638175,50.6402809],\"line\":{\"color\":\"red\",\"width\":1.5},\"lon\":[10.4478313,4.6667145],\"mode\":\"lines\",\"opacity\":0.8,\"showlegend\":false,\"type\":\"scattergeo\"},{\"hoverinfo\":\"none\",\"lat\":[51.1638175,9.5293472],\"line\":{\"color\":\"red\",\"width\":1.5},\"lon\":[10.4478313,2.2584408],\"mode\":\"lines\",\"opacity\":0.8,\"showlegend\":false,\"type\":\"scattergeo\"},{\"hoverinfo\":\"none\",\"lat\":[51.1638175,27.549511],\"line\":{\"color\":\"red\",\"width\":1.5},\"lon\":[10.4478313,90.5119273],\"mode\":\"lines\",\"opacity\":0.8,\"showlegend\":false,\"type\":\"scattergeo\"},{\"hoverinfo\":\"none\",\"lat\":[51.1638175,-17.0568696],\"line\":{\"color\":\"red\",\"width\":1.5},\"lon\":[10.4478313,-64.9912286],\"mode\":\"lines\",\"opacity\":0.8,\"showlegend\":false,\"type\":\"scattergeo\"},{\"hoverinfo\":\"none\",\"lat\":[51.1638175,44.3053476],\"line\":{\"color\":\"red\",\"width\":1.5},\"lon\":[10.4478313,17.5961467],\"mode\":\"lines\",\"opacity\":0.8,\"showlegend\":false,\"type\":\"scattergeo\"},{\"hoverinfo\":\"none\",\"lat\":[51.1638175,-10.3333333],\"line\":{\"color\":\"red\",\"width\":1.5},\"lon\":[10.4478313,-53.2],\"mode\":\"lines\",\"opacity\":0.8,\"showlegend\":false,\"type\":\"scattergeo\"},{\"hoverinfo\":\"none\",\"lat\":[51.1638175,42.6073975],\"line\":{\"color\":\"red\",\"width\":1.5},\"lon\":[10.4478313,25.4856617],\"mode\":\"lines\",\"opacity\":0.8,\"showlegend\":false,\"type\":\"scattergeo\"},{\"hoverinfo\":\"none\",\"lat\":[51.1638175,12.5433216],\"line\":{\"color\":\"red\",\"width\":1.5},\"lon\":[10.4478313,104.8144914],\"mode\":\"lines\",\"opacity\":0.8,\"showlegend\":false,\"type\":\"scattergeo\"},{\"hoverinfo\":\"none\",\"lat\":[51.1638175,4.6125522],\"line\":{\"color\":\"red\",\"width\":1.5},\"lon\":[10.4478313,13.1535811],\"mode\":\"lines\",\"opacity\":0.8,\"showlegend\":false,\"type\":\"scattergeo\"},{\"hoverinfo\":\"none\",\"lat\":[51.1638175,61.0666922],\"line\":{\"color\":\"red\",\"width\":1.5},\"lon\":[10.4478313,-107.991707],\"mode\":\"lines\",\"opacity\":0.8,\"showlegend\":false,\"type\":\"scattergeo\"},{\"hoverinfo\":\"none\",\"lat\":[51.1638175,15.6134137],\"line\":{\"color\":\"red\",\"width\":1.5},\"lon\":[10.4478313,19.0156172],\"mode\":\"lines\",\"opacity\":0.8,\"showlegend\":false,\"type\":\"scattergeo\"},{\"hoverinfo\":\"none\",\"lat\":[51.1638175,-31.7613365],\"line\":{\"color\":\"red\",\"width\":1.5},\"lon\":[10.4478313,-71.3187697],\"mode\":\"lines\",\"opacity\":0.8,\"showlegend\":false,\"type\":\"scattergeo\"},{\"hoverinfo\":\"none\",\"lat\":[51.1638175,35.000074],\"line\":{\"color\":\"red\",\"width\":1.5},\"lon\":[10.4478313,104.999927],\"mode\":\"lines\",\"opacity\":0.8,\"showlegend\":false,\"type\":\"scattergeo\"},{\"hoverinfo\":\"none\",\"lat\":[51.1638175,4.099917],\"line\":{\"color\":\"red\",\"width\":1.5},\"lon\":[10.4478313,-72.9088133],\"mode\":\"lines\",\"opacity\":0.8,\"showlegend\":false,\"type\":\"scattergeo\"},{\"hoverinfo\":\"none\",\"lat\":[51.1638175,10.2735633],\"line\":{\"color\":\"red\",\"width\":1.5},\"lon\":[10.4478313,-84.0739102],\"mode\":\"lines\",\"opacity\":0.8,\"showlegend\":false,\"type\":\"scattergeo\"},{\"hoverinfo\":\"none\",\"lat\":[51.1638175,45.3658443],\"line\":{\"color\":\"red\",\"width\":1.5},\"lon\":[10.4478313,15.6575209],\"mode\":\"lines\",\"opacity\":0.8,\"showlegend\":false,\"type\":\"scattergeo\"},{\"hoverinfo\":\"none\",\"lat\":[51.1638175,23.0131338],\"line\":{\"color\":\"red\",\"width\":1.5},\"lon\":[10.4478313,-80.8328748],\"mode\":\"lines\",\"opacity\":0.8,\"showlegend\":false,\"type\":\"scattergeo\"},{\"hoverinfo\":\"none\",\"lat\":[51.1638175,34.9823018],\"line\":{\"color\":\"red\",\"width\":1.5},\"lon\":[10.4478313,33.1451285],\"mode\":\"lines\",\"opacity\":0.8,\"showlegend\":false,\"type\":\"scattergeo\"},{\"hoverinfo\":\"none\",\"lat\":[51.1638175,49.7439047],\"line\":{\"color\":\"red\",\"width\":1.5},\"lon\":[10.4478313,15.3381061],\"mode\":\"lines\",\"opacity\":0.8,\"showlegend\":false,\"type\":\"scattergeo\"},{\"hoverinfo\":\"none\",\"lat\":[51.1638175,7.9897371],\"line\":{\"color\":\"red\",\"width\":1.5},\"lon\":[10.4478313,-5.5679458],\"mode\":\"lines\",\"opacity\":0.8,\"showlegend\":false,\"type\":\"scattergeo\"},{\"hoverinfo\":\"none\",\"lat\":[51.1638175,55.670249],\"line\":{\"color\":\"red\",\"width\":1.5},\"lon\":[10.4478313,10.3333283],\"mode\":\"lines\",\"opacity\":0.8,\"showlegend\":false,\"type\":\"scattergeo\"},{\"hoverinfo\":\"none\",\"lat\":[51.1638175,-1.3397668],\"line\":{\"color\":\"red\",\"width\":1.5},\"lon\":[10.4478313,-79.3666965],\"mode\":\"lines\",\"opacity\":0.8,\"showlegend\":false,\"type\":\"scattergeo\"},{\"hoverinfo\":\"none\",\"lat\":[51.1638175,26.2540493],\"line\":{\"color\":\"red\",\"width\":1.5},\"lon\":[10.4478313,29.2675469],\"mode\":\"lines\",\"opacity\":0.8,\"showlegend\":false,\"type\":\"scattergeo\"},{\"hoverinfo\":\"none\",\"lat\":[51.1638175,58.7523778],\"line\":{\"color\":\"red\",\"width\":1.5},\"lon\":[10.4478313,25.3319078],\"mode\":\"lines\",\"opacity\":0.8,\"showlegend\":false,\"type\":\"scattergeo\"},{\"hoverinfo\":\"none\",\"lat\":[51.1638175,10.2116702],\"line\":{\"color\":\"red\",\"width\":1.5},\"lon\":[10.4478313,38.6521203],\"mode\":\"lines\",\"opacity\":0.8,\"showlegend\":false,\"type\":\"scattergeo\"},{\"hoverinfo\":\"none\",\"lat\":[51.1638175,-18.1239696],\"line\":{\"color\":\"red\",\"width\":1.5},\"lon\":[10.4478313,179.0122737],\"mode\":\"lines\",\"opacity\":0.8,\"showlegend\":false,\"type\":\"scattergeo\"},{\"hoverinfo\":\"none\",\"lat\":[51.1638175,63.2467777],\"line\":{\"color\":\"red\",\"width\":1.5},\"lon\":[10.4478313,25.9209164],\"mode\":\"lines\",\"opacity\":0.8,\"showlegend\":false,\"type\":\"scattergeo\"},{\"hoverinfo\":\"none\",\"lat\":[51.1638175,46.603354],\"line\":{\"color\":\"red\",\"width\":1.5},\"lon\":[10.4478313,1.8883335],\"mode\":\"lines\",\"opacity\":0.8,\"showlegend\":false,\"type\":\"scattergeo\"},{\"hoverinfo\":\"none\",\"lat\":[51.1638175,-0.8999695],\"line\":{\"color\":\"red\",\"width\":1.5},\"lon\":[10.4478313,11.6899699],\"mode\":\"lines\",\"opacity\":0.8,\"showlegend\":false,\"type\":\"scattergeo\"},{\"hoverinfo\":\"none\",\"lat\":[51.1638175,42.3154],\"line\":{\"color\":\"red\",\"width\":1.5},\"lon\":[10.4478313,43.3569],\"mode\":\"lines\",\"opacity\":0.8,\"showlegend\":false,\"type\":\"scattergeo\"},{\"hoverinfo\":\"none\",\"lat\":[51.1638175,51.1638175],\"line\":{\"color\":\"red\",\"width\":1.5},\"lon\":[10.4478313,10.4478313],\"mode\":\"lines\",\"opacity\":0.8,\"showlegend\":false,\"type\":\"scattergeo\"},{\"hoverinfo\":\"none\",\"lat\":[51.1638175,8.0300284],\"line\":{\"color\":\"red\",\"width\":1.5},\"lon\":[10.4478313,-1.0800271],\"mode\":\"lines\",\"opacity\":0.8,\"showlegend\":false,\"type\":\"scattergeo\"},{\"hoverinfo\":\"none\",\"lat\":[51.1638175,38.9953683],\"line\":{\"color\":\"red\",\"width\":1.5},\"lon\":[10.4478313,21.9877132],\"mode\":\"lines\",\"opacity\":0.8,\"showlegend\":false,\"type\":\"scattergeo\"},{\"hoverinfo\":\"none\",\"lat\":[51.1638175,15.5855545],\"line\":{\"color\":\"red\",\"width\":1.5},\"lon\":[10.4478313,-90.345759],\"mode\":\"lines\",\"opacity\":0.8,\"showlegend\":false,\"type\":\"scattergeo\"},{\"hoverinfo\":\"none\",\"lat\":[51.1638175,22.2793278],\"line\":{\"color\":\"red\",\"width\":1.5},\"lon\":[10.4478313,114.1628131],\"mode\":\"lines\",\"opacity\":0.8,\"showlegend\":false,\"type\":\"scattergeo\"},{\"hoverinfo\":\"none\",\"lat\":[51.1638175,47.1817585],\"line\":{\"color\":\"red\",\"width\":1.5},\"lon\":[10.4478313,19.5060937],\"mode\":\"lines\",\"opacity\":0.8,\"showlegend\":false,\"type\":\"scattergeo\"},{\"hoverinfo\":\"none\",\"lat\":[51.1638175,64.9841821],\"line\":{\"color\":\"red\",\"width\":1.5},\"lon\":[10.4478313,-18.1059013],\"mode\":\"lines\",\"opacity\":0.8,\"showlegend\":false,\"type\":\"scattergeo\"},{\"hoverinfo\":\"none\",\"lat\":[51.1638175,22.3511148],\"line\":{\"color\":\"red\",\"width\":1.5},\"lon\":[10.4478313,78.6677428],\"mode\":\"lines\",\"opacity\":0.8,\"showlegend\":false,\"type\":\"scattergeo\"},{\"hoverinfo\":\"none\",\"lat\":[51.1638175,-2.4833826],\"line\":{\"color\":\"red\",\"width\":1.5},\"lon\":[10.4478313,117.8902853],\"mode\":\"lines\",\"opacity\":0.8,\"showlegend\":false,\"type\":\"scattergeo\"},{\"hoverinfo\":\"none\",\"lat\":[51.1638175,32.6475314],\"line\":{\"color\":\"red\",\"width\":1.5},\"lon\":[10.4478313,54.5643516],\"mode\":\"lines\",\"opacity\":0.8,\"showlegend\":false,\"type\":\"scattergeo\"},{\"hoverinfo\":\"none\",\"lat\":[51.1638175,33.0955793],\"line\":{\"color\":\"red\",\"width\":1.5},\"lon\":[10.4478313,44.1749775],\"mode\":\"lines\",\"opacity\":0.8,\"showlegend\":false,\"type\":\"scattergeo\"},{\"hoverinfo\":\"none\",\"lat\":[51.1638175,52.865196],\"line\":{\"color\":\"red\",\"width\":1.5},\"lon\":[10.4478313,-7.9794599],\"mode\":\"lines\",\"opacity\":0.8,\"showlegend\":false,\"type\":\"scattergeo\"},{\"hoverinfo\":\"none\",\"lat\":[51.1638175,30.8124247],\"line\":{\"color\":\"red\",\"width\":1.5},\"lon\":[10.4478313,34.8594762],\"mode\":\"lines\",\"opacity\":0.8,\"showlegend\":false,\"type\":\"scattergeo\"},{\"hoverinfo\":\"none\",\"lat\":[51.1638175,42.6384261],\"line\":{\"color\":\"red\",\"width\":1.5},\"lon\":[10.4478313,12.674297],\"mode\":\"lines\",\"opacity\":0.8,\"showlegend\":false,\"type\":\"scattergeo\"},{\"hoverinfo\":\"none\",\"lat\":[51.1638175,36.5748441],\"line\":{\"color\":\"red\",\"width\":1.5},\"lon\":[10.4478313,139.2394179],\"mode\":\"lines\",\"opacity\":0.8,\"showlegend\":false,\"type\":\"scattergeo\"},{\"hoverinfo\":\"none\",\"lat\":[51.1638175,31.1667049],\"line\":{\"color\":\"red\",\"width\":1.5},\"lon\":[10.4478313,36.941628],\"mode\":\"lines\",\"opacity\":0.8,\"showlegend\":false,\"type\":\"scattergeo\"},{\"hoverinfo\":\"none\",\"lat\":[51.1638175,48.1012954],\"line\":{\"color\":\"red\",\"width\":1.5},\"lon\":[10.4478313,66.7780818],\"mode\":\"lines\",\"opacity\":0.8,\"showlegend\":false,\"type\":\"scattergeo\"},{\"hoverinfo\":\"none\",\"lat\":[51.1638175,1.4419683],\"line\":{\"color\":\"red\",\"width\":1.5},\"lon\":[10.4478313,38.4313975],\"mode\":\"lines\",\"opacity\":0.8,\"showlegend\":false,\"type\":\"scattergeo\"},{\"hoverinfo\":\"none\",\"lat\":[51.1638175,38.233686649999996],\"line\":{\"color\":\"red\",\"width\":1.5},\"lon\":[10.4478313,127.00873073371443],\"mode\":\"lines\",\"opacity\":0.8,\"showlegend\":false,\"type\":\"scattergeo\"},{\"hoverinfo\":\"none\",\"lat\":[51.1638175,55.8215537],\"line\":{\"color\":\"red\",\"width\":1.5},\"lon\":[10.4478313,49.132971],\"mode\":\"lines\",\"opacity\":0.8,\"showlegend\":false,\"type\":\"scattergeo\"},{\"hoverinfo\":\"none\",\"lat\":[51.1638175,42.5869578],\"line\":{\"color\":\"red\",\"width\":1.5},\"lon\":[10.4478313,20.9021231],\"mode\":\"lines\",\"opacity\":0.8,\"showlegend\":false,\"type\":\"scattergeo\"},{\"hoverinfo\":\"none\",\"lat\":[51.1638175,41.5089324],\"line\":{\"color\":\"red\",\"width\":1.5},\"lon\":[10.4478313,74.724091],\"mode\":\"lines\",\"opacity\":0.8,\"showlegend\":false,\"type\":\"scattergeo\"},{\"hoverinfo\":\"none\",\"lat\":[51.1638175,20.0171109],\"line\":{\"color\":\"red\",\"width\":1.5},\"lon\":[10.4478313,103.378253],\"mode\":\"lines\",\"opacity\":0.8,\"showlegend\":false,\"type\":\"scattergeo\"},{\"hoverinfo\":\"none\",\"lat\":[51.1638175,56.8406494],\"line\":{\"color\":\"red\",\"width\":1.5},\"lon\":[10.4478313,24.7537645],\"mode\":\"lines\",\"opacity\":0.8,\"showlegend\":false,\"type\":\"scattergeo\"},{\"hoverinfo\":\"none\",\"lat\":[51.1638175,33.8750629],\"line\":{\"color\":\"red\",\"width\":1.5},\"lon\":[10.4478313,35.843409],\"mode\":\"lines\",\"opacity\":0.8,\"showlegend\":false,\"type\":\"scattergeo\"},{\"hoverinfo\":\"none\",\"lat\":[51.1638175,47.1416307],\"line\":{\"color\":\"red\",\"width\":1.5},\"lon\":[10.4478313,9.5531527],\"mode\":\"lines\",\"opacity\":0.8,\"showlegend\":false,\"type\":\"scattergeo\"},{\"hoverinfo\":\"none\",\"lat\":[51.1638175,55.3500003],\"line\":{\"color\":\"red\",\"width\":1.5},\"lon\":[10.4478313,23.7499997],\"mode\":\"lines\",\"opacity\":0.8,\"showlegend\":false,\"type\":\"scattergeo\"},{\"hoverinfo\":\"none\",\"lat\":[51.1638175,49.8158683],\"line\":{\"color\":\"red\",\"width\":1.5},\"lon\":[10.4478313,6.1296751],\"mode\":\"lines\",\"opacity\":0.8,\"showlegend\":false,\"type\":\"scattergeo\"},{\"hoverinfo\":\"none\",\"lat\":[51.1638175,-18.9249604],\"line\":{\"color\":\"red\",\"width\":1.5},\"lon\":[10.4478313,46.4416422],\"mode\":\"lines\",\"opacity\":0.8,\"showlegend\":false,\"type\":\"scattergeo\"},{\"hoverinfo\":\"none\",\"lat\":[51.1638175,4.5693754],\"line\":{\"color\":\"red\",\"width\":1.5},\"lon\":[10.4478313,102.2656823],\"mode\":\"lines\",\"opacity\":0.8,\"showlegend\":false,\"type\":\"scattergeo\"},{\"hoverinfo\":\"none\",\"lat\":[51.1638175,16.3700359],\"line\":{\"color\":\"red\",\"width\":1.5},\"lon\":[10.4478313,-2.2900239],\"mode\":\"lines\",\"opacity\":0.8,\"showlegend\":false,\"type\":\"scattergeo\"},{\"hoverinfo\":\"none\",\"lat\":[51.1638175,35.8885993],\"line\":{\"color\":\"red\",\"width\":1.5},\"lon\":[10.4478313,14.4476911],\"mode\":\"lines\",\"opacity\":0.8,\"showlegend\":false,\"type\":\"scattergeo\"},{\"hoverinfo\":\"none\",\"lat\":[51.1638175,23.6585116],\"line\":{\"color\":\"red\",\"width\":1.5},\"lon\":[10.4478313,-102.0077097],\"mode\":\"lines\",\"opacity\":0.8,\"showlegend\":false,\"type\":\"scattergeo\"},{\"hoverinfo\":\"none\",\"lat\":[51.1638175,46.6745434],\"line\":{\"color\":\"red\",\"width\":1.5},\"lon\":[10.4478313,29.7521996],\"mode\":\"lines\",\"opacity\":0.8,\"showlegend\":false,\"type\":\"scattergeo\"},{\"hoverinfo\":\"none\",\"lat\":[51.1638175,42.9868853],\"line\":{\"color\":\"red\",\"width\":1.5},\"lon\":[10.4478313,19.5180992],\"mode\":\"lines\",\"opacity\":0.8,\"showlegend\":false,\"type\":\"scattergeo\"},{\"hoverinfo\":\"none\",\"lat\":[51.1638175,31.1728205],\"line\":{\"color\":\"red\",\"width\":1.5},\"lon\":[10.4478313,-7.3362482],\"mode\":\"lines\",\"opacity\":0.8,\"showlegend\":false,\"type\":\"scattergeo\"},{\"hoverinfo\":\"none\",\"lat\":[51.1638175,-19.302233],\"line\":{\"color\":\"red\",\"width\":1.5},\"lon\":[10.4478313,34.9144977],\"mode\":\"lines\",\"opacity\":0.8,\"showlegend\":false,\"type\":\"scattergeo\"},{\"hoverinfo\":\"none\",\"lat\":[51.1638175,17.1750495],\"line\":{\"color\":\"red\",\"width\":1.5},\"lon\":[10.4478313,95.9999652],\"mode\":\"lines\",\"opacity\":0.8,\"showlegend\":false,\"type\":\"scattergeo\"},{\"hoverinfo\":\"none\",\"lat\":[51.1638175,28.1083929],\"line\":{\"color\":\"red\",\"width\":1.5},\"lon\":[10.4478313,84.0917139],\"mode\":\"lines\",\"opacity\":0.8,\"showlegend\":false,\"type\":\"scattergeo\"},{\"hoverinfo\":\"none\",\"lat\":[51.1638175,52.2434979],\"line\":{\"color\":\"red\",\"width\":1.5},\"lon\":[10.4478313,5.6343227],\"mode\":\"lines\",\"opacity\":0.8,\"showlegend\":false,\"type\":\"scattergeo\"},{\"hoverinfo\":\"none\",\"lat\":[51.1638175,-41.5000831],\"line\":{\"color\":\"red\",\"width\":1.5},\"lon\":[10.4478313,172.8344077],\"mode\":\"lines\",\"opacity\":0.8,\"showlegend\":false,\"type\":\"scattergeo\"},{\"hoverinfo\":\"none\",\"lat\":[51.1638175,12.6090157],\"line\":{\"color\":\"red\",\"width\":1.5},\"lon\":[10.4478313,-85.2936911],\"mode\":\"lines\",\"opacity\":0.8,\"showlegend\":false,\"type\":\"scattergeo\"},{\"hoverinfo\":\"none\",\"lat\":[51.1638175,17.7356214],\"line\":{\"color\":\"red\",\"width\":1.5},\"lon\":[10.4478313,9.3238432],\"mode\":\"lines\",\"opacity\":0.8,\"showlegend\":false,\"type\":\"scattergeo\"},{\"hoverinfo\":\"none\",\"lat\":[51.1638175,9.6000359],\"line\":{\"color\":\"red\",\"width\":1.5},\"lon\":[10.4478313,7.9999721],\"mode\":\"lines\",\"opacity\":0.8,\"showlegend\":false,\"type\":\"scattergeo\"},{\"hoverinfo\":\"none\",\"lat\":[51.1638175,41.6171214],\"line\":{\"color\":\"red\",\"width\":1.5},\"lon\":[10.4478313,21.7168387],\"mode\":\"lines\",\"opacity\":0.8,\"showlegend\":false,\"type\":\"scattergeo\"},{\"hoverinfo\":\"none\",\"lat\":[51.1638175,61.1529386],\"line\":{\"color\":\"red\",\"width\":1.5},\"lon\":[10.4478313,8.7876653],\"mode\":\"lines\",\"opacity\":0.8,\"showlegend\":false,\"type\":\"scattergeo\"},{\"hoverinfo\":\"none\",\"lat\":[51.1638175,30.3308401],\"line\":{\"color\":\"red\",\"width\":1.5},\"lon\":[10.4478313,71.247499],\"mode\":\"lines\",\"opacity\":0.8,\"showlegend\":false,\"type\":\"scattergeo\"},{\"hoverinfo\":\"none\",\"lat\":[51.1638175,42.2088336],\"line\":{\"color\":\"red\",\"width\":1.5},\"lon\":[10.4478313,-79.4683738],\"mode\":\"lines\",\"opacity\":0.8,\"showlegend\":false,\"type\":\"scattergeo\"},{\"hoverinfo\":\"none\",\"lat\":[51.1638175,-23.3165935],\"line\":{\"color\":\"red\",\"width\":1.5},\"lon\":[10.4478313,-58.1693445],\"mode\":\"lines\",\"opacity\":0.8,\"showlegend\":false,\"type\":\"scattergeo\"},{\"hoverinfo\":\"none\",\"lat\":[51.1638175,-6.8699697],\"line\":{\"color\":\"red\",\"width\":1.5},\"lon\":[10.4478313,-75.0458515],\"mode\":\"lines\",\"opacity\":0.8,\"showlegend\":false,\"type\":\"scattergeo\"},{\"hoverinfo\":\"none\",\"lat\":[51.1638175,12.7503486],\"line\":{\"color\":\"red\",\"width\":1.5},\"lon\":[10.4478313,122.7312101],\"mode\":\"lines\",\"opacity\":0.8,\"showlegend\":false,\"type\":\"scattergeo\"},{\"hoverinfo\":\"none\",\"lat\":[51.1638175,52.215933],\"line\":{\"color\":\"red\",\"width\":1.5},\"lon\":[10.4478313,19.134422],\"mode\":\"lines\",\"opacity\":0.8,\"showlegend\":false,\"type\":\"scattergeo\"},{\"hoverinfo\":\"none\",\"lat\":[51.1638175,39.6621648],\"line\":{\"color\":\"red\",\"width\":1.5},\"lon\":[10.4478313,-8.1353519],\"mode\":\"lines\",\"opacity\":0.8,\"showlegend\":false,\"type\":\"scattergeo\"},{\"hoverinfo\":\"none\",\"lat\":[51.1638175,45.9852129],\"line\":{\"color\":\"red\",\"width\":1.5},\"lon\":[10.4478313,24.6859225],\"mode\":\"lines\",\"opacity\":0.8,\"showlegend\":false,\"type\":\"scattergeo\"},{\"hoverinfo\":\"none\",\"lat\":[51.1638175,64.6863136],\"line\":{\"color\":\"red\",\"width\":1.5},\"lon\":[10.4478313,97.7453061],\"mode\":\"lines\",\"opacity\":0.8,\"showlegend\":false,\"type\":\"scattergeo\"},{\"hoverinfo\":\"none\",\"lat\":[51.1638175,-1.9646631],\"line\":{\"color\":\"red\",\"width\":1.5},\"lon\":[10.4478313,30.0644358],\"mode\":\"lines\",\"opacity\":0.8,\"showlegend\":false,\"type\":\"scattergeo\"},{\"hoverinfo\":\"none\",\"lat\":[51.1638175,14.4750607],\"line\":{\"color\":\"red\",\"width\":1.5},\"lon\":[10.4478313,-14.4529612],\"mode\":\"lines\",\"opacity\":0.8,\"showlegend\":false,\"type\":\"scattergeo\"},{\"hoverinfo\":\"none\",\"lat\":[51.1638175,44.1534121],\"line\":{\"color\":\"red\",\"width\":1.5},\"lon\":[10.4478313,20.55144],\"mode\":\"lines\",\"opacity\":0.8,\"showlegend\":false,\"type\":\"scattergeo\"},{\"hoverinfo\":\"none\",\"lat\":[51.1638175,48.7411522],\"line\":{\"color\":\"red\",\"width\":1.5},\"lon\":[10.4478313,19.4528646],\"mode\":\"lines\",\"opacity\":0.8,\"showlegend\":false,\"type\":\"scattergeo\"},{\"hoverinfo\":\"none\",\"lat\":[51.1638175,46.1199444],\"line\":{\"color\":\"red\",\"width\":1.5},\"lon\":[10.4478313,14.8153333],\"mode\":\"lines\",\"opacity\":0.8,\"showlegend\":false,\"type\":\"scattergeo\"},{\"hoverinfo\":\"none\",\"lat\":[51.1638175,-28.8166236],\"line\":{\"color\":\"red\",\"width\":1.5},\"lon\":[10.4478313,24.991639],\"mode\":\"lines\",\"opacity\":0.8,\"showlegend\":false,\"type\":\"scattergeo\"},{\"hoverinfo\":\"none\",\"lat\":[51.1638175,39.3260685],\"line\":{\"color\":\"red\",\"width\":1.5},\"lon\":[10.4478313,-4.8379791],\"mode\":\"lines\",\"opacity\":0.8,\"showlegend\":false,\"type\":\"scattergeo\"},{\"hoverinfo\":\"none\",\"lat\":[51.1638175,14.5844444],\"line\":{\"color\":\"red\",\"width\":1.5},\"lon\":[10.4478313,29.4917691],\"mode\":\"lines\",\"opacity\":0.8,\"showlegend\":false,\"type\":\"scattergeo\"},{\"hoverinfo\":\"none\",\"lat\":[51.1638175,59.6749712],\"line\":{\"color\":\"red\",\"width\":1.5},\"lon\":[10.4478313,14.5208584],\"mode\":\"lines\",\"opacity\":0.8,\"showlegend\":false,\"type\":\"scattergeo\"},{\"hoverinfo\":\"none\",\"lat\":[51.1638175,38.6281733],\"line\":{\"color\":\"red\",\"width\":1.5},\"lon\":[10.4478313,70.8156541],\"mode\":\"lines\",\"opacity\":0.8,\"showlegend\":false,\"type\":\"scattergeo\"},{\"hoverinfo\":\"none\",\"lat\":[51.1638175,-6.5247123],\"line\":{\"color\":\"red\",\"width\":1.5},\"lon\":[10.4478313,35.7878438],\"mode\":\"lines\",\"opacity\":0.8,\"showlegend\":false,\"type\":\"scattergeo\"},{\"hoverinfo\":\"none\",\"lat\":[51.1638175,14.8971921],\"line\":{\"color\":\"red\",\"width\":1.5},\"lon\":[10.4478313,100.83273],\"mode\":\"lines\",\"opacity\":0.8,\"showlegend\":false,\"type\":\"scattergeo\"},{\"hoverinfo\":\"none\",\"lat\":[51.1638175,33.8439408],\"line\":{\"color\":\"red\",\"width\":1.5},\"lon\":[10.4478313,9.400138],\"mode\":\"lines\",\"opacity\":0.8,\"showlegend\":false,\"type\":\"scattergeo\"},{\"hoverinfo\":\"none\",\"lat\":[51.1638175,38.9597594],\"line\":{\"color\":\"red\",\"width\":1.5},\"lon\":[10.4478313,34.9249653],\"mode\":\"lines\",\"opacity\":0.8,\"showlegend\":false,\"type\":\"scattergeo\"},{\"hoverinfo\":\"none\",\"lat\":[51.1638175,39.3763807],\"line\":{\"color\":\"red\",\"width\":1.5},\"lon\":[10.4478313,59.3924609],\"mode\":\"lines\",\"opacity\":0.8,\"showlegend\":false,\"type\":\"scattergeo\"},{\"hoverinfo\":\"none\",\"lat\":[51.1638175,1.5333554],\"line\":{\"color\":\"red\",\"width\":1.5},\"lon\":[10.4478313,32.2166578],\"mode\":\"lines\",\"opacity\":0.8,\"showlegend\":false,\"type\":\"scattergeo\"},{\"hoverinfo\":\"none\",\"lat\":[51.1638175,49.4871968],\"line\":{\"color\":\"red\",\"width\":1.5},\"lon\":[10.4478313,31.2718321],\"mode\":\"lines\",\"opacity\":0.8,\"showlegend\":false,\"type\":\"scattergeo\"},{\"hoverinfo\":\"none\",\"lat\":[51.1638175,54.7023545],\"line\":{\"color\":\"red\",\"width\":1.5},\"lon\":[10.4478313,-3.2765753],\"mode\":\"lines\",\"opacity\":0.8,\"showlegend\":false,\"type\":\"scattergeo\"},{\"hoverinfo\":\"none\",\"lat\":[51.1638175,39.7837304],\"line\":{\"color\":\"red\",\"width\":1.5},\"lon\":[10.4478313,-100.445882],\"mode\":\"lines\",\"opacity\":0.8,\"showlegend\":false,\"type\":\"scattergeo\"},{\"hoverinfo\":\"none\",\"lat\":[51.1638175,41.32373],\"line\":{\"color\":\"red\",\"width\":1.5},\"lon\":[10.4478313,63.9528098],\"mode\":\"lines\",\"opacity\":0.8,\"showlegend\":false,\"type\":\"scattergeo\"},{\"hoverinfo\":\"none\",\"lat\":[51.1638175,15.9266657],\"line\":{\"color\":\"red\",\"width\":1.5},\"lon\":[10.4478313,107.9650855],\"mode\":\"lines\",\"opacity\":0.8,\"showlegend\":false,\"type\":\"scattergeo\"}],                        {\"template\":{\"data\":{\"histogram2dcontour\":[{\"type\":\"histogram2dcontour\",\"colorbar\":{\"outlinewidth\":0,\"ticks\":\"\"},\"colorscale\":[[0.0,\"#0d0887\"],[0.1111111111111111,\"#46039f\"],[0.2222222222222222,\"#7201a8\"],[0.3333333333333333,\"#9c179e\"],[0.4444444444444444,\"#bd3786\"],[0.5555555555555556,\"#d8576b\"],[0.6666666666666666,\"#ed7953\"],[0.7777777777777778,\"#fb9f3a\"],[0.8888888888888888,\"#fdca26\"],[1.0,\"#f0f921\"]]}],\"choropleth\":[{\"type\":\"choropleth\",\"colorbar\":{\"outlinewidth\":0,\"ticks\":\"\"}}],\"histogram2d\":[{\"type\":\"histogram2d\",\"colorbar\":{\"outlinewidth\":0,\"ticks\":\"\"},\"colorscale\":[[0.0,\"#0d0887\"],[0.1111111111111111,\"#46039f\"],[0.2222222222222222,\"#7201a8\"],[0.3333333333333333,\"#9c179e\"],[0.4444444444444444,\"#bd3786\"],[0.5555555555555556,\"#d8576b\"],[0.6666666666666666,\"#ed7953\"],[0.7777777777777778,\"#fb9f3a\"],[0.8888888888888888,\"#fdca26\"],[1.0,\"#f0f921\"]]}],\"heatmap\":[{\"type\":\"heatmap\",\"colorbar\":{\"outlinewidth\":0,\"ticks\":\"\"},\"colorscale\":[[0.0,\"#0d0887\"],[0.1111111111111111,\"#46039f\"],[0.2222222222222222,\"#7201a8\"],[0.3333333333333333,\"#9c179e\"],[0.4444444444444444,\"#bd3786\"],[0.5555555555555556,\"#d8576b\"],[0.6666666666666666,\"#ed7953\"],[0.7777777777777778,\"#fb9f3a\"],[0.8888888888888888,\"#fdca26\"],[1.0,\"#f0f921\"]]}],\"heatmapgl\":[{\"type\":\"heatmapgl\",\"colorbar\":{\"outlinewidth\":0,\"ticks\":\"\"},\"colorscale\":[[0.0,\"#0d0887\"],[0.1111111111111111,\"#46039f\"],[0.2222222222222222,\"#7201a8\"],[0.3333333333333333,\"#9c179e\"],[0.4444444444444444,\"#bd3786\"],[0.5555555555555556,\"#d8576b\"],[0.6666666666666666,\"#ed7953\"],[0.7777777777777778,\"#fb9f3a\"],[0.8888888888888888,\"#fdca26\"],[1.0,\"#f0f921\"]]}],\"contourcarpet\":[{\"type\":\"contourcarpet\",\"colorbar\":{\"outlinewidth\":0,\"ticks\":\"\"}}],\"contour\":[{\"type\":\"contour\",\"colorbar\":{\"outlinewidth\":0,\"ticks\":\"\"},\"colorscale\":[[0.0,\"#0d0887\"],[0.1111111111111111,\"#46039f\"],[0.2222222222222222,\"#7201a8\"],[0.3333333333333333,\"#9c179e\"],[0.4444444444444444,\"#bd3786\"],[0.5555555555555556,\"#d8576b\"],[0.6666666666666666,\"#ed7953\"],[0.7777777777777778,\"#fb9f3a\"],[0.8888888888888888,\"#fdca26\"],[1.0,\"#f0f921\"]]}],\"surface\":[{\"type\":\"surface\",\"colorbar\":{\"outlinewidth\":0,\"ticks\":\"\"},\"colorscale\":[[0.0,\"#0d0887\"],[0.1111111111111111,\"#46039f\"],[0.2222222222222222,\"#7201a8\"],[0.3333333333333333,\"#9c179e\"],[0.4444444444444444,\"#bd3786\"],[0.5555555555555556,\"#d8576b\"],[0.6666666666666666,\"#ed7953\"],[0.7777777777777778,\"#fb9f3a\"],[0.8888888888888888,\"#fdca26\"],[1.0,\"#f0f921\"]]}],\"mesh3d\":[{\"type\":\"mesh3d\",\"colorbar\":{\"outlinewidth\":0,\"ticks\":\"\"}}],\"scatter\":[{\"fillpattern\":{\"fillmode\":\"overlay\",\"size\":10,\"solidity\":0.2},\"type\":\"scatter\"}],\"parcoords\":[{\"type\":\"parcoords\",\"line\":{\"colorbar\":{\"outlinewidth\":0,\"ticks\":\"\"}}}],\"scatterpolargl\":[{\"type\":\"scatterpolargl\",\"marker\":{\"colorbar\":{\"outlinewidth\":0,\"ticks\":\"\"}}}],\"bar\":[{\"error_x\":{\"color\":\"#2a3f5f\"},\"error_y\":{\"color\":\"#2a3f5f\"},\"marker\":{\"line\":{\"color\":\"#E5ECF6\",\"width\":0.5},\"pattern\":{\"fillmode\":\"overlay\",\"size\":10,\"solidity\":0.2}},\"type\":\"bar\"}],\"scattergeo\":[{\"type\":\"scattergeo\",\"marker\":{\"colorbar\":{\"outlinewidth\":0,\"ticks\":\"\"}}}],\"scatterpolar\":[{\"type\":\"scatterpolar\",\"marker\":{\"colorbar\":{\"outlinewidth\":0,\"ticks\":\"\"}}}],\"histogram\":[{\"marker\":{\"pattern\":{\"fillmode\":\"overlay\",\"size\":10,\"solidity\":0.2}},\"type\":\"histogram\"}],\"scattergl\":[{\"type\":\"scattergl\",\"marker\":{\"colorbar\":{\"outlinewidth\":0,\"ticks\":\"\"}}}],\"scatter3d\":[{\"type\":\"scatter3d\",\"line\":{\"colorbar\":{\"outlinewidth\":0,\"ticks\":\"\"}},\"marker\":{\"colorbar\":{\"outlinewidth\":0,\"ticks\":\"\"}}}],\"scattermapbox\":[{\"type\":\"scattermapbox\",\"marker\":{\"colorbar\":{\"outlinewidth\":0,\"ticks\":\"\"}}}],\"scatterternary\":[{\"type\":\"scatterternary\",\"marker\":{\"colorbar\":{\"outlinewidth\":0,\"ticks\":\"\"}}}],\"scattercarpet\":[{\"type\":\"scattercarpet\",\"marker\":{\"colorbar\":{\"outlinewidth\":0,\"ticks\":\"\"}}}],\"carpet\":[{\"aaxis\":{\"endlinecolor\":\"#2a3f5f\",\"gridcolor\":\"white\",\"linecolor\":\"white\",\"minorgridcolor\":\"white\",\"startlinecolor\":\"#2a3f5f\"},\"baxis\":{\"endlinecolor\":\"#2a3f5f\",\"gridcolor\":\"white\",\"linecolor\":\"white\",\"minorgridcolor\":\"white\",\"startlinecolor\":\"#2a3f5f\"},\"type\":\"carpet\"}],\"table\":[{\"cells\":{\"fill\":{\"color\":\"#EBF0F8\"},\"line\":{\"color\":\"white\"}},\"header\":{\"fill\":{\"color\":\"#C8D4E3\"},\"line\":{\"color\":\"white\"}},\"type\":\"table\"}],\"barpolar\":[{\"marker\":{\"line\":{\"color\":\"#E5ECF6\",\"width\":0.5},\"pattern\":{\"fillmode\":\"overlay\",\"size\":10,\"solidity\":0.2}},\"type\":\"barpolar\"}],\"pie\":[{\"automargin\":true,\"type\":\"pie\"}]},\"layout\":{\"autotypenumbers\":\"strict\",\"colorway\":[\"#636efa\",\"#EF553B\",\"#00cc96\",\"#ab63fa\",\"#FFA15A\",\"#19d3f3\",\"#FF6692\",\"#B6E880\",\"#FF97FF\",\"#FECB52\"],\"font\":{\"color\":\"#2a3f5f\"},\"hovermode\":\"closest\",\"hoverlabel\":{\"align\":\"left\"},\"paper_bgcolor\":\"white\",\"plot_bgcolor\":\"#E5ECF6\",\"polar\":{\"bgcolor\":\"#E5ECF6\",\"angularaxis\":{\"gridcolor\":\"white\",\"linecolor\":\"white\",\"ticks\":\"\"},\"radialaxis\":{\"gridcolor\":\"white\",\"linecolor\":\"white\",\"ticks\":\"\"}},\"ternary\":{\"bgcolor\":\"#E5ECF6\",\"aaxis\":{\"gridcolor\":\"white\",\"linecolor\":\"white\",\"ticks\":\"\"},\"baxis\":{\"gridcolor\":\"white\",\"linecolor\":\"white\",\"ticks\":\"\"},\"caxis\":{\"gridcolor\":\"white\",\"linecolor\":\"white\",\"ticks\":\"\"}},\"coloraxis\":{\"colorbar\":{\"outlinewidth\":0,\"ticks\":\"\"}},\"colorscale\":{\"sequential\":[[0.0,\"#0d0887\"],[0.1111111111111111,\"#46039f\"],[0.2222222222222222,\"#7201a8\"],[0.3333333333333333,\"#9c179e\"],[0.4444444444444444,\"#bd3786\"],[0.5555555555555556,\"#d8576b\"],[0.6666666666666666,\"#ed7953\"],[0.7777777777777778,\"#fb9f3a\"],[0.8888888888888888,\"#fdca26\"],[1.0,\"#f0f921\"]],\"sequentialminus\":[[0.0,\"#0d0887\"],[0.1111111111111111,\"#46039f\"],[0.2222222222222222,\"#7201a8\"],[0.3333333333333333,\"#9c179e\"],[0.4444444444444444,\"#bd3786\"],[0.5555555555555556,\"#d8576b\"],[0.6666666666666666,\"#ed7953\"],[0.7777777777777778,\"#fb9f3a\"],[0.8888888888888888,\"#fdca26\"],[1.0,\"#f0f921\"]],\"diverging\":[[0,\"#8e0152\"],[0.1,\"#c51b7d\"],[0.2,\"#de77ae\"],[0.3,\"#f1b6da\"],[0.4,\"#fde0ef\"],[0.5,\"#f7f7f7\"],[0.6,\"#e6f5d0\"],[0.7,\"#b8e186\"],[0.8,\"#7fbc41\"],[0.9,\"#4d9221\"],[1,\"#276419\"]]},\"xaxis\":{\"gridcolor\":\"white\",\"linecolor\":\"white\",\"ticks\":\"\",\"title\":{\"standoff\":15},\"zerolinecolor\":\"white\",\"automargin\":true,\"zerolinewidth\":2},\"yaxis\":{\"gridcolor\":\"white\",\"linecolor\":\"white\",\"ticks\":\"\",\"title\":{\"standoff\":15},\"zerolinecolor\":\"white\",\"automargin\":true,\"zerolinewidth\":2},\"scene\":{\"xaxis\":{\"backgroundcolor\":\"#E5ECF6\",\"gridcolor\":\"white\",\"linecolor\":\"white\",\"showbackground\":true,\"ticks\":\"\",\"zerolinecolor\":\"white\",\"gridwidth\":2},\"yaxis\":{\"backgroundcolor\":\"#E5ECF6\",\"gridcolor\":\"white\",\"linecolor\":\"white\",\"showbackground\":true,\"ticks\":\"\",\"zerolinecolor\":\"white\",\"gridwidth\":2},\"zaxis\":{\"backgroundcolor\":\"#E5ECF6\",\"gridcolor\":\"white\",\"linecolor\":\"white\",\"showbackground\":true,\"ticks\":\"\",\"zerolinecolor\":\"white\",\"gridwidth\":2}},\"shapedefaults\":{\"line\":{\"color\":\"#2a3f5f\"}},\"annotationdefaults\":{\"arrowcolor\":\"#2a3f5f\",\"arrowhead\":0,\"arrowwidth\":1},\"geo\":{\"bgcolor\":\"white\",\"landcolor\":\"#E5ECF6\",\"subunitcolor\":\"white\",\"showland\":true,\"showlakes\":true,\"lakecolor\":\"white\"},\"title\":{\"x\":0.05},\"mapbox\":{\"style\":\"light\"}}},\"geo\":{\"domain\":{\"x\":[0.0,1.0],\"y\":[0.0,1.0]},\"projection\":{\"type\":\"equirectangular\"},\"showland\":true,\"landcolor\":\"rgb(243, 243, 243)\",\"countrycolor\":\"rgb(204, 204, 204)\",\"showcountries\":true},\"title\":{\"text\":\"Movement of Erasmus Students from Germany\"}},                        {\"responsive\": true}                    ).then(function(){\n",
       "                            \n",
       "var gd = document.getElementById('5a165552-c432-4a56-80d2-dae5fab10827');\n",
       "var x = new MutationObserver(function (mutations, observer) {{\n",
       "        var display = window.getComputedStyle(gd).display;\n",
       "        if (!display || display === 'none') {{\n",
       "            console.log([gd, 'removed!']);\n",
       "            Plotly.purge(gd);\n",
       "            observer.disconnect();\n",
       "        }}\n",
       "}});\n",
       "\n",
       "// Listen for the removal of the full notebook cells\n",
       "var notebookContainer = gd.closest('#notebook-container');\n",
       "if (notebookContainer) {{\n",
       "    x.observe(notebookContainer, {childList: true});\n",
       "}}\n",
       "\n",
       "// Listen for the clearing of the current output cell\n",
       "var outputEl = gd.closest('.output');\n",
       "if (outputEl) {{\n",
       "    x.observe(outputEl, {childList: true});\n",
       "}}\n",
       "\n",
       "                        })                };                });            </script>        </div>"
      ]
     },
     "metadata": {},
     "output_type": "display_data"
    }
   ],
   "source": [
    "arrow_width = 1.5\n",
    "base_opacity = 0.8\n",
    "\n",
    "for index, row in country_counts.iterrows():\n",
    "    fig.add_trace(\n",
    "        go.Scattergeo(\n",
    "            lon=[sending_lon, row['Receiving Longitude']],\n",
    "            lat=[sending_lat, row['Receiving Latitude']],\n",
    "            mode='lines',\n",
    "            line=dict(width=arrow_width, color='red'),\n",
    "            opacity=base_opacity,\n",
    "            showlegend=False,\n",
    "            hoverinfo='none',  # Suppress the display of coordinates when hovering over the arrows\n",
    "        )\n",
    "    )\n",
    "\n",
    "# Update the layout for the world map\n",
    "fig.update_geos(\n",
    "    showland=True,\n",
    "    landcolor='rgb(243, 243, 243)',\n",
    "    countrycolor='rgb(204, 204, 204)',\n",
    "    showcountries=True,\n",
    "    projection_type=\"equirectangular\",\n",
    ")\n",
    "\n",
    "fig.update_layout(title_text=f'Movement of Erasmus Students from {sending_country}')\n",
    "\n",
    "fig.show()"
   ]
  },
  {
   "cell_type": "code",
   "execution_count": null,
   "id": "5f07d380",
   "metadata": {},
   "outputs": [],
   "source": []
  }
 ],
 "metadata": {
  "kernelspec": {
   "display_name": "Python 3 (ipykernel)",
   "language": "python",
   "name": "python3"
  },
  "language_info": {
   "codemirror_mode": {
    "name": "ipython",
    "version": 3
   },
   "file_extension": ".py",
   "mimetype": "text/x-python",
   "name": "python",
   "nbconvert_exporter": "python",
   "pygments_lexer": "ipython3",
   "version": "3.9.16"
  }
 },
 "nbformat": 4,
 "nbformat_minor": 5
}
