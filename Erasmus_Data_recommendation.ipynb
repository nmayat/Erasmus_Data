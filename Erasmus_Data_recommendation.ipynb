{
 "cells": [
  {
   "cell_type": "markdown",
   "id": "880583b4",
   "metadata": {},
   "source": [
    "# Create Recommender\n",
    "For the recommendation engine I used a kNN algorithm. But first lets read in the data."
   ]
  },
  {
   "cell_type": "code",
   "execution_count": 1,
   "id": "b28d986a",
   "metadata": {},
   "outputs": [
    {
     "data": {
      "text/html": [
       "<div>\n",
       "<style scoped>\n",
       "    .dataframe tbody tr th:only-of-type {\n",
       "        vertical-align: middle;\n",
       "    }\n",
       "\n",
       "    .dataframe tbody tr th {\n",
       "        vertical-align: top;\n",
       "    }\n",
       "\n",
       "    .dataframe thead th {\n",
       "        text-align: right;\n",
       "    }\n",
       "</style>\n",
       "<table border=\"1\" class=\"dataframe\">\n",
       "  <thead>\n",
       "    <tr style=\"text-align: right;\">\n",
       "      <th></th>\n",
       "      <th>Mobility Duration</th>\n",
       "      <th>Activity</th>\n",
       "      <th>Field of Education</th>\n",
       "      <th>Education Level</th>\n",
       "      <th>Participant Age</th>\n",
       "      <th>Sending Country</th>\n",
       "      <th>Receiving Country</th>\n",
       "    </tr>\n",
       "  </thead>\n",
       "  <tbody>\n",
       "    <tr>\n",
       "      <th>0</th>\n",
       "      <td>12.0</td>\n",
       "      <td>Staff training abroad</td>\n",
       "      <td>Language acquisition</td>\n",
       "      <td>Unknown</td>\n",
       "      <td>42.0</td>\n",
       "      <td>Austria</td>\n",
       "      <td>Spain</td>\n",
       "    </tr>\n",
       "    <tr>\n",
       "      <th>1</th>\n",
       "      <td>7.0</td>\n",
       "      <td>Staff training abroad</td>\n",
       "      <td>Language acquisition</td>\n",
       "      <td>Unknown</td>\n",
       "      <td>25.0</td>\n",
       "      <td>Austria</td>\n",
       "      <td>United Kingdom</td>\n",
       "    </tr>\n",
       "    <tr>\n",
       "      <th>2</th>\n",
       "      <td>12.0</td>\n",
       "      <td>Staff training abroad</td>\n",
       "      <td>Language acquisition</td>\n",
       "      <td>Unknown</td>\n",
       "      <td>51.0</td>\n",
       "      <td>Austria</td>\n",
       "      <td>United Kingdom</td>\n",
       "    </tr>\n",
       "    <tr>\n",
       "      <th>3</th>\n",
       "      <td>12.0</td>\n",
       "      <td>Staff training abroad</td>\n",
       "      <td>Language acquisition</td>\n",
       "      <td>Unknown</td>\n",
       "      <td>34.0</td>\n",
       "      <td>Austria</td>\n",
       "      <td>United Kingdom</td>\n",
       "    </tr>\n",
       "    <tr>\n",
       "      <th>4</th>\n",
       "      <td>12.0</td>\n",
       "      <td>Staff training abroad</td>\n",
       "      <td>Teacher training with subject specialization</td>\n",
       "      <td>Unknown</td>\n",
       "      <td>53.0</td>\n",
       "      <td>Austria</td>\n",
       "      <td>Ireland</td>\n",
       "    </tr>\n",
       "  </tbody>\n",
       "</table>\n",
       "</div>"
      ],
      "text/plain": [
       "   Mobility Duration               Activity  \\\n",
       "0               12.0  Staff training abroad   \n",
       "1                7.0  Staff training abroad   \n",
       "2               12.0  Staff training abroad   \n",
       "3               12.0  Staff training abroad   \n",
       "4               12.0  Staff training abroad   \n",
       "\n",
       "                             Field of Education Education Level  \\\n",
       "0                          Language acquisition         Unknown   \n",
       "1                          Language acquisition         Unknown   \n",
       "2                          Language acquisition         Unknown   \n",
       "3                          Language acquisition         Unknown   \n",
       "4  Teacher training with subject specialization         Unknown   \n",
       "\n",
       "   Participant Age Sending Country Receiving Country  \n",
       "0             42.0         Austria             Spain  \n",
       "1             25.0         Austria    United Kingdom  \n",
       "2             51.0         Austria    United Kingdom  \n",
       "3             34.0         Austria    United Kingdom  \n",
       "4             53.0         Austria           Ireland  "
      ]
     },
     "execution_count": 1,
     "metadata": {},
     "output_type": "execute_result"
    }
   ],
   "source": [
    "import pandas as pd\n",
    "import numpy as np\n",
    "from sklearn.preprocessing import LabelEncoder\n",
    "from sklearn.compose import ColumnTransformer\n",
    "from sklearn.neighbors import NearestNeighbors\n",
    "from sklearn.preprocessing import OneHotEncoder, StandardScaler\n",
    "from sklearn.model_selection import train_test_split\n",
    "from tqdm import tqdm\n",
    "import warnings\n",
    "warnings.filterwarnings('ignore')\n",
    "\n",
    "data = pd.read_pickle('Erasmus_Data/model_data.pkl')\n",
    "data.head()"
   ]
  },
  {
   "cell_type": "markdown",
   "id": "29fa9410",
   "metadata": {},
   "source": [
    "I encoded the categorical features and the recieveing country"
   ]
  },
  {
   "cell_type": "code",
   "execution_count": 2,
   "id": "e694a56c",
   "metadata": {},
   "outputs": [],
   "source": [
    "encoder = LabelEncoder()\n",
    "categorical_columns = ['Activity', 'Field of Education', 'Education Level', 'Sending Country', 'Receiving Country']\n",
    "encoded_df = data.copy()\n",
    "for column in categorical_columns:\n",
    "    encoded_df[column] = encoder.fit_transform(data[column])\n"
   ]
  },
  {
   "cell_type": "markdown",
   "id": "0f229dab",
   "metadata": {},
   "source": [
    "Tha I one hot encoded the categorical columns and standard scaled the numerical features"
   ]
  },
  {
   "cell_type": "code",
   "execution_count": 3,
   "id": "81f834b3",
   "metadata": {},
   "outputs": [],
   "source": [
    "cat_transformer = OneHotEncoder(handle_unknown='ignore')\n",
    "num_transformer = StandardScaler()\n",
    "\n",
    "preprocessor = ColumnTransformer(\n",
    "    transformers=[\n",
    "        ('num', num_transformer, ['Mobility Duration', 'Participant Age']),\n",
    "        ('cat', cat_transformer, ['Activity', 'Field of Education', 'Education Level', 'Sending Country'])\n",
    "    ],sparse_threshold=0)"
   ]
  },
  {
   "cell_type": "markdown",
   "id": "6fc186e9",
   "metadata": {},
   "source": [
    "For the training and testing the data was split"
   ]
  },
  {
   "cell_type": "code",
   "execution_count": 4,
   "id": "5db76d69",
   "metadata": {},
   "outputs": [],
   "source": [
    "X = encoded_df.drop('Receiving Country', axis=1)\n",
    "y = encoded_df['Receiving Country']\n",
    "X_train, X_test, y_train, y_test = train_test_split(X, y, test_size=0.2, random_state=42)\n"
   ]
  },
  {
   "cell_type": "markdown",
   "id": "d9128aa6",
   "metadata": {},
   "source": [
    "Now lets preprocess the data and fit the model"
   ]
  },
  {
   "cell_type": "code",
   "execution_count": 5,
   "id": "011b6636",
   "metadata": {},
   "outputs": [
    {
     "data": {
      "text/html": [
       "<style>#sk-container-id-1 {color: black;background-color: white;}#sk-container-id-1 pre{padding: 0;}#sk-container-id-1 div.sk-toggleable {background-color: white;}#sk-container-id-1 label.sk-toggleable__label {cursor: pointer;display: block;width: 100%;margin-bottom: 0;padding: 0.3em;box-sizing: border-box;text-align: center;}#sk-container-id-1 label.sk-toggleable__label-arrow:before {content: \"▸\";float: left;margin-right: 0.25em;color: #696969;}#sk-container-id-1 label.sk-toggleable__label-arrow:hover:before {color: black;}#sk-container-id-1 div.sk-estimator:hover label.sk-toggleable__label-arrow:before {color: black;}#sk-container-id-1 div.sk-toggleable__content {max-height: 0;max-width: 0;overflow: hidden;text-align: left;background-color: #f0f8ff;}#sk-container-id-1 div.sk-toggleable__content pre {margin: 0.2em;color: black;border-radius: 0.25em;background-color: #f0f8ff;}#sk-container-id-1 input.sk-toggleable__control:checked~div.sk-toggleable__content {max-height: 200px;max-width: 100%;overflow: auto;}#sk-container-id-1 input.sk-toggleable__control:checked~label.sk-toggleable__label-arrow:before {content: \"▾\";}#sk-container-id-1 div.sk-estimator input.sk-toggleable__control:checked~label.sk-toggleable__label {background-color: #d4ebff;}#sk-container-id-1 div.sk-label input.sk-toggleable__control:checked~label.sk-toggleable__label {background-color: #d4ebff;}#sk-container-id-1 input.sk-hidden--visually {border: 0;clip: rect(1px 1px 1px 1px);clip: rect(1px, 1px, 1px, 1px);height: 1px;margin: -1px;overflow: hidden;padding: 0;position: absolute;width: 1px;}#sk-container-id-1 div.sk-estimator {font-family: monospace;background-color: #f0f8ff;border: 1px dotted black;border-radius: 0.25em;box-sizing: border-box;margin-bottom: 0.5em;}#sk-container-id-1 div.sk-estimator:hover {background-color: #d4ebff;}#sk-container-id-1 div.sk-parallel-item::after {content: \"\";width: 100%;border-bottom: 1px solid gray;flex-grow: 1;}#sk-container-id-1 div.sk-label:hover label.sk-toggleable__label {background-color: #d4ebff;}#sk-container-id-1 div.sk-serial::before {content: \"\";position: absolute;border-left: 1px solid gray;box-sizing: border-box;top: 0;bottom: 0;left: 50%;z-index: 0;}#sk-container-id-1 div.sk-serial {display: flex;flex-direction: column;align-items: center;background-color: white;padding-right: 0.2em;padding-left: 0.2em;position: relative;}#sk-container-id-1 div.sk-item {position: relative;z-index: 1;}#sk-container-id-1 div.sk-parallel {display: flex;align-items: stretch;justify-content: center;background-color: white;position: relative;}#sk-container-id-1 div.sk-item::before, #sk-container-id-1 div.sk-parallel-item::before {content: \"\";position: absolute;border-left: 1px solid gray;box-sizing: border-box;top: 0;bottom: 0;left: 50%;z-index: -1;}#sk-container-id-1 div.sk-parallel-item {display: flex;flex-direction: column;z-index: 1;position: relative;background-color: white;}#sk-container-id-1 div.sk-parallel-item:first-child::after {align-self: flex-end;width: 50%;}#sk-container-id-1 div.sk-parallel-item:last-child::after {align-self: flex-start;width: 50%;}#sk-container-id-1 div.sk-parallel-item:only-child::after {width: 0;}#sk-container-id-1 div.sk-dashed-wrapped {border: 1px dashed gray;margin: 0 0.4em 0.5em 0.4em;box-sizing: border-box;padding-bottom: 0.4em;background-color: white;}#sk-container-id-1 div.sk-label label {font-family: monospace;font-weight: bold;display: inline-block;line-height: 1.2em;}#sk-container-id-1 div.sk-label-container {text-align: center;}#sk-container-id-1 div.sk-container {/* jupyter's `normalize.less` sets `[hidden] { display: none; }` but bootstrap.min.css set `[hidden] { display: none !important; }` so we also need the `!important` here to be able to override the default hidden behavior on the sphinx rendered scikit-learn.org. See: https://github.com/scikit-learn/scikit-learn/issues/21755 */display: inline-block !important;position: relative;}#sk-container-id-1 div.sk-text-repr-fallback {display: none;}</style><div id=\"sk-container-id-1\" class=\"sk-top-container\"><div class=\"sk-text-repr-fallback\"><pre>NearestNeighbors(metric=&#x27;euclidean&#x27;)</pre><b>In a Jupyter environment, please rerun this cell to show the HTML representation or trust the notebook. <br />On GitHub, the HTML representation is unable to render, please try loading this page with nbviewer.org.</b></div><div class=\"sk-container\" hidden><div class=\"sk-item\"><div class=\"sk-estimator sk-toggleable\"><input class=\"sk-toggleable__control sk-hidden--visually\" id=\"sk-estimator-id-1\" type=\"checkbox\" checked><label for=\"sk-estimator-id-1\" class=\"sk-toggleable__label sk-toggleable__label-arrow\">NearestNeighbors</label><div class=\"sk-toggleable__content\"><pre>NearestNeighbors(metric=&#x27;euclidean&#x27;)</pre></div></div></div></div></div>"
      ],
      "text/plain": [
       "NearestNeighbors(metric='euclidean')"
      ]
     },
     "execution_count": 5,
     "metadata": {},
     "output_type": "execute_result"
    }
   ],
   "source": [
    "preprocessor.fit(X_train)\n",
    "X_train = preprocessor.transform(X_train)\n",
    "X_test = preprocessor.transform(X_test)\n",
    "# Define the model\n",
    "model = NearestNeighbors(n_neighbors=5, algorithm='ball_tree', metric='euclidean', n_jobs = -1)\n",
    "# Train the model on the training set\n",
    "model.fit(X_train)"
   ]
  },
  {
   "cell_type": "markdown",
   "id": "f1a19548",
   "metadata": {},
   "source": [
    "For the testing I used the mean recoprical rank. Since it takes quite long to do all the recommendations I tried to split the testing up in batches. For the jupyter notebook I commented the testing part out, because it takes around five hours."
   ]
  },
  {
   "cell_type": "code",
   "execution_count": 6,
   "id": "997e20bc",
   "metadata": {},
   "outputs": [],
   "source": [
    "def process_test_data_in_batches(X_test, y_test, model, batch_size=10):\n",
    "    reciprocal_ranks = []\n",
    "    num_batches = int(np.ceil(X_test.shape[0] / batch_size))\n",
    "\n",
    "    for batch_idx in tqdm(range(num_batches)):\n",
    "        start_idx = batch_idx * batch_size\n",
    "        end_idx = min((batch_idx + 1) * batch_size, X_test.shape[0])\n",
    "\n",
    "        X_test_batch = X_test[start_idx:end_idx]\n",
    "        y_test_batch = y_test.iloc[start_idx:end_idx]\n",
    "\n",
    "        distances, indices = model.kneighbors(X_test_batch)\n",
    "        \n",
    "    \n",
    "        y_pred_batch = [y_train.iloc[indices_row].values for indices_row in indices]\n",
    "        y_true_batch = y_test_batch.values\n",
    "\n",
    "        # Calculate reciprocal rank for each instance in the batch\n",
    "        batch_reciprocal_ranks = [\n",
    "            1 / (np.where(y_pred == y_true)[0][0] + 1)\n",
    "            if y_true in y_pred else 0\n",
    "            for y_true, y_pred in zip(y_true_batch, y_pred_batch)\n",
    "        ]\n",
    "\n",
    "        reciprocal_ranks.extend(batch_reciprocal_ranks)\n",
    "    return np.mean(reciprocal_ranks)\n",
    "#average_mrr = process_test_data_in_batches(X_test, y_test, model, batch_size=2000)\n",
    "\n",
    "#print(\"Average MRR: {:.4f}\".format(average_mrr))"
   ]
  },
  {
   "cell_type": "markdown",
   "id": "dc269927",
   "metadata": {},
   "source": [
    "In order to do the recommendations I wrote a function which decodes the recommendation back to country names"
   ]
  },
  {
   "cell_type": "code",
   "execution_count": 7,
   "id": "36a95be3",
   "metadata": {},
   "outputs": [],
   "source": [
    "def recommend_receiving_country(student_info):\n",
    "    # Encode the student_info\n",
    "    encoded_student_info = student_info.copy()\n",
    "    for i, column in enumerate(categorical_columns[:-1]):\n",
    "        encoded_student_info[column] = encoder.fit(data[column]).transform([student_info[column]])[0]\n",
    "\n",
    "    # Transform the student_info\n",
    "    student_X = preprocessor.transform(encoded_student_info)\n",
    "\n",
    "    # Find the k-nearest neighbors\n",
    "    distances, indices = model.kneighbors(student_X)\n",
    "\n",
    "    # Get the corresponding receiving countries\n",
    "    recommendations = data.iloc[indices[0]]['Receiving Country'].values\n",
    "\n",
    "    return np.unique(recommendations)"
   ]
  },
  {
   "cell_type": "markdown",
   "id": "cdce723b",
   "metadata": {},
   "source": [
    "Let´s do an example"
   ]
  },
  {
   "cell_type": "code",
   "execution_count": 8,
   "id": "d190ca24",
   "metadata": {},
   "outputs": [
    {
     "name": "stdout",
     "output_type": "stream",
     "text": [
      "['Hungary' 'Ireland' 'Portugal' 'Russian Federation' 'Spain']\n"
     ]
    }
   ],
   "source": [
    "student_info = pd.DataFrame([{'Mobility Duration': 90, 'Activity': 'Individual Volunteering Activities', 'Field of Education': 'Fine arts',\n",
    "                              'Education Level': 'Third cycle / Doctoral or equivalent level', 'Participant Age': 35,\n",
    "                              'Sending Country': 'Lesotho'}])\n",
    "\n",
    "recommendations = recommend_receiving_country(student_info)\n",
    "print(recommendations)"
   ]
  },
  {
   "cell_type": "code",
   "execution_count": null,
   "id": "7c638505",
   "metadata": {},
   "outputs": [],
   "source": []
  }
 ],
 "metadata": {
  "kernelspec": {
   "display_name": "Python 3 (ipykernel)",
   "language": "python",
   "name": "python3"
  },
  "language_info": {
   "codemirror_mode": {
    "name": "ipython",
    "version": 3
   },
   "file_extension": ".py",
   "mimetype": "text/x-python",
   "name": "python",
   "nbconvert_exporter": "python",
   "pygments_lexer": "ipython3",
   "version": "3.9.16"
  }
 },
 "nbformat": 4,
 "nbformat_minor": 5
}
